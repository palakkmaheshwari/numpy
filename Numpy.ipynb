{
 "cells": [
  {
   "cell_type": "markdown",
   "id": "a3cbf94c",
   "metadata": {},
   "source": [
    "# Numpy\n",
    "`Numpy is used to do mathematical operations on data.`<br>\\\n",
    "`Data operations are done for machine learning and data analysis, we need to identify the pattern in data, different operations helps us to find the insights in the data.`<br>\n",
    "`Insights help us to make better business decisions and future predictions.`"
   ]
  },
  {
   "cell_type": "code",
   "execution_count": 2,
   "id": "7739c464",
   "metadata": {},
   "outputs": [],
   "source": [
    "import numpy"
   ]
  },
  {
   "cell_type": "markdown",
   "id": "0e918899",
   "metadata": {},
   "source": [
    "# Array\n",
    "`Array are the data structure used to represent data.`<br>\n",
    "`It is use for mathematical operations and numpy is the python library which help us to do those operations.`"
   ]
  },
  {
   "cell_type": "code",
   "execution_count": 3,
   "id": "95199f7f",
   "metadata": {},
   "outputs": [
    {
     "data": {
      "text/plain": [
       "range(0, 5)"
      ]
     },
     "execution_count": 3,
     "metadata": {},
     "output_type": "execute_result"
    }
   ],
   "source": [
    "range(5)"
   ]
  },
  {
   "cell_type": "code",
   "execution_count": 4,
   "id": "139bc6e2",
   "metadata": {},
   "outputs": [
    {
     "data": {
      "text/plain": [
       "[range(0, 5)]"
      ]
     },
     "execution_count": 4,
     "metadata": {},
     "output_type": "execute_result"
    }
   ],
   "source": [
    "[range(5)]"
   ]
  },
  {
   "cell_type": "code",
   "execution_count": 5,
   "id": "55b609f8",
   "metadata": {},
   "outputs": [
    {
     "data": {
      "text/plain": [
       "[0, 1, 2, 3, 4]"
      ]
     },
     "execution_count": 5,
     "metadata": {},
     "output_type": "execute_result"
    }
   ],
   "source": [
    "list(range(5))"
   ]
  },
  {
   "cell_type": "code",
   "execution_count": 6,
   "id": "78b408d9",
   "metadata": {},
   "outputs": [
    {
     "data": {
      "text/plain": [
       "(array(5), 0, numpy.ndarray)"
      ]
     },
     "execution_count": 6,
     "metadata": {},
     "output_type": "execute_result"
    }
   ],
   "source": [
    "numpy.array(5), numpy.array(5).ndim, type(numpy.array(5))"
   ]
  },
  {
   "cell_type": "code",
   "execution_count": 7,
   "id": "9aa437f8",
   "metadata": {},
   "outputs": [
    {
     "data": {
      "text/plain": [
       "array([[[[5]]]], dtype=object)"
      ]
     },
     "execution_count": 7,
     "metadata": {},
     "output_type": "execute_result"
    }
   ],
   "source": [
    "numpy.array(5, dtype= 'O', ndmin = 4)"
   ]
  },
  {
   "cell_type": "code",
   "execution_count": 8,
   "id": "c1c3ebca",
   "metadata": {},
   "outputs": [
    {
     "data": {
      "text/plain": [
       "array([0, 1, 2, 3, 4])"
      ]
     },
     "execution_count": 8,
     "metadata": {},
     "output_type": "execute_result"
    }
   ],
   "source": [
    "# Create array list of range-5\n",
    "\n",
    "numpy.array(list(range(5)))"
   ]
  },
  {
   "cell_type": "code",
   "execution_count": 9,
   "id": "ca7df100",
   "metadata": {},
   "outputs": [
    {
     "data": {
      "text/plain": [
       "array([0, 1, 2, 3, 4])"
      ]
     },
     "execution_count": 9,
     "metadata": {},
     "output_type": "execute_result"
    }
   ],
   "source": [
    "# Create array list of range-5\n",
    "\n",
    "numpy.array(range(5))"
   ]
  },
  {
   "cell_type": "code",
   "execution_count": 10,
   "id": "5bd2d195",
   "metadata": {},
   "outputs": [
    {
     "data": {
      "text/plain": [
       "[range(0, 5)]"
      ]
     },
     "execution_count": 10,
     "metadata": {},
     "output_type": "execute_result"
    }
   ],
   "source": [
    "[range(5)]"
   ]
  },
  {
   "cell_type": "code",
   "execution_count": 11,
   "id": "fb2eceb0",
   "metadata": {},
   "outputs": [
    {
     "data": {
      "text/plain": [
       "array([[0, 1, 2, 3, 4]])"
      ]
     },
     "execution_count": 11,
     "metadata": {},
     "output_type": "execute_result"
    }
   ],
   "source": [
    "# Create 2D array list of range-5\n",
    "\n",
    "numpy.array([range(5)])"
   ]
  },
  {
   "cell_type": "code",
   "execution_count": 12,
   "id": "e5d651c2",
   "metadata": {},
   "outputs": [
    {
     "data": {
      "text/plain": [
       "array([0, 1, 2, 3, 4])"
      ]
     },
     "execution_count": 12,
     "metadata": {},
     "output_type": "execute_result"
    }
   ],
   "source": [
    "# \n",
    "\n",
    "numpy.array([range(5)])[0]"
   ]
  },
  {
   "cell_type": "code",
   "execution_count": 13,
   "id": "3cd51b65",
   "metadata": {},
   "outputs": [
    {
     "data": {
      "text/plain": [
       "2"
      ]
     },
     "execution_count": 13,
     "metadata": {},
     "output_type": "execute_result"
    }
   ],
   "source": [
    "# \n",
    "\n",
    "numpy.array([range(5)])[0][2]"
   ]
  },
  {
   "cell_type": "code",
   "execution_count": 14,
   "id": "686dbc97",
   "metadata": {},
   "outputs": [
    {
     "ename": "IndexError",
     "evalue": "index 1 is out of bounds for axis 0 with size 1",
     "output_type": "error",
     "traceback": [
      "\u001b[1;31m---------------------------------------------------------------------------\u001b[0m",
      "\u001b[1;31mIndexError\u001b[0m                                Traceback (most recent call last)",
      "Cell \u001b[1;32mIn[14], line 3\u001b[0m\n\u001b[0;32m      1\u001b[0m \u001b[38;5;66;03m# \u001b[39;00m\n\u001b[1;32m----> 3\u001b[0m \u001b[43mnumpy\u001b[49m\u001b[38;5;241;43m.\u001b[39;49m\u001b[43marray\u001b[49m\u001b[43m(\u001b[49m\u001b[43m[\u001b[49m\u001b[38;5;28;43mrange\u001b[39;49m\u001b[43m(\u001b[49m\u001b[38;5;241;43m5\u001b[39;49m\u001b[43m)\u001b[49m\u001b[43m]\u001b[49m\u001b[43m)\u001b[49m\u001b[43m[\u001b[49m\u001b[38;5;241;43m1\u001b[39;49m\u001b[43m]\u001b[49m\n",
      "\u001b[1;31mIndexError\u001b[0m: index 1 is out of bounds for axis 0 with size 1"
     ]
    }
   ],
   "source": [
    "# \n",
    "\n",
    "numpy.array([range(5)])[1]"
   ]
  },
  {
   "cell_type": "code",
   "execution_count": 15,
   "id": "e8d79a38",
   "metadata": {},
   "outputs": [
    {
     "data": {
      "text/plain": [
       "array([[[[[0, 1, 2, 3, 4, 5]],\n",
       "\n",
       "         [[0, 1, 2, 3, 4, 5]]],\n",
       "\n",
       "\n",
       "        [[[0, 1, 2, 3, 4, 5]],\n",
       "\n",
       "         [[0, 1, 2, 3, 4, 5]]],\n",
       "\n",
       "\n",
       "        [[[0, 1, 2, 3, 4, 5]],\n",
       "\n",
       "         [[0, 1, 2, 3, 4, 5]]]]])"
      ]
     },
     "execution_count": 15,
     "metadata": {},
     "output_type": "execute_result"
    }
   ],
   "source": [
    "# Create 5D array list of range-5\n",
    "\n",
    "a = numpy.array([[[range(6)], [range(6)]], [[range(6)], [range(6)]], [[range(6)], [range(6)]]],ndmin = 5)\n",
    "a"
   ]
  },
  {
   "cell_type": "code",
   "execution_count": 16,
   "id": "066ecf11",
   "metadata": {},
   "outputs": [
    {
     "data": {
      "text/plain": [
       "(1, 3, 2, 1, 6)"
      ]
     },
     "execution_count": 16,
     "metadata": {},
     "output_type": "execute_result"
    }
   ],
   "source": [
    "a.shape"
   ]
  },
  {
   "cell_type": "code",
   "execution_count": 17,
   "id": "2f8eb4a1",
   "metadata": {
    "scrolled": true
   },
   "outputs": [
    {
     "data": {
      "text/plain": [
       "array([[[[[0, 1, 2, 3, 4]]]]])"
      ]
     },
     "execution_count": 17,
     "metadata": {},
     "output_type": "execute_result"
    }
   ],
   "source": [
    "# Create 5D array list of range-5\n",
    "\n",
    "numpy.array([[[range(5)]]],ndmin = 5)"
   ]
  },
  {
   "cell_type": "code",
   "execution_count": 18,
   "id": "bee81055",
   "metadata": {
    "scrolled": true
   },
   "outputs": [
    {
     "ename": "ValueError",
     "evalue": "Must pass 2-d input. shape=(1, 1, 1, 1, 5)",
     "output_type": "error",
     "traceback": [
      "\u001b[1;31m---------------------------------------------------------------------------\u001b[0m",
      "\u001b[1;31mValueError\u001b[0m                                Traceback (most recent call last)",
      "Cell \u001b[1;32mIn[18], line 5\u001b[0m\n\u001b[0;32m      1\u001b[0m \u001b[38;5;66;03m# Create 5D array list of range-5\u001b[39;00m\n\u001b[0;32m      3\u001b[0m \u001b[38;5;28;01mimport\u001b[39;00m \u001b[38;5;21;01mpandas\u001b[39;00m \u001b[38;5;28;01mas\u001b[39;00m \u001b[38;5;21;01mpd\u001b[39;00m\n\u001b[1;32m----> 5\u001b[0m \u001b[43mpd\u001b[49m\u001b[38;5;241;43m.\u001b[39;49m\u001b[43mDataFrame\u001b[49m\u001b[43m(\u001b[49m\u001b[43mnumpy\u001b[49m\u001b[38;5;241;43m.\u001b[39;49m\u001b[43marray\u001b[49m\u001b[43m(\u001b[49m\u001b[43m[\u001b[49m\u001b[43m[\u001b[49m\u001b[43m[\u001b[49m\u001b[38;5;28;43mrange\u001b[39;49m\u001b[43m(\u001b[49m\u001b[38;5;241;43m5\u001b[39;49m\u001b[43m)\u001b[49m\u001b[43m]\u001b[49m\u001b[43m]\u001b[49m\u001b[43m]\u001b[49m\u001b[43m,\u001b[49m\u001b[43mndmin\u001b[49m\u001b[43m \u001b[49m\u001b[38;5;241;43m=\u001b[39;49m\u001b[43m \u001b[49m\u001b[38;5;241;43m5\u001b[39;49m\u001b[43m)\u001b[49m\u001b[43m)\u001b[49m\n",
      "File \u001b[1;32mC:\\Users\\ML\\envs\\classical\\lib\\site-packages\\pandas\\core\\frame.py:827\u001b[0m, in \u001b[0;36mDataFrame.__init__\u001b[1;34m(self, data, index, columns, dtype, copy)\u001b[0m\n\u001b[0;32m    816\u001b[0m         mgr \u001b[38;5;241m=\u001b[39m dict_to_mgr(\n\u001b[0;32m    817\u001b[0m             \u001b[38;5;66;03m# error: Item \"ndarray\" of \"Union[ndarray, Series, Index]\" has no\u001b[39;00m\n\u001b[0;32m    818\u001b[0m             \u001b[38;5;66;03m# attribute \"name\"\u001b[39;00m\n\u001b[1;32m   (...)\u001b[0m\n\u001b[0;32m    824\u001b[0m             copy\u001b[38;5;241m=\u001b[39m_copy,\n\u001b[0;32m    825\u001b[0m         )\n\u001b[0;32m    826\u001b[0m     \u001b[38;5;28;01melse\u001b[39;00m:\n\u001b[1;32m--> 827\u001b[0m         mgr \u001b[38;5;241m=\u001b[39m \u001b[43mndarray_to_mgr\u001b[49m\u001b[43m(\u001b[49m\n\u001b[0;32m    828\u001b[0m \u001b[43m            \u001b[49m\u001b[43mdata\u001b[49m\u001b[43m,\u001b[49m\n\u001b[0;32m    829\u001b[0m \u001b[43m            \u001b[49m\u001b[43mindex\u001b[49m\u001b[43m,\u001b[49m\n\u001b[0;32m    830\u001b[0m \u001b[43m            \u001b[49m\u001b[43mcolumns\u001b[49m\u001b[43m,\u001b[49m\n\u001b[0;32m    831\u001b[0m \u001b[43m            \u001b[49m\u001b[43mdtype\u001b[49m\u001b[38;5;241;43m=\u001b[39;49m\u001b[43mdtype\u001b[49m\u001b[43m,\u001b[49m\n\u001b[0;32m    832\u001b[0m \u001b[43m            \u001b[49m\u001b[43mcopy\u001b[49m\u001b[38;5;241;43m=\u001b[39;49m\u001b[43mcopy\u001b[49m\u001b[43m,\u001b[49m\n\u001b[0;32m    833\u001b[0m \u001b[43m            \u001b[49m\u001b[43mtyp\u001b[49m\u001b[38;5;241;43m=\u001b[39;49m\u001b[43mmanager\u001b[49m\u001b[43m,\u001b[49m\n\u001b[0;32m    834\u001b[0m \u001b[43m        \u001b[49m\u001b[43m)\u001b[49m\n\u001b[0;32m    836\u001b[0m \u001b[38;5;66;03m# For data is list-like, or Iterable (will consume into list)\u001b[39;00m\n\u001b[0;32m    837\u001b[0m \u001b[38;5;28;01melif\u001b[39;00m is_list_like(data):\n",
      "File \u001b[1;32mC:\\Users\\ML\\envs\\classical\\lib\\site-packages\\pandas\\core\\internals\\construction.py:314\u001b[0m, in \u001b[0;36mndarray_to_mgr\u001b[1;34m(values, index, columns, dtype, copy, typ)\u001b[0m\n\u001b[0;32m    308\u001b[0m     _copy \u001b[38;5;241m=\u001b[39m (\n\u001b[0;32m    309\u001b[0m         copy_on_sanitize\n\u001b[0;32m    310\u001b[0m         \u001b[38;5;28;01mif\u001b[39;00m (dtype \u001b[38;5;129;01mis\u001b[39;00m \u001b[38;5;28;01mNone\u001b[39;00m \u001b[38;5;129;01mor\u001b[39;00m astype_is_view(values\u001b[38;5;241m.\u001b[39mdtype, dtype))\n\u001b[0;32m    311\u001b[0m         \u001b[38;5;28;01melse\u001b[39;00m \u001b[38;5;28;01mFalse\u001b[39;00m\n\u001b[0;32m    312\u001b[0m     )\n\u001b[0;32m    313\u001b[0m     values \u001b[38;5;241m=\u001b[39m np\u001b[38;5;241m.\u001b[39marray(values, copy\u001b[38;5;241m=\u001b[39m_copy)\n\u001b[1;32m--> 314\u001b[0m     values \u001b[38;5;241m=\u001b[39m \u001b[43m_ensure_2d\u001b[49m\u001b[43m(\u001b[49m\u001b[43mvalues\u001b[49m\u001b[43m)\u001b[49m\n\u001b[0;32m    316\u001b[0m \u001b[38;5;28;01melse\u001b[39;00m:\n\u001b[0;32m    317\u001b[0m     \u001b[38;5;66;03m# by definition an array here\u001b[39;00m\n\u001b[0;32m    318\u001b[0m     \u001b[38;5;66;03m# the dtypes will be coerced to a single dtype\u001b[39;00m\n\u001b[0;32m    319\u001b[0m     values \u001b[38;5;241m=\u001b[39m _prep_ndarraylike(values, copy\u001b[38;5;241m=\u001b[39mcopy_on_sanitize)\n",
      "File \u001b[1;32mC:\\Users\\ML\\envs\\classical\\lib\\site-packages\\pandas\\core\\internals\\construction.py:592\u001b[0m, in \u001b[0;36m_ensure_2d\u001b[1;34m(values)\u001b[0m\n\u001b[0;32m    590\u001b[0m     values \u001b[38;5;241m=\u001b[39m values\u001b[38;5;241m.\u001b[39mreshape((values\u001b[38;5;241m.\u001b[39mshape[\u001b[38;5;241m0\u001b[39m], \u001b[38;5;241m1\u001b[39m))\n\u001b[0;32m    591\u001b[0m \u001b[38;5;28;01melif\u001b[39;00m values\u001b[38;5;241m.\u001b[39mndim \u001b[38;5;241m!=\u001b[39m \u001b[38;5;241m2\u001b[39m:\n\u001b[1;32m--> 592\u001b[0m     \u001b[38;5;28;01mraise\u001b[39;00m \u001b[38;5;167;01mValueError\u001b[39;00m(\u001b[38;5;124mf\u001b[39m\u001b[38;5;124m\"\u001b[39m\u001b[38;5;124mMust pass 2-d input. shape=\u001b[39m\u001b[38;5;132;01m{\u001b[39;00mvalues\u001b[38;5;241m.\u001b[39mshape\u001b[38;5;132;01m}\u001b[39;00m\u001b[38;5;124m\"\u001b[39m)\n\u001b[0;32m    593\u001b[0m \u001b[38;5;28;01mreturn\u001b[39;00m values\n",
      "\u001b[1;31mValueError\u001b[0m: Must pass 2-d input. shape=(1, 1, 1, 1, 5)"
     ]
    }
   ],
   "source": [
    "# Create 5D array list of range-5\n",
    "\n",
    "import pandas as pd\n",
    "\n",
    "pd.DataFrame(numpy.array([[[range(5)]]],ndmin = 5))"
   ]
  },
  {
   "cell_type": "code",
   "execution_count": 19,
   "id": "2e14f39e",
   "metadata": {},
   "outputs": [
    {
     "data": {
      "text/plain": [
       "array([[0, 1, 2, 3, 4]])"
      ]
     },
     "execution_count": 19,
     "metadata": {},
     "output_type": "execute_result"
    }
   ],
   "source": [
    "numpy.array([[[range(5)]]],ndmin = 5)[0][0][0]"
   ]
  },
  {
   "cell_type": "code",
   "execution_count": 20,
   "id": "b2a38e62",
   "metadata": {
    "scrolled": true
   },
   "outputs": [
    {
     "data": {
      "text/html": [
       "<div>\n",
       "<style scoped>\n",
       "    .dataframe tbody tr th:only-of-type {\n",
       "        vertical-align: middle;\n",
       "    }\n",
       "\n",
       "    .dataframe tbody tr th {\n",
       "        vertical-align: top;\n",
       "    }\n",
       "\n",
       "    .dataframe thead th {\n",
       "        text-align: right;\n",
       "    }\n",
       "</style>\n",
       "<table border=\"1\" class=\"dataframe\">\n",
       "  <thead>\n",
       "    <tr style=\"text-align: right;\">\n",
       "      <th></th>\n",
       "      <th>0</th>\n",
       "      <th>1</th>\n",
       "      <th>2</th>\n",
       "      <th>3</th>\n",
       "      <th>4</th>\n",
       "    </tr>\n",
       "  </thead>\n",
       "  <tbody>\n",
       "    <tr>\n",
       "      <th>0</th>\n",
       "      <td>0</td>\n",
       "      <td>1</td>\n",
       "      <td>2</td>\n",
       "      <td>3</td>\n",
       "      <td>4</td>\n",
       "    </tr>\n",
       "  </tbody>\n",
       "</table>\n",
       "</div>"
      ],
      "text/plain": [
       "   0  1  2  3  4\n",
       "0  0  1  2  3  4"
      ]
     },
     "execution_count": 20,
     "metadata": {},
     "output_type": "execute_result"
    }
   ],
   "source": [
    "pd.DataFrame(numpy.array([[[range(5)]]],ndmin = 5)[0][0][0])"
   ]
  },
  {
   "cell_type": "code",
   "execution_count": 21,
   "id": "fb806811",
   "metadata": {},
   "outputs": [
    {
     "data": {
      "text/plain": [
       "array([0, 1, 2, 3, 4])"
      ]
     },
     "execution_count": 21,
     "metadata": {},
     "output_type": "execute_result"
    }
   ],
   "source": [
    "numpy.array([[[range(5)]]],ndmin = 5)[0][0][0][0]"
   ]
  },
  {
   "cell_type": "code",
   "execution_count": 22,
   "id": "f5f20403",
   "metadata": {},
   "outputs": [
    {
     "data": {
      "text/html": [
       "<div>\n",
       "<style scoped>\n",
       "    .dataframe tbody tr th:only-of-type {\n",
       "        vertical-align: middle;\n",
       "    }\n",
       "\n",
       "    .dataframe tbody tr th {\n",
       "        vertical-align: top;\n",
       "    }\n",
       "\n",
       "    .dataframe thead th {\n",
       "        text-align: right;\n",
       "    }\n",
       "</style>\n",
       "<table border=\"1\" class=\"dataframe\">\n",
       "  <thead>\n",
       "    <tr style=\"text-align: right;\">\n",
       "      <th></th>\n",
       "      <th>0</th>\n",
       "    </tr>\n",
       "  </thead>\n",
       "  <tbody>\n",
       "    <tr>\n",
       "      <th>0</th>\n",
       "      <td>0</td>\n",
       "    </tr>\n",
       "    <tr>\n",
       "      <th>1</th>\n",
       "      <td>1</td>\n",
       "    </tr>\n",
       "    <tr>\n",
       "      <th>2</th>\n",
       "      <td>2</td>\n",
       "    </tr>\n",
       "    <tr>\n",
       "      <th>3</th>\n",
       "      <td>3</td>\n",
       "    </tr>\n",
       "    <tr>\n",
       "      <th>4</th>\n",
       "      <td>4</td>\n",
       "    </tr>\n",
       "  </tbody>\n",
       "</table>\n",
       "</div>"
      ],
      "text/plain": [
       "   0\n",
       "0  0\n",
       "1  1\n",
       "2  2\n",
       "3  3\n",
       "4  4"
      ]
     },
     "execution_count": 22,
     "metadata": {},
     "output_type": "execute_result"
    }
   ],
   "source": [
    "pd.DataFrame(numpy.array([[[range(5)]]],ndmin = 5)[0][0][0][0])"
   ]
  },
  {
   "cell_type": "code",
   "execution_count": 23,
   "id": "8efbfeee",
   "metadata": {},
   "outputs": [
    {
     "data": {
      "text/plain": [
       "array([[ 0,  1,  2,  3,  4],\n",
       "       [98, 76, 45, 32, 55]])"
      ]
     },
     "execution_count": 23,
     "metadata": {},
     "output_type": "execute_result"
    }
   ],
   "source": [
    "numpy.array([[0, 1, 2, 3, 4], [98,76,45,32,55]])"
   ]
  },
  {
   "cell_type": "code",
   "execution_count": 24,
   "id": "b462547e",
   "metadata": {},
   "outputs": [
    {
     "data": {
      "text/html": [
       "<div>\n",
       "<style scoped>\n",
       "    .dataframe tbody tr th:only-of-type {\n",
       "        vertical-align: middle;\n",
       "    }\n",
       "\n",
       "    .dataframe tbody tr th {\n",
       "        vertical-align: top;\n",
       "    }\n",
       "\n",
       "    .dataframe thead th {\n",
       "        text-align: right;\n",
       "    }\n",
       "</style>\n",
       "<table border=\"1\" class=\"dataframe\">\n",
       "  <thead>\n",
       "    <tr style=\"text-align: right;\">\n",
       "      <th></th>\n",
       "      <th>0</th>\n",
       "      <th>1</th>\n",
       "      <th>2</th>\n",
       "      <th>3</th>\n",
       "      <th>4</th>\n",
       "    </tr>\n",
       "  </thead>\n",
       "  <tbody>\n",
       "    <tr>\n",
       "      <th>0</th>\n",
       "      <td>0</td>\n",
       "      <td>1</td>\n",
       "      <td>2</td>\n",
       "      <td>3</td>\n",
       "      <td>4</td>\n",
       "    </tr>\n",
       "    <tr>\n",
       "      <th>1</th>\n",
       "      <td>98</td>\n",
       "      <td>76</td>\n",
       "      <td>45</td>\n",
       "      <td>32</td>\n",
       "      <td>55</td>\n",
       "    </tr>\n",
       "  </tbody>\n",
       "</table>\n",
       "</div>"
      ],
      "text/plain": [
       "    0   1   2   3   4\n",
       "0   0   1   2   3   4\n",
       "1  98  76  45  32  55"
      ]
     },
     "execution_count": 24,
     "metadata": {},
     "output_type": "execute_result"
    }
   ],
   "source": [
    "pd.DataFrame(numpy.array([[0, 1, 2, 3, 4], [98,76,45,32,55]]))"
   ]
  },
  {
   "cell_type": "code",
   "execution_count": 25,
   "id": "af408020",
   "metadata": {},
   "outputs": [],
   "source": [
    "## \n",
    "\n",
    "import numpy as np"
   ]
  },
  {
   "cell_type": "markdown",
   "id": "2a37eaa5",
   "metadata": {},
   "source": [
    "### Vectors\n",
    "`One dimentional arrays are called vectors`"
   ]
  },
  {
   "cell_type": "code",
   "execution_count": 26,
   "id": "9d9c71b2",
   "metadata": {},
   "outputs": [
    {
     "data": {
      "text/plain": [
       "array([['o palla']], dtype='<U7')"
      ]
     },
     "execution_count": 26,
     "metadata": {},
     "output_type": "execute_result"
    }
   ],
   "source": [
    "np.array(['o palla'], ndmin = 2)"
   ]
  },
  {
   "cell_type": "code",
   "execution_count": 27,
   "id": "ee2e2600",
   "metadata": {},
   "outputs": [
    {
     "data": {
      "text/plain": [
       "array(['o palla'], dtype='<U7')"
      ]
     },
     "execution_count": 27,
     "metadata": {},
     "output_type": "execute_result"
    }
   ],
   "source": [
    "np.array([['o palla']])[0]"
   ]
  },
  {
   "cell_type": "code",
   "execution_count": 28,
   "id": "a6ab15da",
   "metadata": {},
   "outputs": [
    {
     "data": {
      "text/plain": [
       "'o palla'"
      ]
     },
     "execution_count": 28,
     "metadata": {},
     "output_type": "execute_result"
    }
   ],
   "source": [
    "np.array([['o palla']])[0][0]"
   ]
  },
  {
   "cell_type": "code",
   "execution_count": 29,
   "id": "4fa5e9a8",
   "metadata": {},
   "outputs": [
    {
     "name": "stdout",
     "output_type": "stream",
     "text": [
      "[1, 2, 3, 4]\n",
      "<class 'list'>\n",
      "\n",
      "[1 2 3 4]\n",
      "<class 'numpy.ndarray'>\n",
      "int32\n"
     ]
    }
   ],
   "source": [
    "# example\n",
    "\n",
    "a = [1,2,3,4]\n",
    "n = np.array(a)\n",
    "print(a)\n",
    "print(type(a))\n",
    "print()\n",
    "print(n)\n",
    "print(type(n))\n",
    "print(n.dtype)"
   ]
  },
  {
   "cell_type": "code",
   "execution_count": 30,
   "id": "b8718a7e",
   "metadata": {},
   "outputs": [
    {
     "data": {
      "text/plain": [
       "array([0, 1, 2, 3])"
      ]
     },
     "execution_count": 30,
     "metadata": {},
     "output_type": "execute_result"
    }
   ],
   "source": [
    "# One dimentional array : Vector \n",
    "\n",
    "np.array(range(4))"
   ]
  },
  {
   "cell_type": "code",
   "execution_count": 31,
   "id": "69fb9c4b",
   "metadata": {},
   "outputs": [
    {
     "data": {
      "text/plain": [
       "array([[0, 1, 2, 3]])"
      ]
     },
     "execution_count": 31,
     "metadata": {},
     "output_type": "execute_result"
    }
   ],
   "source": [
    "# Two dimentional array : It is not a vector \n",
    "# Two or more dimentional arrays are called as Matrix\n",
    "\n",
    "np.array([range(4)])"
   ]
  },
  {
   "cell_type": "code",
   "execution_count": 32,
   "id": "13ea6bb8",
   "metadata": {},
   "outputs": [
    {
     "data": {
      "text/plain": [
       "array([[[0, 1, 2, 3]]])"
      ]
     },
     "execution_count": 32,
     "metadata": {},
     "output_type": "execute_result"
    }
   ],
   "source": [
    "# Three dimentional array : It is not a vector\n",
    "# Two or more dimentional arrays are called as Matrix\n",
    "\n",
    "np.array([[range(4)]])"
   ]
  },
  {
   "cell_type": "code",
   "execution_count": 33,
   "id": "85f254a9",
   "metadata": {},
   "outputs": [
    {
     "data": {
      "text/plain": [
       "3"
      ]
     },
     "execution_count": 33,
     "metadata": {},
     "output_type": "execute_result"
    }
   ],
   "source": [
    "# slicing/indexing one dimentional array\n",
    "\n",
    "np.array(range(4))[-1]"
   ]
  },
  {
   "cell_type": "code",
   "execution_count": 34,
   "id": "6b271142",
   "metadata": {},
   "outputs": [
    {
     "data": {
      "text/plain": [
       "array([[0, 1, 2, 3]])"
      ]
     },
     "execution_count": 34,
     "metadata": {},
     "output_type": "execute_result"
    }
   ],
   "source": [
    "np.array([[range(4)]])[-1]"
   ]
  },
  {
   "cell_type": "code",
   "execution_count": 35,
   "id": "d1076e4f",
   "metadata": {},
   "outputs": [
    {
     "data": {
      "text/plain": [
       "array([0, 1, 2, 3])"
      ]
     },
     "execution_count": 35,
     "metadata": {},
     "output_type": "execute_result"
    }
   ],
   "source": [
    "# slicing/indexing two dimentional array\n",
    "\n",
    "np.array([[range(4)]])[-1][0]"
   ]
  },
  {
   "cell_type": "code",
   "execution_count": 36,
   "id": "51ac7969",
   "metadata": {},
   "outputs": [
    {
     "ename": "IndexError",
     "evalue": "index 1 is out of bounds for axis 0 with size 1",
     "output_type": "error",
     "traceback": [
      "\u001b[1;31m---------------------------------------------------------------------------\u001b[0m",
      "\u001b[1;31mIndexError\u001b[0m                                Traceback (most recent call last)",
      "Cell \u001b[1;32mIn[36], line 3\u001b[0m\n\u001b[0;32m      1\u001b[0m \u001b[38;5;66;03m# out of range slicing/indexing two dimentional array, it will give error\u001b[39;00m\n\u001b[1;32m----> 3\u001b[0m \u001b[43mnp\u001b[49m\u001b[38;5;241;43m.\u001b[39;49m\u001b[43marray\u001b[49m\u001b[43m(\u001b[49m\u001b[43m[\u001b[49m\u001b[43m[\u001b[49m\u001b[38;5;28;43mrange\u001b[39;49m\u001b[43m(\u001b[49m\u001b[38;5;241;43m4\u001b[39;49m\u001b[43m)\u001b[49m\u001b[43m]\u001b[49m\u001b[43m]\u001b[49m\u001b[43m)\u001b[49m\u001b[43m[\u001b[49m\u001b[38;5;241;43m1\u001b[39;49m\u001b[43m]\u001b[49m\n",
      "\u001b[1;31mIndexError\u001b[0m: index 1 is out of bounds for axis 0 with size 1"
     ]
    }
   ],
   "source": [
    "# out of range slicing/indexing two dimentional array, it will give error\n",
    "\n",
    "np.array([[range(4)]])[1]"
   ]
  },
  {
   "cell_type": "code",
   "execution_count": 37,
   "id": "2277202e",
   "metadata": {},
   "outputs": [
    {
     "ename": "IndexError",
     "evalue": "index -2 is out of bounds for axis 0 with size 1",
     "output_type": "error",
     "traceback": [
      "\u001b[1;31m---------------------------------------------------------------------------\u001b[0m",
      "\u001b[1;31mIndexError\u001b[0m                                Traceback (most recent call last)",
      "Cell \u001b[1;32mIn[37], line 3\u001b[0m\n\u001b[0;32m      1\u001b[0m \u001b[38;5;66;03m# out of range slicing/indexing two dimentional array, it will give error\u001b[39;00m\n\u001b[1;32m----> 3\u001b[0m \u001b[43mnp\u001b[49m\u001b[38;5;241;43m.\u001b[39;49m\u001b[43marray\u001b[49m\u001b[43m(\u001b[49m\u001b[43m[\u001b[49m\u001b[43m[\u001b[49m\u001b[38;5;28;43mrange\u001b[39;49m\u001b[43m(\u001b[49m\u001b[38;5;241;43m4\u001b[39;49m\u001b[43m)\u001b[49m\u001b[43m]\u001b[49m\u001b[43m]\u001b[49m\u001b[43m)\u001b[49m\u001b[43m[\u001b[49m\u001b[38;5;241;43m-\u001b[39;49m\u001b[38;5;241;43m2\u001b[39;49m\u001b[43m]\u001b[49m\n",
      "\u001b[1;31mIndexError\u001b[0m: index -2 is out of bounds for axis 0 with size 1"
     ]
    }
   ],
   "source": [
    "# out of range slicing/indexing two dimentional array, it will give error\n",
    "\n",
    "np.array([[range(4)]])[-2]"
   ]
  },
  {
   "cell_type": "code",
   "execution_count": 38,
   "id": "a475a12f",
   "metadata": {},
   "outputs": [
    {
     "name": "stdout",
     "output_type": "stream",
     "text": [
      "[[[0 1 2 3]]]\n"
     ]
    },
    {
     "data": {
      "text/plain": [
       "array([[0, 1, 2, 3]])"
      ]
     },
     "execution_count": 38,
     "metadata": {},
     "output_type": "execute_result"
    }
   ],
   "source": [
    "# slicing/indexing two dimentional array\n",
    "\n",
    "print(np.array([[range(4)]]))\n",
    "np.array([[range(4)]])[0]"
   ]
  },
  {
   "cell_type": "code",
   "execution_count": 39,
   "id": "1dd811aa",
   "metadata": {},
   "outputs": [
    {
     "data": {
      "text/plain": [
       "array([0, 1, 2, 3])"
      ]
     },
     "execution_count": 39,
     "metadata": {},
     "output_type": "execute_result"
    }
   ],
   "source": [
    "# slicing/indexing two dimentional array\n",
    "\n",
    "np.array([[range(4)]])[0][0]"
   ]
  },
  {
   "cell_type": "code",
   "execution_count": 40,
   "id": "5692f1b4",
   "metadata": {},
   "outputs": [
    {
     "data": {
      "text/plain": [
       "2"
      ]
     },
     "execution_count": 40,
     "metadata": {},
     "output_type": "execute_result"
    }
   ],
   "source": [
    "# slicing/indexing two dimentional array\n",
    "\n",
    "np.array([[range(4)]])[0][0][2]"
   ]
  },
  {
   "cell_type": "code",
   "execution_count": 48,
   "id": "579178cb",
   "metadata": {},
   "outputs": [
    {
     "data": {
      "text/plain": [
       "array([[list([0, 1, 2, 3])],\n",
       "       [list([[0, 1, 2, 4]])],\n",
       "       [list([0, 1, 2, 5])]], dtype=object)"
      ]
     },
     "execution_count": 48,
     "metadata": {},
     "output_type": "execute_result"
    }
   ],
   "source": [
    "# \n",
    "\n",
    "s = np.array([[[0, 1, 2, 3]], [[[0, 1, 2, 4]]], [[0, 1, 2, 5]]], dtype= 'O')\n",
    "s"
   ]
  },
  {
   "cell_type": "code",
   "execution_count": 49,
   "id": "d738a228",
   "metadata": {},
   "outputs": [
    {
     "data": {
      "text/plain": [
       "(3, (3, 1))"
      ]
     },
     "execution_count": 49,
     "metadata": {},
     "output_type": "execute_result"
    }
   ],
   "source": [
    "s.size, s.shape"
   ]
  },
  {
   "cell_type": "code",
   "execution_count": 50,
   "id": "8c0b185e",
   "metadata": {},
   "outputs": [
    {
     "data": {
      "text/plain": [
       "array([[[0, 1, 2, 3]],\n",
       "\n",
       "       [[0, 1, 2, 4]],\n",
       "\n",
       "       [[0, 1, 2, 5]]])"
      ]
     },
     "execution_count": 50,
     "metadata": {},
     "output_type": "execute_result"
    }
   ],
   "source": [
    "# create a three dimentional array\n",
    " \n",
    "p = np.array([[[0, 1, 2, 3]], [[0, 1, 2, 4]], [[0, 1, 2, 5]]])\n",
    "p"
   ]
  },
  {
   "cell_type": "code",
   "execution_count": 51,
   "id": "0feb9fc8",
   "metadata": {},
   "outputs": [
    {
     "data": {
      "text/plain": [
       "(3, 1, 4)"
      ]
     },
     "execution_count": 51,
     "metadata": {},
     "output_type": "execute_result"
    }
   ],
   "source": [
    "p.shape"
   ]
  },
  {
   "cell_type": "code",
   "execution_count": 52,
   "id": "29b468f1",
   "metadata": {},
   "outputs": [
    {
     "data": {
      "text/plain": [
       "12"
      ]
     },
     "execution_count": 52,
     "metadata": {},
     "output_type": "execute_result"
    }
   ],
   "source": [
    "p.size"
   ]
  },
  {
   "cell_type": "code",
   "execution_count": 53,
   "id": "bf325b84",
   "metadata": {},
   "outputs": [
    {
     "data": {
      "text/plain": [
       "array([[0, 1, 2, 5]])"
      ]
     },
     "execution_count": 53,
     "metadata": {},
     "output_type": "execute_result"
    }
   ],
   "source": [
    "# slicing/indexing three dimentional array\n",
    "\n",
    "p[2]"
   ]
  },
  {
   "cell_type": "code",
   "execution_count": 54,
   "id": "28dc2fc4",
   "metadata": {},
   "outputs": [
    {
     "data": {
      "text/plain": [
       "array([0, 1, 2, 5])"
      ]
     },
     "execution_count": 54,
     "metadata": {},
     "output_type": "execute_result"
    }
   ],
   "source": [
    "# slicing/indexing three dimentional array\n",
    "\n",
    "p[2][0]"
   ]
  },
  {
   "cell_type": "code",
   "execution_count": 55,
   "id": "5a3894a5",
   "metadata": {},
   "outputs": [
    {
     "data": {
      "text/plain": [
       "5"
      ]
     },
     "execution_count": 55,
     "metadata": {},
     "output_type": "execute_result"
    }
   ],
   "source": [
    "# slicing/indexing three dimentional array\n",
    "\n",
    "p[2][0][3]"
   ]
  },
  {
   "cell_type": "code",
   "execution_count": 56,
   "id": "76750e37",
   "metadata": {},
   "outputs": [
    {
     "name": "stdout",
     "output_type": "stream",
     "text": [
      "[[0 1 2 4]]\n",
      "<class 'numpy.ndarray'>\n",
      "int32\n"
     ]
    }
   ],
   "source": [
    "# slicing/indexing three dimentional array\n",
    "\n",
    "print(p[1])\n",
    "print(type(p[1]))\n",
    "print(p[1].dtype)"
   ]
  },
  {
   "cell_type": "markdown",
   "id": "4cff26d4",
   "metadata": {},
   "source": [
    "### ravel and flatten"
   ]
  },
  {
   "cell_type": "code",
   "execution_count": 3,
   "id": "aefbe483-f6ff-42bc-8b43-0dd891094674",
   "metadata": {},
   "outputs": [],
   "source": [
    "# .squeeze() and ravel() flatten the data\n",
    "\n",
    "XX = 10 * np.random.rand(100, 1)\n",
    "y = 3 * XX.squeeze() + 5 + np.random.randn(100)  # y = 3x + 5 + noise"
   ]
  },
  {
   "cell_type": "code",
   "execution_count": 4,
   "id": "76522e0f",
   "metadata": {},
   "outputs": [
    {
     "data": {
      "text/plain": [
       "(array([2, 4, 5, 5, 3, 9]), array([2, 4, 5, 5, 3, 9]))"
      ]
     },
     "execution_count": 4,
     "metadata": {},
     "output_type": "execute_result"
    }
   ],
   "source": [
    "import numpy as np\n",
    "\n",
    "np.array([[2,4], [5,5], [3,9]]).ravel(), np.array([[2,4], [5,5], [3,9]]).flatten()"
   ]
  },
  {
   "cell_type": "markdown",
   "id": "9d1ade71",
   "metadata": {},
   "source": [
    "### Basic Operations"
   ]
  },
  {
   "cell_type": "markdown",
   "id": "8818ef7c",
   "metadata": {},
   "source": [
    "### Addition/ Substraction : \n",
    "> **To add two or more numpy arrays, their length should be same or one of those should be of length one** <br>\n",
    "> **To add numpy array with list or tuple, their length should be same or one of those should be of length one** <br>\n",
    "> **Two different dimentional arrays can also be added with each other. The dimention of the output will be the dimention of the higher dimentional array**\n",
    "\n",
    "`Each value of the array will be added with the same index value of the other array and the output will be the same length array`<br>\n",
    "`If integer or the single length array then the each value of array will be added by that integer or the single length array value `\n"
   ]
  },
  {
   "cell_type": "code",
   "execution_count": 60,
   "id": "bf23a66a",
   "metadata": {},
   "outputs": [],
   "source": [
    "import sys"
   ]
  },
  {
   "cell_type": "code",
   "execution_count": 61,
   "id": "f22dac15",
   "metadata": {},
   "outputs": [
    {
     "data": {
      "text/plain": [
       "'3.10.14 | packaged by Anaconda, Inc. | (main, May  6 2024, 19:44:50) [MSC v.1916 64 bit (AMD64)]'"
      ]
     },
     "execution_count": 61,
     "metadata": {},
     "output_type": "execute_result"
    }
   ],
   "source": [
    "sys.version"
   ]
  },
  {
   "cell_type": "code",
   "execution_count": 62,
   "id": "c316a8ae",
   "metadata": {},
   "outputs": [
    {
     "data": {
      "text/plain": [
       "'1.26.4'"
      ]
     },
     "execution_count": 62,
     "metadata": {},
     "output_type": "execute_result"
    }
   ],
   "source": [
    "np. __version__"
   ]
  },
  {
   "cell_type": "code",
   "execution_count": 64,
   "id": "64bd2481",
   "metadata": {},
   "outputs": [
    {
     "data": {
      "text/plain": [
       "array([list([1, 2, 3]), list([4, [9, 1]])], dtype=object)"
      ]
     },
     "execution_count": 64,
     "metadata": {},
     "output_type": "execute_result"
    }
   ],
   "source": [
    "np.array([[1,2,3],\n",
    "         [4,[9,1]]], dtype = 'O')"
   ]
  },
  {
   "cell_type": "code",
   "execution_count": 65,
   "id": "218022ff",
   "metadata": {},
   "outputs": [
    {
     "data": {
      "text/plain": [
       "array([list([1, 2, 3]), list([4, [1]])], dtype=object)"
      ]
     },
     "execution_count": 65,
     "metadata": {},
     "output_type": "execute_result"
    }
   ],
   "source": [
    "np.array([[1,2,3],\n",
    "         [4,[1]]], dtype = 'object')"
   ]
  },
  {
   "cell_type": "code",
   "execution_count": 66,
   "id": "190a3ce4",
   "metadata": {},
   "outputs": [
    {
     "data": {
      "text/plain": [
       "array([list([1, 2, 3]), list([4, [9, 1]])], dtype=object)"
      ]
     },
     "execution_count": 66,
     "metadata": {},
     "output_type": "execute_result"
    }
   ],
   "source": [
    "np.array([[1,2,3],\n",
    "         [4,[9,1]]], dtype = 'object')"
   ]
  },
  {
   "cell_type": "code",
   "execution_count": 16,
   "id": "0b18535e",
   "metadata": {},
   "outputs": [
    {
     "data": {
      "text/plain": [
       "array([[[1, list([2, 8]), 3]],\n",
       "\n",
       "       [[4, list([9, 1]), 5]]], dtype=object)"
      ]
     },
     "execution_count": 16,
     "metadata": {},
     "output_type": "execute_result"
    }
   ],
   "source": [
    "np.array([[[1,[2,8],3]],[[4,[9,1],5]]], dtype = 'object')"
   ]
  },
  {
   "cell_type": "code",
   "execution_count": 70,
   "id": "34b2e557",
   "metadata": {},
   "outputs": [
    {
     "data": {
      "text/plain": [
       "array([[1, list([2, 8]), 3],\n",
       "       [4, list([9, 1]), 5]], dtype=object)"
      ]
     },
     "execution_count": 70,
     "metadata": {},
     "output_type": "execute_result"
    }
   ],
   "source": [
    "np.array([[1,[2,8],3],\n",
    "         [4,[9,1],5]], dtype = 'object')"
   ]
  },
  {
   "cell_type": "code",
   "execution_count": 72,
   "id": "5c5f9beb",
   "metadata": {},
   "outputs": [
    {
     "data": {
      "text/plain": [
       "array([[1, list([2]), 3],\n",
       "       [4, list([9]), 5]], dtype=object)"
      ]
     },
     "execution_count": 72,
     "metadata": {},
     "output_type": "execute_result"
    }
   ],
   "source": [
    "np.array([[1,[2],3],\n",
    "         [4,[9],5]], dtype = 'object')"
   ]
  },
  {
   "cell_type": "code",
   "execution_count": 10,
   "id": "e7f2b56d",
   "metadata": {},
   "outputs": [
    {
     "data": {
      "text/plain": [
       "array([[1, 4, 9],\n",
       "       [4, list([9, 1, 9, 1]), 15]], dtype=object)"
      ]
     },
     "execution_count": 10,
     "metadata": {},
     "output_type": "execute_result"
    }
   ],
   "source": [
    "#\n",
    "\n",
    "np.array([[1,2,3],\n",
    "         [4,[9,1],5]], dtype= 'O') * np.array([1,2,3])"
   ]
  },
  {
   "cell_type": "code",
   "execution_count": 8,
   "id": "29d690d3",
   "metadata": {},
   "outputs": [
    {
     "data": {
      "text/plain": [
       "array([[1, 4, 9],\n",
       "       [4, (9, 1, 9, 1), '555']], dtype=object)"
      ]
     },
     "execution_count": 8,
     "metadata": {},
     "output_type": "execute_result"
    }
   ],
   "source": [
    "#\n",
    "\n",
    "np.array([[1,2,3],\n",
    "         [4,(9,1),'5']], dtype= 'O') * np.array([1,2,3])"
   ]
  },
  {
   "cell_type": "code",
   "execution_count": 12,
   "id": "cd613090",
   "metadata": {},
   "outputs": [
    {
     "data": {
      "text/plain": [
       "array([[1, 4, 9],\n",
       "       [4, list([[9], 7, [9], 7]), 18]], dtype=object)"
      ]
     },
     "execution_count": 12,
     "metadata": {},
     "output_type": "execute_result"
    }
   ],
   "source": [
    "#\n",
    "\n",
    "np.array([[1,2,3],\n",
    "         [4,[[9],7],6]], dtype= 'O') * np.array([1,2,3])"
   ]
  },
  {
   "cell_type": "code",
   "execution_count": 65,
   "id": "73c8f1fe",
   "metadata": {},
   "outputs": [
    {
     "name": "stdout",
     "output_type": "stream",
     "text": [
      "<class 'numpy.ndarray'>\n",
      "[ 7 10  6  6]\n",
      "<class 'numpy.ndarray'>\n",
      "[-5 -6  0  2]\n"
     ]
    }
   ],
   "source": [
    "# Addition of array                                                                                            \n",
    "# Create two array: first and second\n",
    "# Take arange(1,5) in first and array([6,8,3,2]) in second\n",
    "# Do addition and substraction\n",
    "\n",
    "first = np.arange(1,5)\n",
    "second = np.array([6,8,3,2])\n",
    "\n",
    "# Addition\n",
    " \n",
    "print(type(first + second))\n",
    "print(first + second)\n",
    "\n",
    "# Substraction\n",
    "\n",
    "print(type(first - second))\n",
    "print(first - second)"
   ]
  },
  {
   "cell_type": "code",
   "execution_count": 66,
   "id": "0dd6cf3e",
   "metadata": {},
   "outputs": [
    {
     "ename": "ValueError",
     "evalue": "operands could not be broadcast together with shapes (6,) (4,) ",
     "output_type": "error",
     "traceback": [
      "\u001b[1;31m---------------------------------------------------------------------------\u001b[0m",
      "\u001b[1;31mValueError\u001b[0m                                Traceback (most recent call last)",
      "Cell \u001b[1;32mIn[66], line 8\u001b[0m\n\u001b[0;32m      4\u001b[0m second22 \u001b[38;5;241m=\u001b[39m np\u001b[38;5;241m.\u001b[39marray([\u001b[38;5;241m6\u001b[39m,\u001b[38;5;241m8\u001b[39m,\u001b[38;5;241m3\u001b[39m,\u001b[38;5;241m2\u001b[39m])\n\u001b[0;32m      6\u001b[0m \u001b[38;5;66;03m# Add\u001b[39;00m\n\u001b[1;32m----> 8\u001b[0m \u001b[38;5;28mprint\u001b[39m(\u001b[43mfirst11\u001b[49m\u001b[43m \u001b[49m\u001b[38;5;241;43m+\u001b[39;49m\u001b[43m \u001b[49m\u001b[43msecond22\u001b[49m)\n\u001b[0;32m     10\u001b[0m \u001b[38;5;66;03m# Substract\u001b[39;00m\n\u001b[0;32m     12\u001b[0m \u001b[38;5;28mprint\u001b[39m(first11 \u001b[38;5;241m-\u001b[39m second22)\n",
      "\u001b[1;31mValueError\u001b[0m: operands could not be broadcast together with shapes (6,) (4,) "
     ]
    }
   ],
   "source": [
    "# If the arrays length are not same, then the addition/substraction will throw the error\n",
    "\n",
    "first11 = np.arange(1,7)\n",
    "second22 = np.array([6,8,3,2])\n",
    "\n",
    "# Add\n",
    "\n",
    "print(first11 + second22)\n",
    "\n",
    "# Substract\n",
    "\n",
    "print(first11 - second22)"
   ]
  },
  {
   "cell_type": "markdown",
   "id": "2d4ac81e",
   "metadata": {},
   "source": [
    "'''\n",
    "\n",
    "1. Addition/substraction of 2 array of same length where dtype=object and length of both arrays is same\n",
    "and all the value are integers thats why addition and substraction will not throw the error.\n",
    "2. If both arrays dtype is object and their length is same then addition will do concatination if element dtype is same, where as\n",
    "substraction will throw the error.\n",
    "\n",
    "'''\n"
   ]
  },
  {
   "cell_type": "code",
   "execution_count": 67,
   "id": "40126b27",
   "metadata": {},
   "outputs": [
    {
     "ename": "TypeError",
     "evalue": "unsupported operand type(s) for +: 'int' and 'str'",
     "output_type": "error",
     "traceback": [
      "\u001b[1;31m---------------------------------------------------------------------------\u001b[0m",
      "\u001b[1;31mTypeError\u001b[0m                                 Traceback (most recent call last)",
      "Cell \u001b[1;32mIn[67], line 9\u001b[0m\n\u001b[0;32m      5\u001b[0m second22 \u001b[38;5;241m=\u001b[39m np\u001b[38;5;241m.\u001b[39marray([\u001b[38;5;241m6\u001b[39m,\u001b[38;5;241m8\u001b[39m,\u001b[38;5;241m3\u001b[39m,\u001b[38;5;241m2\u001b[39m, \u001b[38;5;124m'\u001b[39m\u001b[38;5;124mpallu\u001b[39m\u001b[38;5;124m'\u001b[39m])\n\u001b[0;32m      7\u001b[0m \u001b[38;5;66;03m# Addc\u001b[39;00m\n\u001b[1;32m----> 9\u001b[0m \u001b[38;5;28mprint\u001b[39m(\u001b[43mfirst11\u001b[49m\u001b[43m \u001b[49m\u001b[38;5;241;43m+\u001b[39;49m\u001b[43m \u001b[49m\u001b[43msecond22\u001b[49m)\n\u001b[0;32m     11\u001b[0m \u001b[38;5;66;03m# Substract\u001b[39;00m\n\u001b[0;32m     13\u001b[0m \u001b[38;5;28mprint\u001b[39m(first11 \u001b[38;5;241m-\u001b[39m second22)\n",
      "\u001b[1;31mTypeError\u001b[0m: unsupported operand type(s) for +: 'int' and 'str'"
     ]
    }
   ],
   "source": [
    "# Addition/substraction of 2 array of same length dtype=object and unicode,\n",
    "# It will throw the error because no operations can be done on dtype=unicode\n",
    "\n",
    "first11 = np.array([1,5,6,9,'palku'], dtype='O')\n",
    "second22 = np.array([6,8,3,2, 'pallu'])\n",
    "\n",
    "# Addc\n",
    "\n",
    "print(first11 + second22)\n",
    "\n",
    "# Substract\n",
    "\n",
    "print(first11 - second22)"
   ]
  },
  {
   "cell_type": "code",
   "execution_count": 21,
   "id": "95dad59f",
   "metadata": {},
   "outputs": [
    {
     "name": "stdout",
     "output_type": "stream",
     "text": [
      "[7 13 9 11 'palakpallu']\n"
     ]
    },
    {
     "ename": "TypeError",
     "evalue": "can't multiply sequence by non-int of type 'str'",
     "output_type": "error",
     "traceback": [
      "\u001b[1;31m---------------------------------------------------------------------------\u001b[0m",
      "\u001b[1;31mTypeError\u001b[0m                                 Traceback (most recent call last)",
      "Cell \u001b[1;32mIn[21], line 17\u001b[0m\n\u001b[0;32m     13\u001b[0m \u001b[38;5;28mprint\u001b[39m(first11 \u001b[38;5;241m+\u001b[39m second22)\n\u001b[0;32m     15\u001b[0m \u001b[38;5;66;03m# Multiplication\u001b[39;00m\n\u001b[1;32m---> 17\u001b[0m \u001b[38;5;28mprint\u001b[39m(\u001b[43mfirst11\u001b[49m\u001b[43m \u001b[49m\u001b[38;5;241;43m*\u001b[39;49m\u001b[43m \u001b[49m\u001b[43msecond22\u001b[49m)\n\u001b[0;32m     19\u001b[0m \u001b[38;5;66;03m# Substract\u001b[39;00m\n\u001b[0;32m     21\u001b[0m \u001b[38;5;28mprint\u001b[39m(first11 \u001b[38;5;241m-\u001b[39m second22)\n",
      "\u001b[1;31mTypeError\u001b[0m: can't multiply sequence by non-int of type 'str'"
     ]
    }
   ],
   "source": [
    "'''\n",
    "\n",
    "Addition/substraction/multiplication/division of 2 array of same length dtype=object,\n",
    "Except addition it will throw the error because a string cannot be multiplied by a string,\n",
    "neither it can be substracted nor divided\n",
    "\n",
    "'''\n",
    "first11 = np.array([1,5,6,9,'palak'], dtype='O')\n",
    "second22 = np.array([6,8,3,2, 'pallu'], dtype='O')\n",
    "\n",
    "# Add\n",
    "\n",
    "print(first11 + second22)\n",
    "\n",
    "# Multiplication\n",
    "\n",
    "print(first11 * second22)\n",
    "\n",
    "# Substract\n",
    "\n",
    "print(first11 - second22)"
   ]
  },
  {
   "cell_type": "code",
   "execution_count": 22,
   "id": "adcf0422",
   "metadata": {},
   "outputs": [
    {
     "name": "stdout",
     "output_type": "stream",
     "text": [
      "[6 40 18 18 'palak palak ']\n"
     ]
    },
    {
     "ename": "TypeError",
     "evalue": "can only concatenate str (not \"int\") to str",
     "output_type": "error",
     "traceback": [
      "\u001b[1;31m---------------------------------------------------------------------------\u001b[0m",
      "\u001b[1;31mTypeError\u001b[0m                                 Traceback (most recent call last)",
      "Cell \u001b[1;32mIn[22], line 18\u001b[0m\n\u001b[0;32m     14\u001b[0m \u001b[38;5;28mprint\u001b[39m(first11 \u001b[38;5;241m*\u001b[39m second22)\n\u001b[0;32m     16\u001b[0m \u001b[38;5;66;03m# Add\u001b[39;00m\n\u001b[1;32m---> 18\u001b[0m \u001b[38;5;28mprint\u001b[39m(\u001b[43mfirst11\u001b[49m\u001b[43m \u001b[49m\u001b[38;5;241;43m+\u001b[39;49m\u001b[43m \u001b[49m\u001b[43msecond22\u001b[49m)\n\u001b[0;32m     20\u001b[0m \u001b[38;5;66;03m# Substract\u001b[39;00m\n\u001b[0;32m     22\u001b[0m \u001b[38;5;28mprint\u001b[39m(first11 \u001b[38;5;241m-\u001b[39m second22)\n",
      "\u001b[1;31mTypeError\u001b[0m: can only concatenate str (not \"int\") to str"
     ]
    }
   ],
   "source": [
    "'''\n",
    "\n",
    "Addition/substraction/multiplication/division of 2 array of same length dtype=object and int32,\n",
    "Except multiplication it will throw the error because a string cannot be added to a number,\n",
    "neither it can be substracted nor divided\n",
    "\n",
    "'''\n",
    "\n",
    "first11 = np.array([1,5,6,9,'palak '], dtype='O')\n",
    "second22 = np.array([6,8,3,2, 2])\n",
    "\n",
    "# Multiply\n",
    "\n",
    "print(first11 * second22)\n",
    "\n",
    "# Add\n",
    "\n",
    "print(first11 + second22)\n",
    "\n",
    "# Substract\n",
    "\n",
    "print(first11 - second22)\n",
    "\n",
    "# Divided\n",
    "\n",
    "print(first11 / second22)"
   ]
  },
  {
   "cell_type": "code",
   "execution_count": 23,
   "id": "9bce0312",
   "metadata": {},
   "outputs": [
    {
     "name": "stdout",
     "output_type": "stream",
     "text": [
      "[[ 7 10  6  6]]\n",
      "[[-5 -6  0  2]]\n"
     ]
    }
   ],
   "source": [
    "# Addition/substraction of one dimentional array with the two dimentional array. The output will be two dimentional array\n",
    "\n",
    "first = np.arange(1,5)\n",
    "second = np.array([[6,8,3,2]])\n",
    "\n",
    "# Add\n",
    "\n",
    "print(first + second)\n",
    "\n",
    "# Substract\n",
    "\n",
    "print(first - second)"
   ]
  },
  {
   "cell_type": "code",
   "execution_count": 24,
   "id": "0e636c75",
   "metadata": {},
   "outputs": [
    {
     "data": {
      "text/plain": [
       "[[array([1, 2, 3, 4])], 1, 2, 3, 4]"
      ]
     },
     "execution_count": 24,
     "metadata": {},
     "output_type": "execute_result"
    }
   ],
   "source": [
    "# concatination\n",
    "\n",
    "[[np.arange(1,5)]]+[1,2,3,4]"
   ]
  },
  {
   "cell_type": "code",
   "execution_count": 73,
   "id": "efa3de02",
   "metadata": {},
   "outputs": [
    {
     "data": {
      "text/plain": [
       "[array([1, 2, 3, 4]), 1, 2, 3, 4]"
      ]
     },
     "execution_count": 73,
     "metadata": {},
     "output_type": "execute_result"
    }
   ],
   "source": [
    "# \n",
    "\n",
    "[[np.arange(1,5)]][0]+[1,2,3,4]"
   ]
  },
  {
   "cell_type": "code",
   "execution_count": 74,
   "id": "6097f85a",
   "metadata": {},
   "outputs": [
    {
     "data": {
      "text/plain": [
       "array([1, 2, 3, 4])"
      ]
     },
     "execution_count": 74,
     "metadata": {},
     "output_type": "execute_result"
    }
   ],
   "source": [
    "[[np.arange(1,5)]][0][0]"
   ]
  },
  {
   "cell_type": "code",
   "execution_count": 75,
   "id": "0908617c",
   "metadata": {},
   "outputs": [
    {
     "data": {
      "text/plain": [
       "array([2, 4, 6, 8])"
      ]
     },
     "execution_count": 75,
     "metadata": {},
     "output_type": "execute_result"
    }
   ],
   "source": [
    "# \n",
    "\n",
    "[[np.arange(1,5)]][0][0]+[1,2,3,4]"
   ]
  },
  {
   "cell_type": "code",
   "execution_count": 76,
   "id": "9187d64c",
   "metadata": {},
   "outputs": [
    {
     "name": "stdout",
     "output_type": "stream",
     "text": [
      "[[array([1, 2, 3, 4])]]\n",
      "<class 'list'>\n"
     ]
    },
    {
     "data": {
      "text/plain": [
       "[[array([1, 2, 3, 4])]]"
      ]
     },
     "execution_count": 76,
     "metadata": {},
     "output_type": "execute_result"
    }
   ],
   "source": [
    "# create a list containing list of one dimentional numpy array of length one,\n",
    "\n",
    "print([[np.array([1, 2, 3, 4])]])\n",
    "print(type([[np.array([1, 2, 3, 4])]]))\n",
    "[[np.array([1, 2, 3, 4])]]"
   ]
  },
  {
   "cell_type": "code",
   "execution_count": 77,
   "id": "48eba64e",
   "metadata": {},
   "outputs": [
    {
     "data": {
      "text/plain": [
       "array([[[1, 2, 3, 4]]])"
      ]
     },
     "execution_count": 77,
     "metadata": {},
     "output_type": "execute_result"
    }
   ],
   "source": [
    "np.array([[np.array([1, 2, 3, 4])]])"
   ]
  },
  {
   "cell_type": "code",
   "execution_count": 78,
   "id": "2d0cdf21",
   "metadata": {},
   "outputs": [
    {
     "name": "stdout",
     "output_type": "stream",
     "text": [
      "<class 'numpy.ndarray'>\n",
      "[[[1 2 3 4]]]\n"
     ]
    },
    {
     "data": {
      "text/plain": [
       "array([[[1, 2, 3, 4]]])"
      ]
     },
     "execution_count": 78,
     "metadata": {},
     "output_type": "execute_result"
    }
   ],
   "source": [
    "# create a three dimentional numpy array of length one,\n",
    "\n",
    "print(type(np.array(np.arange(1,5), ndmin= 3)))\n",
    "print(np.array(np.arange(1,5), ndmin= 3))\n",
    "np.array([[np.arange(1,5)]])"
   ]
  },
  {
   "cell_type": "code",
   "execution_count": 79,
   "id": "08c23477",
   "metadata": {},
   "outputs": [
    {
     "data": {
      "text/plain": [
       "array([1, 2, 3, 4])"
      ]
     },
     "execution_count": 79,
     "metadata": {},
     "output_type": "execute_result"
    }
   ],
   "source": [
    "np.arange(1,5)"
   ]
  },
  {
   "cell_type": "code",
   "execution_count": 80,
   "id": "f719d1e2",
   "metadata": {},
   "outputs": [
    {
     "data": {
      "text/plain": [
       "array([1, 2, 3, 4])"
      ]
     },
     "execution_count": 80,
     "metadata": {},
     "output_type": "execute_result"
    }
   ],
   "source": [
    "# create a one dimentional numpy array of length one,\n",
    "\n",
    "np.array(np.array(np.array(np.arange(1,5))))"
   ]
  },
  {
   "cell_type": "code",
   "execution_count": 81,
   "id": "d4621b2f",
   "metadata": {},
   "outputs": [
    {
     "data": {
      "text/plain": [
       "[array([1, 2, 3, 4])]"
      ]
     },
     "execution_count": 81,
     "metadata": {},
     "output_type": "execute_result"
    }
   ],
   "source": [
    "# create a two dimentional numpy array of length one,\n",
    "\n",
    "[np.array(np.array(np.arange(1,5)))]"
   ]
  },
  {
   "cell_type": "code",
   "execution_count": 82,
   "id": "34ac1f7a",
   "metadata": {},
   "outputs": [
    {
     "data": {
      "text/plain": [
       "array([[1, 2, 3, 4]])"
      ]
     },
     "execution_count": 82,
     "metadata": {},
     "output_type": "execute_result"
    }
   ],
   "source": [
    "# create a two dimentional numpy array of length one,\n",
    "\n",
    "np.array([np.array([1, 2, 3, 4])])"
   ]
  },
  {
   "cell_type": "code",
   "execution_count": 83,
   "id": "16d3e926",
   "metadata": {},
   "outputs": [
    {
     "data": {
      "text/plain": [
       "array([[1, 2, 3, 4]])"
      ]
     },
     "execution_count": 83,
     "metadata": {},
     "output_type": "execute_result"
    }
   ],
   "source": [
    "np.array([((1,2,3,4))])"
   ]
  },
  {
   "cell_type": "code",
   "execution_count": 25,
   "id": "a894f686",
   "metadata": {},
   "outputs": [
    {
     "data": {
      "text/plain": [
       "array([[1, 2, 3, 4]])"
      ]
     },
     "execution_count": 25,
     "metadata": {},
     "output_type": "execute_result"
    }
   ],
   "source": [
    "np.array(([((1,2,3,4))]))"
   ]
  },
  {
   "cell_type": "code",
   "execution_count": 90,
   "id": "48823472",
   "metadata": {},
   "outputs": [
    {
     "data": {
      "text/plain": [
       "array([[array([1, 2, 3, 4])],\n",
       "       [array([1, 2, 3])]], dtype=object)"
      ]
     },
     "execution_count": 90,
     "metadata": {},
     "output_type": "execute_result"
    }
   ],
   "source": [
    "# create a two dimentional numpy array of length one,\n",
    "\n",
    "np.array([[np.array(np.array(np.arange(1,5)))], [np.array(np.array(np.arange(1,4)))]], dtype= 'O')"
   ]
  },
  {
   "cell_type": "code",
   "execution_count": 88,
   "id": "7d19b6bd",
   "metadata": {},
   "outputs": [
    {
     "name": "stdout",
     "output_type": "stream",
     "text": [
      "[array([[1, 2, 3, 4]])]\n"
     ]
    },
    {
     "data": {
      "text/plain": [
       "list"
      ]
     },
     "execution_count": 88,
     "metadata": {},
     "output_type": "execute_result"
    }
   ],
   "source": [
    "# create a list of three dimentional numpy array of length one,\n",
    "\n",
    "print([np.array([np.arange(1,5)])])\n",
    "type([np.array([np.arange(1,5)])])"
   ]
  },
  {
   "cell_type": "code",
   "execution_count": 91,
   "id": "e42dd978",
   "metadata": {},
   "outputs": [
    {
     "data": {
      "text/plain": [
       "array([[[[1, 2, 3, 4]]]])"
      ]
     },
     "execution_count": 91,
     "metadata": {},
     "output_type": "execute_result"
    }
   ],
   "source": [
    "# create a four dimentional numpy array of length one,\n",
    "\n",
    "np.array([np.array([[np.arange(1,5)]])])"
   ]
  },
  {
   "cell_type": "code",
   "execution_count": 92,
   "id": "2dbbe389",
   "metadata": {},
   "outputs": [
    {
     "data": {
      "text/plain": [
       "([4, 6], [9, 8])"
      ]
     },
     "execution_count": 92,
     "metadata": {},
     "output_type": "execute_result"
    }
   ],
   "source": [
    "#\n",
    "((([4,6],[9,8])))"
   ]
  },
  {
   "cell_type": "code",
   "execution_count": 93,
   "id": "903f14be",
   "metadata": {},
   "outputs": [
    {
     "data": {
      "text/plain": [
       "[[[[4, 6], [9, 8]]]]"
      ]
     },
     "execution_count": 93,
     "metadata": {},
     "output_type": "execute_result"
    }
   ],
   "source": [
    "#\n",
    "[[[[4,6],[9,8]]]]"
   ]
  },
  {
   "cell_type": "code",
   "execution_count": 94,
   "id": "f1787532",
   "metadata": {},
   "outputs": [
    {
     "data": {
      "text/plain": [
       "(array([[4, 6],\n",
       "        [9, 8]]),\n",
       " numpy.ndarray)"
      ]
     },
     "execution_count": 94,
     "metadata": {},
     "output_type": "execute_result"
    }
   ],
   "source": [
    "# np.array takes both brackets() and square brackets[] to create object\n",
    "\n",
    "l = np.array(((([4,6],[9,8]))))\n",
    "l, type(l)"
   ]
  },
  {
   "cell_type": "code",
   "execution_count": 95,
   "id": "f9cb0a69",
   "metadata": {},
   "outputs": [
    {
     "data": {
      "text/plain": [
       "2"
      ]
     },
     "execution_count": 95,
     "metadata": {},
     "output_type": "execute_result"
    }
   ],
   "source": [
    "l.ndim"
   ]
  },
  {
   "cell_type": "code",
   "execution_count": 96,
   "id": "018dc7d9",
   "metadata": {},
   "outputs": [
    {
     "data": {
      "text/plain": [
       "array([[4, 6]])"
      ]
     },
     "execution_count": 96,
     "metadata": {},
     "output_type": "execute_result"
    }
   ],
   "source": [
    "# np.array takes both brackets() and square brackets[] to create object\n",
    "\n",
    "m= np.array([([4,6])])\n",
    "m"
   ]
  },
  {
   "cell_type": "code",
   "execution_count": 97,
   "id": "1e5d32a8",
   "metadata": {},
   "outputs": [
    {
     "name": "stdout",
     "output_type": "stream",
     "text": [
      "[[4 6]] 2\n"
     ]
    }
   ],
   "source": [
    "print(m, m.ndim)"
   ]
  },
  {
   "cell_type": "code",
   "execution_count": 98,
   "id": "3f211274",
   "metadata": {},
   "outputs": [
    {
     "name": "stdout",
     "output_type": "stream",
     "text": [
      "[4 6] 1\n"
     ]
    }
   ],
   "source": [
    "n = np.array(([4,6]))\n",
    "print(n, n.ndim)"
   ]
  },
  {
   "cell_type": "code",
   "execution_count": 99,
   "id": "02ab05a7",
   "metadata": {},
   "outputs": [
    {
     "data": {
      "text/plain": [
       "array([[4, 6]])"
      ]
     },
     "execution_count": 99,
     "metadata": {},
     "output_type": "execute_result"
    }
   ],
   "source": [
    "# np.array takes both brackets() and square brackets[] to create object\n",
    "\n",
    "np.array([(4,6)])"
   ]
  },
  {
   "cell_type": "code",
   "execution_count": 100,
   "id": "86c74435",
   "metadata": {},
   "outputs": [
    {
     "data": {
      "text/plain": [
       "array([4, 6])"
      ]
     },
     "execution_count": 100,
     "metadata": {},
     "output_type": "execute_result"
    }
   ],
   "source": [
    "# np.array takes both brackets() and square brackets[] to create object\n",
    "\n",
    "np.array([4,6])"
   ]
  },
  {
   "cell_type": "markdown",
   "id": "d117d503",
   "metadata": {},
   "source": [
    "### **Numpy array can take any data structure same as list in python**"
   ]
  },
  {
   "cell_type": "code",
   "execution_count": 29,
   "id": "8b1d35c8",
   "metadata": {},
   "outputs": [
    {
     "name": "stdout",
     "output_type": "stream",
     "text": [
      "1\n"
     ]
    }
   ],
   "source": [
    "# Numpy array can do operations only on numerical data but can take any data structure\n",
    "\n",
    "l = np.array([4,['6','palak',4,4.6],{8,8,1,8},(8,6),{8:1,3:9,2:0},'palak',1.5], dtype= 'O')\n",
    "print(l.ndim)"
   ]
  },
  {
   "cell_type": "code",
   "execution_count": 30,
   "id": "c160b4b0",
   "metadata": {},
   "outputs": [
    {
     "data": {
      "text/plain": [
       "array([4, list(['6', 'palak', 4, 4.6]), {8, 1}, (8, 6),\n",
       "       {8: 1, 3: 9, 2: 0}, 'palak', 1.5], dtype=object)"
      ]
     },
     "execution_count": 30,
     "metadata": {},
     "output_type": "execute_result"
    }
   ],
   "source": [
    "l"
   ]
  },
  {
   "cell_type": "code",
   "execution_count": 107,
   "id": "2b96e7ae",
   "metadata": {},
   "outputs": [
    {
     "name": "stdout",
     "output_type": "stream",
     "text": [
      "[4 list(['6', 'palak', 4, 4.6]) {8, 1} (8, 6) {8: 1, 3: 9, 2: 0} 'palak'\n",
      " 1.5]\n",
      "object\n",
      "(8, 6)\n",
      "['6', 'palak', 4, 4.6]\n",
      "palak\n",
      "{8: 1, 3: 9, 2: 0}\n"
     ]
    },
    {
     "ename": "TypeError",
     "evalue": "'set' object is not subscriptable",
     "output_type": "error",
     "traceback": [
      "\u001b[1;31m---------------------------------------------------------------------------\u001b[0m",
      "\u001b[1;31mTypeError\u001b[0m                                 Traceback (most recent call last)",
      "Cell \u001b[1;32mIn[107], line 7\u001b[0m\n\u001b[0;32m      5\u001b[0m \u001b[38;5;28mprint\u001b[39m(l[\u001b[38;5;241m1\u001b[39m][\u001b[38;5;241m1\u001b[39m])\n\u001b[0;32m      6\u001b[0m \u001b[38;5;28mprint\u001b[39m(l[\u001b[38;5;241m4\u001b[39m])\n\u001b[1;32m----> 7\u001b[0m \u001b[38;5;28mprint\u001b[39m(\u001b[43ml\u001b[49m\u001b[43m[\u001b[49m\u001b[38;5;241;43m2\u001b[39;49m\u001b[43m]\u001b[49m\u001b[43m[\u001b[49m\u001b[38;5;241;43m1\u001b[39;49m\u001b[43m]\u001b[49m[\u001b[38;5;241m1\u001b[39m:\u001b[38;5;241m-\u001b[39m\u001b[38;5;241m1\u001b[39m])\n",
      "\u001b[1;31mTypeError\u001b[0m: 'set' object is not subscriptable"
     ]
    }
   ],
   "source": [
    "print(l)\n",
    "print(l.dtype)\n",
    "print(l[3])\n",
    "print(l[1])\n",
    "print(l[1][1])\n",
    "print(l[4])\n",
    "print(l[2][1][1:-1])"
   ]
  },
  {
   "cell_type": "code",
   "execution_count": 108,
   "id": "06c7e4dc",
   "metadata": {},
   "outputs": [
    {
     "ename": "UFuncTypeError",
     "evalue": "ufunc 'add' did not contain a loop with signature matching types (dtype('<U5'), dtype('<U5')) -> None",
     "output_type": "error",
     "traceback": [
      "\u001b[1;31m---------------------------------------------------------------------------\u001b[0m",
      "\u001b[1;31mUFuncTypeError\u001b[0m                            Traceback (most recent call last)",
      "Cell \u001b[1;32mIn[108], line 3\u001b[0m\n\u001b[0;32m      1\u001b[0m \u001b[38;5;66;03m# Numpy array can do operations only on numerical data but can take any data structure\u001b[39;00m\n\u001b[1;32m----> 3\u001b[0m \u001b[43mnp\u001b[49m\u001b[38;5;241;43m.\u001b[39;49m\u001b[43marray\u001b[49m\u001b[43m(\u001b[49m\u001b[43m[\u001b[49m\u001b[43m[\u001b[49m\u001b[38;5;124;43m'\u001b[39;49m\u001b[38;5;124;43mpalak\u001b[39;49m\u001b[38;5;124;43m'\u001b[39;49m\u001b[43m]\u001b[49m\u001b[43m]\u001b[49m\u001b[43m)\u001b[49m\u001b[38;5;241;43m+\u001b[39;49m\u001b[43mnp\u001b[49m\u001b[38;5;241;43m.\u001b[39;49m\u001b[43marray\u001b[49m\u001b[43m(\u001b[49m\u001b[43m[\u001b[49m\u001b[43m[\u001b[49m\u001b[38;5;124;43m'\u001b[39;49m\u001b[38;5;124;43mpalak\u001b[39;49m\u001b[38;5;124;43m'\u001b[39;49m\u001b[43m]\u001b[49m\u001b[43m]\u001b[49m\u001b[43m)\u001b[49m\n",
      "\u001b[1;31mUFuncTypeError\u001b[0m: ufunc 'add' did not contain a loop with signature matching types (dtype('<U5'), dtype('<U5')) -> None"
     ]
    }
   ],
   "source": [
    "# Numpy array can do operations only on numerical data but can take any data structure\n",
    "\n",
    "np.array([['palak']])+np.array([['palak']])"
   ]
  },
  {
   "cell_type": "code",
   "execution_count": 109,
   "id": "d4779bd0",
   "metadata": {},
   "outputs": [
    {
     "data": {
      "text/plain": [
       "array([['palakpalak']], dtype=object)"
      ]
     },
     "execution_count": 109,
     "metadata": {},
     "output_type": "execute_result"
    }
   ],
   "source": [
    "# Numpy array can do operations only on numerical data but can take any data structure\n",
    "# dtype = object due to which concatination is being done with the strings\n",
    "\n",
    "np.array([['palak']], dtype = 'O')+np.array([['palak']], dtype = 'O')"
   ]
  },
  {
   "cell_type": "code",
   "execution_count": 110,
   "id": "fdac342c",
   "metadata": {},
   "outputs": [
    {
     "data": {
      "text/plain": [
       "array([['4444']], dtype=object)"
      ]
     },
     "execution_count": 110,
     "metadata": {},
     "output_type": "execute_result"
    }
   ],
   "source": [
    "# Numpy array can do operations only on numerical data but can take any data structure\n",
    "# dtype = object and contain string and dtype = int can be multiplied\n",
    "\n",
    "np.array([['4']], dtype = 'O')*np.array([[4]])"
   ]
  },
  {
   "cell_type": "code",
   "execution_count": 111,
   "id": "0a17ebbc",
   "metadata": {},
   "outputs": [
    {
     "data": {
      "text/plain": [
       "array([['palakpalakpalakpalakpalak']], dtype=object)"
      ]
     },
     "execution_count": 111,
     "metadata": {},
     "output_type": "execute_result"
    }
   ],
   "source": [
    "# Numpy array can do operations only on numerical data but can take any data structure\n",
    "# dtype = object and contain string and dtype = int can be multiplied\n",
    "\n",
    "np.array([['palak']], dtype = 'O')*np.array([[5]])"
   ]
  },
  {
   "cell_type": "code",
   "execution_count": 112,
   "id": "f48e69a8",
   "metadata": {},
   "outputs": [
    {
     "data": {
      "text/plain": [
       "array([[[[1, 2, 3, 4]]],\n",
       "\n",
       "\n",
       "       [[[2, 3, 4, 5]]]])"
      ]
     },
     "execution_count": 112,
     "metadata": {},
     "output_type": "execute_result"
    }
   ],
   "source": [
    "# create a four dimentional numpy array of length two,\n",
    "\n",
    "np.array(([[np.arange(1,5)]], [[np.arange(2,6)]]))"
   ]
  },
  {
   "cell_type": "code",
   "execution_count": 113,
   "id": "7957915e",
   "metadata": {},
   "outputs": [
    {
     "name": "stdout",
     "output_type": "stream",
     "text": [
      "[[[1 2 3 4]]] <class 'numpy.ndarray'>\n",
      "[array([[[1, 2, 3, 4]]])] <class 'list'>\n"
     ]
    }
   ],
   "source": [
    "# Type of the variable\n",
    "\n",
    "a = np.array([[np.arange(1,5)]])\n",
    "print(a, type(a))\n",
    "\n",
    "b = [np.array([[np.arange(1,5)]])]\n",
    "print(b, type(b))"
   ]
  },
  {
   "cell_type": "code",
   "execution_count": 114,
   "id": "7c645c27",
   "metadata": {},
   "outputs": [
    {
     "data": {
      "text/plain": [
       "array([[[10, 11, 12, 13]]])"
      ]
     },
     "execution_count": 114,
     "metadata": {},
     "output_type": "execute_result"
    }
   ],
   "source": [
    "# Type of the variable\n",
    "# In list it concat the variables\n",
    "# It will give output in the biggest dimension if there are different dimension in the operation\n",
    "\n",
    "b[0] + [np.array(9)]"
   ]
  },
  {
   "cell_type": "code",
   "execution_count": 115,
   "id": "817174d5",
   "metadata": {},
   "outputs": [
    {
     "data": {
      "text/plain": [
       "[array([[1, 2, 3, 4]]), array(9)]"
      ]
     },
     "execution_count": 115,
     "metadata": {},
     "output_type": "execute_result"
    }
   ],
   "source": [
    "# Type of the variable\n",
    "# In list it concat the variables\n",
    "\n",
    "list(b[0]) + [np.array(9)]"
   ]
  },
  {
   "cell_type": "code",
   "execution_count": 116,
   "id": "3a86dbda",
   "metadata": {},
   "outputs": [
    {
     "data": {
      "text/plain": [
       "array([[[1, 2, 3, 4]]])"
      ]
     },
     "execution_count": 116,
     "metadata": {},
     "output_type": "execute_result"
    }
   ],
   "source": [
    "# Slicing/Indexing of the list containing multi dimentional array\n",
    "\n",
    "[np.array([[np.arange(1,5)]])][0]"
   ]
  },
  {
   "cell_type": "code",
   "execution_count": 117,
   "id": "da28dcc3",
   "metadata": {},
   "outputs": [
    {
     "data": {
      "text/plain": [
       "array([[1, 2, 3, 4]])"
      ]
     },
     "execution_count": 117,
     "metadata": {},
     "output_type": "execute_result"
    }
   ],
   "source": [
    "# Slicing/Indexing of the list containing multi dimentional array\n",
    "\n",
    "[np.array([[np.arange(1,5)]])][0][0]"
   ]
  },
  {
   "cell_type": "code",
   "execution_count": 118,
   "id": "d39766f3",
   "metadata": {},
   "outputs": [
    {
     "data": {
      "text/plain": [
       "array([1, 2, 3, 4])"
      ]
     },
     "execution_count": 118,
     "metadata": {},
     "output_type": "execute_result"
    }
   ],
   "source": [
    "# Slicing/Indexing of the list containing multi dimentional array\n",
    "\n",
    "[np.array([[np.arange(1,5)]])][0][0][0]"
   ]
  },
  {
   "cell_type": "code",
   "execution_count": 119,
   "id": "ee3e25d1",
   "metadata": {},
   "outputs": [
    {
     "data": {
      "text/plain": [
       "3"
      ]
     },
     "execution_count": 119,
     "metadata": {},
     "output_type": "execute_result"
    }
   ],
   "source": [
    "# Slicing/Indexing of the list containing multi dimentional array\n",
    "\n",
    "[np.array([[np.arange(1,5)]])][0][0][0][2]"
   ]
  },
  {
   "cell_type": "code",
   "execution_count": 120,
   "id": "db221834",
   "metadata": {},
   "outputs": [
    {
     "name": "stdout",
     "output_type": "stream",
     "text": [
      "[[[ 7 10  6  6]]]\n",
      "[[[-5 -6  0  2]]]\n",
      "[[[1 2 3 4]]]\n"
     ]
    }
   ],
   "source": [
    "# Addition/substraction of one dimentional array with the two dimentional array. The output will be two dimentional array\n",
    "first = np.array([[np.arange(1,5)]])\n",
    "second = np.array([[6,8,3,2]])\n",
    "\n",
    "# Add\n",
    "print(first + second)\n",
    "\n",
    "# Substract\n",
    "print(first - second)\n",
    "\n",
    "print(first)"
   ]
  },
  {
   "cell_type": "code",
   "execution_count": 121,
   "id": "6e223fb4",
   "metadata": {},
   "outputs": [
    {
     "name": "stdout",
     "output_type": "stream",
     "text": [
      "[[ 7 10  6  6]]\n",
      "[[-5 -6  0  2]]\n"
     ]
    }
   ],
   "source": [
    "# Addition/substraction of one dimentional array with the two dimentional array. The output will be two dimentional array\n",
    "\n",
    "first = np.arange(1,5)\n",
    "second = np.array([[6,8,3,2]])\n",
    "\n",
    "# Add\n",
    "\n",
    "print(first + second)\n",
    "\n",
    "# Substract\n",
    "\n",
    "print(first - second)"
   ]
  },
  {
   "cell_type": "code",
   "execution_count": 122,
   "id": "71ef1209",
   "metadata": {},
   "outputs": [
    {
     "name": "stdout",
     "output_type": "stream",
     "text": [
      "[[ 7 10  6  6]\n",
      " [ 6 10  6  6]]\n",
      "[[-5 -6  0  2]\n",
      " [-4 -6  0  2]]\n"
     ]
    }
   ],
   "source": [
    "# Create 2 variables: first1 and second2\n",
    "# first1 contains arange(1,5) and second2 contains a two dimentional array of length 2\n",
    "# Then add/substract first1 and second2. The output will be the higher dimentional array, i.e two dimentional array\n",
    "\n",
    "first1 = np.arange(1,5)\n",
    "second2 = np.array([[6,8,3,2],[5,8,3,2]])\n",
    "\n",
    "# Add\n",
    "\n",
    "print(first1 + second2)\n",
    "\n",
    "# Substract\n",
    "\n",
    "print(first1 - second2)"
   ]
  },
  {
   "cell_type": "code",
   "execution_count": 123,
   "id": "dd94fea7",
   "metadata": {},
   "outputs": [
    {
     "data": {
      "text/plain": [
       "array([6, 7, 8, 9])"
      ]
     },
     "execution_count": 123,
     "metadata": {},
     "output_type": "execute_result"
    }
   ],
   "source": [
    "# Addition of arange(1,5) with an integer value(5)\n",
    "\n",
    "first + 5"
   ]
  },
  {
   "cell_type": "code",
   "execution_count": 124,
   "id": "42840793",
   "metadata": {},
   "outputs": [
    {
     "data": {
      "text/plain": [
       "array([6, 7, 8, 9])"
      ]
     },
     "execution_count": 124,
     "metadata": {},
     "output_type": "execute_result"
    }
   ],
   "source": [
    "# Addition of arange(1,5) with an single value array\n",
    "\n",
    "first + np.array([5])"
   ]
  },
  {
   "cell_type": "code",
   "execution_count": 125,
   "id": "2c5cb701",
   "metadata": {},
   "outputs": [
    {
     "data": {
      "text/plain": [
       "array([ 8,  9, 10])"
      ]
     },
     "execution_count": 125,
     "metadata": {},
     "output_type": "execute_result"
    }
   ],
   "source": [
    "# Add a single length array with a list of length 3\n",
    "\n",
    "np.array([5])+[3,4,5]"
   ]
  },
  {
   "cell_type": "code",
   "execution_count": 126,
   "id": "8b97df98",
   "metadata": {},
   "outputs": [
    {
     "data": {
      "text/plain": [
       "array([[18, 19, 20, 22],\n",
       "       [23, 24, 25, 27]])"
      ]
     },
     "execution_count": 126,
     "metadata": {},
     "output_type": "execute_result"
    }
   ],
   "source": [
    "# Adding two dimention array of size 2 with a list and an single integer value\n",
    "\n",
    "np.array([[5],[10]])+[3,4,5,7]+10"
   ]
  },
  {
   "cell_type": "code",
   "execution_count": 127,
   "id": "f6e57d98",
   "metadata": {},
   "outputs": [
    {
     "data": {
      "text/plain": [
       "array([[20, 23],\n",
       "       [23, 27]])"
      ]
     },
     "execution_count": 127,
     "metadata": {},
     "output_type": "execute_result"
    }
   ],
   "source": [
    "# Adding two dimention array of size 2 with a list of length as same of array and single integer value\n",
    "\n",
    "np.array([[5,6],[8,10]])+[5,7]+10"
   ]
  },
  {
   "cell_type": "code",
   "execution_count": 128,
   "id": "76c38ff5",
   "metadata": {},
   "outputs": [
    {
     "ename": "TypeError",
     "evalue": "can only concatenate list (not \"int\") to list",
     "output_type": "error",
     "traceback": [
      "\u001b[1;31m---------------------------------------------------------------------------\u001b[0m",
      "\u001b[1;31mTypeError\u001b[0m                                 Traceback (most recent call last)",
      "Cell \u001b[1;32mIn[128], line 1\u001b[0m\n\u001b[1;32m----> 1\u001b[0m \u001b[43m[\u001b[49m\u001b[38;5;241;43m3\u001b[39;49m\u001b[43m,\u001b[49m\u001b[38;5;241;43m4\u001b[39;49m\u001b[43m,\u001b[49m\u001b[38;5;241;43m5\u001b[39;49m\u001b[43m]\u001b[49m\u001b[38;5;241;43m+\u001b[39;49m\u001b[38;5;241;43m10\u001b[39;49m\n",
      "\u001b[1;31mTypeError\u001b[0m: can only concatenate list (not \"int\") to list"
     ]
    }
   ],
   "source": [
    "[3,4,5]+10"
   ]
  },
  {
   "cell_type": "code",
   "execution_count": 129,
   "id": "8cf58540",
   "metadata": {},
   "outputs": [
    {
     "ename": "TypeError",
     "evalue": "can only concatenate list (not \"int\") to list",
     "output_type": "error",
     "traceback": [
      "\u001b[1;31m---------------------------------------------------------------------------\u001b[0m",
      "\u001b[1;31mTypeError\u001b[0m                                 Traceback (most recent call last)",
      "Cell \u001b[1;32mIn[129], line 3\u001b[0m\n\u001b[0;32m      1\u001b[0m \u001b[38;5;66;03m# It will throw error because list cannot be added with single integer value\u001b[39;00m\n\u001b[1;32m----> 3\u001b[0m \u001b[43m[\u001b[49m\u001b[38;5;241;43m3\u001b[39;49m\u001b[43m,\u001b[49m\u001b[38;5;241;43m4\u001b[39;49m\u001b[43m,\u001b[49m\u001b[38;5;241;43m5\u001b[39;49m\u001b[43m]\u001b[49m\u001b[38;5;241;43m+\u001b[39;49m\u001b[38;5;241;43m10\u001b[39;49m\u001b[38;5;241m+\u001b[39mnp\u001b[38;5;241m.\u001b[39marray([\u001b[38;5;241m1\u001b[39m,\u001b[38;5;241m2\u001b[39m,\u001b[38;5;241m3\u001b[39m])\n",
      "\u001b[1;31mTypeError\u001b[0m: can only concatenate list (not \"int\") to list"
     ]
    }
   ],
   "source": [
    "# It will throw error because list cannot be added with single integer value\n",
    "\n",
    "[3,4,5]+10+np.array([1,2,3])"
   ]
  },
  {
   "cell_type": "code",
   "execution_count": 130,
   "id": "ec99f65d",
   "metadata": {},
   "outputs": [
    {
     "ename": "TypeError",
     "evalue": "can only concatenate list (not \"int\") to list",
     "output_type": "error",
     "traceback": [
      "\u001b[1;31m---------------------------------------------------------------------------\u001b[0m",
      "\u001b[1;31mTypeError\u001b[0m                                 Traceback (most recent call last)",
      "Cell \u001b[1;32mIn[130], line 3\u001b[0m\n\u001b[0;32m      1\u001b[0m \u001b[38;5;66;03m# It will throw error because list cannot be added with single integer value\u001b[39;00m\n\u001b[1;32m----> 3\u001b[0m \u001b[43m[\u001b[49m\u001b[38;5;241;43m32\u001b[39;49m\u001b[43m,\u001b[49m\u001b[38;5;241;43m15\u001b[39;49m\u001b[43m]\u001b[49m\u001b[38;5;241;43m+\u001b[39;49m\u001b[38;5;241;43m10\u001b[39;49m\u001b[38;5;241m+\u001b[39mnp\u001b[38;5;241m.\u001b[39marray([\u001b[38;5;241m1\u001b[39m,\u001b[38;5;241m2\u001b[39m,\u001b[38;5;241m3\u001b[39m])\n",
      "\u001b[1;31mTypeError\u001b[0m: can only concatenate list (not \"int\") to list"
     ]
    }
   ],
   "source": [
    "# It will throw error because list cannot be added with single integer value\n",
    "\n",
    "[32,15]+10+np.array([1,2,3])"
   ]
  },
  {
   "cell_type": "code",
   "execution_count": 131,
   "id": "38b1149e",
   "metadata": {},
   "outputs": [
    {
     "data": {
      "text/plain": [
       "array([33, 17, 13])"
      ]
     },
     "execution_count": 131,
     "metadata": {},
     "output_type": "execute_result"
    }
   ],
   "source": [
    "# First both list will get concatenated the will be added\n",
    "\n",
    "[32,15]+[10]+np.array([1,2,3])"
   ]
  },
  {
   "cell_type": "code",
   "execution_count": 133,
   "id": "4a360691",
   "metadata": {},
   "outputs": [
    {
     "data": {
      "text/plain": [
       "array([ 6, 13, 20])"
      ]
     },
     "execution_count": 133,
     "metadata": {},
     "output_type": "execute_result"
    }
   ],
   "source": [
    "# Addition of lists and array with same size\n",
    "\n",
    "[3,4,5]+np.array([1,2,3])+[2,7,12]"
   ]
  },
  {
   "cell_type": "code",
   "execution_count": 132,
   "id": "5489e168",
   "metadata": {},
   "outputs": [
    {
     "ename": "TypeError",
     "evalue": "unsupported operand type(s) for /: 'list' and 'list'",
     "output_type": "error",
     "traceback": [
      "\u001b[1;31m---------------------------------------------------------------------------\u001b[0m",
      "\u001b[1;31mTypeError\u001b[0m                                 Traceback (most recent call last)",
      "Cell \u001b[1;32mIn[132], line 3\u001b[0m\n\u001b[0;32m      1\u001b[0m \u001b[38;5;66;03m# It will throw error because list cannot be divided with a list\u001b[39;00m\n\u001b[1;32m----> 3\u001b[0m \u001b[43m[\u001b[49m\u001b[38;5;241;43m3\u001b[39;49m\u001b[43m,\u001b[49m\u001b[38;5;241;43m4\u001b[39;49m\u001b[43m,\u001b[49m\u001b[38;5;241;43m5\u001b[39;49m\u001b[43m]\u001b[49m\u001b[38;5;241;43m/\u001b[39;49m\u001b[43m[\u001b[49m\u001b[38;5;241;43m2\u001b[39;49m\u001b[43m,\u001b[49m\u001b[38;5;241;43m7\u001b[39;49m\u001b[43m,\u001b[49m\u001b[38;5;241;43m12\u001b[39;49m\u001b[43m]\u001b[49m\u001b[38;5;241m/\u001b[39mnp\u001b[38;5;241m.\u001b[39marray([\u001b[38;5;241m1\u001b[39m,\u001b[38;5;241m2\u001b[39m,\u001b[38;5;241m3\u001b[39m])\n",
      "\u001b[1;31mTypeError\u001b[0m: unsupported operand type(s) for /: 'list' and 'list'"
     ]
    }
   ],
   "source": [
    "# It will throw error because list cannot be divided with a list\n",
    "\n",
    "[3,4,5]/[2,7,12]/np.array([1,2,3])"
   ]
  },
  {
   "cell_type": "code",
   "execution_count": 134,
   "id": "ac79cfff",
   "metadata": {},
   "outputs": [
    {
     "data": {
      "text/plain": [
       "array([[0.8, 0.9, 1. ],\n",
       "       [1.3, 1.4, 1.5]])"
      ]
     },
     "execution_count": 134,
     "metadata": {},
     "output_type": "execute_result"
    }
   ],
   "source": [
    "# addition of array with a list of same length and dividing it with the single integer value\n",
    "\n",
    "(np.array([[5],[10]])+[3,4,5])/10"
   ]
  },
  {
   "cell_type": "code",
   "execution_count": 135,
   "id": "3dc92cad",
   "metadata": {},
   "outputs": [
    {
     "data": {
      "text/plain": [
       "array([[ 80,  90, 100],\n",
       "       [130, 140, 150]])"
      ]
     },
     "execution_count": 135,
     "metadata": {},
     "output_type": "execute_result"
    }
   ],
   "source": [
    "# Adding list with array and multiplying the output with 10\n",
    "\n",
    "(np.array([[5],[10]])+[3,4,5])*10"
   ]
  },
  {
   "cell_type": "code",
   "execution_count": 136,
   "id": "4d43dce9",
   "metadata": {
    "scrolled": true
   },
   "outputs": [
    {
     "data": {
      "text/plain": [
       "array([24, 27, 30])"
      ]
     },
     "execution_count": 136,
     "metadata": {},
     "output_type": "execute_result"
    }
   ],
   "source": [
    "np.array([8,9,10])*3"
   ]
  },
  {
   "cell_type": "code",
   "execution_count": 137,
   "id": "a0930bae",
   "metadata": {},
   "outputs": [
    {
     "data": {
      "text/plain": [
       "array([[17, 23, 29],\n",
       "       [32, 43, 54]])"
      ]
     },
     "execution_count": 137,
     "metadata": {},
     "output_type": "execute_result"
    }
   ],
   "source": [
    "# Adding list with array and multiplying the output with list\n",
    "\n",
    "np.array([[5],[10]])*[3,4,5]+[2,3,4]"
   ]
  },
  {
   "cell_type": "code",
   "execution_count": 138,
   "id": "80857503",
   "metadata": {
    "scrolled": true
   },
   "outputs": [
    {
     "data": {
      "text/plain": [
       "(array([[ 8,  9, 10],\n",
       "        [13, 14, 15]]),\n",
       " numpy.ndarray)"
      ]
     },
     "execution_count": 138,
     "metadata": {},
     "output_type": "execute_result"
    }
   ],
   "source": [
    "\n",
    "\n",
    "np.array([[5],[10]])+[3,4,5], type(np.array([[5],[10]])+[3,4,5])"
   ]
  },
  {
   "cell_type": "code",
   "execution_count": 139,
   "id": "ac10af9a",
   "metadata": {
    "scrolled": true
   },
   "outputs": [
    {
     "data": {
      "text/plain": [
       "array([[ 8,  9, 10,  8,  9, 10,  8,  9, 10,  8,  9, 10,  8,  9, 10,  8,\n",
       "         9, 10,  8,  9, 10,  8,  9, 10,  8,  9, 10,  8,  9, 10],\n",
       "       [13, 14, 15, 13, 14, 15, 13, 14, 15, 13, 14, 15, 13, 14, 15, 13,\n",
       "        14, 15, 13, 14, 15, 13, 14, 15, 13, 14, 15, 13, 14, 15]])"
      ]
     },
     "execution_count": 139,
     "metadata": {},
     "output_type": "execute_result"
    }
   ],
   "source": [
    "# multiplying a list with single integer value and adding it with the array\n",
    "\n",
    "np.array([[5],[10]])+[3,4,5]*10"
   ]
  },
  {
   "cell_type": "code",
   "execution_count": 141,
   "id": "c8184fd5",
   "metadata": {
    "scrolled": true
   },
   "outputs": [
    {
     "data": {
      "text/plain": [
       "array([[25, 30, 35],\n",
       "       [40, 50, 60]])"
      ]
     },
     "execution_count": 141,
     "metadata": {},
     "output_type": "execute_result"
    }
   ],
   "source": [
    "# multiplying a list with single integer value and adding it with the array\n",
    "\n",
    "np.array([[5],[10]])*[3,4,5]+10"
   ]
  },
  {
   "cell_type": "code",
   "execution_count": 142,
   "id": "3c2fe9a9",
   "metadata": {
    "scrolled": true
   },
   "outputs": [
    {
     "data": {
      "text/plain": [
       "array([[[ 8,  9, 10],\n",
       "        [13, 14, 15]]])"
      ]
     },
     "execution_count": 142,
     "metadata": {},
     "output_type": "execute_result"
    }
   ],
   "source": [
    "# multiplying a list with single integer value and adding it with the array\n",
    "\n",
    "np.array([[[5],[10]]])+[3,4,5]"
   ]
  },
  {
   "cell_type": "code",
   "execution_count": 143,
   "id": "02a8ca85",
   "metadata": {
    "scrolled": true
   },
   "outputs": [
    {
     "data": {
      "text/plain": [
       "array([[[ 8,  9, 10,  8,  9, 10,  8,  9, 10],\n",
       "        [13, 14, 15, 13, 14, 15, 13, 14, 15]]])"
      ]
     },
     "execution_count": 143,
     "metadata": {},
     "output_type": "execute_result"
    }
   ],
   "source": [
    "# multiplying a list with single integer value and adding it with the array\n",
    "\n",
    "np.array([[[5],[10]]])+[3,4,5]*3"
   ]
  },
  {
   "cell_type": "code",
   "execution_count": 144,
   "id": "c44a067e",
   "metadata": {},
   "outputs": [
    {
     "name": "stdout",
     "output_type": "stream",
     "text": [
      "8\n",
      "int32\n",
      "[[  4  71 781  14]] <class 'numpy.ndarray'>\n"
     ]
    }
   ],
   "source": [
    "# Create a numpy array of length 2\n",
    "# both the index elements should be of same length and all the elements should be integers only\n",
    "# add both the index elements with each other\n",
    "ba = np.array([[[2,66,778,5]], [[2,5,3,9]]])\n",
    "\n",
    "print(np.size(ba))\n",
    "print(ba.dtype)\n",
    "print(ba[0]+ba[1],type(ba[0]+ba[1]))"
   ]
  },
  {
   "cell_type": "markdown",
   "id": "8a2307e6",
   "metadata": {},
   "source": [
    "**When all the elements of the array are of same size and all values of elements are of type integer only then the dtype will be 'int32'**\n",
    ">> As dtype will be integer, it will do elementwise addition"
   ]
  },
  {
   "cell_type": "code",
   "execution_count": 149,
   "id": "9bd3cdea",
   "metadata": {},
   "outputs": [
    {
     "name": "stdout",
     "output_type": "stream",
     "text": [
      "[[list([2, 66, 778, 2])]\n",
      " [list([2, 5, 66, 9, 32])]]\n",
      "2\n",
      "object\n",
      "[list([2, 66, 778, 2])] [list([2, 5, 66, 9, 32])]\n",
      "[list([2, 66, 778, 2, 2, 5, 66, 9, 32])] <class 'numpy.ndarray'>\n",
      "<class 'numpy.ndarray'>\n"
     ]
    },
    {
     "name": "stderr",
     "output_type": "stream",
     "text": [
      "C:\\Users\\Atharv Soni\\AppData\\Local\\Temp\\ipykernel_9908\\3761838359.py:5: VisibleDeprecationWarning: Creating an ndarray from ragged nested sequences (which is a list-or-tuple of lists-or-tuples-or ndarrays with different lengths or shapes) is deprecated. If you meant to do this, you must specify 'dtype=object' when creating the ndarray.\n",
      "  aa = np.array([[[2,66,778,2]], [[2,5,66,9,32]]])\n"
     ]
    }
   ],
   "source": [
    "# Create a numpy array of length 2\n",
    "# both the index elements should be of different length\n",
    "# add both the index elements with each other\n",
    "\n",
    "aa = np.array([[[2,66,778,2]], [[2,5,66,9,32]]])\n",
    "\n",
    "print(aa)\n",
    "print(np.size(aa))\n",
    "print(aa.dtype)\n",
    "print(aa[0], aa[1])\n",
    "print(aa[0]+aa[1],type(aa[0]+aa[1]))\n",
    "print(type(aa[0]))"
   ]
  },
  {
   "cell_type": "markdown",
   "id": "dec035e9",
   "metadata": {},
   "source": [
    "**When all the elements of the array are of different size then the dtype will be 'object'**\n",
    ">> As dtype will be object, it will do concatination"
   ]
  },
  {
   "cell_type": "code",
   "execution_count": 150,
   "id": "686b6dac",
   "metadata": {},
   "outputs": [
    {
     "data": {
      "text/plain": [
       "array([[list([2, 66, 778, 2, 2, 66, 778, 2])],\n",
       "       [list([2, 5, 66, 9, 32, 2, 5, 66, 9, 32])]], dtype=object)"
      ]
     },
     "execution_count": 150,
     "metadata": {},
     "output_type": "execute_result"
    }
   ],
   "source": [
    "aa*2"
   ]
  },
  {
   "cell_type": "code",
   "execution_count": 151,
   "id": "4953ad93",
   "metadata": {},
   "outputs": [
    {
     "name": "stdout",
     "output_type": "stream",
     "text": [
      "8\n",
      "<U11\n"
     ]
    },
    {
     "ename": "UFuncTypeError",
     "evalue": "ufunc 'add' did not contain a loop with signature matching types (dtype('<U11'), dtype('<U11')) -> None",
     "output_type": "error",
     "traceback": [
      "\u001b[1;31m---------------------------------------------------------------------------\u001b[0m",
      "\u001b[1;31mUFuncTypeError\u001b[0m                            Traceback (most recent call last)",
      "Cell \u001b[1;32mIn[151], line 9\u001b[0m\n\u001b[0;32m      7\u001b[0m \u001b[38;5;28mprint\u001b[39m(np\u001b[38;5;241m.\u001b[39msize(ba))\n\u001b[0;32m      8\u001b[0m \u001b[38;5;28mprint\u001b[39m(ba\u001b[38;5;241m.\u001b[39mdtype)\n\u001b[1;32m----> 9\u001b[0m \u001b[38;5;28mprint\u001b[39m(\u001b[43mba\u001b[49m\u001b[43m[\u001b[49m\u001b[38;5;241;43m0\u001b[39;49m\u001b[43m]\u001b[49m\u001b[38;5;241;43m+\u001b[39;49m\u001b[43mba\u001b[49m\u001b[43m[\u001b[49m\u001b[38;5;241;43m1\u001b[39;49m\u001b[43m]\u001b[49m,\u001b[38;5;28mtype\u001b[39m(ba[\u001b[38;5;241m0\u001b[39m]\u001b[38;5;241m+\u001b[39mba[\u001b[38;5;241m1\u001b[39m]))\n",
      "\u001b[1;31mUFuncTypeError\u001b[0m: ufunc 'add' did not contain a loop with signature matching types (dtype('<U11'), dtype('<U11')) -> None"
     ]
    }
   ],
   "source": [
    "# Create a numpy array of length 2\n",
    "# each element should includes at-least one string value\n",
    "# both the index elements should be of same length \n",
    "# add both the index elements with each other\n",
    "ba = np.array([[[2,66,778,'palak']], [[2,5,3,'yogeshwar']]])\n",
    "\n",
    "print(np.size(ba))\n",
    "print(ba.dtype)\n",
    "print(ba[0]+ba[1],type(ba[0]+ba[1]))"
   ]
  },
  {
   "cell_type": "markdown",
   "id": "9ec8f44b",
   "metadata": {},
   "source": [
    "**When the array elements are of same length and contain the string then the dtype will be 'unicode'**\n",
    ">> ***In that case, addition with through the error***"
   ]
  },
  {
   "cell_type": "markdown",
   "id": "182f173d",
   "metadata": {},
   "source": [
    ">`If the elements length is different in the array then the dtype will be` **`object`**"
   ]
  },
  {
   "cell_type": "code",
   "execution_count": 155,
   "id": "b5e9bda8",
   "metadata": {},
   "outputs": [
    {
     "name": "stdout",
     "output_type": "stream",
     "text": [
      "8\n",
      "object\n",
      "[[4 71 781 'palakatharv']] <class 'numpy.ndarray'>\n"
     ]
    }
   ],
   "source": [
    "# Create a numpy array of length 2\n",
    "# each element should includes at-least one string value at same index position\n",
    "# both the index elements should be of same length \n",
    "# add both the index elements with each other\n",
    "# make dtype as Object\n",
    "\n",
    "ba = np.array([[[2,66,778,'palak']], [[2,5,3,'atharv']]], dtype=\"O\")\n",
    "\n",
    "print(np.size(ba))\n",
    "print(ba.dtype)\n",
    "print(ba[0]+ba[1],type(ba[0]+ba[1]))"
   ]
  },
  {
   "cell_type": "markdown",
   "id": "a27c2d4a",
   "metadata": {},
   "source": [
    "**When dtype is object and the length of each element is same:**\n",
    ">> **1. It adds same index values if both are integers or floats**<br>\n",
    ">> **2. It concats same index values if both are strings**<br>\n",
    ">> **3. If one is string and other is numeric, it will through the error**"
   ]
  },
  {
   "cell_type": "code",
   "execution_count": 156,
   "id": "42abf4d6",
   "metadata": {},
   "outputs": [
    {
     "name": "stdout",
     "output_type": "stream",
     "text": [
      "2\n",
      "object\n",
      "[list([2, 66, 778, 'pallu', 2, 5, 66, 3, 9])] <class 'numpy.ndarray'>\n"
     ]
    }
   ],
   "source": [
    "# Create a numpy array of length 2\n",
    "# both the index elements should be of different length \n",
    "# make dtype as Object\n",
    "\n",
    "b = np.array([[[2,66,778,'pallu']], [[2,5,66,3,9]]],dtype='O')\n",
    "\n",
    "print(np.size(b))\n",
    "print(b.dtype)\n",
    "print(b[0]+b[1],type(b[0]+b[1]))"
   ]
  },
  {
   "cell_type": "markdown",
   "id": "aec09422",
   "metadata": {},
   "source": [
    "**When dtype is object and the length of the elements are not same:**\n",
    ">> **1. It concats both the elements**"
   ]
  },
  {
   "cell_type": "code",
   "execution_count": 157,
   "id": "0809e66f",
   "metadata": {},
   "outputs": [
    {
     "name": "stdout",
     "output_type": "stream",
     "text": [
      "8\n",
      "object\n",
      "[[4 71 844 14]] <class 'numpy.ndarray'>\n"
     ]
    }
   ],
   "source": [
    "# Create a numpy array of length 2\n",
    "# both the index elements should be of same length \n",
    "# add both the index elements with each other\n",
    "# make dtype as Object\n",
    "\n",
    "s = np.array([[[2,66,778,5]], [[2,5,66,9]]],dtype='O')\n",
    "\n",
    "print(np.size(s))\n",
    "print(s.dtype)\n",
    "print(s[0]+s[1],type(s[0]+s[1]))"
   ]
  },
  {
   "cell_type": "markdown",
   "id": "d9657dea",
   "metadata": {},
   "source": [
    "**When dtype is object and the length of the elements are same:**\n",
    ">> **It add the values at the same index**"
   ]
  },
  {
   "cell_type": "code",
   "execution_count": 158,
   "id": "f29d5bc2",
   "metadata": {},
   "outputs": [
    {
     "name": "stdout",
     "output_type": "stream",
     "text": [
      "[[list([2, 66, 778, 'pallu'])]\n",
      " [list([2, 5, 66, 3, 9])]]\n",
      "[list([2, 66, 778, 'pallu'])] [list([2, 5, 66, 3, 9])] [2, 5, 66, 3, 9] 66\n",
      "<class 'int'>\n"
     ]
    }
   ],
   "source": [
    "# Slicing of two dimentional array length of 2\n",
    "# Checking the type of the value of the element in the array\n",
    "\n",
    "print(b)\n",
    "print(b[0], b[-1], b[1][0], b[1][0][2])\n",
    "print(type(b[1][0][2]))"
   ]
  },
  {
   "cell_type": "code",
   "execution_count": 159,
   "id": "0c4b114d",
   "metadata": {},
   "outputs": [
    {
     "name": "stdout",
     "output_type": "stream",
     "text": [
      "[list([2, 66, 778, 'pallu', 2, 5, 66, 3, 9])]\n",
      "[2, 66, 778, 'pallu', 2, 5, 66, 3, 9]\n"
     ]
    }
   ],
   "source": [
    "# Adding array elements\n",
    "\n",
    "l = b[0] + b[1]\n",
    "print(l)\n",
    "print(l[0])"
   ]
  },
  {
   "cell_type": "code",
   "execution_count": 160,
   "id": "ec0cea7e",
   "metadata": {},
   "outputs": [
    {
     "data": {
      "text/plain": [
       "(array([[66]], dtype=object), 66, array([66], dtype=object))"
      ]
     },
     "execution_count": 160,
     "metadata": {},
     "output_type": "execute_result"
    }
   ],
   "source": [
    "# Slicing of two dimentional array length of 2\n",
    "\n",
    "m = np.array([list([b[1][0][2]])], dtype = 'O')\n",
    "m, m[0][0], m[0]"
   ]
  },
  {
   "cell_type": "code",
   "execution_count": 161,
   "id": "4919ad2f",
   "metadata": {
    "scrolled": true
   },
   "outputs": [
    {
     "data": {
      "text/plain": [
       "array([[ 8, 10,  5,  4]])"
      ]
     },
     "execution_count": 161,
     "metadata": {},
     "output_type": "execute_result"
    }
   ],
   "source": [
    "# Adding a list with an array\n",
    "\n",
    "[2,2,2,2]+second"
   ]
  },
  {
   "cell_type": "code",
   "execution_count": 162,
   "id": "9ee761e0",
   "metadata": {},
   "outputs": [
    {
     "data": {
      "text/plain": [
       "array([[ 8, 10,  5,  4]])"
      ]
     },
     "execution_count": 162,
     "metadata": {},
     "output_type": "execute_result"
    }
   ],
   "source": [
    "# Adding a list with length one with an array\n",
    "\n",
    "[2] + second"
   ]
  },
  {
   "cell_type": "code",
   "execution_count": 163,
   "id": "2489e308",
   "metadata": {},
   "outputs": [
    {
     "ename": "TypeError",
     "evalue": "unsupported operand type(s) for +: 'set' and 'int'",
     "output_type": "error",
     "traceback": [
      "\u001b[1;31m---------------------------------------------------------------------------\u001b[0m",
      "\u001b[1;31mTypeError\u001b[0m                                 Traceback (most recent call last)",
      "Cell \u001b[1;32mIn[163], line 3\u001b[0m\n\u001b[0;32m      1\u001b[0m \u001b[38;5;66;03m# As set is an unordered data structure, it will not work and will throw the error while doing operations with it\u001b[39;00m\n\u001b[1;32m----> 3\u001b[0m \u001b[43m{\u001b[49m\u001b[38;5;241;43m2\u001b[39;49m\u001b[43m,\u001b[49m\u001b[38;5;241;43m4\u001b[39;49m\u001b[43m,\u001b[49m\u001b[38;5;241;43m3\u001b[39;49m\u001b[43m,\u001b[49m\u001b[38;5;241;43m6\u001b[39;49m\u001b[43m}\u001b[49m\u001b[43m \u001b[49m\u001b[38;5;241;43m+\u001b[39;49m\u001b[43m \u001b[49m\u001b[43msecond\u001b[49m\n",
      "\u001b[1;31mTypeError\u001b[0m: unsupported operand type(s) for +: 'set' and 'int'"
     ]
    }
   ],
   "source": [
    "# As set is an unordered data structure, it will not work and will throw the error while doing operations with it\n",
    "\n",
    "{2,4,3,6} + second"
   ]
  },
  {
   "cell_type": "code",
   "execution_count": 164,
   "id": "08607b51",
   "metadata": {},
   "outputs": [
    {
     "ename": "TypeError",
     "evalue": "unsupported operand type(s) for +: 'dict' and 'int'",
     "output_type": "error",
     "traceback": [
      "\u001b[1;31m---------------------------------------------------------------------------\u001b[0m",
      "\u001b[1;31mTypeError\u001b[0m                                 Traceback (most recent call last)",
      "Cell \u001b[1;32mIn[164], line 3\u001b[0m\n\u001b[0;32m      1\u001b[0m \u001b[38;5;66;03m# As dictt is an key value pair, it will not work and will throw the error while doing operations with it\u001b[39;00m\n\u001b[1;32m----> 3\u001b[0m \u001b[43m{\u001b[49m\u001b[38;5;241;43m2\u001b[39;49m\u001b[43m:\u001b[49m\u001b[38;5;241;43m2\u001b[39;49m\u001b[43m,\u001b[49m\u001b[38;5;241;43m4\u001b[39;49m\u001b[43m:\u001b[49m\u001b[38;5;241;43m4\u001b[39;49m\u001b[43m,\u001b[49m\u001b[38;5;241;43m3\u001b[39;49m\u001b[43m:\u001b[49m\u001b[38;5;241;43m3\u001b[39;49m\u001b[43m,\u001b[49m\u001b[38;5;241;43m6\u001b[39;49m\u001b[43m:\u001b[49m\u001b[38;5;241;43m1\u001b[39;49m\u001b[43m}\u001b[49m\u001b[43m \u001b[49m\u001b[38;5;241;43m+\u001b[39;49m\u001b[43m \u001b[49m\u001b[43msecond\u001b[49m\n",
      "\u001b[1;31mTypeError\u001b[0m: unsupported operand type(s) for +: 'dict' and 'int'"
     ]
    }
   ],
   "source": [
    "# As dictt is an key value pair, it will not work and will throw the error while doing operations with it\n",
    "\n",
    "{2:2,4:4,3:3,6:1} + second"
   ]
  },
  {
   "cell_type": "code",
   "execution_count": 165,
   "id": "040a60d5",
   "metadata": {},
   "outputs": [
    {
     "data": {
      "text/plain": [
       "array([[ 8, 12,  6,  8]])"
      ]
     },
     "execution_count": 165,
     "metadata": {},
     "output_type": "execute_result"
    }
   ],
   "source": [
    "# Adding a tuple with an array\n",
    "\n",
    "(2,4,3,6) + second"
   ]
  },
  {
   "cell_type": "code",
   "execution_count": 166,
   "id": "bb5b7334",
   "metadata": {},
   "outputs": [
    {
     "name": "stderr",
     "output_type": "stream",
     "text": [
      "C:\\Users\\Atharv Soni\\AppData\\Local\\Temp\\ipykernel_9908\\24865279.py:1: VisibleDeprecationWarning: Creating an ndarray from ragged nested sequences (which is a list-or-tuple of lists-or-tuples-or ndarrays with different lengths or shapes) is deprecated. If you meant to do this, you must specify 'dtype=object' when creating the ndarray.\n",
      "  a = np.array([[1, 2, 3,[5, 6]]])\n"
     ]
    },
    {
     "data": {
      "text/plain": [
       "array([[2, 4, 6, list([5, 6, 5, 6])]], dtype=object)"
      ]
     },
     "execution_count": 166,
     "metadata": {},
     "output_type": "execute_result"
    }
   ],
   "source": [
    "a = np.array([[1, 2, 3,[5, 6]]])\n",
    "a+a"
   ]
  },
  {
   "cell_type": "code",
   "execution_count": 167,
   "id": "59d69da1",
   "metadata": {},
   "outputs": [
    {
     "name": "stderr",
     "output_type": "stream",
     "text": [
      "C:\\Users\\Atharv Soni\\AppData\\Local\\Temp\\ipykernel_9908\\757247373.py:1: VisibleDeprecationWarning: Creating an ndarray from ragged nested sequences (which is a list-or-tuple of lists-or-tuples-or ndarrays with different lengths or shapes) is deprecated. If you meant to do this, you must specify 'dtype=object' when creating the ndarray.\n",
      "  s = np.array([[1, 2, 3,[5, 6]],[1, 2, 3,[5, 6]]])\n"
     ]
    },
    {
     "data": {
      "text/plain": [
       "array([[2, 4, 6, list([5, 6, 5, 6])],\n",
       "       [2, 4, 6, list([5, 6, 5, 6])]], dtype=object)"
      ]
     },
     "execution_count": 167,
     "metadata": {},
     "output_type": "execute_result"
    }
   ],
   "source": [
    "s = np.array([[1, 2, 3,[5, 6]],[1, 2, 3,[5, 6]]])\n",
    "s+s"
   ]
  },
  {
   "cell_type": "code",
   "execution_count": 168,
   "id": "c331ad43",
   "metadata": {},
   "outputs": [
    {
     "name": "stderr",
     "output_type": "stream",
     "text": [
      "C:\\Users\\Atharv Soni\\AppData\\Local\\Temp\\ipykernel_9908\\4201446726.py:1: VisibleDeprecationWarning: Creating an ndarray from ragged nested sequences (which is a list-or-tuple of lists-or-tuples-or ndarrays with different lengths or shapes) is deprecated. If you meant to do this, you must specify 'dtype=object' when creating the ndarray.\n",
      "  s = np.array([[1, 2, 3,[5, 6]],[[1, 2, 3,[5, 6]]]])\n"
     ]
    },
    {
     "data": {
      "text/plain": [
       "array([list([1, 2, 3, [5, 6], 1, 2, 3, [5, 6]]),\n",
       "       list([[1, 2, 3, [5, 6]], [1, 2, 3, [5, 6]]])], dtype=object)"
      ]
     },
     "execution_count": 168,
     "metadata": {},
     "output_type": "execute_result"
    }
   ],
   "source": [
    "s = np.array([[1, 2, 3,[5, 6]],[[1, 2, 3,[5, 6]]]])\n",
    "s+s"
   ]
  },
  {
   "cell_type": "code",
   "execution_count": 169,
   "id": "015f29a2",
   "metadata": {},
   "outputs": [
    {
     "name": "stderr",
     "output_type": "stream",
     "text": [
      "C:\\Users\\Atharv Soni\\AppData\\Local\\Temp\\ipykernel_9908\\2533852855.py:1: VisibleDeprecationWarning: Creating an ndarray from ragged nested sequences (which is a list-or-tuple of lists-or-tuples-or ndarrays with different lengths or shapes) is deprecated. If you meant to do this, you must specify 'dtype=object' when creating the ndarray.\n",
      "  s = np.array([1, 2, 3,[5, 6]])\n"
     ]
    },
    {
     "data": {
      "text/plain": [
       "array([2, 4, 6, list([5, 6, 5, 6])], dtype=object)"
      ]
     },
     "execution_count": 169,
     "metadata": {},
     "output_type": "execute_result"
    }
   ],
   "source": [
    "s = np.array([1, 2, 3,[5, 6]])\n",
    "s+s"
   ]
  },
  {
   "cell_type": "markdown",
   "id": "83c4f8b2",
   "metadata": {},
   "source": [
    "### Multiplication/ Division : \n",
    "> **To multiply two or more numpy arrays, their length should be same** <br>\n",
    "> **The exception to the above is you can multiply an array with the single length array or a integer value**\n",
    "\n",
    "`Each value of the array will be multiplied with the same index value of the other array and the length of output will be same as the length of array`<br>\n",
    "`If integer or the single length array then the each value of array will be multiplied by that integer or the single length array value `"
   ]
  },
  {
   "cell_type": "code",
   "execution_count": 174,
   "id": "d26d5d35",
   "metadata": {},
   "outputs": [
    {
     "data": {
      "text/plain": [
       "array([1, 2, 3, 4])"
      ]
     },
     "execution_count": 174,
     "metadata": {},
     "output_type": "execute_result"
    }
   ],
   "source": [
    "first"
   ]
  },
  {
   "cell_type": "code",
   "execution_count": 175,
   "id": "e76066ac",
   "metadata": {},
   "outputs": [
    {
     "data": {
      "text/plain": [
       "array([ 5, 10, 15, 20])"
      ]
     },
     "execution_count": 175,
     "metadata": {},
     "output_type": "execute_result"
    }
   ],
   "source": [
    "# 1D array multiplied by a single integer value\n",
    "\n",
    "first*5"
   ]
  },
  {
   "cell_type": "code",
   "execution_count": 176,
   "id": "7f4c4587",
   "metadata": {},
   "outputs": [
    {
     "data": {
      "text/plain": [
       "array([ 5, 10, 15, 20])"
      ]
     },
     "execution_count": 176,
     "metadata": {},
     "output_type": "execute_result"
    }
   ],
   "source": [
    "# 1D array multiplied with 1D array of size 1\n",
    "\n",
    "first*np.array(5)"
   ]
  },
  {
   "cell_type": "code",
   "execution_count": 177,
   "id": "1b4859aa",
   "metadata": {},
   "outputs": [
    {
     "ename": "TypeError",
     "evalue": "Cannot interpret '6' as a data type",
     "output_type": "error",
     "traceback": [
      "\u001b[1;31m---------------------------------------------------------------------------\u001b[0m",
      "\u001b[1;31mTypeError\u001b[0m                                 Traceback (most recent call last)",
      "Cell \u001b[1;32mIn[177], line 3\u001b[0m\n\u001b[0;32m      1\u001b[0m \u001b[38;5;66;03m# 1D array multiplied with 1D array of size 2, it will throw error because both array size are not same\u001b[39;00m\n\u001b[1;32m----> 3\u001b[0m first\u001b[38;5;241m*\u001b[39m\u001b[43mnp\u001b[49m\u001b[38;5;241;43m.\u001b[39;49m\u001b[43marray\u001b[49m\u001b[43m(\u001b[49m\u001b[38;5;241;43m5\u001b[39;49m\u001b[43m,\u001b[49m\u001b[38;5;241;43m6\u001b[39;49m\u001b[43m)\u001b[49m\n",
      "\u001b[1;31mTypeError\u001b[0m: Cannot interpret '6' as a data type"
     ]
    }
   ],
   "source": [
    "# 1D array multiplied with 1D array of size 2, it will throw error because both array size are not same\n",
    "\n",
    "first*np.array(5,6)"
   ]
  },
  {
   "cell_type": "code",
   "execution_count": 178,
   "id": "909e463f",
   "metadata": {},
   "outputs": [
    {
     "ename": "TypeError",
     "evalue": "Cannot interpret '6' as a data type",
     "output_type": "error",
     "traceback": [
      "\u001b[1;31m---------------------------------------------------------------------------\u001b[0m",
      "\u001b[1;31mTypeError\u001b[0m                                 Traceback (most recent call last)",
      "Cell \u001b[1;32mIn[178], line 1\u001b[0m\n\u001b[1;32m----> 1\u001b[0m \u001b[43mnp\u001b[49m\u001b[38;5;241;43m.\u001b[39;49m\u001b[43marray\u001b[49m\u001b[43m(\u001b[49m\u001b[38;5;241;43m5\u001b[39;49m\u001b[43m,\u001b[49m\u001b[38;5;241;43m6\u001b[39;49m\u001b[43m)\u001b[49m\n",
      "\u001b[1;31mTypeError\u001b[0m: Cannot interpret '6' as a data type"
     ]
    }
   ],
   "source": [
    "np.array(5,6)"
   ]
  },
  {
   "cell_type": "code",
   "execution_count": 222,
   "id": "fa4c5933",
   "metadata": {},
   "outputs": [
    {
     "data": {
      "text/plain": [
       "array([ 5, 10, 15, 20])"
      ]
     },
     "execution_count": 222,
     "metadata": {},
     "output_type": "execute_result"
    }
   ],
   "source": [
    "# 1D array multiplied with 1D array of size 1\n",
    "\n",
    "first*np.array([5])"
   ]
  },
  {
   "cell_type": "code",
   "execution_count": 223,
   "id": "813af976",
   "metadata": {},
   "outputs": [
    {
     "ename": "ValueError",
     "evalue": "operands could not be broadcast together with shapes (4,) (2,) ",
     "output_type": "error",
     "traceback": [
      "\u001b[1;31m---------------------------------------------------------------------------\u001b[0m",
      "\u001b[1;31mValueError\u001b[0m                                Traceback (most recent call last)",
      "Cell \u001b[1;32mIn[223], line 3\u001b[0m\n\u001b[0;32m      1\u001b[0m \u001b[38;5;66;03m# 1D array multiplied with 1D array of size 2, it will throw error because both array size are not same\u001b[39;00m\n\u001b[1;32m----> 3\u001b[0m \u001b[43mfirst\u001b[49m\u001b[38;5;241;43m*\u001b[39;49m\u001b[43mnp\u001b[49m\u001b[38;5;241;43m.\u001b[39;49m\u001b[43marray\u001b[49m\u001b[43m(\u001b[49m\u001b[43m[\u001b[49m\u001b[38;5;241;43m5\u001b[39;49m\u001b[43m,\u001b[49m\u001b[38;5;241;43m10\u001b[39;49m\u001b[43m]\u001b[49m\u001b[43m)\u001b[49m\n",
      "\u001b[1;31mValueError\u001b[0m: operands could not be broadcast together with shapes (4,) (2,) "
     ]
    }
   ],
   "source": [
    "# 1D array multiplied with 1D array of size 2, it will throw error because both array size are not same\n",
    "\n",
    "first*np.array([5,10])"
   ]
  },
  {
   "cell_type": "code",
   "execution_count": 224,
   "id": "756e2981",
   "metadata": {},
   "outputs": [
    {
     "name": "stdout",
     "output_type": "stream",
     "text": [
      "[2 4 6 8] [2 4 6 8]\n"
     ]
    }
   ],
   "source": [
    "# multiplying 1D array with a list of same size\n",
    "\n",
    "print(first*[2,2,2,2], first*[2])"
   ]
  },
  {
   "cell_type": "code",
   "execution_count": 225,
   "id": "22fe32ac",
   "metadata": {},
   "outputs": [
    {
     "name": "stdout",
     "output_type": "stream",
     "text": [
      "[2 4 6 8]\n"
     ]
    }
   ],
   "source": [
    "# multiplying 1D array with a tuple of same size\n",
    "\n",
    "print(first*(2,2,2,2))"
   ]
  },
  {
   "cell_type": "code",
   "execution_count": 226,
   "id": "af0a37ac",
   "metadata": {},
   "outputs": [
    {
     "name": "stdout",
     "output_type": "stream",
     "text": [
      "[2 4 6 8]\n"
     ]
    }
   ],
   "source": [
    "# multiplying 1D array with a tuple of size 1\n",
    "\n",
    "print(first*[2,])"
   ]
  },
  {
   "cell_type": "code",
   "execution_count": 227,
   "id": "6359cc35",
   "metadata": {},
   "outputs": [
    {
     "data": {
      "text/plain": [
       "array([[6, 8, 3, 2]])"
      ]
     },
     "execution_count": 227,
     "metadata": {},
     "output_type": "execute_result"
    }
   ],
   "source": [
    "second"
   ]
  },
  {
   "cell_type": "code",
   "execution_count": 228,
   "id": "b57faec3",
   "metadata": {},
   "outputs": [
    {
     "data": {
      "text/plain": [
       "array([[12, 16,  6,  4]])"
      ]
     },
     "execution_count": 228,
     "metadata": {},
     "output_type": "execute_result"
    }
   ],
   "source": [
    "# Multipling a list with array\n",
    "\n",
    "[2,2,2,2]*second"
   ]
  },
  {
   "cell_type": "code",
   "execution_count": 229,
   "id": "769f25b9",
   "metadata": {},
   "outputs": [
    {
     "data": {
      "text/plain": [
       "array([[ 6, 16,  9,  8]])"
      ]
     },
     "execution_count": 229,
     "metadata": {},
     "output_type": "execute_result"
    }
   ],
   "source": [
    "# Multiplying 2 array of 2D same size\n",
    "\n",
    "first*second"
   ]
  },
  {
   "cell_type": "code",
   "execution_count": 230,
   "id": "198ba5c4",
   "metadata": {},
   "outputs": [
    {
     "data": {
      "text/plain": [
       "array([[0.16666667, 0.25      , 1.        , 2.        ]])"
      ]
     },
     "execution_count": 230,
     "metadata": {},
     "output_type": "execute_result"
    }
   ],
   "source": [
    "# Divide 2 array of 2D same size\n",
    "\n",
    "first/second"
   ]
  },
  {
   "cell_type": "code",
   "execution_count": 231,
   "id": "a5df59d5",
   "metadata": {},
   "outputs": [
    {
     "name": "stdout",
     "output_type": "stream",
     "text": [
      "[1 2 3 4]\n",
      "[[6 8 3 2]\n",
      " [5 8 3 2]]\n"
     ]
    },
    {
     "data": {
      "text/plain": [
       "array([[0.16666667, 0.25      , 1.        , 2.        ],\n",
       "       [0.2       , 0.25      , 1.        , 2.        ]])"
      ]
     },
     "execution_count": 231,
     "metadata": {},
     "output_type": "execute_result"
    }
   ],
   "source": [
    "# Divide 2 array of 2D same size\n",
    "\n",
    "print(first1)\n",
    "print(second2)\n",
    "first1/second2"
   ]
  },
  {
   "cell_type": "code",
   "execution_count": 232,
   "id": "0c6655ff",
   "metadata": {},
   "outputs": [
    {
     "name": "stdout",
     "output_type": "stream",
     "text": [
      "['1' '5' '6' '9' 'palak'] <U11\n",
      "[6 8 3 2 2] int32\n"
     ]
    },
    {
     "ename": "TypeError",
     "evalue": "ufunc 'divide' not supported for the input types, and the inputs could not be safely coerced to any supported types according to the casting rule ''safe''",
     "output_type": "error",
     "traceback": [
      "\u001b[1;31m---------------------------------------------------------------------------\u001b[0m",
      "\u001b[1;31mTypeError\u001b[0m                                 Traceback (most recent call last)",
      "Cell \u001b[1;32mIn[232], line 7\u001b[0m\n\u001b[0;32m      5\u001b[0m \u001b[38;5;28mprint\u001b[39m(first121,first121\u001b[38;5;241m.\u001b[39mdtype)\n\u001b[0;32m      6\u001b[0m \u001b[38;5;28mprint\u001b[39m(second22,second22\u001b[38;5;241m.\u001b[39mdtype)\n\u001b[1;32m----> 7\u001b[0m \u001b[43mfirst121\u001b[49m\u001b[38;5;241;43m/\u001b[39;49m\u001b[43msecond22\u001b[49m\n",
      "\u001b[1;31mTypeError\u001b[0m: ufunc 'divide' not supported for the input types, and the inputs could not be safely coerced to any supported types according to the casting rule ''safe''"
     ]
    }
   ],
   "source": [
    "# Dividing array of dtype Unicode and int32, it will throw the error because a dtype is unicode also  it contains a string\n",
    "# Any of these 2 reasons are sufficient to throw the error\n",
    "\n",
    "first121 = np.array([1, 5, 6, 9, 'palak'])\n",
    "print(first121,first121.dtype)\n",
    "print(second22,second22.dtype)\n",
    "first121/second22"
   ]
  },
  {
   "cell_type": "code",
   "execution_count": 233,
   "id": "1b17d551",
   "metadata": {},
   "outputs": [
    {
     "name": "stdout",
     "output_type": "stream",
     "text": [
      "['1' '5' '6' '9'] <U11\n",
      "[6 8 3 2 2] int32\n"
     ]
    },
    {
     "ename": "TypeError",
     "evalue": "ufunc 'divide' not supported for the input types, and the inputs could not be safely coerced to any supported types according to the casting rule ''safe''",
     "output_type": "error",
     "traceback": [
      "\u001b[1;31m---------------------------------------------------------------------------\u001b[0m",
      "\u001b[1;31mTypeError\u001b[0m                                 Traceback (most recent call last)",
      "Cell \u001b[1;32mIn[233], line 7\u001b[0m\n\u001b[0;32m      5\u001b[0m \u001b[38;5;28mprint\u001b[39m(first121,first121\u001b[38;5;241m.\u001b[39mdtype)\n\u001b[0;32m      6\u001b[0m \u001b[38;5;28mprint\u001b[39m(second22,second22\u001b[38;5;241m.\u001b[39mdtype)\n\u001b[1;32m----> 7\u001b[0m \u001b[43mfirst121\u001b[49m\u001b[38;5;241;43m/\u001b[39;49m\u001b[43msecond22\u001b[49m\n",
      "\u001b[1;31mTypeError\u001b[0m: ufunc 'divide' not supported for the input types, and the inputs could not be safely coerced to any supported types according to the casting rule ''safe''"
     ]
    }
   ],
   "source": [
    "# Dividing array of dtype Unicode and int32, it will throw the error because a dtype is unicode also  it contains a string\n",
    "# Any of these 2 reasons are sufficient to throw the error\n",
    "\n",
    "first121 = np.array([1, 5, 6, 9],dtype='U11')\n",
    "print(first121,first121.dtype)\n",
    "print(second22,second22.dtype)\n",
    "first121/second22"
   ]
  },
  {
   "cell_type": "code",
   "execution_count": 234,
   "id": "2dd9c000",
   "metadata": {},
   "outputs": [
    {
     "ename": "TypeError",
     "evalue": "ufunc 'divide' not supported for the input types, and the inputs could not be safely coerced to any supported types according to the casting rule ''safe''",
     "output_type": "error",
     "traceback": [
      "\u001b[1;31m---------------------------------------------------------------------------\u001b[0m",
      "\u001b[1;31mTypeError\u001b[0m                                 Traceback (most recent call last)",
      "Cell \u001b[1;32mIn[234], line 1\u001b[0m\n\u001b[1;32m----> 1\u001b[0m \u001b[43mfirst121\u001b[49m\u001b[38;5;241;43m/\u001b[39;49m\u001b[43mfirst121\u001b[49m\n",
      "\u001b[1;31mTypeError\u001b[0m: ufunc 'divide' not supported for the input types, and the inputs could not be safely coerced to any supported types according to the casting rule ''safe''"
     ]
    }
   ],
   "source": [
    "first121/first121"
   ]
  },
  {
   "cell_type": "code",
   "execution_count": 235,
   "id": "c8827d03",
   "metadata": {},
   "outputs": [
    {
     "data": {
      "text/plain": [
       "['1', '1']"
      ]
     },
     "execution_count": 235,
     "metadata": {},
     "output_type": "execute_result"
    }
   ],
   "source": [
    "#\n",
    "\n",
    "firsttt = np.array([[1, 5, 6, 9]],dtype='U11')\n",
    "a = np.array([1],dtype='U11')\n",
    "list(a)*2"
   ]
  },
  {
   "cell_type": "code",
   "execution_count": 241,
   "id": "205464be",
   "metadata": {},
   "outputs": [
    {
     "name": "stdout",
     "output_type": "stream",
     "text": [
      "['1']\n",
      "['1']\n"
     ]
    },
    {
     "data": {
      "text/plain": [
       "'1'"
      ]
     },
     "execution_count": 241,
     "metadata": {},
     "output_type": "execute_result"
    }
   ],
   "source": [
    "#\n",
    "\n",
    "firsttt = np.array([[1, 5, 6, 9]],dtype='U11')\n",
    "a = np.array([1],dtype='U11')\n",
    "print(a)\n",
    "print(np.array(a, dtype= 'O'))\n",
    "a[0][0]"
   ]
  },
  {
   "cell_type": "code",
   "execution_count": 236,
   "id": "4b6919cd",
   "metadata": {},
   "outputs": [
    {
     "name": "stderr",
     "output_type": "stream",
     "text": [
      "C:\\Users\\Atharv Soni\\AppData\\Local\\Temp\\ipykernel_9908\\3457357833.py:1: VisibleDeprecationWarning: Creating an ndarray from ragged nested sequences (which is a list-or-tuple of lists-or-tuples-or ndarrays with different lengths or shapes) is deprecated. If you meant to do this, you must specify 'dtype=object' when creating the ndarray.\n",
      "  s = np.array([1, 2, 3,[5, 6]])\n"
     ]
    },
    {
     "ename": "TypeError",
     "evalue": "can't multiply sequence by non-int of type 'list'",
     "output_type": "error",
     "traceback": [
      "\u001b[1;31m---------------------------------------------------------------------------\u001b[0m",
      "\u001b[1;31mTypeError\u001b[0m                                 Traceback (most recent call last)",
      "Cell \u001b[1;32mIn[236], line 2\u001b[0m\n\u001b[0;32m      1\u001b[0m s \u001b[38;5;241m=\u001b[39m np\u001b[38;5;241m.\u001b[39marray([\u001b[38;5;241m1\u001b[39m, \u001b[38;5;241m2\u001b[39m, \u001b[38;5;241m3\u001b[39m,[\u001b[38;5;241m5\u001b[39m, \u001b[38;5;241m6\u001b[39m]])\n\u001b[1;32m----> 2\u001b[0m \u001b[43ms\u001b[49m\u001b[38;5;241;43m*\u001b[39;49m\u001b[43ms\u001b[49m\n",
      "\u001b[1;31mTypeError\u001b[0m: can't multiply sequence by non-int of type 'list'"
     ]
    }
   ],
   "source": [
    "s = np.array([1, 2, 3,[5, 6]])\n",
    "s*s"
   ]
  },
  {
   "cell_type": "code",
   "execution_count": 237,
   "id": "6f81d411",
   "metadata": {},
   "outputs": [
    {
     "data": {
      "text/plain": [
       "array([2, 4, 6, list([5, 6, 5, 6])], dtype=object)"
      ]
     },
     "execution_count": 237,
     "metadata": {},
     "output_type": "execute_result"
    }
   ],
   "source": [
    "s+s"
   ]
  },
  {
   "cell_type": "code",
   "execution_count": 242,
   "id": "f1e8124f",
   "metadata": {},
   "outputs": [
    {
     "name": "stdout",
     "output_type": "stream",
     "text": [
      "['1' '5' '6' '9' 'palak'] <U11\n",
      "['6' '8' '3' '2' '2'] <U11\n"
     ]
    },
    {
     "ename": "UFuncTypeError",
     "evalue": "ufunc 'add' did not contain a loop with signature matching types (dtype('<U11'), dtype('<U11')) -> None",
     "output_type": "error",
     "traceback": [
      "\u001b[1;31m---------------------------------------------------------------------------\u001b[0m",
      "\u001b[1;31mUFuncTypeError\u001b[0m                            Traceback (most recent call last)",
      "Cell \u001b[1;32mIn[242], line 9\u001b[0m\n\u001b[0;32m      6\u001b[0m \u001b[38;5;28mprint\u001b[39m(first121,first121\u001b[38;5;241m.\u001b[39mdtype)\n\u001b[0;32m      7\u001b[0m \u001b[38;5;28mprint\u001b[39m(second222,second222\u001b[38;5;241m.\u001b[39mdtype)\n\u001b[1;32m----> 9\u001b[0m \u001b[38;5;28mprint\u001b[39m(\u001b[43mfirst121\u001b[49m\u001b[38;5;241;43m+\u001b[39;49m\u001b[43msecond222\u001b[49m)\n\u001b[0;32m     10\u001b[0m \u001b[38;5;28mprint\u001b[39m(first121\u001b[38;5;241m*\u001b[39msecond222)\n\u001b[0;32m     11\u001b[0m \u001b[38;5;28mprint\u001b[39m(first121\u001b[38;5;241m/\u001b[39msecond222)\n",
      "\u001b[1;31mUFuncTypeError\u001b[0m: ufunc 'add' did not contain a loop with signature matching types (dtype('<U11'), dtype('<U11')) -> None"
     ]
    }
   ],
   "source": [
    "# Dividing array of dtype Unicode and int32, it will throw the error because a dtype is unicode also  it contains a string\n",
    "# Any of these 2 reasons are sufficient to throw the error\n",
    "\n",
    "first121 = np.array([1, 5, 6, 9, 'palak'])\n",
    "second222 = np.array([6, 8, 3, 2, 2],dtype='U11')\n",
    "print(first121,first121.dtype)\n",
    "print(second222,second222.dtype)\n",
    "\n",
    "print(first121+second222)\n",
    "print(first121*second222)\n",
    "print(first121/second222)"
   ]
  },
  {
   "cell_type": "markdown",
   "id": "80673808",
   "metadata": {},
   "source": [
    "# Methods"
   ]
  },
  {
   "cell_type": "markdown",
   "id": "0105912c",
   "metadata": {},
   "source": [
    "### Arange (Range of the array)\n",
    "`arange is an iterable. It takes start:end:step.`\n",
    ">`1. You always need to define the end value of arange.` <br>\n",
    "`2. If you do not specify the initial value of the arange then by default it will be zero.` <br>\n",
    "`3. arange is always includes the initial value but exclude the last value.`<br>\n",
    "`4. By default the steps size will be 1.`<br>\n",
    "`5. arange can create range for floats.`"
   ]
  },
  {
   "cell_type": "code",
   "execution_count": 243,
   "id": "be498ac0",
   "metadata": {},
   "outputs": [
    {
     "data": {
      "text/plain": [
       "array([0, 1, 2, 3, 4, 5, 6, 7, 8, 9])"
      ]
     },
     "execution_count": 243,
     "metadata": {},
     "output_type": "execute_result"
    }
   ],
   "source": [
    "# Creating array range\n",
    "\n",
    "np.arange(10)"
   ]
  },
  {
   "cell_type": "code",
   "execution_count": 244,
   "id": "0cd6a888",
   "metadata": {},
   "outputs": [
    {
     "data": {
      "text/plain": [
       "array([ 0.,  1.,  2.,  3.,  4.,  5.,  6.,  7.,  8.,  9., 10.])"
      ]
     },
     "execution_count": 244,
     "metadata": {},
     "output_type": "execute_result"
    }
   ],
   "source": [
    "np.arange(10.5)"
   ]
  },
  {
   "cell_type": "code",
   "execution_count": 250,
   "id": "3ec65725",
   "metadata": {},
   "outputs": [
    {
     "data": {
      "text/plain": [
       "array([ 0. ,  0.2,  0.4,  0.6,  0.8,  1. ,  1.2,  1.4,  1.6,  1.8,  2. ,\n",
       "        2.2,  2.4,  2.6,  2.8,  3. ,  3.2,  3.4,  3.6,  3.8,  4. ,  4.2,\n",
       "        4.4,  4.6,  4.8,  5. ,  5.2,  5.4,  5.6,  5.8,  6. ,  6.2,  6.4,\n",
       "        6.6,  6.8,  7. ,  7.2,  7.4,  7.6,  7.8,  8. ,  8.2,  8.4,  8.6,\n",
       "        8.8,  9. ,  9.2,  9.4,  9.6,  9.8, 10. , 10.2, 10.4])"
      ]
     },
     "execution_count": 250,
     "metadata": {},
     "output_type": "execute_result"
    }
   ],
   "source": [
    "np.arange(0,10.5,.2)"
   ]
  },
  {
   "cell_type": "code",
   "execution_count": 251,
   "id": "f4752622",
   "metadata": {},
   "outputs": [
    {
     "ename": "TypeError",
     "evalue": "'float' object cannot be interpreted as an integer",
     "output_type": "error",
     "traceback": [
      "\u001b[1;31m---------------------------------------------------------------------------\u001b[0m",
      "\u001b[1;31mTypeError\u001b[0m                                 Traceback (most recent call last)",
      "Cell \u001b[1;32mIn[251], line 1\u001b[0m\n\u001b[1;32m----> 1\u001b[0m \u001b[38;5;28mlist\u001b[39m(\u001b[38;5;28;43mrange\u001b[39;49m\u001b[43m(\u001b[49m\u001b[38;5;241;43m0\u001b[39;49m\u001b[43m,\u001b[49m\u001b[38;5;241;43m10.5\u001b[39;49m\u001b[43m,\u001b[49m\u001b[38;5;241;43m.2\u001b[39;49m\u001b[43m)\u001b[49m)\n",
      "\u001b[1;31mTypeError\u001b[0m: 'float' object cannot be interpreted as an integer"
     ]
    }
   ],
   "source": [
    "list(range(0,10.5,.2))"
   ]
  },
  {
   "cell_type": "code",
   "execution_count": 252,
   "id": "9073a13a",
   "metadata": {},
   "outputs": [
    {
     "data": {
      "text/plain": [
       "array([], dtype=int32)"
      ]
     },
     "execution_count": 252,
     "metadata": {},
     "output_type": "execute_result"
    }
   ],
   "source": [
    "# \n",
    "\n",
    "np.arange(-5)"
   ]
  },
  {
   "cell_type": "code",
   "execution_count": 253,
   "id": "6b528bbf",
   "metadata": {},
   "outputs": [
    {
     "data": {
      "text/plain": [
       "array([], dtype=int32)"
      ]
     },
     "execution_count": 253,
     "metadata": {},
     "output_type": "execute_result"
    }
   ],
   "source": [
    "# \n",
    "\n",
    "np.arange(0,-5)"
   ]
  },
  {
   "cell_type": "code",
   "execution_count": 254,
   "id": "8ba56788",
   "metadata": {},
   "outputs": [
    {
     "data": {
      "text/plain": [
       "array([-5, -4, -3, -2, -1])"
      ]
     },
     "execution_count": 254,
     "metadata": {},
     "output_type": "execute_result"
    }
   ],
   "source": [
    "# \n",
    "\n",
    "np.arange(-5,0)"
   ]
  },
  {
   "cell_type": "code",
   "execution_count": 255,
   "id": "faf5b97d",
   "metadata": {},
   "outputs": [
    {
     "data": {
      "text/plain": [
       "[-5, -4, -3, -2, -1]"
      ]
     },
     "execution_count": 255,
     "metadata": {},
     "output_type": "execute_result"
    }
   ],
   "source": [
    "# \n",
    "\n",
    "list(range(-5,0))"
   ]
  },
  {
   "cell_type": "code",
   "execution_count": 256,
   "id": "efbf8f1b",
   "metadata": {},
   "outputs": [
    {
     "data": {
      "text/plain": [
       "array([-5, -4, -3, -2, -1,  0,  1,  2,  3,  4,  5,  6])"
      ]
     },
     "execution_count": 256,
     "metadata": {},
     "output_type": "execute_result"
    }
   ],
   "source": [
    "# \n",
    "\n",
    "np.arange(-5,7)"
   ]
  },
  {
   "cell_type": "code",
   "execution_count": 257,
   "id": "25ab187c",
   "metadata": {},
   "outputs": [
    {
     "data": {
      "text/plain": [
       "array([0, 1, 2, 3, 4, 5, 6, 7, 8, 9])"
      ]
     },
     "execution_count": 257,
     "metadata": {},
     "output_type": "execute_result"
    }
   ],
   "source": [
    "# Creating array range\n",
    "\n",
    "np.array(np.arange(10))"
   ]
  },
  {
   "cell_type": "code",
   "execution_count": 258,
   "id": "bce98eaf",
   "metadata": {},
   "outputs": [
    {
     "data": {
      "text/plain": [
       "array([[[[[[[0, 1, 2, 3, 4, 5, 6, 7, 8, 9]]]]]]])"
      ]
     },
     "execution_count": 258,
     "metadata": {},
     "output_type": "execute_result"
    }
   ],
   "source": [
    "# Creating array range with specifying dimentions \n",
    "\n",
    "np.array(np.arange(10), ndmin = 7)"
   ]
  },
  {
   "cell_type": "code",
   "execution_count": 259,
   "id": "8ecb5ca3",
   "metadata": {},
   "outputs": [
    {
     "data": {
      "text/plain": [
       "{0: 0, 1: 1, 2: 4, 3: 9, 4: 16, 5: 25, 6: 36, 7: 49, 8: 64, 9: 81}"
      ]
     },
     "execution_count": 259,
     "metadata": {},
     "output_type": "execute_result"
    }
   ],
   "source": [
    "# Take a square of the range(10) as a value using Dictionary comphrension\n",
    "\n",
    "{i:i**2 for i in np.arange(10)}"
   ]
  },
  {
   "cell_type": "markdown",
   "id": "542395d0",
   "metadata": {},
   "source": [
    "### Unique\n",
    "\n",
    "`It helps to find the common and their counts`\n",
    "\n",
    "Find the unique elements of an array.\n",
    "\n",
    "Returns the sorted unique elements of an array. There are three optional\n",
    "outputs in addition to the unique elements:\n",
    "\n",
    "* the indices of the input array that give the unique values\n",
    "* the indices of the unique array that reconstruct the input array\n",
    "* the number of times each unique value comes up in the input array"
   ]
  },
  {
   "cell_type": "code",
   "execution_count": 184,
   "id": "b416bc7f",
   "metadata": {},
   "outputs": [
    {
     "data": {
      "text/plain": [
       "array([[6, 8, 3, 2]])"
      ]
     },
     "execution_count": 184,
     "metadata": {},
     "output_type": "execute_result"
    }
   ],
   "source": [
    "second"
   ]
  },
  {
   "cell_type": "code",
   "execution_count": 185,
   "id": "06c10518",
   "metadata": {},
   "outputs": [
    {
     "data": {
      "text/plain": [
       "array([2, 3, 6, 8])"
      ]
     },
     "execution_count": 185,
     "metadata": {},
     "output_type": "execute_result"
    }
   ],
   "source": [
    "np.unique(second)"
   ]
  },
  {
   "cell_type": "code",
   "execution_count": 187,
   "id": "e424b9bd",
   "metadata": {},
   "outputs": [
    {
     "data": {
      "text/plain": [
       "array([1, 2, 3, list([5, 6])], dtype=object)"
      ]
     },
     "execution_count": 187,
     "metadata": {},
     "output_type": "execute_result"
    }
   ],
   "source": [
    "s"
   ]
  },
  {
   "cell_type": "code",
   "execution_count": 189,
   "id": "f4111196",
   "metadata": {},
   "outputs": [
    {
     "ename": "TypeError",
     "evalue": "'<' not supported between instances of 'list' and 'int'",
     "output_type": "error",
     "traceback": [
      "\u001b[1;31m---------------------------------------------------------------------------\u001b[0m",
      "\u001b[1;31mTypeError\u001b[0m                                 Traceback (most recent call last)",
      "Cell \u001b[1;32mIn[189], line 1\u001b[0m\n\u001b[1;32m----> 1\u001b[0m \u001b[43mnp\u001b[49m\u001b[38;5;241;43m.\u001b[39;49m\u001b[43munique\u001b[49m\u001b[43m(\u001b[49m\u001b[43ms\u001b[49m\u001b[43m)\u001b[49m\n",
      "File \u001b[1;32m<__array_function__ internals>:180\u001b[0m, in \u001b[0;36munique\u001b[1;34m(*args, **kwargs)\u001b[0m\n",
      "File \u001b[1;32mC:\\ProgramData\\anaconda3\\envs\\ml\\lib\\site-packages\\numpy\\lib\\arraysetops.py:274\u001b[0m, in \u001b[0;36munique\u001b[1;34m(ar, return_index, return_inverse, return_counts, axis, equal_nan)\u001b[0m\n\u001b[0;32m    272\u001b[0m ar \u001b[38;5;241m=\u001b[39m np\u001b[38;5;241m.\u001b[39masanyarray(ar)\n\u001b[0;32m    273\u001b[0m \u001b[38;5;28;01mif\u001b[39;00m axis \u001b[38;5;129;01mis\u001b[39;00m \u001b[38;5;28;01mNone\u001b[39;00m:\n\u001b[1;32m--> 274\u001b[0m     ret \u001b[38;5;241m=\u001b[39m \u001b[43m_unique1d\u001b[49m\u001b[43m(\u001b[49m\u001b[43mar\u001b[49m\u001b[43m,\u001b[49m\u001b[43m \u001b[49m\u001b[43mreturn_index\u001b[49m\u001b[43m,\u001b[49m\u001b[43m \u001b[49m\u001b[43mreturn_inverse\u001b[49m\u001b[43m,\u001b[49m\u001b[43m \u001b[49m\u001b[43mreturn_counts\u001b[49m\u001b[43m,\u001b[49m\u001b[43m \u001b[49m\n\u001b[0;32m    275\u001b[0m \u001b[43m                    \u001b[49m\u001b[43mequal_nan\u001b[49m\u001b[38;5;241;43m=\u001b[39;49m\u001b[43mequal_nan\u001b[49m\u001b[43m)\u001b[49m\n\u001b[0;32m    276\u001b[0m     \u001b[38;5;28;01mreturn\u001b[39;00m _unpack_tuple(ret)\n\u001b[0;32m    278\u001b[0m \u001b[38;5;66;03m# axis was specified and not None\u001b[39;00m\n",
      "File \u001b[1;32mC:\\ProgramData\\anaconda3\\envs\\ml\\lib\\site-packages\\numpy\\lib\\arraysetops.py:336\u001b[0m, in \u001b[0;36m_unique1d\u001b[1;34m(ar, return_index, return_inverse, return_counts, equal_nan)\u001b[0m\n\u001b[0;32m    334\u001b[0m     aux \u001b[38;5;241m=\u001b[39m ar[perm]\n\u001b[0;32m    335\u001b[0m \u001b[38;5;28;01melse\u001b[39;00m:\n\u001b[1;32m--> 336\u001b[0m     \u001b[43mar\u001b[49m\u001b[38;5;241;43m.\u001b[39;49m\u001b[43msort\u001b[49m\u001b[43m(\u001b[49m\u001b[43m)\u001b[49m\n\u001b[0;32m    337\u001b[0m     aux \u001b[38;5;241m=\u001b[39m ar\n\u001b[0;32m    338\u001b[0m mask \u001b[38;5;241m=\u001b[39m np\u001b[38;5;241m.\u001b[39mempty(aux\u001b[38;5;241m.\u001b[39mshape, dtype\u001b[38;5;241m=\u001b[39mnp\u001b[38;5;241m.\u001b[39mbool_)\n",
      "\u001b[1;31mTypeError\u001b[0m: '<' not supported between instances of 'list' and 'int'"
     ]
    }
   ],
   "source": [
    "np.unique(s)"
   ]
  },
  {
   "cell_type": "code",
   "execution_count": 190,
   "id": "3a2f471f",
   "metadata": {},
   "outputs": [
    {
     "data": {
      "text/plain": [
       "array([[list([2, 66, 778, 'pallu'])],\n",
       "       [list([2, 5, 66, 3, 9])]], dtype=object)"
      ]
     },
     "execution_count": 190,
     "metadata": {},
     "output_type": "execute_result"
    }
   ],
   "source": [
    "b"
   ]
  },
  {
   "cell_type": "code",
   "execution_count": 194,
   "id": "44efcd27",
   "metadata": {},
   "outputs": [
    {
     "data": {
      "text/plain": [
       "array([list([2, 5, 66, 3, 9]), list([2, 66, 778, 'pallu'])], dtype=object)"
      ]
     },
     "execution_count": 194,
     "metadata": {},
     "output_type": "execute_result"
    }
   ],
   "source": [
    "np.unique(b)"
   ]
  },
  {
   "cell_type": "code",
   "execution_count": 202,
   "id": "d48423ad",
   "metadata": {},
   "outputs": [
    {
     "data": {
      "text/plain": [
       "array([[[1, 2, 2, 2, 3, 4]],\n",
       "\n",
       "       [[1, 6, 4, 3, 3, 3]],\n",
       "\n",
       "       [[1, 6, 4, 3, 9, 3]]])"
      ]
     },
     "execution_count": 202,
     "metadata": {},
     "output_type": "execute_result"
    }
   ],
   "source": [
    "f = np.array([[[1,2,2,2,3,4]], [[1,6,4,3,3,3]], [[1,6,4,3,9,3]]])\n",
    "f"
   ]
  },
  {
   "cell_type": "code",
   "execution_count": 203,
   "id": "cc9d7d0f",
   "metadata": {},
   "outputs": [
    {
     "data": {
      "text/plain": [
       "array([1, 2, 3, 4, 6, 9])"
      ]
     },
     "execution_count": 203,
     "metadata": {},
     "output_type": "execute_result"
    }
   ],
   "source": [
    "np.unique(f)"
   ]
  },
  {
   "cell_type": "code",
   "execution_count": 204,
   "id": "f10c6f76",
   "metadata": {},
   "outputs": [
    {
     "data": {
      "text/plain": [
       "array([[[1, 2, 2, 2, 3, 4]],\n",
       "\n",
       "       [[1, 6, 4, 3, 3, 3]],\n",
       "\n",
       "       [[1, 6, 4, 3, 9, 3]]])"
      ]
     },
     "execution_count": 204,
     "metadata": {},
     "output_type": "execute_result"
    }
   ],
   "source": [
    "np.unique(f, axis= 1)"
   ]
  },
  {
   "cell_type": "code",
   "execution_count": 205,
   "id": "bee1b503",
   "metadata": {},
   "outputs": [
    {
     "data": {
      "text/plain": [
       "array([[[1, 2, 2, 2, 3, 4]],\n",
       "\n",
       "       [[1, 6, 4, 3, 3, 3]],\n",
       "\n",
       "       [[1, 6, 4, 3, 9, 3]]])"
      ]
     },
     "execution_count": 205,
     "metadata": {},
     "output_type": "execute_result"
    }
   ],
   "source": [
    "np.unique(f, axis= 0)"
   ]
  },
  {
   "cell_type": "code",
   "execution_count": 216,
   "id": "b1956ab8",
   "metadata": {},
   "outputs": [
    {
     "data": {
      "text/plain": [
       "(array([1, 2, 3, 4, 6, 9]), array([3, 3, 6, 3, 2, 1], dtype=int64))"
      ]
     },
     "execution_count": 216,
     "metadata": {},
     "output_type": "execute_result"
    }
   ],
   "source": [
    "np.unique(f, return_counts= True)"
   ]
  },
  {
   "cell_type": "code",
   "execution_count": 212,
   "id": "85be177a",
   "metadata": {},
   "outputs": [
    {
     "data": {
      "text/plain": [
       "array([[['1', '2', '2', '2', 'palak', '4']],\n",
       "\n",
       "       [['1', '6', '4', '3', '3', '3']],\n",
       "\n",
       "       [['1', '6', '4', '3', '9', '3']]], dtype='<U11')"
      ]
     },
     "execution_count": 212,
     "metadata": {},
     "output_type": "execute_result"
    }
   ],
   "source": [
    "ff = np.array([[[1,2,2,2,'palak',4]], [[1,6,4,3,3,3]], [[1,6,4,3,9,3]]])\n",
    "ff"
   ]
  },
  {
   "cell_type": "code",
   "execution_count": 213,
   "id": "e8675733",
   "metadata": {},
   "outputs": [
    {
     "data": {
      "text/plain": [
       "array(['1', '2', '3', '4', '6', '9', 'palak'], dtype='<U11')"
      ]
     },
     "execution_count": 213,
     "metadata": {},
     "output_type": "execute_result"
    }
   ],
   "source": [
    "np.unique(ff)"
   ]
  },
  {
   "cell_type": "code",
   "execution_count": 209,
   "id": "5582f216",
   "metadata": {},
   "outputs": [
    {
     "data": {
      "text/plain": [
       "array([[['1', '2', '2', '2', 'palak', '4']],\n",
       "\n",
       "       [['1', '6', '4', '3', '3', '3']],\n",
       "\n",
       "       [['1', '6', '4', '3', '9', '3']]], dtype='<U11')"
      ]
     },
     "execution_count": 209,
     "metadata": {},
     "output_type": "execute_result"
    }
   ],
   "source": [
    "np.unique(ff, axis= 1)"
   ]
  },
  {
   "cell_type": "code",
   "execution_count": 217,
   "id": "f415dce7",
   "metadata": {},
   "outputs": [
    {
     "data": {
      "text/plain": [
       "(array(['1', '2', '3', '4', '6', '9', 'palak'], dtype='<U11'),\n",
       " array([3, 3, 5, 3, 2, 1, 1], dtype=int64))"
      ]
     },
     "execution_count": 217,
     "metadata": {},
     "output_type": "execute_result"
    }
   ],
   "source": [
    "np.unique(ff, return_counts= True)"
   ]
  },
  {
   "cell_type": "code",
   "execution_count": 214,
   "id": "9d4da100",
   "metadata": {},
   "outputs": [
    {
     "data": {
      "text/plain": [
       "array([[[1, 2, 2, 2, 'palak', 4]],\n",
       "\n",
       "       [[1, 6, 4, 3, 3, 3]],\n",
       "\n",
       "       [[1, 6, 4, 3, 9, 3]]], dtype=object)"
      ]
     },
     "execution_count": 214,
     "metadata": {},
     "output_type": "execute_result"
    }
   ],
   "source": [
    "ff1 = np.array([[[1,2,2,2,'palak',4]], [[1,6,4,3,3,3]], [[1,6,4,3,9,3]]], dtype= 'O')\n",
    "ff1"
   ]
  },
  {
   "cell_type": "code",
   "execution_count": 215,
   "id": "55f462c2",
   "metadata": {
    "scrolled": true
   },
   "outputs": [
    {
     "ename": "TypeError",
     "evalue": "'<' not supported between instances of 'str' and 'int'",
     "output_type": "error",
     "traceback": [
      "\u001b[1;31m---------------------------------------------------------------------------\u001b[0m",
      "\u001b[1;31mTypeError\u001b[0m                                 Traceback (most recent call last)",
      "Cell \u001b[1;32mIn[215], line 1\u001b[0m\n\u001b[1;32m----> 1\u001b[0m \u001b[43mnp\u001b[49m\u001b[38;5;241;43m.\u001b[39;49m\u001b[43munique\u001b[49m\u001b[43m(\u001b[49m\u001b[43mff1\u001b[49m\u001b[43m)\u001b[49m\n",
      "File \u001b[1;32m<__array_function__ internals>:180\u001b[0m, in \u001b[0;36munique\u001b[1;34m(*args, **kwargs)\u001b[0m\n",
      "File \u001b[1;32mC:\\ProgramData\\anaconda3\\envs\\ml\\lib\\site-packages\\numpy\\lib\\arraysetops.py:274\u001b[0m, in \u001b[0;36munique\u001b[1;34m(ar, return_index, return_inverse, return_counts, axis, equal_nan)\u001b[0m\n\u001b[0;32m    272\u001b[0m ar \u001b[38;5;241m=\u001b[39m np\u001b[38;5;241m.\u001b[39masanyarray(ar)\n\u001b[0;32m    273\u001b[0m \u001b[38;5;28;01mif\u001b[39;00m axis \u001b[38;5;129;01mis\u001b[39;00m \u001b[38;5;28;01mNone\u001b[39;00m:\n\u001b[1;32m--> 274\u001b[0m     ret \u001b[38;5;241m=\u001b[39m \u001b[43m_unique1d\u001b[49m\u001b[43m(\u001b[49m\u001b[43mar\u001b[49m\u001b[43m,\u001b[49m\u001b[43m \u001b[49m\u001b[43mreturn_index\u001b[49m\u001b[43m,\u001b[49m\u001b[43m \u001b[49m\u001b[43mreturn_inverse\u001b[49m\u001b[43m,\u001b[49m\u001b[43m \u001b[49m\u001b[43mreturn_counts\u001b[49m\u001b[43m,\u001b[49m\u001b[43m \u001b[49m\n\u001b[0;32m    275\u001b[0m \u001b[43m                    \u001b[49m\u001b[43mequal_nan\u001b[49m\u001b[38;5;241;43m=\u001b[39;49m\u001b[43mequal_nan\u001b[49m\u001b[43m)\u001b[49m\n\u001b[0;32m    276\u001b[0m     \u001b[38;5;28;01mreturn\u001b[39;00m _unpack_tuple(ret)\n\u001b[0;32m    278\u001b[0m \u001b[38;5;66;03m# axis was specified and not None\u001b[39;00m\n",
      "File \u001b[1;32mC:\\ProgramData\\anaconda3\\envs\\ml\\lib\\site-packages\\numpy\\lib\\arraysetops.py:336\u001b[0m, in \u001b[0;36m_unique1d\u001b[1;34m(ar, return_index, return_inverse, return_counts, equal_nan)\u001b[0m\n\u001b[0;32m    334\u001b[0m     aux \u001b[38;5;241m=\u001b[39m ar[perm]\n\u001b[0;32m    335\u001b[0m \u001b[38;5;28;01melse\u001b[39;00m:\n\u001b[1;32m--> 336\u001b[0m     \u001b[43mar\u001b[49m\u001b[38;5;241;43m.\u001b[39;49m\u001b[43msort\u001b[49m\u001b[43m(\u001b[49m\u001b[43m)\u001b[49m\n\u001b[0;32m    337\u001b[0m     aux \u001b[38;5;241m=\u001b[39m ar\n\u001b[0;32m    338\u001b[0m mask \u001b[38;5;241m=\u001b[39m np\u001b[38;5;241m.\u001b[39mempty(aux\u001b[38;5;241m.\u001b[39mshape, dtype\u001b[38;5;241m=\u001b[39mnp\u001b[38;5;241m.\u001b[39mbool_)\n",
      "\u001b[1;31mTypeError\u001b[0m: '<' not supported between instances of 'str' and 'int'"
     ]
    }
   ],
   "source": [
    "np.unique(ff1)"
   ]
  },
  {
   "cell_type": "code",
   "execution_count": 218,
   "id": "69b22125",
   "metadata": {},
   "outputs": [
    {
     "ename": "TypeError",
     "evalue": "'<' not supported between instances of 'str' and 'int'",
     "output_type": "error",
     "traceback": [
      "\u001b[1;31m---------------------------------------------------------------------------\u001b[0m",
      "\u001b[1;31mTypeError\u001b[0m                                 Traceback (most recent call last)",
      "Cell \u001b[1;32mIn[218], line 1\u001b[0m\n\u001b[1;32m----> 1\u001b[0m \u001b[43mnp\u001b[49m\u001b[38;5;241;43m.\u001b[39;49m\u001b[43munique\u001b[49m\u001b[43m(\u001b[49m\u001b[43mff1\u001b[49m\u001b[43m,\u001b[49m\u001b[43m \u001b[49m\u001b[43mreturn_counts\u001b[49m\u001b[38;5;241;43m=\u001b[39;49m\u001b[43m \u001b[49m\u001b[38;5;28;43;01mTrue\u001b[39;49;00m\u001b[43m)\u001b[49m\n",
      "File \u001b[1;32m<__array_function__ internals>:180\u001b[0m, in \u001b[0;36munique\u001b[1;34m(*args, **kwargs)\u001b[0m\n",
      "File \u001b[1;32mC:\\ProgramData\\anaconda3\\envs\\ml\\lib\\site-packages\\numpy\\lib\\arraysetops.py:274\u001b[0m, in \u001b[0;36munique\u001b[1;34m(ar, return_index, return_inverse, return_counts, axis, equal_nan)\u001b[0m\n\u001b[0;32m    272\u001b[0m ar \u001b[38;5;241m=\u001b[39m np\u001b[38;5;241m.\u001b[39masanyarray(ar)\n\u001b[0;32m    273\u001b[0m \u001b[38;5;28;01mif\u001b[39;00m axis \u001b[38;5;129;01mis\u001b[39;00m \u001b[38;5;28;01mNone\u001b[39;00m:\n\u001b[1;32m--> 274\u001b[0m     ret \u001b[38;5;241m=\u001b[39m \u001b[43m_unique1d\u001b[49m\u001b[43m(\u001b[49m\u001b[43mar\u001b[49m\u001b[43m,\u001b[49m\u001b[43m \u001b[49m\u001b[43mreturn_index\u001b[49m\u001b[43m,\u001b[49m\u001b[43m \u001b[49m\u001b[43mreturn_inverse\u001b[49m\u001b[43m,\u001b[49m\u001b[43m \u001b[49m\u001b[43mreturn_counts\u001b[49m\u001b[43m,\u001b[49m\u001b[43m \u001b[49m\n\u001b[0;32m    275\u001b[0m \u001b[43m                    \u001b[49m\u001b[43mequal_nan\u001b[49m\u001b[38;5;241;43m=\u001b[39;49m\u001b[43mequal_nan\u001b[49m\u001b[43m)\u001b[49m\n\u001b[0;32m    276\u001b[0m     \u001b[38;5;28;01mreturn\u001b[39;00m _unpack_tuple(ret)\n\u001b[0;32m    278\u001b[0m \u001b[38;5;66;03m# axis was specified and not None\u001b[39;00m\n",
      "File \u001b[1;32mC:\\ProgramData\\anaconda3\\envs\\ml\\lib\\site-packages\\numpy\\lib\\arraysetops.py:336\u001b[0m, in \u001b[0;36m_unique1d\u001b[1;34m(ar, return_index, return_inverse, return_counts, equal_nan)\u001b[0m\n\u001b[0;32m    334\u001b[0m     aux \u001b[38;5;241m=\u001b[39m ar[perm]\n\u001b[0;32m    335\u001b[0m \u001b[38;5;28;01melse\u001b[39;00m:\n\u001b[1;32m--> 336\u001b[0m     \u001b[43mar\u001b[49m\u001b[38;5;241;43m.\u001b[39;49m\u001b[43msort\u001b[49m\u001b[43m(\u001b[49m\u001b[43m)\u001b[49m\n\u001b[0;32m    337\u001b[0m     aux \u001b[38;5;241m=\u001b[39m ar\n\u001b[0;32m    338\u001b[0m mask \u001b[38;5;241m=\u001b[39m np\u001b[38;5;241m.\u001b[39mempty(aux\u001b[38;5;241m.\u001b[39mshape, dtype\u001b[38;5;241m=\u001b[39mnp\u001b[38;5;241m.\u001b[39mbool_)\n",
      "\u001b[1;31mTypeError\u001b[0m: '<' not supported between instances of 'str' and 'int'"
     ]
    }
   ],
   "source": [
    "np.unique(ff1, return_counts= True)"
   ]
  },
  {
   "cell_type": "code",
   "execution_count": 220,
   "id": "a98e396f",
   "metadata": {},
   "outputs": [
    {
     "data": {
      "text/plain": [
       "array([[[1, 2, 2, 2, 'palak', 4]],\n",
       "\n",
       "       [[1, 6, 4, 3, 'palla', 3]],\n",
       "\n",
       "       [[1, 6, 4, 3, 'pallu', 3]]], dtype=object)"
      ]
     },
     "execution_count": 220,
     "metadata": {},
     "output_type": "execute_result"
    }
   ],
   "source": [
    "ff2 = np.array([[[1,2,2,2,'palak',4]], [[1,6,4,3,'palla',3]], [[1,6,4,3,'pallu',3]]], dtype= 'O')\n",
    "ff2"
   ]
  },
  {
   "cell_type": "code",
   "execution_count": 221,
   "id": "3841e7ae",
   "metadata": {},
   "outputs": [
    {
     "ename": "TypeError",
     "evalue": "'<' not supported between instances of 'str' and 'int'",
     "output_type": "error",
     "traceback": [
      "\u001b[1;31m---------------------------------------------------------------------------\u001b[0m",
      "\u001b[1;31mTypeError\u001b[0m                                 Traceback (most recent call last)",
      "Cell \u001b[1;32mIn[221], line 1\u001b[0m\n\u001b[1;32m----> 1\u001b[0m \u001b[43mnp\u001b[49m\u001b[38;5;241;43m.\u001b[39;49m\u001b[43munique\u001b[49m\u001b[43m(\u001b[49m\u001b[43mff2\u001b[49m\u001b[43m,\u001b[49m\u001b[43m \u001b[49m\u001b[43mreturn_counts\u001b[49m\u001b[38;5;241;43m=\u001b[39;49m\u001b[43m \u001b[49m\u001b[38;5;28;43;01mTrue\u001b[39;49;00m\u001b[43m)\u001b[49m\n",
      "File \u001b[1;32m<__array_function__ internals>:180\u001b[0m, in \u001b[0;36munique\u001b[1;34m(*args, **kwargs)\u001b[0m\n",
      "File \u001b[1;32mC:\\ProgramData\\anaconda3\\envs\\ml\\lib\\site-packages\\numpy\\lib\\arraysetops.py:274\u001b[0m, in \u001b[0;36munique\u001b[1;34m(ar, return_index, return_inverse, return_counts, axis, equal_nan)\u001b[0m\n\u001b[0;32m    272\u001b[0m ar \u001b[38;5;241m=\u001b[39m np\u001b[38;5;241m.\u001b[39masanyarray(ar)\n\u001b[0;32m    273\u001b[0m \u001b[38;5;28;01mif\u001b[39;00m axis \u001b[38;5;129;01mis\u001b[39;00m \u001b[38;5;28;01mNone\u001b[39;00m:\n\u001b[1;32m--> 274\u001b[0m     ret \u001b[38;5;241m=\u001b[39m \u001b[43m_unique1d\u001b[49m\u001b[43m(\u001b[49m\u001b[43mar\u001b[49m\u001b[43m,\u001b[49m\u001b[43m \u001b[49m\u001b[43mreturn_index\u001b[49m\u001b[43m,\u001b[49m\u001b[43m \u001b[49m\u001b[43mreturn_inverse\u001b[49m\u001b[43m,\u001b[49m\u001b[43m \u001b[49m\u001b[43mreturn_counts\u001b[49m\u001b[43m,\u001b[49m\u001b[43m \u001b[49m\n\u001b[0;32m    275\u001b[0m \u001b[43m                    \u001b[49m\u001b[43mequal_nan\u001b[49m\u001b[38;5;241;43m=\u001b[39;49m\u001b[43mequal_nan\u001b[49m\u001b[43m)\u001b[49m\n\u001b[0;32m    276\u001b[0m     \u001b[38;5;28;01mreturn\u001b[39;00m _unpack_tuple(ret)\n\u001b[0;32m    278\u001b[0m \u001b[38;5;66;03m# axis was specified and not None\u001b[39;00m\n",
      "File \u001b[1;32mC:\\ProgramData\\anaconda3\\envs\\ml\\lib\\site-packages\\numpy\\lib\\arraysetops.py:336\u001b[0m, in \u001b[0;36m_unique1d\u001b[1;34m(ar, return_index, return_inverse, return_counts, equal_nan)\u001b[0m\n\u001b[0;32m    334\u001b[0m     aux \u001b[38;5;241m=\u001b[39m ar[perm]\n\u001b[0;32m    335\u001b[0m \u001b[38;5;28;01melse\u001b[39;00m:\n\u001b[1;32m--> 336\u001b[0m     \u001b[43mar\u001b[49m\u001b[38;5;241;43m.\u001b[39;49m\u001b[43msort\u001b[49m\u001b[43m(\u001b[49m\u001b[43m)\u001b[49m\n\u001b[0;32m    337\u001b[0m     aux \u001b[38;5;241m=\u001b[39m ar\n\u001b[0;32m    338\u001b[0m mask \u001b[38;5;241m=\u001b[39m np\u001b[38;5;241m.\u001b[39mempty(aux\u001b[38;5;241m.\u001b[39mshape, dtype\u001b[38;5;241m=\u001b[39mnp\u001b[38;5;241m.\u001b[39mbool_)\n",
      "\u001b[1;31mTypeError\u001b[0m: '<' not supported between instances of 'str' and 'int'"
     ]
    }
   ],
   "source": [
    "np.unique(ff2, return_counts= True)"
   ]
  },
  {
   "cell_type": "markdown",
   "id": "537603b5",
   "metadata": {},
   "source": [
    "### Cumsum\n",
    "\n",
    "**`Axis:`**\n",
    "> `1. If axis is None then cumsum flattens(convert it into 1D array) the array`<br>\n",
    "> `2. Last 2 dimensions are considered as row and column respectively`"
   ]
  },
  {
   "cell_type": "code",
   "execution_count": 260,
   "id": "3449ea37",
   "metadata": {},
   "outputs": [
    {
     "data": {
      "text/plain": [
       "array([ 5, 11, 18, 26])"
      ]
     },
     "execution_count": 260,
     "metadata": {},
     "output_type": "execute_result"
    }
   ],
   "source": [
    "np.cumsum([5,6,7,8])"
   ]
  },
  {
   "cell_type": "code",
   "execution_count": 171,
   "id": "3ddb7482",
   "metadata": {},
   "outputs": [
    {
     "data": {
      "text/plain": [
       "array([ 5, 11, 18, 26])"
      ]
     },
     "execution_count": 171,
     "metadata": {},
     "output_type": "execute_result"
    }
   ],
   "source": [
    "np.cumsum([5,6,7,8], axis= 0)"
   ]
  },
  {
   "cell_type": "code",
   "execution_count": 261,
   "id": "490c83f4",
   "metadata": {
    "scrolled": true
   },
   "outputs": [
    {
     "ename": "AxisError",
     "evalue": "axis 1 is out of bounds for array of dimension 1",
     "output_type": "error",
     "traceback": [
      "\u001b[1;31m---------------------------------------------------------------------------\u001b[0m",
      "\u001b[1;31mAxisError\u001b[0m                                 Traceback (most recent call last)",
      "Cell \u001b[1;32mIn[261], line 1\u001b[0m\n\u001b[1;32m----> 1\u001b[0m \u001b[43mnp\u001b[49m\u001b[38;5;241;43m.\u001b[39;49m\u001b[43mcumsum\u001b[49m\u001b[43m(\u001b[49m\u001b[43m[\u001b[49m\u001b[38;5;241;43m5\u001b[39;49m\u001b[43m,\u001b[49m\u001b[38;5;241;43m6\u001b[39;49m\u001b[43m,\u001b[49m\u001b[38;5;241;43m7\u001b[39;49m\u001b[43m,\u001b[49m\u001b[38;5;241;43m8\u001b[39;49m\u001b[43m]\u001b[49m\u001b[43m,\u001b[49m\u001b[43m \u001b[49m\u001b[43maxis\u001b[49m\u001b[38;5;241;43m=\u001b[39;49m\u001b[43m \u001b[49m\u001b[38;5;241;43m1\u001b[39;49m\u001b[43m)\u001b[49m\n",
      "File \u001b[1;32m<__array_function__ internals>:180\u001b[0m, in \u001b[0;36mcumsum\u001b[1;34m(*args, **kwargs)\u001b[0m\n",
      "File \u001b[1;32mC:\\ProgramData\\anaconda3\\envs\\ml\\lib\\site-packages\\numpy\\core\\fromnumeric.py:2571\u001b[0m, in \u001b[0;36mcumsum\u001b[1;34m(a, axis, dtype, out)\u001b[0m\n\u001b[0;32m   2497\u001b[0m \u001b[38;5;129m@array_function_dispatch\u001b[39m(_cumsum_dispatcher)\n\u001b[0;32m   2498\u001b[0m \u001b[38;5;28;01mdef\u001b[39;00m \u001b[38;5;21mcumsum\u001b[39m(a, axis\u001b[38;5;241m=\u001b[39m\u001b[38;5;28;01mNone\u001b[39;00m, dtype\u001b[38;5;241m=\u001b[39m\u001b[38;5;28;01mNone\u001b[39;00m, out\u001b[38;5;241m=\u001b[39m\u001b[38;5;28;01mNone\u001b[39;00m):\n\u001b[0;32m   2499\u001b[0m \u001b[38;5;250m    \u001b[39m\u001b[38;5;124;03m\"\"\"\u001b[39;00m\n\u001b[0;32m   2500\u001b[0m \u001b[38;5;124;03m    Return the cumulative sum of the elements along a given axis.\u001b[39;00m\n\u001b[0;32m   2501\u001b[0m \n\u001b[1;32m   (...)\u001b[0m\n\u001b[0;32m   2569\u001b[0m \n\u001b[0;32m   2570\u001b[0m \u001b[38;5;124;03m    \"\"\"\u001b[39;00m\n\u001b[1;32m-> 2571\u001b[0m     \u001b[38;5;28;01mreturn\u001b[39;00m \u001b[43m_wrapfunc\u001b[49m\u001b[43m(\u001b[49m\u001b[43ma\u001b[49m\u001b[43m,\u001b[49m\u001b[43m \u001b[49m\u001b[38;5;124;43m'\u001b[39;49m\u001b[38;5;124;43mcumsum\u001b[39;49m\u001b[38;5;124;43m'\u001b[39;49m\u001b[43m,\u001b[49m\u001b[43m \u001b[49m\u001b[43maxis\u001b[49m\u001b[38;5;241;43m=\u001b[39;49m\u001b[43maxis\u001b[49m\u001b[43m,\u001b[49m\u001b[43m \u001b[49m\u001b[43mdtype\u001b[49m\u001b[38;5;241;43m=\u001b[39;49m\u001b[43mdtype\u001b[49m\u001b[43m,\u001b[49m\u001b[43m \u001b[49m\u001b[43mout\u001b[49m\u001b[38;5;241;43m=\u001b[39;49m\u001b[43mout\u001b[49m\u001b[43m)\u001b[49m\n",
      "File \u001b[1;32mC:\\ProgramData\\anaconda3\\envs\\ml\\lib\\site-packages\\numpy\\core\\fromnumeric.py:54\u001b[0m, in \u001b[0;36m_wrapfunc\u001b[1;34m(obj, method, *args, **kwds)\u001b[0m\n\u001b[0;32m     52\u001b[0m bound \u001b[38;5;241m=\u001b[39m \u001b[38;5;28mgetattr\u001b[39m(obj, method, \u001b[38;5;28;01mNone\u001b[39;00m)\n\u001b[0;32m     53\u001b[0m \u001b[38;5;28;01mif\u001b[39;00m bound \u001b[38;5;129;01mis\u001b[39;00m \u001b[38;5;28;01mNone\u001b[39;00m:\n\u001b[1;32m---> 54\u001b[0m     \u001b[38;5;28;01mreturn\u001b[39;00m _wrapit(obj, method, \u001b[38;5;241m*\u001b[39margs, \u001b[38;5;241m*\u001b[39m\u001b[38;5;241m*\u001b[39mkwds)\n\u001b[0;32m     56\u001b[0m \u001b[38;5;28;01mtry\u001b[39;00m:\n\u001b[0;32m     57\u001b[0m     \u001b[38;5;28;01mreturn\u001b[39;00m bound(\u001b[38;5;241m*\u001b[39margs, \u001b[38;5;241m*\u001b[39m\u001b[38;5;241m*\u001b[39mkwds)\n",
      "File \u001b[1;32mC:\\ProgramData\\anaconda3\\envs\\ml\\lib\\site-packages\\numpy\\core\\fromnumeric.py:43\u001b[0m, in \u001b[0;36m_wrapit\u001b[1;34m(obj, method, *args, **kwds)\u001b[0m\n\u001b[0;32m     41\u001b[0m \u001b[38;5;28;01mexcept\u001b[39;00m \u001b[38;5;167;01mAttributeError\u001b[39;00m:\n\u001b[0;32m     42\u001b[0m     wrap \u001b[38;5;241m=\u001b[39m \u001b[38;5;28;01mNone\u001b[39;00m\n\u001b[1;32m---> 43\u001b[0m result \u001b[38;5;241m=\u001b[39m \u001b[38;5;28mgetattr\u001b[39m(asarray(obj), method)(\u001b[38;5;241m*\u001b[39margs, \u001b[38;5;241m*\u001b[39m\u001b[38;5;241m*\u001b[39mkwds)\n\u001b[0;32m     44\u001b[0m \u001b[38;5;28;01mif\u001b[39;00m wrap:\n\u001b[0;32m     45\u001b[0m     \u001b[38;5;28;01mif\u001b[39;00m \u001b[38;5;129;01mnot\u001b[39;00m \u001b[38;5;28misinstance\u001b[39m(result, mu\u001b[38;5;241m.\u001b[39mndarray):\n",
      "\u001b[1;31mAxisError\u001b[0m: axis 1 is out of bounds for array of dimension 1"
     ]
    }
   ],
   "source": [
    "np.cumsum([5,6,7,8], axis= 1)"
   ]
  },
  {
   "cell_type": "code",
   "execution_count": 270,
   "id": "55a8645f",
   "metadata": {},
   "outputs": [
    {
     "data": {
      "text/plain": [
       "array([list([5, 6, 7, 8]), list([5, 6, 7, 8, [[[5, 6, 2, 5, 7, 8]]]])],\n",
       "      dtype=object)"
      ]
     },
     "execution_count": 270,
     "metadata": {},
     "output_type": "execute_result"
    }
   ],
   "source": [
    "np.cumsum([[5,6,7,8], [[[[5,6,2,5,7,8]]]]])"
   ]
  },
  {
   "cell_type": "code",
   "execution_count": 271,
   "id": "bfcd639c",
   "metadata": {},
   "outputs": [
    {
     "data": {
      "text/plain": [
       "array([list([5, 6, 7, 8]), list([5, 6, 7, 8, 5, 6, 2, 5, 7, 8])],\n",
       "      dtype=object)"
      ]
     },
     "execution_count": 271,
     "metadata": {},
     "output_type": "execute_result"
    }
   ],
   "source": [
    "np.cumsum([[5,6,7,8], [5,6,2,5,7,8]])"
   ]
  },
  {
   "cell_type": "code",
   "execution_count": 272,
   "id": "3279db25",
   "metadata": {},
   "outputs": [
    {
     "data": {
      "text/plain": [
       "array([list([[5, 6, 7, 8]]), list([[5, 6, 7, 8], 5, 6, 2, 5, 7, 8])],\n",
       "      dtype=object)"
      ]
     },
     "execution_count": 272,
     "metadata": {},
     "output_type": "execute_result"
    }
   ],
   "source": [
    "np.cumsum([[[5,6,7,8]], [5,6,2,5,7,8]])"
   ]
  },
  {
   "cell_type": "code",
   "execution_count": 273,
   "id": "31091426",
   "metadata": {},
   "outputs": [
    {
     "data": {
      "text/plain": [
       "array([list([5, 6, 7, 8]), list([5, 6, 7, 8, [[5, 6, 2, 5, 7, 8]]])],\n",
       "      dtype=object)"
      ]
     },
     "execution_count": 273,
     "metadata": {},
     "output_type": "execute_result"
    }
   ],
   "source": [
    "np.cumsum([[[5,6,7,8]], [[[[5,6,2,5,7,8]]]]])"
   ]
  },
  {
   "cell_type": "code",
   "execution_count": 265,
   "id": "d7cfef94",
   "metadata": {},
   "outputs": [
    {
     "data": {
      "text/plain": [
       "array([10, 22, 36, 52])"
      ]
     },
     "execution_count": 265,
     "metadata": {},
     "output_type": "execute_result"
    }
   ],
   "source": [
    "np.cumsum(np.array([[[5,6,7,8]]]) + np.array([[[5,6,7,8]]]))"
   ]
  },
  {
   "cell_type": "code",
   "execution_count": 267,
   "id": "6c8a343c",
   "metadata": {},
   "outputs": [
    {
     "data": {
      "text/plain": [
       "array([10, 22, 36, 52])"
      ]
     },
     "execution_count": 267,
     "metadata": {},
     "output_type": "execute_result"
    }
   ],
   "source": [
    "np.cumsum([10,12,14,16])"
   ]
  },
  {
   "cell_type": "code",
   "execution_count": 263,
   "id": "f7f509c8",
   "metadata": {},
   "outputs": [
    {
     "data": {
      "text/plain": [
       "array([[[15, 28, 43, 60]]])"
      ]
     },
     "execution_count": 263,
     "metadata": {},
     "output_type": "execute_result"
    }
   ],
   "source": [
    "np.cumsum(np.array([[[5,6,7,8]]]) + np.array([[[5,6,7,8]]])) + np.array([[[5,6,7,8]]])"
   ]
  },
  {
   "cell_type": "code",
   "execution_count": 264,
   "id": "02801744",
   "metadata": {},
   "outputs": [
    {
     "data": {
      "text/plain": [
       "array([[ 0,  1,  2],\n",
       "       [ 3,  4,  5],\n",
       "       [ 6,  7,  8],\n",
       "       [ 9, 10, 11],\n",
       "       [12, 13, 14]])"
      ]
     },
     "execution_count": 264,
     "metadata": {},
     "output_type": "execute_result"
    }
   ],
   "source": [
    "np.arange(15).reshape(5,3)"
   ]
  },
  {
   "cell_type": "code",
   "execution_count": 276,
   "id": "43ee8916",
   "metadata": {},
   "outputs": [
    {
     "data": {
      "text/plain": [
       "array([  0,   1,   3,   6,  10,  15,  21,  28,  36,  45,  55,  66,  78,\n",
       "        91, 105])"
      ]
     },
     "execution_count": 276,
     "metadata": {},
     "output_type": "execute_result"
    }
   ],
   "source": [
    "np.cumsum(np.arange(15).reshape(5,3))"
   ]
  },
  {
   "cell_type": "code",
   "execution_count": 277,
   "id": "7209188c",
   "metadata": {},
   "outputs": [
    {
     "data": {
      "text/plain": [
       "array([[  0,   1,   3],\n",
       "       [  6,  10,  15],\n",
       "       [ 21,  28,  36],\n",
       "       [ 45,  55,  66],\n",
       "       [ 78,  91, 105]])"
      ]
     },
     "execution_count": 277,
     "metadata": {},
     "output_type": "execute_result"
    }
   ],
   "source": [
    "np.cumsum(np.arange(15)).reshape(5,3)"
   ]
  },
  {
   "cell_type": "code",
   "execution_count": 278,
   "id": "6fe00a6b",
   "metadata": {
    "scrolled": true
   },
   "outputs": [
    {
     "data": {
      "text/plain": [
       "array([[0, 1],\n",
       "       [2, 3],\n",
       "       [4, 5],\n",
       "       [6, 7],\n",
       "       [8, 9]])"
      ]
     },
     "execution_count": 278,
     "metadata": {},
     "output_type": "execute_result"
    }
   ],
   "source": [
    "np.arange(10).reshape(5,2)"
   ]
  },
  {
   "cell_type": "code",
   "execution_count": 281,
   "id": "12c99028",
   "metadata": {},
   "outputs": [
    {
     "data": {
      "text/plain": [
       "array([[ 0,  1],\n",
       "       [ 2,  4],\n",
       "       [ 6,  9],\n",
       "       [12, 16],\n",
       "       [20, 25]])"
      ]
     },
     "execution_count": 281,
     "metadata": {},
     "output_type": "execute_result"
    }
   ],
   "source": [
    "np.cumsum((np.arange(10).reshape(5,2)), axis= 0)"
   ]
  },
  {
   "cell_type": "code",
   "execution_count": 279,
   "id": "a626ac69",
   "metadata": {},
   "outputs": [
    {
     "data": {
      "text/plain": [
       "array([[ 0,  1],\n",
       "       [ 2,  5],\n",
       "       [ 4,  9],\n",
       "       [ 6, 13],\n",
       "       [ 8, 17]])"
      ]
     },
     "execution_count": 279,
     "metadata": {},
     "output_type": "execute_result"
    }
   ],
   "source": [
    "np.cumsum((np.arange(10).reshape(5,2)), axis= 1)"
   ]
  },
  {
   "cell_type": "code",
   "execution_count": 280,
   "id": "0494b6df",
   "metadata": {
    "scrolled": true
   },
   "outputs": [
    {
     "ename": "AxisError",
     "evalue": "axis 2 is out of bounds for array of dimension 2",
     "output_type": "error",
     "traceback": [
      "\u001b[1;31m---------------------------------------------------------------------------\u001b[0m",
      "\u001b[1;31mAxisError\u001b[0m                                 Traceback (most recent call last)",
      "Cell \u001b[1;32mIn[280], line 1\u001b[0m\n\u001b[1;32m----> 1\u001b[0m \u001b[43mnp\u001b[49m\u001b[38;5;241;43m.\u001b[39;49m\u001b[43mcumsum\u001b[49m\u001b[43m(\u001b[49m\u001b[43m(\u001b[49m\u001b[43mnp\u001b[49m\u001b[38;5;241;43m.\u001b[39;49m\u001b[43marange\u001b[49m\u001b[43m(\u001b[49m\u001b[38;5;241;43m10\u001b[39;49m\u001b[43m)\u001b[49m\u001b[38;5;241;43m.\u001b[39;49m\u001b[43mreshape\u001b[49m\u001b[43m(\u001b[49m\u001b[38;5;241;43m5\u001b[39;49m\u001b[43m,\u001b[49m\u001b[38;5;241;43m2\u001b[39;49m\u001b[43m)\u001b[49m\u001b[43m)\u001b[49m\u001b[43m,\u001b[49m\u001b[43m \u001b[49m\u001b[43maxis\u001b[49m\u001b[38;5;241;43m=\u001b[39;49m\u001b[43m \u001b[49m\u001b[38;5;241;43m2\u001b[39;49m\u001b[43m)\u001b[49m\n",
      "File \u001b[1;32m<__array_function__ internals>:180\u001b[0m, in \u001b[0;36mcumsum\u001b[1;34m(*args, **kwargs)\u001b[0m\n",
      "File \u001b[1;32mC:\\ProgramData\\anaconda3\\envs\\ml\\lib\\site-packages\\numpy\\core\\fromnumeric.py:2571\u001b[0m, in \u001b[0;36mcumsum\u001b[1;34m(a, axis, dtype, out)\u001b[0m\n\u001b[0;32m   2497\u001b[0m \u001b[38;5;129m@array_function_dispatch\u001b[39m(_cumsum_dispatcher)\n\u001b[0;32m   2498\u001b[0m \u001b[38;5;28;01mdef\u001b[39;00m \u001b[38;5;21mcumsum\u001b[39m(a, axis\u001b[38;5;241m=\u001b[39m\u001b[38;5;28;01mNone\u001b[39;00m, dtype\u001b[38;5;241m=\u001b[39m\u001b[38;5;28;01mNone\u001b[39;00m, out\u001b[38;5;241m=\u001b[39m\u001b[38;5;28;01mNone\u001b[39;00m):\n\u001b[0;32m   2499\u001b[0m \u001b[38;5;250m    \u001b[39m\u001b[38;5;124;03m\"\"\"\u001b[39;00m\n\u001b[0;32m   2500\u001b[0m \u001b[38;5;124;03m    Return the cumulative sum of the elements along a given axis.\u001b[39;00m\n\u001b[0;32m   2501\u001b[0m \n\u001b[1;32m   (...)\u001b[0m\n\u001b[0;32m   2569\u001b[0m \n\u001b[0;32m   2570\u001b[0m \u001b[38;5;124;03m    \"\"\"\u001b[39;00m\n\u001b[1;32m-> 2571\u001b[0m     \u001b[38;5;28;01mreturn\u001b[39;00m \u001b[43m_wrapfunc\u001b[49m\u001b[43m(\u001b[49m\u001b[43ma\u001b[49m\u001b[43m,\u001b[49m\u001b[43m \u001b[49m\u001b[38;5;124;43m'\u001b[39;49m\u001b[38;5;124;43mcumsum\u001b[39;49m\u001b[38;5;124;43m'\u001b[39;49m\u001b[43m,\u001b[49m\u001b[43m \u001b[49m\u001b[43maxis\u001b[49m\u001b[38;5;241;43m=\u001b[39;49m\u001b[43maxis\u001b[49m\u001b[43m,\u001b[49m\u001b[43m \u001b[49m\u001b[43mdtype\u001b[49m\u001b[38;5;241;43m=\u001b[39;49m\u001b[43mdtype\u001b[49m\u001b[43m,\u001b[49m\u001b[43m \u001b[49m\u001b[43mout\u001b[49m\u001b[38;5;241;43m=\u001b[39;49m\u001b[43mout\u001b[49m\u001b[43m)\u001b[49m\n",
      "File \u001b[1;32mC:\\ProgramData\\anaconda3\\envs\\ml\\lib\\site-packages\\numpy\\core\\fromnumeric.py:57\u001b[0m, in \u001b[0;36m_wrapfunc\u001b[1;34m(obj, method, *args, **kwds)\u001b[0m\n\u001b[0;32m     54\u001b[0m     \u001b[38;5;28;01mreturn\u001b[39;00m _wrapit(obj, method, \u001b[38;5;241m*\u001b[39margs, \u001b[38;5;241m*\u001b[39m\u001b[38;5;241m*\u001b[39mkwds)\n\u001b[0;32m     56\u001b[0m \u001b[38;5;28;01mtry\u001b[39;00m:\n\u001b[1;32m---> 57\u001b[0m     \u001b[38;5;28;01mreturn\u001b[39;00m bound(\u001b[38;5;241m*\u001b[39margs, \u001b[38;5;241m*\u001b[39m\u001b[38;5;241m*\u001b[39mkwds)\n\u001b[0;32m     58\u001b[0m \u001b[38;5;28;01mexcept\u001b[39;00m \u001b[38;5;167;01mTypeError\u001b[39;00m:\n\u001b[0;32m     59\u001b[0m     \u001b[38;5;66;03m# A TypeError occurs if the object does have such a method in its\u001b[39;00m\n\u001b[0;32m     60\u001b[0m     \u001b[38;5;66;03m# class, but its signature is not identical to that of NumPy's. This\u001b[39;00m\n\u001b[1;32m   (...)\u001b[0m\n\u001b[0;32m     64\u001b[0m     \u001b[38;5;66;03m# Call _wrapit from within the except clause to ensure a potential\u001b[39;00m\n\u001b[0;32m     65\u001b[0m     \u001b[38;5;66;03m# exception has a traceback chain.\u001b[39;00m\n\u001b[0;32m     66\u001b[0m     \u001b[38;5;28;01mreturn\u001b[39;00m _wrapit(obj, method, \u001b[38;5;241m*\u001b[39margs, \u001b[38;5;241m*\u001b[39m\u001b[38;5;241m*\u001b[39mkwds)\n",
      "\u001b[1;31mAxisError\u001b[0m: axis 2 is out of bounds for array of dimension 2"
     ]
    }
   ],
   "source": [
    "np.cumsum((np.arange(10).reshape(5,2)), axis= 2)"
   ]
  },
  {
   "cell_type": "code",
   "execution_count": 284,
   "id": "3ea2bb9f",
   "metadata": {},
   "outputs": [
    {
     "data": {
      "text/plain": [
       "array([[[[[1, 2]]]]])"
      ]
     },
     "execution_count": 284,
     "metadata": {},
     "output_type": "execute_result"
    }
   ],
   "source": [
    "np.array([1,2], ndmin= 5)"
   ]
  },
  {
   "cell_type": "code",
   "execution_count": 285,
   "id": "f6dc67c2",
   "metadata": {
    "scrolled": true
   },
   "outputs": [
    {
     "data": {
      "text/plain": [
       "array([1, 3])"
      ]
     },
     "execution_count": 285,
     "metadata": {},
     "output_type": "execute_result"
    }
   ],
   "source": [
    "np.cumsum(np.array([1,2], ndmin= 5))"
   ]
  },
  {
   "cell_type": "code",
   "execution_count": 286,
   "id": "c91f12c3",
   "metadata": {
    "scrolled": true
   },
   "outputs": [
    {
     "data": {
      "text/plain": [
       "array([[[[[1, 2]]]]])"
      ]
     },
     "execution_count": 286,
     "metadata": {},
     "output_type": "execute_result"
    }
   ],
   "source": [
    "np.cumsum(np.array([1,2], ndmin= 5), axis = 0)"
   ]
  },
  {
   "cell_type": "code",
   "execution_count": 287,
   "id": "77578008",
   "metadata": {
    "scrolled": true
   },
   "outputs": [
    {
     "data": {
      "text/plain": [
       "array([[[[[1, 2]]]]])"
      ]
     },
     "execution_count": 287,
     "metadata": {},
     "output_type": "execute_result"
    }
   ],
   "source": [
    "np.cumsum(np.array([1,2], ndmin= 5), axis = 1)"
   ]
  },
  {
   "cell_type": "code",
   "execution_count": 288,
   "id": "ed88ead5",
   "metadata": {
    "scrolled": true
   },
   "outputs": [
    {
     "data": {
      "text/plain": [
       "array([[[[[1, 2]]]]])"
      ]
     },
     "execution_count": 288,
     "metadata": {},
     "output_type": "execute_result"
    }
   ],
   "source": [
    "np.cumsum(np.array([1,2], ndmin= 5), axis = 2)"
   ]
  },
  {
   "cell_type": "code",
   "execution_count": 289,
   "id": "b4a57ef2",
   "metadata": {
    "scrolled": true
   },
   "outputs": [
    {
     "data": {
      "text/plain": [
       "array([[[[[1, 2]]]]])"
      ]
     },
     "execution_count": 289,
     "metadata": {},
     "output_type": "execute_result"
    }
   ],
   "source": [
    "np.cumsum(np.array([1,2], ndmin= 5), axis = 3)"
   ]
  },
  {
   "cell_type": "code",
   "execution_count": 290,
   "id": "5966652e",
   "metadata": {
    "scrolled": true
   },
   "outputs": [
    {
     "data": {
      "text/plain": [
       "array([[[[[1, 3]]]]])"
      ]
     },
     "execution_count": 290,
     "metadata": {},
     "output_type": "execute_result"
    }
   ],
   "source": [
    "np.cumsum(np.array([1,2], ndmin= 5), axis = 4)"
   ]
  },
  {
   "cell_type": "code",
   "execution_count": 292,
   "id": "577a475e",
   "metadata": {
    "scrolled": true
   },
   "outputs": [
    {
     "ename": "AxisError",
     "evalue": "axis 5 is out of bounds for array of dimension 5",
     "output_type": "error",
     "traceback": [
      "\u001b[1;31m---------------------------------------------------------------------------\u001b[0m",
      "\u001b[1;31mAxisError\u001b[0m                                 Traceback (most recent call last)",
      "Cell \u001b[1;32mIn[292], line 1\u001b[0m\n\u001b[1;32m----> 1\u001b[0m \u001b[43mnp\u001b[49m\u001b[38;5;241;43m.\u001b[39;49m\u001b[43mcumsum\u001b[49m\u001b[43m(\u001b[49m\u001b[43mnp\u001b[49m\u001b[38;5;241;43m.\u001b[39;49m\u001b[43marray\u001b[49m\u001b[43m(\u001b[49m\u001b[43m[\u001b[49m\u001b[38;5;241;43m1\u001b[39;49m\u001b[43m,\u001b[49m\u001b[38;5;241;43m2\u001b[39;49m\u001b[43m]\u001b[49m\u001b[43m,\u001b[49m\u001b[43m \u001b[49m\u001b[43mndmin\u001b[49m\u001b[38;5;241;43m=\u001b[39;49m\u001b[43m \u001b[49m\u001b[38;5;241;43m5\u001b[39;49m\u001b[43m)\u001b[49m\u001b[43m,\u001b[49m\u001b[43m \u001b[49m\u001b[43maxis\u001b[49m\u001b[43m \u001b[49m\u001b[38;5;241;43m=\u001b[39;49m\u001b[43m \u001b[49m\u001b[38;5;241;43m5\u001b[39;49m\u001b[43m)\u001b[49m\n",
      "File \u001b[1;32m<__array_function__ internals>:180\u001b[0m, in \u001b[0;36mcumsum\u001b[1;34m(*args, **kwargs)\u001b[0m\n",
      "File \u001b[1;32mC:\\ProgramData\\anaconda3\\envs\\ml\\lib\\site-packages\\numpy\\core\\fromnumeric.py:2571\u001b[0m, in \u001b[0;36mcumsum\u001b[1;34m(a, axis, dtype, out)\u001b[0m\n\u001b[0;32m   2497\u001b[0m \u001b[38;5;129m@array_function_dispatch\u001b[39m(_cumsum_dispatcher)\n\u001b[0;32m   2498\u001b[0m \u001b[38;5;28;01mdef\u001b[39;00m \u001b[38;5;21mcumsum\u001b[39m(a, axis\u001b[38;5;241m=\u001b[39m\u001b[38;5;28;01mNone\u001b[39;00m, dtype\u001b[38;5;241m=\u001b[39m\u001b[38;5;28;01mNone\u001b[39;00m, out\u001b[38;5;241m=\u001b[39m\u001b[38;5;28;01mNone\u001b[39;00m):\n\u001b[0;32m   2499\u001b[0m \u001b[38;5;250m    \u001b[39m\u001b[38;5;124;03m\"\"\"\u001b[39;00m\n\u001b[0;32m   2500\u001b[0m \u001b[38;5;124;03m    Return the cumulative sum of the elements along a given axis.\u001b[39;00m\n\u001b[0;32m   2501\u001b[0m \n\u001b[1;32m   (...)\u001b[0m\n\u001b[0;32m   2569\u001b[0m \n\u001b[0;32m   2570\u001b[0m \u001b[38;5;124;03m    \"\"\"\u001b[39;00m\n\u001b[1;32m-> 2571\u001b[0m     \u001b[38;5;28;01mreturn\u001b[39;00m \u001b[43m_wrapfunc\u001b[49m\u001b[43m(\u001b[49m\u001b[43ma\u001b[49m\u001b[43m,\u001b[49m\u001b[43m \u001b[49m\u001b[38;5;124;43m'\u001b[39;49m\u001b[38;5;124;43mcumsum\u001b[39;49m\u001b[38;5;124;43m'\u001b[39;49m\u001b[43m,\u001b[49m\u001b[43m \u001b[49m\u001b[43maxis\u001b[49m\u001b[38;5;241;43m=\u001b[39;49m\u001b[43maxis\u001b[49m\u001b[43m,\u001b[49m\u001b[43m \u001b[49m\u001b[43mdtype\u001b[49m\u001b[38;5;241;43m=\u001b[39;49m\u001b[43mdtype\u001b[49m\u001b[43m,\u001b[49m\u001b[43m \u001b[49m\u001b[43mout\u001b[49m\u001b[38;5;241;43m=\u001b[39;49m\u001b[43mout\u001b[49m\u001b[43m)\u001b[49m\n",
      "File \u001b[1;32mC:\\ProgramData\\anaconda3\\envs\\ml\\lib\\site-packages\\numpy\\core\\fromnumeric.py:57\u001b[0m, in \u001b[0;36m_wrapfunc\u001b[1;34m(obj, method, *args, **kwds)\u001b[0m\n\u001b[0;32m     54\u001b[0m     \u001b[38;5;28;01mreturn\u001b[39;00m _wrapit(obj, method, \u001b[38;5;241m*\u001b[39margs, \u001b[38;5;241m*\u001b[39m\u001b[38;5;241m*\u001b[39mkwds)\n\u001b[0;32m     56\u001b[0m \u001b[38;5;28;01mtry\u001b[39;00m:\n\u001b[1;32m---> 57\u001b[0m     \u001b[38;5;28;01mreturn\u001b[39;00m bound(\u001b[38;5;241m*\u001b[39margs, \u001b[38;5;241m*\u001b[39m\u001b[38;5;241m*\u001b[39mkwds)\n\u001b[0;32m     58\u001b[0m \u001b[38;5;28;01mexcept\u001b[39;00m \u001b[38;5;167;01mTypeError\u001b[39;00m:\n\u001b[0;32m     59\u001b[0m     \u001b[38;5;66;03m# A TypeError occurs if the object does have such a method in its\u001b[39;00m\n\u001b[0;32m     60\u001b[0m     \u001b[38;5;66;03m# class, but its signature is not identical to that of NumPy's. This\u001b[39;00m\n\u001b[1;32m   (...)\u001b[0m\n\u001b[0;32m     64\u001b[0m     \u001b[38;5;66;03m# Call _wrapit from within the except clause to ensure a potential\u001b[39;00m\n\u001b[0;32m     65\u001b[0m     \u001b[38;5;66;03m# exception has a traceback chain.\u001b[39;00m\n\u001b[0;32m     66\u001b[0m     \u001b[38;5;28;01mreturn\u001b[39;00m _wrapit(obj, method, \u001b[38;5;241m*\u001b[39margs, \u001b[38;5;241m*\u001b[39m\u001b[38;5;241m*\u001b[39mkwds)\n",
      "\u001b[1;31mAxisError\u001b[0m: axis 5 is out of bounds for array of dimension 5"
     ]
    }
   ],
   "source": [
    "np.cumsum(np.array([1,2], ndmin= 5), axis = 5)"
   ]
  },
  {
   "cell_type": "code",
   "execution_count": 295,
   "id": "aafab9fa",
   "metadata": {
    "scrolled": true
   },
   "outputs": [
    {
     "data": {
      "text/plain": [
       "array([[[[[1, 2],\n",
       "          [1, 2],\n",
       "          [1, 4],\n",
       "          [1, 3]]]]])"
      ]
     },
     "execution_count": 295,
     "metadata": {},
     "output_type": "execute_result"
    }
   ],
   "source": [
    "np.cumsum(np.array([[1,2], [1,2], [1,4], [1,3]], ndmin= 5), axis = 0)"
   ]
  },
  {
   "cell_type": "code",
   "execution_count": 293,
   "id": "ba687097",
   "metadata": {
    "scrolled": true
   },
   "outputs": [
    {
     "data": {
      "text/plain": [
       "array([[[[[ 1,  2],\n",
       "          [ 2,  4],\n",
       "          [ 3,  8],\n",
       "          [ 4, 11]]]]])"
      ]
     },
     "execution_count": 293,
     "metadata": {},
     "output_type": "execute_result"
    }
   ],
   "source": [
    "np.cumsum(np.array([[1,2], [1,2], [1,4], [1,3]], ndmin= 5), axis = 3)"
   ]
  },
  {
   "cell_type": "code",
   "execution_count": 294,
   "id": "c718c995",
   "metadata": {
    "scrolled": true
   },
   "outputs": [
    {
     "data": {
      "text/plain": [
       "array([[[[[1, 3],\n",
       "          [1, 3],\n",
       "          [1, 5],\n",
       "          [1, 4]]]]])"
      ]
     },
     "execution_count": 294,
     "metadata": {},
     "output_type": "execute_result"
    }
   ],
   "source": [
    "np.cumsum(np.array([[1,2], [1,2], [1,4], [1,3]], ndmin= 5), axis = 4)"
   ]
  },
  {
   "cell_type": "code",
   "execution_count": 296,
   "id": "2bac0983",
   "metadata": {},
   "outputs": [
    {
     "data": {
      "text/plain": [
       "array([[[[[[[0, 1],\n",
       "            [2, 3],\n",
       "            [4, 5],\n",
       "            [6, 7],\n",
       "            [8, 9]]]]]]])"
      ]
     },
     "execution_count": 296,
     "metadata": {},
     "output_type": "execute_result"
    }
   ],
   "source": [
    "np.array(np.arange(10).reshape(5,2), ndmin = 7)"
   ]
  },
  {
   "cell_type": "code",
   "execution_count": 291,
   "id": "ac13bbe6",
   "metadata": {},
   "outputs": [
    {
     "data": {
      "text/plain": [
       "array([ 0,  1,  3,  6, 10, 15, 21, 28, 36, 45])"
      ]
     },
     "execution_count": 291,
     "metadata": {},
     "output_type": "execute_result"
    }
   ],
   "source": [
    "np.cumsum(np.array(np.arange(10).reshape(5,2), ndmin = 7))"
   ]
  },
  {
   "cell_type": "code",
   "execution_count": 297,
   "id": "05addd46",
   "metadata": {},
   "outputs": [
    {
     "data": {
      "text/plain": [
       "array([[[[[[[0, 1],\n",
       "            [2, 3],\n",
       "            [4, 5],\n",
       "            [6, 7],\n",
       "            [8, 9]]]]]]])"
      ]
     },
     "execution_count": 297,
     "metadata": {},
     "output_type": "execute_result"
    }
   ],
   "source": [
    "np.cumsum(np.array(np.arange(10).reshape(5,2), ndmin = 7), axis= 0)"
   ]
  },
  {
   "cell_type": "code",
   "execution_count": 298,
   "id": "1f18a7f1",
   "metadata": {},
   "outputs": [
    {
     "data": {
      "text/plain": [
       "array([[[[[[[0, 1],\n",
       "            [2, 3],\n",
       "            [4, 5],\n",
       "            [6, 7],\n",
       "            [8, 9]]]]]]])"
      ]
     },
     "execution_count": 298,
     "metadata": {},
     "output_type": "execute_result"
    }
   ],
   "source": [
    "np.cumsum(np.array(np.arange(10).reshape(5,2), ndmin = 7), axis= 1)"
   ]
  },
  {
   "cell_type": "code",
   "execution_count": 299,
   "id": "4980b5bb",
   "metadata": {},
   "outputs": [
    {
     "data": {
      "text/plain": [
       "array([[[[[[[0, 1],\n",
       "            [2, 3],\n",
       "            [4, 5],\n",
       "            [6, 7],\n",
       "            [8, 9]]]]]]])"
      ]
     },
     "execution_count": 299,
     "metadata": {},
     "output_type": "execute_result"
    }
   ],
   "source": [
    "np.cumsum(np.array(np.arange(10).reshape(5,2), ndmin = 7), axis= 2)"
   ]
  },
  {
   "cell_type": "code",
   "execution_count": 300,
   "id": "652ce869",
   "metadata": {},
   "outputs": [
    {
     "data": {
      "text/plain": [
       "array([[[[[[[0, 1],\n",
       "            [2, 3],\n",
       "            [4, 5],\n",
       "            [6, 7],\n",
       "            [8, 9]]]]]]])"
      ]
     },
     "execution_count": 300,
     "metadata": {},
     "output_type": "execute_result"
    }
   ],
   "source": [
    "np.cumsum(np.array(np.arange(10).reshape(5,2), ndmin = 7), axis= 3)"
   ]
  },
  {
   "cell_type": "code",
   "execution_count": 301,
   "id": "14fab865",
   "metadata": {},
   "outputs": [
    {
     "data": {
      "text/plain": [
       "array([[[[[[[0, 1],\n",
       "            [2, 3],\n",
       "            [4, 5],\n",
       "            [6, 7],\n",
       "            [8, 9]]]]]]])"
      ]
     },
     "execution_count": 301,
     "metadata": {},
     "output_type": "execute_result"
    }
   ],
   "source": [
    "np.cumsum(np.array(np.arange(10).reshape(5,2), ndmin = 7), axis= 4)"
   ]
  },
  {
   "cell_type": "code",
   "execution_count": 302,
   "id": "058605b5",
   "metadata": {
    "scrolled": true
   },
   "outputs": [
    {
     "data": {
      "text/plain": [
       "array([[[[[[[ 0,  1],\n",
       "            [ 2,  4],\n",
       "            [ 6,  9],\n",
       "            [12, 16],\n",
       "            [20, 25]]]]]]])"
      ]
     },
     "execution_count": 302,
     "metadata": {},
     "output_type": "execute_result"
    }
   ],
   "source": [
    "np.cumsum(np.array(np.arange(10).reshape(5,2), ndmin = 7), axis= 5)"
   ]
  },
  {
   "cell_type": "code",
   "execution_count": 303,
   "id": "82bc7bf0",
   "metadata": {},
   "outputs": [
    {
     "data": {
      "text/plain": [
       "array([[[[[[[ 0,  1],\n",
       "            [ 2,  5],\n",
       "            [ 4,  9],\n",
       "            [ 6, 13],\n",
       "            [ 8, 17]]]]]]])"
      ]
     },
     "execution_count": 303,
     "metadata": {},
     "output_type": "execute_result"
    }
   ],
   "source": [
    "np.cumsum(np.array(np.arange(10).reshape(5,2), ndmin = 7), axis= 6)"
   ]
  },
  {
   "cell_type": "code",
   "execution_count": 304,
   "id": "ee6f1c4d",
   "metadata": {
    "scrolled": true
   },
   "outputs": [
    {
     "ename": "AxisError",
     "evalue": "axis 7 is out of bounds for array of dimension 7",
     "output_type": "error",
     "traceback": [
      "\u001b[1;31m---------------------------------------------------------------------------\u001b[0m",
      "\u001b[1;31mAxisError\u001b[0m                                 Traceback (most recent call last)",
      "Cell \u001b[1;32mIn[304], line 1\u001b[0m\n\u001b[1;32m----> 1\u001b[0m \u001b[43mnp\u001b[49m\u001b[38;5;241;43m.\u001b[39;49m\u001b[43mcumsum\u001b[49m\u001b[43m(\u001b[49m\u001b[43mnp\u001b[49m\u001b[38;5;241;43m.\u001b[39;49m\u001b[43marray\u001b[49m\u001b[43m(\u001b[49m\u001b[43mnp\u001b[49m\u001b[38;5;241;43m.\u001b[39;49m\u001b[43marange\u001b[49m\u001b[43m(\u001b[49m\u001b[38;5;241;43m10\u001b[39;49m\u001b[43m)\u001b[49m\u001b[38;5;241;43m.\u001b[39;49m\u001b[43mreshape\u001b[49m\u001b[43m(\u001b[49m\u001b[38;5;241;43m5\u001b[39;49m\u001b[43m,\u001b[49m\u001b[38;5;241;43m2\u001b[39;49m\u001b[43m)\u001b[49m\u001b[43m,\u001b[49m\u001b[43m \u001b[49m\u001b[43mndmin\u001b[49m\u001b[43m \u001b[49m\u001b[38;5;241;43m=\u001b[39;49m\u001b[43m \u001b[49m\u001b[38;5;241;43m7\u001b[39;49m\u001b[43m)\u001b[49m\u001b[43m,\u001b[49m\u001b[43m \u001b[49m\u001b[43maxis\u001b[49m\u001b[38;5;241;43m=\u001b[39;49m\u001b[43m \u001b[49m\u001b[38;5;241;43m7\u001b[39;49m\u001b[43m)\u001b[49m\n",
      "File \u001b[1;32m<__array_function__ internals>:180\u001b[0m, in \u001b[0;36mcumsum\u001b[1;34m(*args, **kwargs)\u001b[0m\n",
      "File \u001b[1;32mC:\\ProgramData\\anaconda3\\envs\\ml\\lib\\site-packages\\numpy\\core\\fromnumeric.py:2571\u001b[0m, in \u001b[0;36mcumsum\u001b[1;34m(a, axis, dtype, out)\u001b[0m\n\u001b[0;32m   2497\u001b[0m \u001b[38;5;129m@array_function_dispatch\u001b[39m(_cumsum_dispatcher)\n\u001b[0;32m   2498\u001b[0m \u001b[38;5;28;01mdef\u001b[39;00m \u001b[38;5;21mcumsum\u001b[39m(a, axis\u001b[38;5;241m=\u001b[39m\u001b[38;5;28;01mNone\u001b[39;00m, dtype\u001b[38;5;241m=\u001b[39m\u001b[38;5;28;01mNone\u001b[39;00m, out\u001b[38;5;241m=\u001b[39m\u001b[38;5;28;01mNone\u001b[39;00m):\n\u001b[0;32m   2499\u001b[0m \u001b[38;5;250m    \u001b[39m\u001b[38;5;124;03m\"\"\"\u001b[39;00m\n\u001b[0;32m   2500\u001b[0m \u001b[38;5;124;03m    Return the cumulative sum of the elements along a given axis.\u001b[39;00m\n\u001b[0;32m   2501\u001b[0m \n\u001b[1;32m   (...)\u001b[0m\n\u001b[0;32m   2569\u001b[0m \n\u001b[0;32m   2570\u001b[0m \u001b[38;5;124;03m    \"\"\"\u001b[39;00m\n\u001b[1;32m-> 2571\u001b[0m     \u001b[38;5;28;01mreturn\u001b[39;00m \u001b[43m_wrapfunc\u001b[49m\u001b[43m(\u001b[49m\u001b[43ma\u001b[49m\u001b[43m,\u001b[49m\u001b[43m \u001b[49m\u001b[38;5;124;43m'\u001b[39;49m\u001b[38;5;124;43mcumsum\u001b[39;49m\u001b[38;5;124;43m'\u001b[39;49m\u001b[43m,\u001b[49m\u001b[43m \u001b[49m\u001b[43maxis\u001b[49m\u001b[38;5;241;43m=\u001b[39;49m\u001b[43maxis\u001b[49m\u001b[43m,\u001b[49m\u001b[43m \u001b[49m\u001b[43mdtype\u001b[49m\u001b[38;5;241;43m=\u001b[39;49m\u001b[43mdtype\u001b[49m\u001b[43m,\u001b[49m\u001b[43m \u001b[49m\u001b[43mout\u001b[49m\u001b[38;5;241;43m=\u001b[39;49m\u001b[43mout\u001b[49m\u001b[43m)\u001b[49m\n",
      "File \u001b[1;32mC:\\ProgramData\\anaconda3\\envs\\ml\\lib\\site-packages\\numpy\\core\\fromnumeric.py:57\u001b[0m, in \u001b[0;36m_wrapfunc\u001b[1;34m(obj, method, *args, **kwds)\u001b[0m\n\u001b[0;32m     54\u001b[0m     \u001b[38;5;28;01mreturn\u001b[39;00m _wrapit(obj, method, \u001b[38;5;241m*\u001b[39margs, \u001b[38;5;241m*\u001b[39m\u001b[38;5;241m*\u001b[39mkwds)\n\u001b[0;32m     56\u001b[0m \u001b[38;5;28;01mtry\u001b[39;00m:\n\u001b[1;32m---> 57\u001b[0m     \u001b[38;5;28;01mreturn\u001b[39;00m bound(\u001b[38;5;241m*\u001b[39margs, \u001b[38;5;241m*\u001b[39m\u001b[38;5;241m*\u001b[39mkwds)\n\u001b[0;32m     58\u001b[0m \u001b[38;5;28;01mexcept\u001b[39;00m \u001b[38;5;167;01mTypeError\u001b[39;00m:\n\u001b[0;32m     59\u001b[0m     \u001b[38;5;66;03m# A TypeError occurs if the object does have such a method in its\u001b[39;00m\n\u001b[0;32m     60\u001b[0m     \u001b[38;5;66;03m# class, but its signature is not identical to that of NumPy's. This\u001b[39;00m\n\u001b[1;32m   (...)\u001b[0m\n\u001b[0;32m     64\u001b[0m     \u001b[38;5;66;03m# Call _wrapit from within the except clause to ensure a potential\u001b[39;00m\n\u001b[0;32m     65\u001b[0m     \u001b[38;5;66;03m# exception has a traceback chain.\u001b[39;00m\n\u001b[0;32m     66\u001b[0m     \u001b[38;5;28;01mreturn\u001b[39;00m _wrapit(obj, method, \u001b[38;5;241m*\u001b[39margs, \u001b[38;5;241m*\u001b[39m\u001b[38;5;241m*\u001b[39mkwds)\n",
      "\u001b[1;31mAxisError\u001b[0m: axis 7 is out of bounds for array of dimension 7"
     ]
    }
   ],
   "source": [
    "np.cumsum(np.array(np.arange(10).reshape(5,2), ndmin = 7), axis= 7)"
   ]
  },
  {
   "cell_type": "code",
   "execution_count": 305,
   "id": "dd109879",
   "metadata": {
    "scrolled": true
   },
   "outputs": [
    {
     "data": {
      "text/plain": [
       "7"
      ]
     },
     "execution_count": 305,
     "metadata": {},
     "output_type": "execute_result"
    }
   ],
   "source": [
    "np.cumsum(np.array(np.arange(10).reshape(5,2), ndmin = 7), axis = 5).ndim"
   ]
  },
  {
   "cell_type": "code",
   "execution_count": 306,
   "id": "bf622776",
   "metadata": {},
   "outputs": [
    {
     "data": {
      "text/plain": [
       "array([[[[[[[0, 1, 2, 3, 4, 5, 6, 7, 8, 9]]]]]]])"
      ]
     },
     "execution_count": 306,
     "metadata": {},
     "output_type": "execute_result"
    }
   ],
   "source": [
    "np.cumsum(np.array(np.arange(10), ndmin = 7), axis = 5)"
   ]
  },
  {
   "cell_type": "code",
   "execution_count": 307,
   "id": "b39ce7cb",
   "metadata": {},
   "outputs": [
    {
     "data": {
      "text/plain": [
       "array([[[[[[[ 0,  1,  3,  6, 10, 15, 21, 28, 36, 45]]]]]]])"
      ]
     },
     "execution_count": 307,
     "metadata": {},
     "output_type": "execute_result"
    }
   ],
   "source": [
    "np.cumsum(np.array(np.arange(10), ndmin = 7), axis = 6)"
   ]
  },
  {
   "cell_type": "code",
   "execution_count": 308,
   "id": "579f70d7",
   "metadata": {},
   "outputs": [
    {
     "data": {
      "text/plain": [
       "array([[[[[[[0, 1, 2, 3, 4, 5, 6, 7, 8, 9]]]]]]])"
      ]
     },
     "execution_count": 308,
     "metadata": {},
     "output_type": "execute_result"
    }
   ],
   "source": [
    "np.cumsum(np.array(np.arange(10), ndmin = 7), axis = 3)"
   ]
  },
  {
   "cell_type": "code",
   "execution_count": 309,
   "id": "99ac2a52",
   "metadata": {},
   "outputs": [
    {
     "data": {
      "text/plain": [
       "array([[[[[[[0, 1, 2, 3, 4, 5, 6, 7, 8, 9]]]]]]])"
      ]
     },
     "execution_count": 309,
     "metadata": {},
     "output_type": "execute_result"
    }
   ],
   "source": [
    "np.cumsum(np.array(np.arange(10), ndmin = 7), axis = 1)"
   ]
  },
  {
   "cell_type": "code",
   "execution_count": 310,
   "id": "2a00a3f3",
   "metadata": {},
   "outputs": [
    {
     "data": {
      "text/plain": [
       "array([[[[[[[0, 1, 2, 3, 4, 5, 6, 7, 8, 9]]]]]]])"
      ]
     },
     "execution_count": 310,
     "metadata": {},
     "output_type": "execute_result"
    }
   ],
   "source": [
    "np.cumsum(np.array(np.arange(10), ndmin = 7), axis = 0)"
   ]
  },
  {
   "cell_type": "code",
   "execution_count": 311,
   "id": "a8c241f8",
   "metadata": {},
   "outputs": [
    {
     "data": {
      "text/plain": [
       "array([[[[[[[0, 1, 2, 3, 4, 5, 6, 7, 8, 9]]]]]]])"
      ]
     },
     "execution_count": 311,
     "metadata": {},
     "output_type": "execute_result"
    }
   ],
   "source": [
    "np.cumsum(np.array(np.arange(10), ndmin = 7), axis = 2)"
   ]
  },
  {
   "cell_type": "markdown",
   "id": "2f4233c8",
   "metadata": {},
   "source": [
    "### Square Root (sqrt)\n",
    "`It is an in-built method by which we can retrive the square root of the passed integer value.`"
   ]
  },
  {
   "cell_type": "code",
   "execution_count": 312,
   "id": "4f193d94",
   "metadata": {},
   "outputs": [
    {
     "data": {
      "text/plain": [
       "10.0"
      ]
     },
     "execution_count": 312,
     "metadata": {},
     "output_type": "execute_result"
    }
   ],
   "source": [
    "# Take out the square root of the passed number\n",
    "\n",
    "np.sqrt(100)"
   ]
  },
  {
   "cell_type": "code",
   "execution_count": 313,
   "id": "fd389852",
   "metadata": {},
   "outputs": [
    {
     "ename": "TypeError",
     "evalue": "return arrays must be of ArrayType",
     "output_type": "error",
     "traceback": [
      "\u001b[1;31m---------------------------------------------------------------------------\u001b[0m",
      "\u001b[1;31mTypeError\u001b[0m                                 Traceback (most recent call last)",
      "Cell \u001b[1;32mIn[313], line 3\u001b[0m\n\u001b[0;32m      1\u001b[0m \u001b[38;5;66;03m# np.sqrt takes only 1 args\u001b[39;00m\n\u001b[1;32m----> 3\u001b[0m \u001b[43mnp\u001b[49m\u001b[38;5;241;43m.\u001b[39;49m\u001b[43msqrt\u001b[49m\u001b[43m(\u001b[49m\u001b[38;5;241;43m100\u001b[39;49m\u001b[43m,\u001b[49m\u001b[38;5;241;43m200\u001b[39;49m\u001b[43m)\u001b[49m\n",
      "\u001b[1;31mTypeError\u001b[0m: return arrays must be of ArrayType"
     ]
    }
   ],
   "source": [
    "# np.sqrt takes only 1 args\n",
    "\n",
    "np.sqrt(100,200)"
   ]
  },
  {
   "cell_type": "code",
   "execution_count": 314,
   "id": "fdd85a82",
   "metadata": {},
   "outputs": [
    {
     "data": {
      "text/plain": [
       "array([10.        , 14.14213562, 20.        ])"
      ]
     },
     "execution_count": 314,
     "metadata": {},
     "output_type": "execute_result"
    }
   ],
   "source": [
    "# Take out the square root of the list\n",
    "\n",
    "np.sqrt([100,200,400])"
   ]
  },
  {
   "cell_type": "code",
   "execution_count": 315,
   "id": "35efbf60",
   "metadata": {},
   "outputs": [
    {
     "data": {
      "text/plain": [
       "10.024968827881711"
      ]
     },
     "execution_count": 315,
     "metadata": {},
     "output_type": "execute_result"
    }
   ],
   "source": [
    "# Take out the square root of the passed number\n",
    "\n",
    "np.sqrt(100.5)"
   ]
  },
  {
   "cell_type": "code",
   "execution_count": 316,
   "id": "33abe0b6",
   "metadata": {},
   "outputs": [
    {
     "data": {
      "text/plain": [
       "4.47213595499958"
      ]
     },
     "execution_count": 316,
     "metadata": {},
     "output_type": "execute_result"
    }
   ],
   "source": [
    "# First it will do operation inside and then square root the value\n",
    "\n",
    "np.sqrt(100/5)"
   ]
  },
  {
   "cell_type": "code",
   "execution_count": 317,
   "id": "73417061",
   "metadata": {},
   "outputs": [
    {
     "data": {
      "text/plain": [
       "array([1, 2, 3, list([5, 6])], dtype=object)"
      ]
     },
     "execution_count": 317,
     "metadata": {},
     "output_type": "execute_result"
    }
   ],
   "source": [
    "s"
   ]
  },
  {
   "cell_type": "code",
   "execution_count": 318,
   "id": "09a49d79",
   "metadata": {
    "scrolled": true
   },
   "outputs": [
    {
     "ename": "TypeError",
     "evalue": "loop of ufunc does not support argument 0 of type int which has no callable sqrt method",
     "output_type": "error",
     "traceback": [
      "\u001b[1;31m---------------------------------------------------------------------------\u001b[0m",
      "\u001b[1;31mAttributeError\u001b[0m                            Traceback (most recent call last)",
      "\u001b[1;31mAttributeError\u001b[0m: 'int' object has no attribute 'sqrt'",
      "\nThe above exception was the direct cause of the following exception:\n",
      "\u001b[1;31mTypeError\u001b[0m                                 Traceback (most recent call last)",
      "Cell \u001b[1;32mIn[318], line 1\u001b[0m\n\u001b[1;32m----> 1\u001b[0m \u001b[43mnp\u001b[49m\u001b[38;5;241;43m.\u001b[39;49m\u001b[43msqrt\u001b[49m\u001b[43m(\u001b[49m\u001b[43ms\u001b[49m\u001b[43m)\u001b[49m\n",
      "\u001b[1;31mTypeError\u001b[0m: loop of ufunc does not support argument 0 of type int which has no callable sqrt method"
     ]
    }
   ],
   "source": [
    "np.sqrt(s)"
   ]
  },
  {
   "cell_type": "code",
   "execution_count": 319,
   "id": "e7c23de6",
   "metadata": {},
   "outputs": [
    {
     "data": {
      "text/plain": [
       "22.360679774997898"
      ]
     },
     "execution_count": 319,
     "metadata": {},
     "output_type": "execute_result"
    }
   ],
   "source": [
    "# First it will do operation inside and then square root the value\n",
    "\n",
    "np.sqrt(100*5)"
   ]
  },
  {
   "cell_type": "code",
   "execution_count": 320,
   "id": "7477e383",
   "metadata": {},
   "outputs": [
    {
     "data": {
      "text/plain": [
       "22.360679774997898"
      ]
     },
     "execution_count": 320,
     "metadata": {},
     "output_type": "execute_result"
    }
   ],
   "source": [
    "np.sqrt(500)"
   ]
  },
  {
   "cell_type": "code",
   "execution_count": 321,
   "id": "25106684",
   "metadata": {},
   "outputs": [
    {
     "data": {
      "text/plain": [
       "array([ 2.23606798,  3.16227766,  7.07106781, 10.        ])"
      ]
     },
     "execution_count": 321,
     "metadata": {},
     "output_type": "execute_result"
    }
   ],
   "source": [
    "# Taking square root of an array\n",
    "\n",
    "np.sqrt(np.array([5,10,50,100]))"
   ]
  },
  {
   "cell_type": "code",
   "execution_count": 322,
   "id": "a49ffdc0",
   "metadata": {},
   "outputs": [
    {
     "data": {
      "text/plain": [
       "array([[ 2.23606798,  3.16227766,  7.07106781, 10.        ],\n",
       "       [ 7.14142843, 10.48808848, 22.58317958, 33.1662479 ]])"
      ]
     },
     "execution_count": 322,
     "metadata": {},
     "output_type": "execute_result"
    }
   ],
   "source": [
    "# Taking square root of an array\n",
    "\n",
    "np.sqrt(np.array([[5,10,50,100],[51,110,510,1100]]))"
   ]
  },
  {
   "cell_type": "code",
   "execution_count": 326,
   "id": "8a68f0c5",
   "metadata": {},
   "outputs": [
    {
     "ename": "TypeError",
     "evalue": "loop of ufunc does not support argument 0 of type list which has no callable sqrt method",
     "output_type": "error",
     "traceback": [
      "\u001b[1;31m---------------------------------------------------------------------------\u001b[0m",
      "\u001b[1;31mAttributeError\u001b[0m                            Traceback (most recent call last)",
      "\u001b[1;31mAttributeError\u001b[0m: 'list' object has no attribute 'sqrt'",
      "\nThe above exception was the direct cause of the following exception:\n",
      "\u001b[1;31mTypeError\u001b[0m                                 Traceback (most recent call last)",
      "Cell \u001b[1;32mIn[326], line 3\u001b[0m\n\u001b[0;32m      1\u001b[0m \u001b[38;5;66;03m# Taking square root of an array\u001b[39;00m\n\u001b[1;32m----> 3\u001b[0m \u001b[43mnp\u001b[49m\u001b[38;5;241;43m.\u001b[39;49m\u001b[43msqrt\u001b[49m\u001b[43m(\u001b[49m\u001b[43mnp\u001b[49m\u001b[38;5;241;43m.\u001b[39;49m\u001b[43marray\u001b[49m\u001b[43m(\u001b[49m\u001b[43m[\u001b[49m\u001b[43m[\u001b[49m\u001b[38;5;241;43m5\u001b[39;49m\u001b[43m,\u001b[49m\u001b[38;5;241;43m10\u001b[39;49m\u001b[43m,\u001b[49m\u001b[38;5;241;43m100\u001b[39;49m\u001b[43m]\u001b[49m\u001b[43m,\u001b[49m\u001b[43m[\u001b[49m\u001b[38;5;241;43m51\u001b[39;49m\u001b[43m,\u001b[49m\u001b[38;5;241;43m110\u001b[39;49m\u001b[43m,\u001b[49m\u001b[38;5;241;43m510\u001b[39;49m\u001b[43m,\u001b[49m\u001b[38;5;241;43m1100\u001b[39;49m\u001b[43m]\u001b[49m\u001b[43m]\u001b[49m\u001b[43m,\u001b[49m\u001b[43m \u001b[49m\u001b[43mdtype\u001b[49m\u001b[38;5;241;43m=\u001b[39;49m\u001b[43m \u001b[49m\u001b[38;5;124;43m'\u001b[39;49m\u001b[38;5;124;43mO\u001b[39;49m\u001b[38;5;124;43m'\u001b[39;49m\u001b[43m)\u001b[49m\u001b[43m)\u001b[49m\n",
      "\u001b[1;31mTypeError\u001b[0m: loop of ufunc does not support argument 0 of type list which has no callable sqrt method"
     ]
    }
   ],
   "source": [
    "# Taking square root of an array\n",
    "\n",
    "np.sqrt(np.array([[5,10,100],[51,110,510,1100]], dtype= 'O'))"
   ]
  },
  {
   "cell_type": "code",
   "execution_count": 327,
   "id": "f34e4e4a",
   "metadata": {
    "scrolled": true
   },
   "outputs": [
    {
     "name": "stderr",
     "output_type": "stream",
     "text": [
      "C:\\Users\\Atharv Soni\\AppData\\Local\\Temp\\ipykernel_9908\\2013017738.py:3: VisibleDeprecationWarning: Creating an ndarray from ragged nested sequences (which is a list-or-tuple of lists-or-tuples-or ndarrays with different lengths or shapes) is deprecated. If you meant to do this, you must specify 'dtype=object' when creating the ndarray.\n",
      "  np.sqrt(np.array([[5,10,50,100],[[[[51,110,510,1100]]]]]))\n"
     ]
    },
    {
     "ename": "TypeError",
     "evalue": "loop of ufunc does not support argument 0 of type list which has no callable sqrt method",
     "output_type": "error",
     "traceback": [
      "\u001b[1;31m---------------------------------------------------------------------------\u001b[0m",
      "\u001b[1;31mAttributeError\u001b[0m                            Traceback (most recent call last)",
      "\u001b[1;31mAttributeError\u001b[0m: 'list' object has no attribute 'sqrt'",
      "\nThe above exception was the direct cause of the following exception:\n",
      "\u001b[1;31mTypeError\u001b[0m                                 Traceback (most recent call last)",
      "Cell \u001b[1;32mIn[327], line 3\u001b[0m\n\u001b[0;32m      1\u001b[0m \u001b[38;5;66;03m# Taking square root \u001b[39;00m\n\u001b[1;32m----> 3\u001b[0m \u001b[43mnp\u001b[49m\u001b[38;5;241;43m.\u001b[39;49m\u001b[43msqrt\u001b[49m\u001b[43m(\u001b[49m\u001b[43mnp\u001b[49m\u001b[38;5;241;43m.\u001b[39;49m\u001b[43marray\u001b[49m\u001b[43m(\u001b[49m\u001b[43m[\u001b[49m\u001b[43m[\u001b[49m\u001b[38;5;241;43m5\u001b[39;49m\u001b[43m,\u001b[49m\u001b[38;5;241;43m10\u001b[39;49m\u001b[43m,\u001b[49m\u001b[38;5;241;43m50\u001b[39;49m\u001b[43m,\u001b[49m\u001b[38;5;241;43m100\u001b[39;49m\u001b[43m]\u001b[49m\u001b[43m,\u001b[49m\u001b[43m[\u001b[49m\u001b[43m[\u001b[49m\u001b[43m[\u001b[49m\u001b[43m[\u001b[49m\u001b[38;5;241;43m51\u001b[39;49m\u001b[43m,\u001b[49m\u001b[38;5;241;43m110\u001b[39;49m\u001b[43m,\u001b[49m\u001b[38;5;241;43m510\u001b[39;49m\u001b[43m,\u001b[49m\u001b[38;5;241;43m1100\u001b[39;49m\u001b[43m]\u001b[49m\u001b[43m]\u001b[49m\u001b[43m]\u001b[49m\u001b[43m]\u001b[49m\u001b[43m]\u001b[49m\u001b[43m)\u001b[49m\u001b[43m)\u001b[49m\n",
      "\u001b[1;31mTypeError\u001b[0m: loop of ufunc does not support argument 0 of type list which has no callable sqrt method"
     ]
    }
   ],
   "source": [
    "# Taking square root \n",
    "\n",
    "np.sqrt(np.array([[5,10,50,100],[[[[51,110,510,1100]]]]]))"
   ]
  },
  {
   "cell_type": "code",
   "execution_count": 328,
   "id": "842472fd",
   "metadata": {},
   "outputs": [
    {
     "name": "stderr",
     "output_type": "stream",
     "text": [
      "C:\\Users\\Atharv Soni\\AppData\\Local\\Temp\\ipykernel_9908\\2893295748.py:3: VisibleDeprecationWarning: Creating an ndarray from ragged nested sequences (which is a list-or-tuple of lists-or-tuples-or ndarrays with different lengths or shapes) is deprecated. If you meant to do this, you must specify 'dtype=object' when creating the ndarray.\n",
      "  np.sqrt(np.array([[5,10,50,100],[51,110,510,1100,21]]))\n"
     ]
    },
    {
     "ename": "TypeError",
     "evalue": "loop of ufunc does not support argument 0 of type list which has no callable sqrt method",
     "output_type": "error",
     "traceback": [
      "\u001b[1;31m---------------------------------------------------------------------------\u001b[0m",
      "\u001b[1;31mAttributeError\u001b[0m                            Traceback (most recent call last)",
      "\u001b[1;31mAttributeError\u001b[0m: 'list' object has no attribute 'sqrt'",
      "\nThe above exception was the direct cause of the following exception:\n",
      "\u001b[1;31mTypeError\u001b[0m                                 Traceback (most recent call last)",
      "Cell \u001b[1;32mIn[328], line 3\u001b[0m\n\u001b[0;32m      1\u001b[0m \u001b[38;5;66;03m# Taking square root of an array\u001b[39;00m\n\u001b[1;32m----> 3\u001b[0m \u001b[43mnp\u001b[49m\u001b[38;5;241;43m.\u001b[39;49m\u001b[43msqrt\u001b[49m\u001b[43m(\u001b[49m\u001b[43mnp\u001b[49m\u001b[38;5;241;43m.\u001b[39;49m\u001b[43marray\u001b[49m\u001b[43m(\u001b[49m\u001b[43m[\u001b[49m\u001b[43m[\u001b[49m\u001b[38;5;241;43m5\u001b[39;49m\u001b[43m,\u001b[49m\u001b[38;5;241;43m10\u001b[39;49m\u001b[43m,\u001b[49m\u001b[38;5;241;43m50\u001b[39;49m\u001b[43m,\u001b[49m\u001b[38;5;241;43m100\u001b[39;49m\u001b[43m]\u001b[49m\u001b[43m,\u001b[49m\u001b[43m[\u001b[49m\u001b[38;5;241;43m51\u001b[39;49m\u001b[43m,\u001b[49m\u001b[38;5;241;43m110\u001b[39;49m\u001b[43m,\u001b[49m\u001b[38;5;241;43m510\u001b[39;49m\u001b[43m,\u001b[49m\u001b[38;5;241;43m1100\u001b[39;49m\u001b[43m,\u001b[49m\u001b[38;5;241;43m21\u001b[39;49m\u001b[43m]\u001b[49m\u001b[43m]\u001b[49m\u001b[43m)\u001b[49m\u001b[43m)\u001b[49m\n",
      "\u001b[1;31mTypeError\u001b[0m: loop of ufunc does not support argument 0 of type list which has no callable sqrt method"
     ]
    }
   ],
   "source": [
    "# Taking square root of an array\n",
    "\n",
    "np.sqrt(np.array([[5,10,50,100],[51,110,510,1100,21]]))"
   ]
  },
  {
   "cell_type": "code",
   "execution_count": 329,
   "id": "f2d27d11",
   "metadata": {},
   "outputs": [
    {
     "name": "stdout",
     "output_type": "stream",
     "text": [
      "object\n"
     ]
    },
    {
     "name": "stderr",
     "output_type": "stream",
     "text": [
      "C:\\Users\\Atharv Soni\\AppData\\Local\\Temp\\ipykernel_9908\\641030002.py:5: VisibleDeprecationWarning: Creating an ndarray from ragged nested sequences (which is a list-or-tuple of lists-or-tuples-or ndarrays with different lengths or shapes) is deprecated. If you meant to do this, you must specify 'dtype=object' when creating the ndarray.\n",
      "  print(np.array([[5,10,50,100],[51,110,510]]).dtype)\n"
     ]
    },
    {
     "ename": "ValueError",
     "evalue": "setting an array element with a sequence. The requested array has an inhomogeneous shape after 1 dimensions. The detected shape was (2,) + inhomogeneous part.",
     "output_type": "error",
     "traceback": [
      "\u001b[1;31m---------------------------------------------------------------------------\u001b[0m",
      "\u001b[1;31mValueError\u001b[0m                                Traceback (most recent call last)",
      "Cell \u001b[1;32mIn[329], line 6\u001b[0m\n\u001b[0;32m      1\u001b[0m \u001b[38;5;66;03m# Taking square root of an array length 2 with different size\u001b[39;00m\n\u001b[0;32m      2\u001b[0m \u001b[38;5;66;03m# it will throw the error bcz the dtype=object\u001b[39;00m\n\u001b[0;32m      3\u001b[0m \u001b[38;5;66;03m# The type of every object is string\u001b[39;00m\n\u001b[0;32m      5\u001b[0m \u001b[38;5;28mprint\u001b[39m(np\u001b[38;5;241m.\u001b[39marray([[\u001b[38;5;241m5\u001b[39m,\u001b[38;5;241m10\u001b[39m,\u001b[38;5;241m50\u001b[39m,\u001b[38;5;241m100\u001b[39m],[\u001b[38;5;241m51\u001b[39m,\u001b[38;5;241m110\u001b[39m,\u001b[38;5;241m510\u001b[39m]])\u001b[38;5;241m.\u001b[39mdtype)\n\u001b[1;32m----> 6\u001b[0m \u001b[38;5;28mprint\u001b[39m(np\u001b[38;5;241m.\u001b[39msqrt(\u001b[43mnp\u001b[49m\u001b[38;5;241;43m.\u001b[39;49m\u001b[43marray\u001b[49m\u001b[43m(\u001b[49m\u001b[43m[\u001b[49m\u001b[43m[\u001b[49m\u001b[38;5;241;43m5\u001b[39;49m\u001b[43m,\u001b[49m\u001b[38;5;241;43m10\u001b[39;49m\u001b[43m,\u001b[49m\u001b[38;5;241;43m50\u001b[39;49m\u001b[43m,\u001b[49m\u001b[38;5;241;43m100\u001b[39;49m\u001b[43m]\u001b[49m\u001b[43m,\u001b[49m\u001b[43m[\u001b[49m\u001b[38;5;241;43m51\u001b[39;49m\u001b[43m,\u001b[49m\u001b[38;5;241;43m110\u001b[39;49m\u001b[43m,\u001b[49m\u001b[38;5;241;43m510\u001b[39;49m\u001b[43m]\u001b[49m\u001b[43m]\u001b[49m\u001b[43m,\u001b[49m\u001b[43m \u001b[49m\u001b[43mdtype\u001b[49m\u001b[38;5;241;43m=\u001b[39;49m\u001b[38;5;124;43m'\u001b[39;49m\u001b[38;5;124;43mint32\u001b[39;49m\u001b[38;5;124;43m'\u001b[39;49m\u001b[43m)\u001b[49m))\n",
      "\u001b[1;31mValueError\u001b[0m: setting an array element with a sequence. The requested array has an inhomogeneous shape after 1 dimensions. The detected shape was (2,) + inhomogeneous part."
     ]
    }
   ],
   "source": [
    "# Taking square root of an array length 2 with different size\n",
    "# it will throw the error bcz the dtype=object\n",
    "# The type of every object is string\n",
    "\n",
    "print(np.array([[5,10,50,100],[51,110,510]]).dtype)\n",
    "print(np.sqrt(np.array([[5,10,50,100],[51,110,510]], dtype='int32')))"
   ]
  },
  {
   "cell_type": "code",
   "execution_count": 334,
   "id": "a76760bf",
   "metadata": {},
   "outputs": [
    {
     "name": "stdout",
     "output_type": "stream",
     "text": [
      "[[ 2.23606798  3.16227766  7.07106781 10.        ]\n",
      " [ 7.14142843 10.48808848  7.34846923 22.58317958]]\n"
     ]
    }
   ],
   "source": [
    "# \n",
    "\n",
    "print(np.sqrt(np.array([[5,10,50,100],[51,110,54,510]], dtype='int32')))"
   ]
  },
  {
   "cell_type": "code",
   "execution_count": 335,
   "id": "2a047eeb",
   "metadata": {
    "scrolled": true
   },
   "outputs": [
    {
     "ename": "TypeError",
     "evalue": "loop of ufunc does not support argument 0 of type int which has no callable sqrt method",
     "output_type": "error",
     "traceback": [
      "\u001b[1;31m---------------------------------------------------------------------------\u001b[0m",
      "\u001b[1;31mAttributeError\u001b[0m                            Traceback (most recent call last)",
      "\u001b[1;31mAttributeError\u001b[0m: 'int' object has no attribute 'sqrt'",
      "\nThe above exception was the direct cause of the following exception:\n",
      "\u001b[1;31mTypeError\u001b[0m                                 Traceback (most recent call last)",
      "Cell \u001b[1;32mIn[335], line 3\u001b[0m\n\u001b[0;32m      1\u001b[0m \u001b[38;5;66;03m# \u001b[39;00m\n\u001b[1;32m----> 3\u001b[0m \u001b[38;5;28mprint\u001b[39m(\u001b[43mnp\u001b[49m\u001b[38;5;241;43m.\u001b[39;49m\u001b[43msqrt\u001b[49m\u001b[43m(\u001b[49m\u001b[43mnp\u001b[49m\u001b[38;5;241;43m.\u001b[39;49m\u001b[43marray\u001b[49m\u001b[43m(\u001b[49m\u001b[43m[\u001b[49m\u001b[43m[\u001b[49m\u001b[38;5;241;43m5\u001b[39;49m\u001b[43m,\u001b[49m\u001b[38;5;241;43m10\u001b[39;49m\u001b[43m,\u001b[49m\u001b[38;5;241;43m50\u001b[39;49m\u001b[43m,\u001b[49m\u001b[38;5;241;43m100\u001b[39;49m\u001b[43m]\u001b[49m\u001b[43m,\u001b[49m\u001b[43m[\u001b[49m\u001b[38;5;241;43m51\u001b[39;49m\u001b[43m,\u001b[49m\u001b[38;5;241;43m110\u001b[39;49m\u001b[43m,\u001b[49m\u001b[38;5;241;43m54\u001b[39;49m\u001b[43m,\u001b[49m\u001b[38;5;241;43m510\u001b[39;49m\u001b[43m]\u001b[49m\u001b[43m]\u001b[49m\u001b[43m,\u001b[49m\u001b[43m \u001b[49m\u001b[43mdtype\u001b[49m\u001b[38;5;241;43m=\u001b[39;49m\u001b[38;5;124;43m'\u001b[39;49m\u001b[38;5;124;43mO\u001b[39;49m\u001b[38;5;124;43m'\u001b[39;49m\u001b[43m)\u001b[49m\u001b[43m)\u001b[49m)\n",
      "\u001b[1;31mTypeError\u001b[0m: loop of ufunc does not support argument 0 of type int which has no callable sqrt method"
     ]
    }
   ],
   "source": [
    "# \n",
    "\n",
    "print(np.sqrt(np.array([[5,10,50,100],[51,110,54,510]], dtype='O')))"
   ]
  },
  {
   "cell_type": "code",
   "execution_count": 336,
   "id": "34f30698",
   "metadata": {},
   "outputs": [
    {
     "name": "stdout",
     "output_type": "stream",
     "text": [
      "[10.0, 14.142, 22.361]\n"
     ]
    }
   ],
   "source": [
    "# Function for taking out square root of the numbers\n",
    "\n",
    "def sq_rt(*n):\n",
    "    b = []\n",
    "    for i in n:\n",
    "        b.append(round(np.sqrt(i),3))\n",
    "    print(b)\n",
    "    \n",
    "sq_rt(100,200,500)"
   ]
  },
  {
   "cell_type": "markdown",
   "id": "7df3aab3",
   "metadata": {},
   "source": [
    "### Exponentiation\n",
    "\n",
    "`2.718281828459045 to the power of the value of which you want to find the exponentiation.` <br>\n",
    "`Exponentation is used to find the exponential growth`<br>\n",
    "`2.718281828459045 value can be change based on the situations`"
   ]
  },
  {
   "cell_type": "code",
   "execution_count": 337,
   "id": "f365f46b",
   "metadata": {},
   "outputs": [
    {
     "data": {
      "text/plain": [
       "148.4131591025766"
      ]
     },
     "execution_count": 337,
     "metadata": {},
     "output_type": "execute_result"
    }
   ],
   "source": [
    "# Find the exponentation of 5\n",
    "# 2.718281828459045 to the power of 5\n",
    "\n",
    "np.exp(5)"
   ]
  },
  {
   "cell_type": "code",
   "execution_count": 338,
   "id": "e1bc72dc",
   "metadata": {},
   "outputs": [
    {
     "data": {
      "text/plain": [
       "148.41315910257657"
      ]
     },
     "execution_count": 338,
     "metadata": {},
     "output_type": "execute_result"
    }
   ],
   "source": [
    "2.718281828459045**5"
   ]
  },
  {
   "cell_type": "code",
   "execution_count": 339,
   "id": "90cad1b4",
   "metadata": {},
   "outputs": [
    {
     "data": {
      "text/plain": [
       "7.38905609893065"
      ]
     },
     "execution_count": 339,
     "metadata": {},
     "output_type": "execute_result"
    }
   ],
   "source": [
    "# Find the exponentation of 2\n",
    "\n",
    "np.exp(2)"
   ]
  },
  {
   "cell_type": "code",
   "execution_count": 340,
   "id": "164f12c1",
   "metadata": {},
   "outputs": [
    {
     "data": {
      "text/plain": [
       "2.718281828459045"
      ]
     },
     "execution_count": 340,
     "metadata": {},
     "output_type": "execute_result"
    }
   ],
   "source": [
    "# Find the exponentation of 1\n",
    "\n",
    "np.exp(1)"
   ]
  },
  {
   "cell_type": "code",
   "execution_count": 341,
   "id": "39d955fd",
   "metadata": {},
   "outputs": [
    {
     "data": {
      "text/plain": [
       "1.0"
      ]
     },
     "execution_count": 341,
     "metadata": {},
     "output_type": "execute_result"
    }
   ],
   "source": [
    "# Find the exponentation of 0\n",
    "# exponentiation of 0 is always 1\n",
    "\n",
    "np.exp(0)"
   ]
  },
  {
   "cell_type": "code",
   "execution_count": 342,
   "id": "2f6e1af7",
   "metadata": {},
   "outputs": [
    {
     "data": {
      "text/plain": [
       "(array([1, 2, 3, 4]), array([[6, 8, 3, 2]]))"
      ]
     },
     "execution_count": 342,
     "metadata": {},
     "output_type": "execute_result"
    }
   ],
   "source": [
    "first, second"
   ]
  },
  {
   "cell_type": "code",
   "execution_count": 343,
   "id": "c4d8114a",
   "metadata": {},
   "outputs": [
    {
     "data": {
      "text/plain": [
       "array([ 2.71828183,  7.3890561 , 20.08553692, 54.59815003])"
      ]
     },
     "execution_count": 343,
     "metadata": {},
     "output_type": "execute_result"
    }
   ],
   "source": [
    "# Manually calculation of exponenation of variable named first\n",
    "\n",
    "2.718281828459045**first"
   ]
  },
  {
   "cell_type": "code",
   "execution_count": 344,
   "id": "b82b7d40",
   "metadata": {},
   "outputs": [
    {
     "data": {
      "text/plain": [
       "array([ 2.71828183,  7.3890561 , 20.08553692, 54.59815003])"
      ]
     },
     "execution_count": 344,
     "metadata": {},
     "output_type": "execute_result"
    }
   ],
   "source": [
    "# Find the exponentation of variable names first which contains an 1D array\n",
    "\n",
    "np.exp(first)"
   ]
  },
  {
   "cell_type": "code",
   "execution_count": 345,
   "id": "85635da9",
   "metadata": {},
   "outputs": [
    {
     "name": "stdout",
     "output_type": "stream",
     "text": [
      "[1 2 3 list([5, 6])]\n"
     ]
    },
    {
     "ename": "TypeError",
     "evalue": "loop of ufunc does not support argument 0 of type int which has no callable exp method",
     "output_type": "error",
     "traceback": [
      "\u001b[1;31m---------------------------------------------------------------------------\u001b[0m",
      "\u001b[1;31mAttributeError\u001b[0m                            Traceback (most recent call last)",
      "\u001b[1;31mAttributeError\u001b[0m: 'int' object has no attribute 'exp'",
      "\nThe above exception was the direct cause of the following exception:\n",
      "\u001b[1;31mTypeError\u001b[0m                                 Traceback (most recent call last)",
      "Cell \u001b[1;32mIn[345], line 2\u001b[0m\n\u001b[0;32m      1\u001b[0m \u001b[38;5;28mprint\u001b[39m(s)\n\u001b[1;32m----> 2\u001b[0m \u001b[43mnp\u001b[49m\u001b[38;5;241;43m.\u001b[39;49m\u001b[43mexp\u001b[49m\u001b[43m(\u001b[49m\u001b[43ms\u001b[49m\u001b[43m)\u001b[49m\n",
      "\u001b[1;31mTypeError\u001b[0m: loop of ufunc does not support argument 0 of type int which has no callable exp method"
     ]
    }
   ],
   "source": [
    "print(s)\n",
    "np.exp(s)"
   ]
  },
  {
   "cell_type": "code",
   "execution_count": 346,
   "id": "f50b4d6d",
   "metadata": {},
   "outputs": [
    {
     "data": {
      "text/plain": [
       "array([[[ 53, 223,  32,  45,  12],\n",
       "        [983,  22, 543,  65,   5]]])"
      ]
     },
     "execution_count": 346,
     "metadata": {},
     "output_type": "execute_result"
    }
   ],
   "source": [
    "mo = np.array([[[53, 223, 32, 45, 12], [983, 22, 543, 65,5]]])\n",
    "mo"
   ]
  },
  {
   "cell_type": "code",
   "execution_count": 347,
   "id": "2cba5f42",
   "metadata": {},
   "outputs": [
    {
     "name": "stderr",
     "output_type": "stream",
     "text": [
      "C:\\Users\\Atharv Soni\\AppData\\Local\\Temp\\ipykernel_9908\\1956707260.py:1: VisibleDeprecationWarning: Creating an ndarray from ragged nested sequences (which is a list-or-tuple of lists-or-tuples-or ndarrays with different lengths or shapes) is deprecated. If you meant to do this, you must specify 'dtype=object' when creating the ndarray.\n",
      "  llo = np.array([[53, 223, 32, 45, 12], [983, 22, 543, 65]])\n"
     ]
    },
    {
     "data": {
      "text/plain": [
       "array([list([53, 223, 32, 45, 12]), list([983, 22, 543, 65])],\n",
       "      dtype=object)"
      ]
     },
     "execution_count": 347,
     "metadata": {},
     "output_type": "execute_result"
    }
   ],
   "source": [
    "llo = np.array([[53, 223, 32, 45, 12], [983, 22, 543, 65]])\n",
    "llo"
   ]
  },
  {
   "cell_type": "code",
   "execution_count": 348,
   "id": "0294e747",
   "metadata": {},
   "outputs": [
    {
     "data": {
      "text/plain": [
       "array([1, 2, 3, 4])"
      ]
     },
     "execution_count": 348,
     "metadata": {},
     "output_type": "execute_result"
    }
   ],
   "source": [
    "o = np.array([1, 2, 3, 4])\n",
    "o"
   ]
  },
  {
   "cell_type": "code",
   "execution_count": 349,
   "id": "0c1793d1",
   "metadata": {},
   "outputs": [
    {
     "data": {
      "text/plain": [
       "array([ 2.71828183,  7.3890561 , 20.08553692, 54.59815003])"
      ]
     },
     "execution_count": 349,
     "metadata": {},
     "output_type": "execute_result"
    }
   ],
   "source": [
    "# exponenation of variable named o\n",
    "\n",
    "np.exp(o)"
   ]
  },
  {
   "cell_type": "code",
   "execution_count": 350,
   "id": "2a5cbd29",
   "metadata": {},
   "outputs": [
    {
     "name": "stderr",
     "output_type": "stream",
     "text": [
      "C:\\Users\\Atharv Soni\\AppData\\Local\\Temp\\ipykernel_9908\\675434003.py:1: RuntimeWarning: overflow encountered in exp\n",
      "  np.exp(mo)\n"
     ]
    },
    {
     "data": {
      "text/plain": [
       "array([[[1.04137594e+023, 7.04156941e+096, 7.89629602e+013,\n",
       "         3.49342711e+019, 1.62754791e+005],\n",
       "        [            inf, 3.58491285e+009, 6.63595868e+235,\n",
       "         1.69488924e+028, 1.48413159e+002]]])"
      ]
     },
     "execution_count": 350,
     "metadata": {},
     "output_type": "execute_result"
    }
   ],
   "source": [
    "np.exp(mo)"
   ]
  },
  {
   "cell_type": "code",
   "execution_count": 351,
   "id": "87764e97",
   "metadata": {},
   "outputs": [
    {
     "name": "stdout",
     "output_type": "stream",
     "text": [
      "[list([53, 223, 32, 45, 12]) list([983, 22, 543, 65])]\n"
     ]
    },
    {
     "ename": "TypeError",
     "evalue": "loop of ufunc does not support argument 0 of type list which has no callable exp method",
     "output_type": "error",
     "traceback": [
      "\u001b[1;31m---------------------------------------------------------------------------\u001b[0m",
      "\u001b[1;31mAttributeError\u001b[0m                            Traceback (most recent call last)",
      "\u001b[1;31mAttributeError\u001b[0m: 'list' object has no attribute 'exp'",
      "\nThe above exception was the direct cause of the following exception:\n",
      "\u001b[1;31mTypeError\u001b[0m                                 Traceback (most recent call last)",
      "Cell \u001b[1;32mIn[351], line 2\u001b[0m\n\u001b[0;32m      1\u001b[0m \u001b[38;5;28mprint\u001b[39m(llo)\n\u001b[1;32m----> 2\u001b[0m \u001b[38;5;28mprint\u001b[39m(\u001b[43mnp\u001b[49m\u001b[38;5;241;43m.\u001b[39;49m\u001b[43mexp\u001b[49m\u001b[43m(\u001b[49m\u001b[43mllo\u001b[49m\u001b[43m)\u001b[49m)\n",
      "\u001b[1;31mTypeError\u001b[0m: loop of ufunc does not support argument 0 of type list which has no callable exp method"
     ]
    }
   ],
   "source": [
    "print(llo)\n",
    "print(np.exp(llo))"
   ]
  },
  {
   "cell_type": "code",
   "execution_count": 352,
   "id": "c9d64318",
   "metadata": {},
   "outputs": [
    {
     "name": "stdout",
     "output_type": "stream",
     "text": [
      "[1.04137594e+23 7.04156941e+96 7.89629602e+13 3.49342711e+19\n",
      " 1.62754791e+05]\n",
      "[            inf 3.58491285e+009 6.63595868e+235 1.69488924e+028]\n"
     ]
    },
    {
     "name": "stderr",
     "output_type": "stream",
     "text": [
      "C:\\Users\\Atharv Soni\\AppData\\Local\\Temp\\ipykernel_9908\\2647975871.py:2: RuntimeWarning: overflow encountered in exp\n",
      "  print(np.exp(llo[1]))\n"
     ]
    }
   ],
   "source": [
    "print(np.exp(llo[0]))\n",
    "print(np.exp(llo[1]))"
   ]
  },
  {
   "cell_type": "markdown",
   "id": "d1fff2ae",
   "metadata": {},
   "source": [
    "### Log\n",
    "`It helps user to calculate Natural logarithm of x where x belongs to all the input array elements.`"
   ]
  },
  {
   "cell_type": "code",
   "execution_count": 353,
   "id": "9835c758",
   "metadata": {},
   "outputs": [
    {
     "data": {
      "text/plain": [
       "0.0"
      ]
     },
     "execution_count": 353,
     "metadata": {},
     "output_type": "execute_result"
    }
   ],
   "source": [
    "np.log(1)"
   ]
  },
  {
   "cell_type": "code",
   "execution_count": 354,
   "id": "bf453e92",
   "metadata": {},
   "outputs": [
    {
     "name": "stderr",
     "output_type": "stream",
     "text": [
      "C:\\Users\\Atharv Soni\\AppData\\Local\\Temp\\ipykernel_9908\\2933082444.py:1: RuntimeWarning: divide by zero encountered in log\n",
      "  np.log(0)\n"
     ]
    },
    {
     "data": {
      "text/plain": [
       "-inf"
      ]
     },
     "execution_count": 354,
     "metadata": {},
     "output_type": "execute_result"
    }
   ],
   "source": [
    "np.log(0)"
   ]
  },
  {
   "cell_type": "code",
   "execution_count": 20,
   "id": "d2ec3d70-22b0-4d5c-b5c2-bf11de4a4708",
   "metadata": {},
   "outputs": [
    {
     "data": {
      "text/plain": [
       "5.954196310386875"
      ]
     },
     "execution_count": 20,
     "metadata": {},
     "output_type": "execute_result"
    }
   ],
   "source": [
    "np.log2(62)"
   ]
  },
  {
   "cell_type": "markdown",
   "id": "4e8b0887",
   "metadata": {},
   "source": [
    "### Sum\n",
    "`It is an in-built method by which we can retrive the addition of the passed integer value.`"
   ]
  },
  {
   "cell_type": "code",
   "execution_count": 355,
   "id": "94199da3",
   "metadata": {},
   "outputs": [
    {
     "name": "stdout",
     "output_type": "stream",
     "text": [
      "12\n",
      "12\n"
     ]
    }
   ],
   "source": [
    "# Sum of a in python and numpy\n",
    "\n",
    "a = [1,2,3,6]\n",
    "\n",
    "print(sum(a))\n",
    "print(np.sum(a))"
   ]
  },
  {
   "cell_type": "code",
   "execution_count": 356,
   "id": "72f6e2c1",
   "metadata": {},
   "outputs": [
    {
     "name": "stderr",
     "output_type": "stream",
     "text": [
      "C:\\Users\\Atharv Soni\\AppData\\Local\\Temp\\ipykernel_9908\\2971593054.py:1: VisibleDeprecationWarning: Creating an ndarray from ragged nested sequences (which is a list-or-tuple of lists-or-tuples-or ndarrays with different lengths or shapes) is deprecated. If you meant to do this, you must specify 'dtype=object' when creating the ndarray.\n",
      "  s = np.array([1,2,3,[5,6]])\n"
     ]
    },
    {
     "ename": "TypeError",
     "evalue": "unsupported operand type(s) for +: 'int' and 'list'",
     "output_type": "error",
     "traceback": [
      "\u001b[1;31m---------------------------------------------------------------------------\u001b[0m",
      "\u001b[1;31mTypeError\u001b[0m                                 Traceback (most recent call last)",
      "Cell \u001b[1;32mIn[356], line 2\u001b[0m\n\u001b[0;32m      1\u001b[0m s \u001b[38;5;241m=\u001b[39m np\u001b[38;5;241m.\u001b[39marray([\u001b[38;5;241m1\u001b[39m,\u001b[38;5;241m2\u001b[39m,\u001b[38;5;241m3\u001b[39m,[\u001b[38;5;241m5\u001b[39m,\u001b[38;5;241m6\u001b[39m]])\n\u001b[1;32m----> 2\u001b[0m \u001b[43mnp\u001b[49m\u001b[38;5;241;43m.\u001b[39;49m\u001b[43msum\u001b[49m\u001b[43m(\u001b[49m\u001b[43ms\u001b[49m\u001b[43m)\u001b[49m\n",
      "File \u001b[1;32m<__array_function__ internals>:180\u001b[0m, in \u001b[0;36msum\u001b[1;34m(*args, **kwargs)\u001b[0m\n",
      "File \u001b[1;32mC:\\ProgramData\\anaconda3\\envs\\ml\\lib\\site-packages\\numpy\\core\\fromnumeric.py:2298\u001b[0m, in \u001b[0;36msum\u001b[1;34m(a, axis, dtype, out, keepdims, initial, where)\u001b[0m\n\u001b[0;32m   2295\u001b[0m         \u001b[38;5;28;01mreturn\u001b[39;00m out\n\u001b[0;32m   2296\u001b[0m     \u001b[38;5;28;01mreturn\u001b[39;00m res\n\u001b[1;32m-> 2298\u001b[0m \u001b[38;5;28;01mreturn\u001b[39;00m \u001b[43m_wrapreduction\u001b[49m\u001b[43m(\u001b[49m\u001b[43ma\u001b[49m\u001b[43m,\u001b[49m\u001b[43m \u001b[49m\u001b[43mnp\u001b[49m\u001b[38;5;241;43m.\u001b[39;49m\u001b[43madd\u001b[49m\u001b[43m,\u001b[49m\u001b[43m \u001b[49m\u001b[38;5;124;43m'\u001b[39;49m\u001b[38;5;124;43msum\u001b[39;49m\u001b[38;5;124;43m'\u001b[39;49m\u001b[43m,\u001b[49m\u001b[43m \u001b[49m\u001b[43maxis\u001b[49m\u001b[43m,\u001b[49m\u001b[43m \u001b[49m\u001b[43mdtype\u001b[49m\u001b[43m,\u001b[49m\u001b[43m \u001b[49m\u001b[43mout\u001b[49m\u001b[43m,\u001b[49m\u001b[43m \u001b[49m\u001b[43mkeepdims\u001b[49m\u001b[38;5;241;43m=\u001b[39;49m\u001b[43mkeepdims\u001b[49m\u001b[43m,\u001b[49m\n\u001b[0;32m   2299\u001b[0m \u001b[43m                      \u001b[49m\u001b[43minitial\u001b[49m\u001b[38;5;241;43m=\u001b[39;49m\u001b[43minitial\u001b[49m\u001b[43m,\u001b[49m\u001b[43m \u001b[49m\u001b[43mwhere\u001b[49m\u001b[38;5;241;43m=\u001b[39;49m\u001b[43mwhere\u001b[49m\u001b[43m)\u001b[49m\n",
      "File \u001b[1;32mC:\\ProgramData\\anaconda3\\envs\\ml\\lib\\site-packages\\numpy\\core\\fromnumeric.py:86\u001b[0m, in \u001b[0;36m_wrapreduction\u001b[1;34m(obj, ufunc, method, axis, dtype, out, **kwargs)\u001b[0m\n\u001b[0;32m     83\u001b[0m         \u001b[38;5;28;01melse\u001b[39;00m:\n\u001b[0;32m     84\u001b[0m             \u001b[38;5;28;01mreturn\u001b[39;00m reduction(axis\u001b[38;5;241m=\u001b[39maxis, out\u001b[38;5;241m=\u001b[39mout, \u001b[38;5;241m*\u001b[39m\u001b[38;5;241m*\u001b[39mpasskwargs)\n\u001b[1;32m---> 86\u001b[0m \u001b[38;5;28;01mreturn\u001b[39;00m ufunc\u001b[38;5;241m.\u001b[39mreduce(obj, axis, dtype, out, \u001b[38;5;241m*\u001b[39m\u001b[38;5;241m*\u001b[39mpasskwargs)\n",
      "\u001b[1;31mTypeError\u001b[0m: unsupported operand type(s) for +: 'int' and 'list'"
     ]
    }
   ],
   "source": [
    "s = np.array([1,2,3,[5,6]])\n",
    "np.sum(s)"
   ]
  },
  {
   "cell_type": "code",
   "execution_count": 357,
   "id": "088988ad",
   "metadata": {},
   "outputs": [
    {
     "name": "stdout",
     "output_type": "stream",
     "text": [
      "[1 2 3 6] 12\n"
     ]
    }
   ],
   "source": [
    "# Sum of a(array)\n",
    "\n",
    "a = np.array(a)\n",
    "\n",
    "print(a,a.sum())"
   ]
  },
  {
   "cell_type": "code",
   "execution_count": 358,
   "id": "f55c79d1",
   "metadata": {},
   "outputs": [
    {
     "name": "stdout",
     "output_type": "stream",
     "text": [
      "[[[1 2 3 6]]] 12\n"
     ]
    }
   ],
   "source": [
    "# Sum of a(array)\n",
    "\n",
    "c = np.array([[a]])\n",
    "\n",
    "print(c,c.sum())"
   ]
  },
  {
   "cell_type": "code",
   "execution_count": 359,
   "id": "ab5350aa",
   "metadata": {},
   "outputs": [
    {
     "name": "stdout",
     "output_type": "stream",
     "text": [
      "[[1 3 5 8]\n",
      " [1 3 7 9]] int32 37\n"
     ]
    }
   ],
   "source": [
    "# Create a 2D array\n",
    "# Sum of array with same size (dtype =int32)\n",
    "\n",
    "b = np.array([[1,3,5,8],[1,3,7,9]])\n",
    "\n",
    "print(b,b.dtype,b.sum())"
   ]
  },
  {
   "cell_type": "code",
   "execution_count": 360,
   "id": "b7c6a59c",
   "metadata": {},
   "outputs": [
    {
     "name": "stdout",
     "output_type": "stream",
     "text": [
      "[list([1, 3, 5, 8]) list([[1, 3, 7, 9]])] object [1, 3, 5, 8, [1, 3, 7, 9]]\n"
     ]
    },
    {
     "name": "stderr",
     "output_type": "stream",
     "text": [
      "C:\\Users\\Atharv Soni\\AppData\\Local\\Temp\\ipykernel_9908\\2743500037.py:3: VisibleDeprecationWarning: Creating an ndarray from ragged nested sequences (which is a list-or-tuple of lists-or-tuples-or ndarrays with different lengths or shapes) is deprecated. If you meant to do this, you must specify 'dtype=object' when creating the ndarray.\n",
      "  b = np.array([[1,3,5,8],[[1,3,7,9]]])\n"
     ]
    }
   ],
   "source": [
    "#\n",
    "\n",
    "b = np.array([[1,3,5,8],[[1,3,7,9]]])\n",
    "\n",
    "print(b,b.dtype,b.sum())"
   ]
  },
  {
   "cell_type": "code",
   "execution_count": 361,
   "id": "33dbb1f2",
   "metadata": {},
   "outputs": [
    {
     "ename": "UFuncTypeError",
     "evalue": "ufunc 'add' did not contain a loop with signature matching types (dtype('<U11'), dtype('<U11')) -> None",
     "output_type": "error",
     "traceback": [
      "\u001b[1;31m---------------------------------------------------------------------------\u001b[0m",
      "\u001b[1;31mUFuncTypeError\u001b[0m                            Traceback (most recent call last)",
      "Cell \u001b[1;32mIn[361], line 7\u001b[0m\n\u001b[0;32m      1\u001b[0m \u001b[38;5;66;03m# Create a 2D array\u001b[39;00m\n\u001b[0;32m      2\u001b[0m \u001b[38;5;66;03m# Sum of array with same size (dtype =unicode(U11))\u001b[39;00m\n\u001b[0;32m      3\u001b[0m \u001b[38;5;66;03m# It will throw the error because no operations can be done with unicode\u001b[39;00m\n\u001b[0;32m      5\u001b[0m c \u001b[38;5;241m=\u001b[39m np\u001b[38;5;241m.\u001b[39marray([[\u001b[38;5;241m1\u001b[39m,\u001b[38;5;241m3\u001b[39m,\u001b[38;5;241m5\u001b[39m,\u001b[38;5;124m'\u001b[39m\u001b[38;5;124mpalak\u001b[39m\u001b[38;5;124m'\u001b[39m],[\u001b[38;5;241m1\u001b[39m,\u001b[38;5;241m3\u001b[39m,\u001b[38;5;241m7\u001b[39m,\u001b[38;5;241m9\u001b[39m]])\n\u001b[1;32m----> 7\u001b[0m \u001b[38;5;28mprint\u001b[39m(c,c\u001b[38;5;241m.\u001b[39mdtype,\u001b[43mc\u001b[49m\u001b[38;5;241;43m.\u001b[39;49m\u001b[43msum\u001b[49m\u001b[43m(\u001b[49m\u001b[43m)\u001b[49m)\n",
      "File \u001b[1;32mC:\\ProgramData\\anaconda3\\envs\\ml\\lib\\site-packages\\numpy\\core\\_methods.py:48\u001b[0m, in \u001b[0;36m_sum\u001b[1;34m(a, axis, dtype, out, keepdims, initial, where)\u001b[0m\n\u001b[0;32m     46\u001b[0m \u001b[38;5;28;01mdef\u001b[39;00m \u001b[38;5;21m_sum\u001b[39m(a, axis\u001b[38;5;241m=\u001b[39m\u001b[38;5;28;01mNone\u001b[39;00m, dtype\u001b[38;5;241m=\u001b[39m\u001b[38;5;28;01mNone\u001b[39;00m, out\u001b[38;5;241m=\u001b[39m\u001b[38;5;28;01mNone\u001b[39;00m, keepdims\u001b[38;5;241m=\u001b[39m\u001b[38;5;28;01mFalse\u001b[39;00m,\n\u001b[0;32m     47\u001b[0m          initial\u001b[38;5;241m=\u001b[39m_NoValue, where\u001b[38;5;241m=\u001b[39m\u001b[38;5;28;01mTrue\u001b[39;00m):\n\u001b[1;32m---> 48\u001b[0m     \u001b[38;5;28;01mreturn\u001b[39;00m \u001b[43mumr_sum\u001b[49m\u001b[43m(\u001b[49m\u001b[43ma\u001b[49m\u001b[43m,\u001b[49m\u001b[43m \u001b[49m\u001b[43maxis\u001b[49m\u001b[43m,\u001b[49m\u001b[43m \u001b[49m\u001b[43mdtype\u001b[49m\u001b[43m,\u001b[49m\u001b[43m \u001b[49m\u001b[43mout\u001b[49m\u001b[43m,\u001b[49m\u001b[43m \u001b[49m\u001b[43mkeepdims\u001b[49m\u001b[43m,\u001b[49m\u001b[43m \u001b[49m\u001b[43minitial\u001b[49m\u001b[43m,\u001b[49m\u001b[43m \u001b[49m\u001b[43mwhere\u001b[49m\u001b[43m)\u001b[49m\n",
      "\u001b[1;31mUFuncTypeError\u001b[0m: ufunc 'add' did not contain a loop with signature matching types (dtype('<U11'), dtype('<U11')) -> None"
     ]
    }
   ],
   "source": [
    "# Create a 2D array\n",
    "# Sum of array with same size (dtype =unicode(U11))\n",
    "# It will throw the error because no operations can be done with unicode\n",
    "\n",
    "c = np.array([[1,3,5,'palak'],[1,3,7,9]])\n",
    "\n",
    "print(c,c.dtype,c.sum())"
   ]
  },
  {
   "cell_type": "code",
   "execution_count": 362,
   "id": "8e67252c",
   "metadata": {},
   "outputs": [
    {
     "name": "stdout",
     "output_type": "stream",
     "text": [
      "[list([1, 3, 5, 'palak']) list([1, 3, 7])] object [1, 3, 5, 'palak', 1, 3, 7]\n"
     ]
    },
    {
     "name": "stderr",
     "output_type": "stream",
     "text": [
      "C:\\Users\\Atharv Soni\\AppData\\Local\\Temp\\ipykernel_9908\\807058748.py:5: VisibleDeprecationWarning: Creating an ndarray from ragged nested sequences (which is a list-or-tuple of lists-or-tuples-or ndarrays with different lengths or shapes) is deprecated. If you meant to do this, you must specify 'dtype=object' when creating the ndarray.\n",
      "  d = np.array([[1,3,5,'palak'],[1,3,7]])\n"
     ]
    }
   ],
   "source": [
    "# Create a 2D array\n",
    "# Sum of array with different size (dtype = object)\n",
    "# It will do concatination as the size is different and the type is object\n",
    "\n",
    "d = np.array([[1,3,5,'palak'],[1,3,7]])\n",
    "\n",
    "print(d,d.dtype,d.sum())"
   ]
  },
  {
   "cell_type": "code",
   "execution_count": 363,
   "id": "55019007",
   "metadata": {},
   "outputs": [
    {
     "data": {
      "text/plain": [
       "22"
      ]
     },
     "execution_count": 363,
     "metadata": {},
     "output_type": "execute_result"
    }
   ],
   "source": [
    "# Sum the list [19,2,1]\n",
    "\n",
    "np.sum([19,2,1])"
   ]
  },
  {
   "cell_type": "code",
   "execution_count": 364,
   "id": "c40a5384",
   "metadata": {},
   "outputs": [
    {
     "data": {
      "text/plain": [
       "-16"
      ]
     },
     "execution_count": 364,
     "metadata": {},
     "output_type": "execute_result"
    }
   ],
   "source": [
    "# Sum the list [-19,2,1]\n",
    "\n",
    "np.sum([-19,2,1])"
   ]
  },
  {
   "cell_type": "code",
   "execution_count": 365,
   "id": "98368429",
   "metadata": {},
   "outputs": [
    {
     "data": {
      "text/plain": [
       "22"
      ]
     },
     "execution_count": 365,
     "metadata": {},
     "output_type": "execute_result"
    }
   ],
   "source": [
    "# Sum the 2D array\n",
    "\n",
    "np.sum(np.array([19,2,1], ndmin=2))"
   ]
  },
  {
   "cell_type": "code",
   "execution_count": 366,
   "id": "db5afba1",
   "metadata": {},
   "outputs": [
    {
     "data": {
      "text/plain": [
       "22"
      ]
     },
     "execution_count": 366,
     "metadata": {},
     "output_type": "execute_result"
    }
   ],
   "source": [
    "# Sum the 2D array\n",
    "\n",
    "np.sum(np.array([19,2,1], ndmin=7))"
   ]
  },
  {
   "cell_type": "code",
   "execution_count": 367,
   "id": "9cadde42",
   "metadata": {},
   "outputs": [
    {
     "data": {
      "text/plain": [
       "array([19,  2,  1])"
      ]
     },
     "execution_count": 367,
     "metadata": {},
     "output_type": "execute_result"
    }
   ],
   "source": [
    "# Python sum method does not sum the array, to sum array we need to use the numpy method sum or we should give a list \n",
    "\n",
    "sum(np.array([19,2,1], ndmin=2))"
   ]
  },
  {
   "cell_type": "code",
   "execution_count": 368,
   "id": "8cdcf694",
   "metadata": {},
   "outputs": [
    {
     "data": {
      "text/plain": [
       "22"
      ]
     },
     "execution_count": 368,
     "metadata": {},
     "output_type": "execute_result"
    }
   ],
   "source": [
    "# Python sum method does not sum the array, to sum array we need to use the numpy method sum or we should give a list by slicing\n",
    "\n",
    "sum(np.array([19,2,1], ndmin=2)[0])"
   ]
  },
  {
   "cell_type": "code",
   "execution_count": 369,
   "id": "45f84fe3",
   "metadata": {},
   "outputs": [
    {
     "data": {
      "text/plain": [
       "23"
      ]
     },
     "execution_count": 369,
     "metadata": {},
     "output_type": "execute_result"
    }
   ],
   "source": [
    "# Python sum method does not sum the array, to sum array we need to use the numpy method sum\n",
    "# we should give a list or a single value of an array by slicing\n",
    "# Here we have given a list [19,21,1] and a single value(1) by slicing\n",
    "\n",
    "sum(np.array([19,2,1], ndmin=2)[0], np.array([1,2,1], ndmin=2)[0][0])"
   ]
  },
  {
   "cell_type": "code",
   "execution_count": 370,
   "id": "37e59d05",
   "metadata": {},
   "outputs": [
    {
     "data": {
      "text/plain": [
       "13"
      ]
     },
     "execution_count": 370,
     "metadata": {},
     "output_type": "execute_result"
    }
   ],
   "source": [
    "# Sum also take start as a parameter as a integer value\n",
    "# Start(initial) value means the first value to the sum will be that value\n",
    "\n",
    "sum([1,2,5,3], start = 2)"
   ]
  },
  {
   "cell_type": "code",
   "execution_count": 371,
   "id": "748c434e",
   "metadata": {},
   "outputs": [
    {
     "data": {
      "text/plain": [
       "22"
      ]
     },
     "execution_count": 371,
     "metadata": {},
     "output_type": "execute_result"
    }
   ],
   "source": [
    "# Sum also take start as a parameter as a integer value\n",
    "# Start(initial) value means the first value to the sum will be that value\n",
    "\n",
    "sum([1,7,2,5,3], start = 4)"
   ]
  },
  {
   "cell_type": "code",
   "execution_count": 372,
   "id": "5a1652ef",
   "metadata": {},
   "outputs": [
    {
     "ename": "TypeError",
     "evalue": "can only concatenate list (not \"int\") to list",
     "output_type": "error",
     "traceback": [
      "\u001b[1;31m---------------------------------------------------------------------------\u001b[0m",
      "\u001b[1;31mTypeError\u001b[0m                                 Traceback (most recent call last)",
      "Cell \u001b[1;32mIn[372], line 3\u001b[0m\n\u001b[0;32m      1\u001b[0m \u001b[38;5;66;03m# Sum takes start as a integer value only\u001b[39;00m\n\u001b[1;32m----> 3\u001b[0m \u001b[38;5;28;43msum\u001b[39;49m\u001b[43m(\u001b[49m\u001b[43m[\u001b[49m\u001b[38;5;241;43m1\u001b[39;49m\u001b[43m,\u001b[49m\u001b[38;5;241;43m2\u001b[39;49m\u001b[43m,\u001b[49m\u001b[38;5;241;43m5\u001b[39;49m\u001b[43m,\u001b[49m\u001b[38;5;241;43m3\u001b[39;49m\u001b[43m]\u001b[49m\u001b[43m,\u001b[49m\u001b[43m \u001b[49m\u001b[43mstart\u001b[49m\u001b[43m \u001b[49m\u001b[38;5;241;43m=\u001b[39;49m\u001b[43m \u001b[49m\u001b[43m[\u001b[49m\u001b[38;5;241;43m2\u001b[39;49m\u001b[43m]\u001b[49m\u001b[43m)\u001b[49m\n",
      "\u001b[1;31mTypeError\u001b[0m: can only concatenate list (not \"int\") to list"
     ]
    }
   ],
   "source": [
    "# Sum takes start as a integer value only\n",
    "\n",
    "sum([1,2,5,3], start = [2])"
   ]
  },
  {
   "cell_type": "code",
   "execution_count": 373,
   "id": "def87b99",
   "metadata": {},
   "outputs": [
    {
     "ename": "TypeError",
     "evalue": "unsupported operand type(s) for +: 'int' and 'list'",
     "output_type": "error",
     "traceback": [
      "\u001b[1;31m---------------------------------------------------------------------------\u001b[0m",
      "\u001b[1;31mTypeError\u001b[0m                                 Traceback (most recent call last)",
      "Cell \u001b[1;32mIn[373], line 5\u001b[0m\n\u001b[0;32m      1\u001b[0m \u001b[38;5;66;03m# A int and list cannot be added\u001b[39;00m\n\u001b[0;32m      2\u001b[0m \u001b[38;5;66;03m# A list can be added to a list as concatenation\u001b[39;00m\n\u001b[0;32m      3\u001b[0m \u001b[38;5;66;03m# Sum of a nested list will give error\u001b[39;00m\n\u001b[1;32m----> 5\u001b[0m \u001b[38;5;28;43msum\u001b[39;49m\u001b[43m(\u001b[49m\u001b[43m[\u001b[49m\u001b[38;5;241;43m1\u001b[39;49m\u001b[43m,\u001b[49m\u001b[38;5;241;43m2\u001b[39;49m\u001b[43m,\u001b[49m\u001b[38;5;241;43m5\u001b[39;49m\u001b[43m,\u001b[49m\u001b[38;5;241;43m3\u001b[39;49m\u001b[43m,\u001b[49m\u001b[43m \u001b[49m\u001b[43m[\u001b[49m\u001b[38;5;241;43m4\u001b[39;49m\u001b[43m,\u001b[49m\u001b[38;5;241;43m1\u001b[39;49m\u001b[43m]\u001b[49m\u001b[43m]\u001b[49m\u001b[43m)\u001b[49m\n",
      "\u001b[1;31mTypeError\u001b[0m: unsupported operand type(s) for +: 'int' and 'list'"
     ]
    }
   ],
   "source": [
    "# A int and list cannot be added\n",
    "# A list can be added to a list as concatenation\n",
    "# Sum of a nested list will give error\n",
    "\n",
    "sum([1,2,5,3, [4,1]])"
   ]
  },
  {
   "cell_type": "code",
   "execution_count": 374,
   "id": "244120db",
   "metadata": {},
   "outputs": [
    {
     "data": {
      "text/plain": [
       "16"
      ]
     },
     "execution_count": 374,
     "metadata": {},
     "output_type": "execute_result"
    }
   ],
   "source": [
    "# Functions can work inside the sum function which give a single integer value\n",
    "\n",
    "sum([1,2,5,3, sum([4,1])])"
   ]
  },
  {
   "cell_type": "code",
   "execution_count": 375,
   "id": "cb32f8aa",
   "metadata": {},
   "outputs": [
    {
     "name": "stdout",
     "output_type": "stream",
     "text": [
      "(array([21]), array(21))\n"
     ]
    }
   ],
   "source": [
    "# Variable of array named aj,aa,ab1,ab\n",
    "\n",
    "aj = np.array([[[2,4,0,6],[3,4,7,9]]])\n",
    "aa = np.array([[2,7,8,0]])\n",
    "ab1 = np.array([21])\n",
    "ab = np.array((21))\n",
    "\n",
    "x = ab1,ab\n",
    "print(x)"
   ]
  },
  {
   "cell_type": "code",
   "execution_count": 376,
   "id": "6236bd1f",
   "metadata": {
    "scrolled": true
   },
   "outputs": [
    {
     "name": "stdout",
     "output_type": "stream",
     "text": [
      "35\n",
      "[[2 4 0 6]\n",
      " [3 4 7 9]]\n",
      "[[ 5  8  7 15]]\n",
      "[[12 23]]\n"
     ]
    },
    {
     "ename": "AxisError",
     "evalue": "axis 3 is out of bounds for array of dimension 3",
     "output_type": "error",
     "traceback": [
      "\u001b[1;31m---------------------------------------------------------------------------\u001b[0m",
      "\u001b[1;31mAxisError\u001b[0m                                 Traceback (most recent call last)",
      "Cell \u001b[1;32mIn[376], line 9\u001b[0m\n\u001b[0;32m      7\u001b[0m \u001b[38;5;28mprint\u001b[39m(np\u001b[38;5;241m.\u001b[39msum(aj,axis \u001b[38;5;241m=\u001b[39m \u001b[38;5;241m1\u001b[39m))\n\u001b[0;32m      8\u001b[0m \u001b[38;5;28mprint\u001b[39m(np\u001b[38;5;241m.\u001b[39msum(aj,axis \u001b[38;5;241m=\u001b[39m \u001b[38;5;241m2\u001b[39m))\n\u001b[1;32m----> 9\u001b[0m \u001b[38;5;28mprint\u001b[39m(\u001b[43mnp\u001b[49m\u001b[38;5;241;43m.\u001b[39;49m\u001b[43msum\u001b[49m\u001b[43m(\u001b[49m\u001b[43maj\u001b[49m\u001b[43m,\u001b[49m\u001b[43maxis\u001b[49m\u001b[43m \u001b[49m\u001b[38;5;241;43m=\u001b[39;49m\u001b[43m \u001b[49m\u001b[38;5;241;43m3\u001b[39;49m\u001b[43m)\u001b[49m)\n",
      "File \u001b[1;32m<__array_function__ internals>:180\u001b[0m, in \u001b[0;36msum\u001b[1;34m(*args, **kwargs)\u001b[0m\n",
      "File \u001b[1;32mC:\\ProgramData\\anaconda3\\envs\\ml\\lib\\site-packages\\numpy\\core\\fromnumeric.py:2298\u001b[0m, in \u001b[0;36msum\u001b[1;34m(a, axis, dtype, out, keepdims, initial, where)\u001b[0m\n\u001b[0;32m   2295\u001b[0m         \u001b[38;5;28;01mreturn\u001b[39;00m out\n\u001b[0;32m   2296\u001b[0m     \u001b[38;5;28;01mreturn\u001b[39;00m res\n\u001b[1;32m-> 2298\u001b[0m \u001b[38;5;28;01mreturn\u001b[39;00m \u001b[43m_wrapreduction\u001b[49m\u001b[43m(\u001b[49m\u001b[43ma\u001b[49m\u001b[43m,\u001b[49m\u001b[43m \u001b[49m\u001b[43mnp\u001b[49m\u001b[38;5;241;43m.\u001b[39;49m\u001b[43madd\u001b[49m\u001b[43m,\u001b[49m\u001b[43m \u001b[49m\u001b[38;5;124;43m'\u001b[39;49m\u001b[38;5;124;43msum\u001b[39;49m\u001b[38;5;124;43m'\u001b[39;49m\u001b[43m,\u001b[49m\u001b[43m \u001b[49m\u001b[43maxis\u001b[49m\u001b[43m,\u001b[49m\u001b[43m \u001b[49m\u001b[43mdtype\u001b[49m\u001b[43m,\u001b[49m\u001b[43m \u001b[49m\u001b[43mout\u001b[49m\u001b[43m,\u001b[49m\u001b[43m \u001b[49m\u001b[43mkeepdims\u001b[49m\u001b[38;5;241;43m=\u001b[39;49m\u001b[43mkeepdims\u001b[49m\u001b[43m,\u001b[49m\n\u001b[0;32m   2299\u001b[0m \u001b[43m                      \u001b[49m\u001b[43minitial\u001b[49m\u001b[38;5;241;43m=\u001b[39;49m\u001b[43minitial\u001b[49m\u001b[43m,\u001b[49m\u001b[43m \u001b[49m\u001b[43mwhere\u001b[49m\u001b[38;5;241;43m=\u001b[39;49m\u001b[43mwhere\u001b[49m\u001b[43m)\u001b[49m\n",
      "File \u001b[1;32mC:\\ProgramData\\anaconda3\\envs\\ml\\lib\\site-packages\\numpy\\core\\fromnumeric.py:86\u001b[0m, in \u001b[0;36m_wrapreduction\u001b[1;34m(obj, ufunc, method, axis, dtype, out, **kwargs)\u001b[0m\n\u001b[0;32m     83\u001b[0m         \u001b[38;5;28;01melse\u001b[39;00m:\n\u001b[0;32m     84\u001b[0m             \u001b[38;5;28;01mreturn\u001b[39;00m reduction(axis\u001b[38;5;241m=\u001b[39maxis, out\u001b[38;5;241m=\u001b[39mout, \u001b[38;5;241m*\u001b[39m\u001b[38;5;241m*\u001b[39mpasskwargs)\n\u001b[1;32m---> 86\u001b[0m \u001b[38;5;28;01mreturn\u001b[39;00m ufunc\u001b[38;5;241m.\u001b[39mreduce(obj, axis, dtype, out, \u001b[38;5;241m*\u001b[39m\u001b[38;5;241m*\u001b[39mpasskwargs)\n",
      "\u001b[1;31mAxisError\u001b[0m: axis 3 is out of bounds for array of dimension 3"
     ]
    }
   ],
   "source": [
    "# Sum of the elements of aj\n",
    "# sum of the elements of aj with the use of the parameter axis\n",
    "# The highest axis is the column and (highest axis -1) is the row\n",
    "\n",
    "print(np.sum(aj))\n",
    "print(np.sum(aj,axis = 0))\n",
    "print(np.sum(aj,axis = 1))\n",
    "print(np.sum(aj,axis = 2))\n",
    "print(np.sum(aj,axis = 3)) # axis out of bound as the array is 3D and the axis will be (0,1,2) not 3"
   ]
  },
  {
   "cell_type": "code",
   "execution_count": 377,
   "id": "580bd5a0",
   "metadata": {},
   "outputs": [
    {
     "data": {
      "text/plain": [
       "array([[2, 7, 8, 0]])"
      ]
     },
     "execution_count": 377,
     "metadata": {},
     "output_type": "execute_result"
    }
   ],
   "source": [
    "aa"
   ]
  },
  {
   "cell_type": "code",
   "execution_count": 378,
   "id": "d1718e9a",
   "metadata": {},
   "outputs": [],
   "source": [
    "import pandas as pd"
   ]
  },
  {
   "cell_type": "code",
   "execution_count": 379,
   "id": "cbc933fa",
   "metadata": {},
   "outputs": [
    {
     "data": {
      "text/html": [
       "<div>\n",
       "<style scoped>\n",
       "    .dataframe tbody tr th:only-of-type {\n",
       "        vertical-align: middle;\n",
       "    }\n",
       "\n",
       "    .dataframe tbody tr th {\n",
       "        vertical-align: top;\n",
       "    }\n",
       "\n",
       "    .dataframe thead th {\n",
       "        text-align: right;\n",
       "    }\n",
       "</style>\n",
       "<table border=\"1\" class=\"dataframe\">\n",
       "  <thead>\n",
       "    <tr style=\"text-align: right;\">\n",
       "      <th></th>\n",
       "      <th>0</th>\n",
       "      <th>1</th>\n",
       "      <th>2</th>\n",
       "      <th>3</th>\n",
       "    </tr>\n",
       "  </thead>\n",
       "  <tbody>\n",
       "    <tr>\n",
       "      <th>0</th>\n",
       "      <td>2</td>\n",
       "      <td>7</td>\n",
       "      <td>8</td>\n",
       "      <td>0</td>\n",
       "    </tr>\n",
       "  </tbody>\n",
       "</table>\n",
       "</div>"
      ],
      "text/plain": [
       "   0  1  2  3\n",
       "0  2  7  8  0"
      ]
     },
     "execution_count": 379,
     "metadata": {},
     "output_type": "execute_result"
    }
   ],
   "source": [
    "pd.DataFrame(aa)"
   ]
  },
  {
   "cell_type": "code",
   "execution_count": 380,
   "id": "d44e4fd8",
   "metadata": {},
   "outputs": [
    {
     "data": {
      "text/html": [
       "<div>\n",
       "<style scoped>\n",
       "    .dataframe tbody tr th:only-of-type {\n",
       "        vertical-align: middle;\n",
       "    }\n",
       "\n",
       "    .dataframe tbody tr th {\n",
       "        vertical-align: top;\n",
       "    }\n",
       "\n",
       "    .dataframe thead th {\n",
       "        text-align: right;\n",
       "    }\n",
       "</style>\n",
       "<table border=\"1\" class=\"dataframe\">\n",
       "  <thead>\n",
       "    <tr style=\"text-align: right;\">\n",
       "      <th></th>\n",
       "      <th>0</th>\n",
       "      <th>1</th>\n",
       "    </tr>\n",
       "  </thead>\n",
       "  <tbody>\n",
       "    <tr>\n",
       "      <th>0</th>\n",
       "      <td>0</td>\n",
       "      <td>1</td>\n",
       "    </tr>\n",
       "    <tr>\n",
       "      <th>1</th>\n",
       "      <td>2</td>\n",
       "      <td>3</td>\n",
       "    </tr>\n",
       "    <tr>\n",
       "      <th>2</th>\n",
       "      <td>4</td>\n",
       "      <td>5</td>\n",
       "    </tr>\n",
       "    <tr>\n",
       "      <th>3</th>\n",
       "      <td>6</td>\n",
       "      <td>7</td>\n",
       "    </tr>\n",
       "    <tr>\n",
       "      <th>4</th>\n",
       "      <td>8</td>\n",
       "      <td>9</td>\n",
       "    </tr>\n",
       "  </tbody>\n",
       "</table>\n",
       "</div>"
      ],
      "text/plain": [
       "   0  1\n",
       "0  0  1\n",
       "1  2  3\n",
       "2  4  5\n",
       "3  6  7\n",
       "4  8  9"
      ]
     },
     "execution_count": 380,
     "metadata": {},
     "output_type": "execute_result"
    }
   ],
   "source": [
    "pd.DataFrame(np.arange(10).reshape(5,2))"
   ]
  },
  {
   "cell_type": "code",
   "execution_count": 381,
   "id": "3f45e7ca",
   "metadata": {},
   "outputs": [
    {
     "data": {
      "text/plain": [
       "array([[[[ 1, 33,  4]]]])"
      ]
     },
     "execution_count": 381,
     "metadata": {},
     "output_type": "execute_result"
    }
   ],
   "source": [
    "ss = np.array([[[[1,33,4]]]])\n",
    "ss"
   ]
  },
  {
   "cell_type": "code",
   "execution_count": 382,
   "id": "1416a803",
   "metadata": {},
   "outputs": [
    {
     "data": {
      "text/plain": [
       "array([[[2, 4, 0, 6],\n",
       "        [3, 4, 7, 9]]])"
      ]
     },
     "execution_count": 382,
     "metadata": {},
     "output_type": "execute_result"
    }
   ],
   "source": [
    "aj"
   ]
  },
  {
   "cell_type": "code",
   "execution_count": 383,
   "id": "8173634f",
   "metadata": {},
   "outputs": [
    {
     "data": {
      "text/plain": [
       "38"
      ]
     },
     "execution_count": 383,
     "metadata": {},
     "output_type": "execute_result"
    }
   ],
   "source": [
    "np.sum(ss)"
   ]
  },
  {
   "cell_type": "code",
   "execution_count": 385,
   "id": "54f2af40",
   "metadata": {},
   "outputs": [
    {
     "data": {
      "text/plain": [
       "array([[[38]]])"
      ]
     },
     "execution_count": 385,
     "metadata": {},
     "output_type": "execute_result"
    }
   ],
   "source": [
    "np.sum(ss, axis= 3)"
   ]
  },
  {
   "cell_type": "code",
   "execution_count": 392,
   "id": "c767bc1a",
   "metadata": {},
   "outputs": [
    {
     "data": {
      "text/plain": [
       "array([[9, 8]])"
      ]
     },
     "execution_count": 392,
     "metadata": {},
     "output_type": "execute_result"
    }
   ],
   "source": [
    "n = np.array([[[9,8]]])\n",
    "m = np.array([8,8], ndmin = 2)\n",
    "np.sum(n,axis = 1,out = m)"
   ]
  },
  {
   "cell_type": "code",
   "execution_count": 393,
   "id": "eb70fb61",
   "metadata": {},
   "outputs": [
    {
     "data": {
      "text/plain": [
       "array([[9, 8]])"
      ]
     },
     "execution_count": 393,
     "metadata": {},
     "output_type": "execute_result"
    }
   ],
   "source": [
    "np.sum(n, axis = 1)"
   ]
  },
  {
   "cell_type": "code",
   "execution_count": 394,
   "id": "7c3d74f5",
   "metadata": {},
   "outputs": [
    {
     "data": {
      "text/plain": [
       "array([[9, 8]])"
      ]
     },
     "execution_count": 394,
     "metadata": {},
     "output_type": "execute_result"
    }
   ],
   "source": [
    "m"
   ]
  },
  {
   "cell_type": "code",
   "execution_count": 395,
   "id": "d1906515",
   "metadata": {},
   "outputs": [
    {
     "data": {
      "text/plain": [
       "array([17])"
      ]
     },
     "execution_count": 395,
     "metadata": {},
     "output_type": "execute_result"
    }
   ],
   "source": [
    "np.sum(m, axis = 1)"
   ]
  },
  {
   "cell_type": "code",
   "execution_count": 397,
   "id": "6ea64836",
   "metadata": {},
   "outputs": [
    {
     "name": "stdout",
     "output_type": "stream",
     "text": [
      "[[[2 4 0 6]\n",
      "  [3 4 7 9]]]\n",
      "[[ 5  8  7 15]]\n",
      "[[ 5  8  7 15]] (1, 4)\n",
      "35\n",
      "35 () <class 'numpy.ndarray'> int32\n",
      "[21] (1,) <class 'numpy.ndarray'> int32\n"
     ]
    }
   ],
   "source": [
    "# sum of the elements of aj with the use of the parameter axis\n",
    "# Out stores the output of the np.sum() where the dimention of the variable passed in the out should be same as output of np.sum()\n",
    "# Out take the array or the variable of array of the same shape of the output\n",
    "\n",
    "print(aj)\n",
    "print(np.sum(aj,axis = 1,out = aa))\n",
    "print(aa, aa.shape)\n",
    "print(np.sum(aj,out = ab))\n",
    "print(ab, ab.shape, type(ab), ab.dtype)\n",
    "print(ab1, ab1.shape, type(ab1), ab1.dtype)"
   ]
  },
  {
   "cell_type": "code",
   "execution_count": 398,
   "id": "5e10933c",
   "metadata": {},
   "outputs": [
    {
     "name": "stdout",
     "output_type": "stream",
     "text": [
      "[[[2 4 0 6]\n",
      "  [3 4 7 9]]]\n",
      "35\n",
      "[[[35]]]\n",
      "35\n",
      "[[ 5  8  7 15]]\n",
      "[[[ 5  8  7 15]]]\n",
      "[[[12]\n",
      "  [23]]]\n",
      "[[12 23]]\n"
     ]
    }
   ],
   "source": [
    "# sum of the elements of aj with the use of the parameter keepdims\n",
    "# keepdims means keep same dimension, True keeps the same dimensions and False does not\n",
    "\n",
    "print(aj)\n",
    "print(np.sum(aj))\n",
    "print(np.sum(aj,keepdims = True))\n",
    "print(np.sum(aj,keepdims = False))\n",
    "print(np.sum(aj, axis = 1))\n",
    "print(np.sum(aj,keepdims = True, axis = 1))\n",
    "print(np.sum(aj,keepdims = True, axis = 2))\n",
    "print(np.sum(aj,keepdims = False, axis = 2))"
   ]
  },
  {
   "cell_type": "code",
   "execution_count": 399,
   "id": "a3d651a0",
   "metadata": {},
   "outputs": [
    {
     "name": "stdout",
     "output_type": "stream",
     "text": [
      "[[[2 4 0 6]\n",
      "  [3 4 7 9]]]\n",
      "[[ 7  9  5 11]\n",
      " [ 8  9 12 14]]\n",
      "[[10 13 12 20]]\n",
      "[[17 28]]\n"
     ]
    }
   ],
   "source": [
    "# sum of the elements of aj with the use of the parameter initial\n",
    "# initial in numpy and start in python work same\n",
    "# Both take first value of the parameter for the sum\n",
    "\n",
    "print(aj)\n",
    "print(np.sum(aj,axis = 0, initial = 5))\n",
    "print(np.sum(aj,axis = 1, initial = 5))\n",
    "print(np.sum(aj,axis = 2, initial = 5))"
   ]
  },
  {
   "cell_type": "code",
   "execution_count": 400,
   "id": "96300465",
   "metadata": {},
   "outputs": [
    {
     "name": "stdout",
     "output_type": "stream",
     "text": [
      "[[[2 4 0 6]\n",
      "  [3 4 7 9]]]\n",
      "[[2 4 0 6]\n",
      " [3 4 7 9]]\n",
      "[[ 5  8  7 15]]\n",
      "[[12 23]]\n",
      "\n",
      "[[0 0 0 0]\n",
      " [0 0 0 0]]\n",
      "\n",
      "0\n",
      "[[0 0 0 0]]\n",
      "[[0 0]]\n",
      "\n",
      "--> [[ 5  8  7 15]]\n",
      "[ 5  8  7 15]\n",
      "[35]\n",
      "[0 0 0 0]\n",
      "\n",
      "--> [[[2 4 0 6]\n",
      "  [3 4 7 9]]]\n",
      "[[5 8 7 0]]\n",
      "[[ 6 14]]\n"
     ]
    }
   ],
   "source": [
    "# sum of the elements of aj with the use of the parameter where\n",
    "# where take the boolean value\n",
    "# True means take all the value and false means not to take\n",
    "# if the list is passed in the parameter,\n",
    "# it should be of the same length, True to consider that element and false means do not consider that element\n",
    "\n",
    "print(aj)\n",
    "print(np.sum(aj,axis = 0, where = True))\n",
    "print(np.sum(aj,axis = 1, where = True))\n",
    "print(np.sum(aj,axis = 2, where = True))\n",
    "print()\n",
    "print(np.sum(aj,axis = 0, where = False))\n",
    "print()\n",
    "print(np.sum(aj, where = False))\n",
    "print(np.sum(aj,axis = 1, where = False))\n",
    "print(np.sum(aj,axis = 2, where = False))\n",
    "print()\n",
    "print('-->',aa)\n",
    "print(np.sum(aa,axis = 0, where = True))\n",
    "print(np.sum(aa,axis = 1, where = True))\n",
    "print(np.sum(aa,axis = 0, where = False))\n",
    "print()\n",
    "print('-->',aj)\n",
    "print(np.sum(aj,axis = 1, where = [True,True,True,False]))\n",
    "print(np.sum(aj,axis = 2, where = [True,True,True,False]))"
   ]
  },
  {
   "cell_type": "code",
   "execution_count": 401,
   "id": "95f0b59f",
   "metadata": {},
   "outputs": [
    {
     "name": "stdout",
     "output_type": "stream",
     "text": [
      "0    23\n",
      "dtype: object\n",
      "\n",
      "0    23\n",
      "dtype: int32\n",
      "\n",
      "0    2\n",
      "1    4\n",
      "2    5\n",
      "3    6\n",
      "4    7\n",
      "dtype: int32\n",
      "\n",
      "object\n",
      "int32\n",
      "\n",
      "                 0\n",
      "0     (2, 4, 5, 7)\n",
      "1  (2, 4, 5, 6, 7)\n",
      "\n",
      "   0  1  2  3       4\n",
      "0  2  4  5  8       7\n",
      "1  2  4  5  6  (7, 8)\n",
      "\n",
      "   0  1  2  3  4\n",
      "0  2  4  5  8  7\n",
      "1  2  4  5  6  7\n"
     ]
    },
    {
     "name": "stderr",
     "output_type": "stream",
     "text": [
      "C:\\Users\\Atharv Soni\\AppData\\Local\\Temp\\ipykernel_9908\\1865923079.py:8: VisibleDeprecationWarning: Creating an ndarray from ragged nested sequences (which is a list-or-tuple of lists-or-tuples-or ndarrays with different lengths or shapes) is deprecated. If you meant to do this, you must specify 'dtype=object' when creating the ndarray.\n",
      "  qqqq = np.array(((2,4,5,'7'), (2,4,5,6,(7))))\n",
      "C:\\Users\\Atharv Soni\\AppData\\Local\\Temp\\ipykernel_9908\\1865923079.py:9: VisibleDeprecationWarning: Creating an ndarray from ragged nested sequences (which is a list-or-tuple of lists-or-tuples-or ndarrays with different lengths or shapes) is deprecated. If you meant to do this, you must specify 'dtype=object' when creating the ndarray.\n",
      "  q1 = np.array(((2,4,5,8,7), (2,4,5,6,(7,8))))\n"
     ]
    }
   ],
   "source": [
    "# DataFrame and series of different arrays\n",
    "\n",
    "import pandas as pd\n",
    "\n",
    "q = np.array((23))\n",
    "qq = np.array([23])\n",
    "qqq = np.array((2,4,5,6,7))\n",
    "qqqq = np.array(((2,4,5,'7'), (2,4,5,6,(7))))\n",
    "q1 = np.array(((2,4,5,8,7), (2,4,5,6,(7,8))))\n",
    "q2 = np.array(((2,4,5,8,7), (2,4,5,6,(7))))\n",
    "\n",
    "print(pd.Series(q))\n",
    "print()\n",
    "print(pd.Series(qq))\n",
    "print()\n",
    "print(pd.Series(qqq))\n",
    "print()\n",
    "print(q1.dtype)\n",
    "print(q2.dtype)\n",
    "print()\n",
    "print(pd.DataFrame(qqqq))\n",
    "print()\n",
    "print(pd.DataFrame(q1))\n",
    "print()\n",
    "print(pd.DataFrame(q2))"
   ]
  },
  {
   "cell_type": "code",
   "execution_count": 402,
   "id": "35020f45",
   "metadata": {
    "scrolled": true
   },
   "outputs": [
    {
     "name": "stdout",
     "output_type": "stream",
     "text": [
      "int32\n",
      "int32\n",
      "int32\n",
      "    0\n",
      "0  23\n",
      "    0\n",
      "0  23\n"
     ]
    },
    {
     "ename": "ValueError",
     "evalue": "Must pass 2-d input. shape=()",
     "output_type": "error",
     "traceback": [
      "\u001b[1;31m---------------------------------------------------------------------------\u001b[0m",
      "\u001b[1;31mValueError\u001b[0m                                Traceback (most recent call last)",
      "Cell \u001b[1;32mIn[402], line 14\u001b[0m\n\u001b[0;32m     12\u001b[0m \u001b[38;5;28mprint\u001b[39m(pd\u001b[38;5;241m.\u001b[39mDataFrame(qq))\n\u001b[0;32m     13\u001b[0m \u001b[38;5;28mprint\u001b[39m(pd\u001b[38;5;241m.\u001b[39mDataFrame(qbe))\n\u001b[1;32m---> 14\u001b[0m \u001b[38;5;28mprint\u001b[39m(\u001b[43mpd\u001b[49m\u001b[38;5;241;43m.\u001b[39;49m\u001b[43mDataFrame\u001b[49m\u001b[43m(\u001b[49m\u001b[43mq\u001b[49m\u001b[43m)\u001b[49m)\n",
      "File \u001b[1;32mC:\\ProgramData\\anaconda3\\envs\\ml\\lib\\site-packages\\pandas\\core\\frame.py:785\u001b[0m, in \u001b[0;36mDataFrame.__init__\u001b[1;34m(self, data, index, columns, dtype, copy)\u001b[0m\n\u001b[0;32m    774\u001b[0m         mgr \u001b[38;5;241m=\u001b[39m dict_to_mgr(\n\u001b[0;32m    775\u001b[0m             \u001b[38;5;66;03m# error: Item \"ndarray\" of \"Union[ndarray, Series, Index]\" has no\u001b[39;00m\n\u001b[0;32m    776\u001b[0m             \u001b[38;5;66;03m# attribute \"name\"\u001b[39;00m\n\u001b[1;32m   (...)\u001b[0m\n\u001b[0;32m    782\u001b[0m             copy\u001b[38;5;241m=\u001b[39m_copy,\n\u001b[0;32m    783\u001b[0m         )\n\u001b[0;32m    784\u001b[0m     \u001b[38;5;28;01melse\u001b[39;00m:\n\u001b[1;32m--> 785\u001b[0m         mgr \u001b[38;5;241m=\u001b[39m \u001b[43mndarray_to_mgr\u001b[49m\u001b[43m(\u001b[49m\n\u001b[0;32m    786\u001b[0m \u001b[43m            \u001b[49m\u001b[43mdata\u001b[49m\u001b[43m,\u001b[49m\n\u001b[0;32m    787\u001b[0m \u001b[43m            \u001b[49m\u001b[43mindex\u001b[49m\u001b[43m,\u001b[49m\n\u001b[0;32m    788\u001b[0m \u001b[43m            \u001b[49m\u001b[43mcolumns\u001b[49m\u001b[43m,\u001b[49m\n\u001b[0;32m    789\u001b[0m \u001b[43m            \u001b[49m\u001b[43mdtype\u001b[49m\u001b[38;5;241;43m=\u001b[39;49m\u001b[43mdtype\u001b[49m\u001b[43m,\u001b[49m\n\u001b[0;32m    790\u001b[0m \u001b[43m            \u001b[49m\u001b[43mcopy\u001b[49m\u001b[38;5;241;43m=\u001b[39;49m\u001b[43mcopy\u001b[49m\u001b[43m,\u001b[49m\n\u001b[0;32m    791\u001b[0m \u001b[43m            \u001b[49m\u001b[43mtyp\u001b[49m\u001b[38;5;241;43m=\u001b[39;49m\u001b[43mmanager\u001b[49m\u001b[43m,\u001b[49m\n\u001b[0;32m    792\u001b[0m \u001b[43m        \u001b[49m\u001b[43m)\u001b[49m\n\u001b[0;32m    794\u001b[0m \u001b[38;5;66;03m# For data is list-like, or Iterable (will consume into list)\u001b[39;00m\n\u001b[0;32m    795\u001b[0m \u001b[38;5;28;01melif\u001b[39;00m is_list_like(data):\n",
      "File \u001b[1;32mC:\\ProgramData\\anaconda3\\envs\\ml\\lib\\site-packages\\pandas\\core\\internals\\construction.py:314\u001b[0m, in \u001b[0;36mndarray_to_mgr\u001b[1;34m(values, index, columns, dtype, copy, typ)\u001b[0m\n\u001b[0;32m    308\u001b[0m     _copy \u001b[38;5;241m=\u001b[39m (\n\u001b[0;32m    309\u001b[0m         copy_on_sanitize\n\u001b[0;32m    310\u001b[0m         \u001b[38;5;28;01mif\u001b[39;00m (dtype \u001b[38;5;129;01mis\u001b[39;00m \u001b[38;5;28;01mNone\u001b[39;00m \u001b[38;5;129;01mor\u001b[39;00m astype_is_view(values\u001b[38;5;241m.\u001b[39mdtype, dtype))\n\u001b[0;32m    311\u001b[0m         \u001b[38;5;28;01melse\u001b[39;00m \u001b[38;5;28;01mFalse\u001b[39;00m\n\u001b[0;32m    312\u001b[0m     )\n\u001b[0;32m    313\u001b[0m     values \u001b[38;5;241m=\u001b[39m np\u001b[38;5;241m.\u001b[39marray(values, copy\u001b[38;5;241m=\u001b[39m_copy)\n\u001b[1;32m--> 314\u001b[0m     values \u001b[38;5;241m=\u001b[39m \u001b[43m_ensure_2d\u001b[49m\u001b[43m(\u001b[49m\u001b[43mvalues\u001b[49m\u001b[43m)\u001b[49m\n\u001b[0;32m    316\u001b[0m \u001b[38;5;28;01melse\u001b[39;00m:\n\u001b[0;32m    317\u001b[0m     \u001b[38;5;66;03m# by definition an array here\u001b[39;00m\n\u001b[0;32m    318\u001b[0m     \u001b[38;5;66;03m# the dtypes will be coerced to a single dtype\u001b[39;00m\n\u001b[0;32m    319\u001b[0m     values \u001b[38;5;241m=\u001b[39m _prep_ndarraylike(values, copy\u001b[38;5;241m=\u001b[39mcopy_on_sanitize)\n",
      "File \u001b[1;32mC:\\ProgramData\\anaconda3\\envs\\ml\\lib\\site-packages\\pandas\\core\\internals\\construction.py:592\u001b[0m, in \u001b[0;36m_ensure_2d\u001b[1;34m(values)\u001b[0m\n\u001b[0;32m    590\u001b[0m     values \u001b[38;5;241m=\u001b[39m values\u001b[38;5;241m.\u001b[39mreshape((values\u001b[38;5;241m.\u001b[39mshape[\u001b[38;5;241m0\u001b[39m], \u001b[38;5;241m1\u001b[39m))\n\u001b[0;32m    591\u001b[0m \u001b[38;5;28;01melif\u001b[39;00m values\u001b[38;5;241m.\u001b[39mndim \u001b[38;5;241m!=\u001b[39m \u001b[38;5;241m2\u001b[39m:\n\u001b[1;32m--> 592\u001b[0m     \u001b[38;5;28;01mraise\u001b[39;00m \u001b[38;5;167;01mValueError\u001b[39;00m(\u001b[38;5;124mf\u001b[39m\u001b[38;5;124m\"\u001b[39m\u001b[38;5;124mMust pass 2-d input. shape=\u001b[39m\u001b[38;5;132;01m{\u001b[39;00mvalues\u001b[38;5;241m.\u001b[39mshape\u001b[38;5;132;01m}\u001b[39;00m\u001b[38;5;124m\"\u001b[39m)\n\u001b[0;32m    593\u001b[0m \u001b[38;5;28;01mreturn\u001b[39;00m values\n",
      "\u001b[1;31mValueError\u001b[0m: Must pass 2-d input. shape=()"
     ]
    }
   ],
   "source": [
    "# DataFrame of different arrays\n",
    "\n",
    "q = np.array((23))\n",
    "qbe = np.array(([23]))\n",
    "qq = np. array([[23]])\n",
    "u = np.array((((12))))\n",
    "uw = np.array(([12],[4]))\n",
    "\n",
    "print(q.dtype)\n",
    "print(u.dtype)\n",
    "print(uw.dtype)\n",
    "print(pd.DataFrame(qq))\n",
    "print(pd.DataFrame(qbe))\n",
    "print(pd.DataFrame(q))"
   ]
  },
  {
   "cell_type": "markdown",
   "id": "7f572e36",
   "metadata": {},
   "source": [
    "### Dimensions (n dimensions array)\n",
    "`Dimensions can be one dimensional array or multi-dimensional array.`<br>\n",
    "`One dimensional array is used to represent the linear data(series), where as multi-dimensional array is stored in tabular(data Frame) format.`"
   ]
  },
  {
   "cell_type": "code",
   "execution_count": 403,
   "id": "6a628d95",
   "metadata": {},
   "outputs": [
    {
     "name": "stdout",
     "output_type": "stream",
     "text": [
      "[1]\n",
      "[1]\n"
     ]
    }
   ],
   "source": [
    "# Create 1D array\n",
    "\n",
    "print(np.array([1]))\n",
    "print(np.array(1,ndmin = 1))"
   ]
  },
  {
   "cell_type": "code",
   "execution_count": 404,
   "id": "eaa7fe7b",
   "metadata": {},
   "outputs": [
    {
     "name": "stdout",
     "output_type": "stream",
     "text": [
      "[[[1]]]\n",
      "[[[1]]]\n"
     ]
    }
   ],
   "source": [
    "# Create 3D array\n",
    "\n",
    "print(np.array([[[1]]]))\n",
    "print(np.array(1,ndmin = 3))"
   ]
  },
  {
   "cell_type": "code",
   "execution_count": 405,
   "id": "07b60cb0",
   "metadata": {},
   "outputs": [
    {
     "name": "stdout",
     "output_type": "stream",
     "text": [
      "[[1]]\n"
     ]
    }
   ],
   "source": [
    "# 3D array slicing\n",
    "\n",
    "print(np.array(1,ndmin = 3)[0])"
   ]
  },
  {
   "cell_type": "code",
   "execution_count": 406,
   "id": "512ab29d",
   "metadata": {},
   "outputs": [
    {
     "name": "stdout",
     "output_type": "stream",
     "text": [
      "1\n"
     ]
    }
   ],
   "source": [
    "# 3D array slicing\n",
    "\n",
    "print(np.array(1,ndmin = 3)[0][0][0])"
   ]
  },
  {
   "cell_type": "markdown",
   "id": "7ce8ea14",
   "metadata": {},
   "source": [
    "### Size\n",
    "`Size tells how many values are there in a data structure, size do not consider it as a nested data structure.`"
   ]
  },
  {
   "cell_type": "code",
   "execution_count": 407,
   "id": "56dddb42",
   "metadata": {},
   "outputs": [
    {
     "name": "stdout",
     "output_type": "stream",
     "text": [
      "[1, 2, 3, 6]\n",
      "4\n",
      "4\n"
     ]
    }
   ],
   "source": [
    "# Size/length of aa(list)\n",
    "\n",
    "aa = [1, 2, 3, 6]\n",
    "print(aa)\n",
    "print(np.size(aa))\n",
    "print(len(aa))"
   ]
  },
  {
   "cell_type": "code",
   "execution_count": 408,
   "id": "13c105c3",
   "metadata": {},
   "outputs": [
    {
     "name": "stdout",
     "output_type": "stream",
     "text": [
      "([1, 2, 3, 6], [2, 4, 56])\n",
      "2\n",
      "2\n"
     ]
    },
    {
     "name": "stderr",
     "output_type": "stream",
     "text": [
      "C:\\ProgramData\\anaconda3\\envs\\ml\\lib\\site-packages\\numpy\\core\\fromnumeric.py:3202: VisibleDeprecationWarning: Creating an ndarray from ragged nested sequences (which is a list-or-tuple of lists-or-tuples-or ndarrays with different lengths or shapes) is deprecated. If you meant to do this, you must specify 'dtype=object' when creating the ndarray.\n",
      "  return asarray(a).size\n"
     ]
    }
   ],
   "source": [
    "# Size/length of a\n",
    "\n",
    "a = [1, 2, 3, 6],[2,4,56]\n",
    "print(a)\n",
    "print(np.size(a))\n",
    "print(len(a))"
   ]
  },
  {
   "cell_type": "code",
   "execution_count": 409,
   "id": "0fdff53d",
   "metadata": {},
   "outputs": [
    {
     "name": "stdout",
     "output_type": "stream",
     "text": [
      "[[list([2, 66, 778])]\n",
      " [list([2, 5, 66, 76])]]\n",
      "2\n",
      "2\n"
     ]
    }
   ],
   "source": [
    "# Size/length of b where dtype = object\n",
    "\n",
    "b = np.array([[[2,66,778]], [[2,5,66,76]]], dtype = 'object')\n",
    "print(b)\n",
    "print(np.size(b))\n",
    "print(len(b))"
   ]
  },
  {
   "cell_type": "code",
   "execution_count": 410,
   "id": "9e379691",
   "metadata": {},
   "outputs": [
    {
     "name": "stdout",
     "output_type": "stream",
     "text": [
      "[[[  2  66 778]]\n",
      "\n",
      " [[  2   5  66]]\n",
      "\n",
      " [[  2   5  66]]\n",
      "\n",
      " [[  2   5  66]]]\n",
      "12\n",
      "4\n"
     ]
    }
   ],
   "source": [
    "# Size/length of b where dtype = int32\n",
    "\n",
    "c = np.array([[[2,66,778]], [[2,5,66]], [[2,5,66]], [[2,5,66]]])\n",
    "print(c)\n",
    "print(np.size(c))\n",
    "print(len(c))"
   ]
  },
  {
   "cell_type": "code",
   "execution_count": 411,
   "id": "46981ab6",
   "metadata": {},
   "outputs": [
    {
     "name": "stdout",
     "output_type": "stream",
     "text": [
      "[list([2, 66, 778]) list([[2, 5, 66]]) list([[[2, 5, 66]]])\n",
      " list([[2, 5, 66]])]\n",
      "object\n",
      "4\n",
      "4\n"
     ]
    },
    {
     "name": "stderr",
     "output_type": "stream",
     "text": [
      "C:\\Users\\Atharv Soni\\AppData\\Local\\Temp\\ipykernel_9908\\2353308840.py:3: VisibleDeprecationWarning: Creating an ndarray from ragged nested sequences (which is a list-or-tuple of lists-or-tuples-or ndarrays with different lengths or shapes) is deprecated. If you meant to do this, you must specify 'dtype=object' when creating the ndarray.\n",
      "  c = np.array([[2,66,778], [[2,5,66]], [[[2,5,66]]], [[2,5,66]]])\n"
     ]
    }
   ],
   "source": [
    "# Size/length of b where dtype = object\n",
    "\n",
    "c = np.array([[2,66,778], [[2,5,66]], [[[2,5,66]]], [[2,5,66]]])\n",
    "print(c)\n",
    "print(c.dtype)\n",
    "print(np.size(c))\n",
    "print(len(c))"
   ]
  },
  {
   "cell_type": "code",
   "execution_count": 412,
   "id": "d15b30da",
   "metadata": {},
   "outputs": [
    {
     "name": "stdout",
     "output_type": "stream",
     "text": [
      "[[list([2, 66, 778]) list([[2, 5, 66]])]\n",
      " [list([[[2, 5, 66]]]) list([[2, 5, 66]])]]\n",
      "object\n",
      "4\n",
      "2\n"
     ]
    },
    {
     "name": "stderr",
     "output_type": "stream",
     "text": [
      "C:\\Users\\Atharv Soni\\AppData\\Local\\Temp\\ipykernel_9908\\1765615295.py:3: VisibleDeprecationWarning: Creating an ndarray from ragged nested sequences (which is a list-or-tuple of lists-or-tuples-or ndarrays with different lengths or shapes) is deprecated. If you meant to do this, you must specify 'dtype=object' when creating the ndarray.\n",
      "  c = np.array([[[2,66,778], [[2,5,66]]], [[[[2,5,66]]], [[2,5,66]]]])\n"
     ]
    }
   ],
   "source": [
    "# Size/length of b where dtype = object\n",
    "\n",
    "c = np.array([[[2,66,778], [[2,5,66]]], [[[[2,5,66]]], [[2,5,66]]]])\n",
    "print(c)\n",
    "print(c.dtype)\n",
    "print(np.size(c))\n",
    "print(len(c))"
   ]
  },
  {
   "cell_type": "code",
   "execution_count": 413,
   "id": "b2ecf347",
   "metadata": {},
   "outputs": [
    {
     "name": "stdout",
     "output_type": "stream",
     "text": [
      "[[list([2, 66, 778, 7])]\n",
      " [list([2, 5, 66])]] object\n",
      "2\n",
      "2\n"
     ]
    },
    {
     "name": "stderr",
     "output_type": "stream",
     "text": [
      "C:\\Users\\Atharv Soni\\AppData\\Local\\Temp\\ipykernel_9908\\4180115500.py:3: VisibleDeprecationWarning: Creating an ndarray from ragged nested sequences (which is a list-or-tuple of lists-or-tuples-or ndarrays with different lengths or shapes) is deprecated. If you meant to do this, you must specify 'dtype=object' when creating the ndarray.\n",
      "  d = np.array([[[2,66,778,7]], [[2,5,66]]])\n"
     ]
    }
   ],
   "source": [
    "# Size/length of b where dtype = object\n",
    "\n",
    "d = np.array([[[2,66,778,7]], [[2,5,66]]])\n",
    "print(d,d.dtype)\n",
    "print(np.size(d))\n",
    "print(len(d))"
   ]
  },
  {
   "cell_type": "code",
   "execution_count": 414,
   "id": "c0dc7acb",
   "metadata": {},
   "outputs": [
    {
     "name": "stdout",
     "output_type": "stream",
     "text": [
      "[[['2' '66' '778' '7']]\n",
      "\n",
      " [['2' '5' 'palak' '5']]] <U11\n",
      "8\n",
      "2\n"
     ]
    }
   ],
   "source": [
    "# Size/length of b where dtype = unicode\n",
    "\n",
    "e = np.array([[[2,66,778,7]], [[2,5,'palak',5]]])\n",
    "print(e,e.dtype)\n",
    "print(np.size(e))\n",
    "print(len(e))"
   ]
  },
  {
   "cell_type": "code",
   "execution_count": 415,
   "id": "7616ea9d",
   "metadata": {},
   "outputs": [
    {
     "name": "stdout",
     "output_type": "stream",
     "text": [
      "[[list([2, 66, 778, 7])]\n",
      " [list([2, 5, 'palak'])]] object\n",
      "2\n",
      "2\n"
     ]
    },
    {
     "name": "stderr",
     "output_type": "stream",
     "text": [
      "C:\\Users\\Atharv Soni\\AppData\\Local\\Temp\\ipykernel_9908\\3015218526.py:3: VisibleDeprecationWarning: Creating an ndarray from ragged nested sequences (which is a list-or-tuple of lists-or-tuples-or ndarrays with different lengths or shapes) is deprecated. If you meant to do this, you must specify 'dtype=object' when creating the ndarray.\n",
      "  e = np.array([[[2,66,778,7]], [[2,5,'palak']]])\n"
     ]
    }
   ],
   "source": [
    "# Size/length of b where dtype = object\n",
    "\n",
    "e = np.array([[[2,66,778,7]], [[2,5,'palak']]])\n",
    "print(e,e.dtype)\n",
    "print(np.size(e))\n",
    "print(len(e))"
   ]
  },
  {
   "cell_type": "code",
   "execution_count": 416,
   "id": "60991b14",
   "metadata": {},
   "outputs": [
    {
     "name": "stdout",
     "output_type": "stream",
     "text": [
      "[[2 4 6 12]\n",
      " [4 8 100 'palak32']]\n"
     ]
    }
   ],
   "source": [
    "# addition of two 2D arrays of dtype object\n",
    "\n",
    "z = np.array([[1, 2, 3, 6], [2, 4, 44,'palak']], dtype = 'O')\n",
    "z1 = np.array(([1, 2, 3, 6], [2, 4, 56, '32']), dtype = 'O')\n",
    "print(z+z1)"
   ]
  },
  {
   "cell_type": "code",
   "execution_count": 417,
   "id": "5c5acd95",
   "metadata": {},
   "outputs": [
    {
     "name": "stdout",
     "output_type": "stream",
     "text": [
      "object object\n"
     ]
    },
    {
     "ename": "TypeError",
     "evalue": "unsupported operand type(s) for +: 'NoneType' and 'int'",
     "output_type": "error",
     "traceback": [
      "\u001b[1;31m---------------------------------------------------------------------------\u001b[0m",
      "\u001b[1;31mTypeError\u001b[0m                                 Traceback (most recent call last)",
      "Cell \u001b[1;32mIn[417], line 6\u001b[0m\n\u001b[0;32m      4\u001b[0m z1 \u001b[38;5;241m=\u001b[39m np\u001b[38;5;241m.\u001b[39marray(([\u001b[38;5;241m1\u001b[39m, \u001b[38;5;241m2\u001b[39m, \u001b[38;5;241m3\u001b[39m, \u001b[38;5;241m6\u001b[39m], [\u001b[38;5;241m2\u001b[39m, \u001b[38;5;241m4\u001b[39m, \u001b[38;5;241m56\u001b[39m, \u001b[38;5;241m32\u001b[39m]),dtype \u001b[38;5;241m=\u001b[39m \u001b[38;5;124m'\u001b[39m\u001b[38;5;124mO\u001b[39m\u001b[38;5;124m'\u001b[39m)\n\u001b[0;32m      5\u001b[0m \u001b[38;5;28mprint\u001b[39m(z\u001b[38;5;241m.\u001b[39mdtype,z1\u001b[38;5;241m.\u001b[39mdtype)\n\u001b[1;32m----> 6\u001b[0m \u001b[38;5;28mprint\u001b[39m(\u001b[43mz\u001b[49m\u001b[38;5;241;43m+\u001b[39;49m\u001b[43mz1\u001b[49m)\n\u001b[0;32m      7\u001b[0m \u001b[38;5;28mprint\u001b[39m(z\u001b[38;5;241m*\u001b[39mz1)\n",
      "\u001b[1;31mTypeError\u001b[0m: unsupported operand type(s) for +: 'NoneType' and 'int'"
     ]
    }
   ],
   "source": [
    "# None as a element will not let you do operations on it\n",
    "\n",
    "z = np.array([[1, 2, 3, 6], [2, 4, 56, None]])\n",
    "z1 = np.array(([1, 2, 3, 6], [2, 4, 56, 32]),dtype = 'O')\n",
    "print(z.dtype,z1.dtype)\n",
    "print(z+z1)\n",
    "print(z*z1)"
   ]
  },
  {
   "cell_type": "code",
   "execution_count": 418,
   "id": "24e99688",
   "metadata": {},
   "outputs": [],
   "source": [
    "import pandas as pd"
   ]
  },
  {
   "cell_type": "code",
   "execution_count": 419,
   "id": "5c50739f",
   "metadata": {},
   "outputs": [
    {
     "name": "stdout",
     "output_type": "stream",
     "text": [
      "[[1 2 3 6]\n",
      " [2 4 56 None]] [[1 2 3 6]\n",
      " [2 4 56 32]]\n",
      "\n",
      "object\n",
      "\n",
      "   0  1   2     3\n",
      "0  1  2   3     6\n",
      "1  2  4  56  None\n",
      "\n",
      "  c1 c2  c3    c4\n",
      "0  1  2   3     6\n",
      "1  2  4  56  None\n",
      "\n",
      "0    1\n",
      "1    2\n",
      "2    3\n",
      "3    6\n",
      "dtype: object\n"
     ]
    }
   ],
   "source": [
    "print(z,z1)\n",
    "print()\n",
    "print(np.array(z).dtype)\n",
    "print()\n",
    "print(pd.DataFrame(z))\n",
    "print()\n",
    "l = pd.DataFrame(z, columns = ['c1', 'c2','c3','c4'])\n",
    "print(l)\n",
    "print()\n",
    "print(pd.Series(z1[0]))"
   ]
  },
  {
   "cell_type": "markdown",
   "id": "5dfdaa8f",
   "metadata": {},
   "source": [
    "### Absolute\n",
    "`It is the method by which all the negative values are converted into positive values.`<br>\n",
    "`It does not make changes in original`"
   ]
  },
  {
   "cell_type": "code",
   "execution_count": 438,
   "id": "5ce75a20",
   "metadata": {},
   "outputs": [
    {
     "data": {
      "text/plain": [
       "array([[[ -1.  ,   3.  ,   4.56,  88.  , -99.5 ,  -4.56,   4.3 ,  -4.3 ]]])"
      ]
     },
     "execution_count": 438,
     "metadata": {},
     "output_type": "execute_result"
    }
   ],
   "source": [
    "# create 3D array\n",
    "\n",
    "b = np.array([-1,3,4.56,88,-99.5,-4.56,4.3,-4.3], ndmin=3)\n",
    "b"
   ]
  },
  {
   "cell_type": "code",
   "execution_count": 439,
   "id": "f6fad4ea",
   "metadata": {},
   "outputs": [],
   "source": [
    "# create a list\n",
    "\n",
    "l = [1,4,2,3]"
   ]
  },
  {
   "cell_type": "code",
   "execution_count": 440,
   "id": "0c799f43",
   "metadata": {},
   "outputs": [
    {
     "name": "stdout",
     "output_type": "stream",
     "text": [
      "[[[ 1.    3.    4.56 88.   99.5   4.56  4.3   4.3 ]]]\n",
      "\n",
      "[[[ -1.     3.     4.56  88.   -99.5   -4.56   4.3   -4.3 ]]]\n"
     ]
    }
   ],
   "source": [
    "# Find the abs value of variable named b\n",
    "# np.abs does not save the changes\n",
    "\n",
    "print(np.abs(b))\n",
    "print()\n",
    "print(b)"
   ]
  },
  {
   "cell_type": "code",
   "execution_count": 441,
   "id": "fb224481",
   "metadata": {},
   "outputs": [
    {
     "name": "stdout",
     "output_type": "stream",
     "text": [
      "[[[ 1.    3.    4.56 88.   99.5   4.56  4.3   4.3 ]]] <class 'numpy.ndarray'>\n"
     ]
    }
   ],
   "source": [
    "# Create a variable named c saving the abs of b\n",
    "\n",
    "c = np.abs(b)\n",
    "print(c, type(c))"
   ]
  },
  {
   "cell_type": "code",
   "execution_count": 443,
   "id": "e20eb0fd",
   "metadata": {},
   "outputs": [
    {
     "data": {
      "text/plain": [
       "(array([[[ 1.  ,  3.  ,  4.56, 88.  , 99.5 ,  4.56,  4.3 ,  4.3 ]]]),\n",
       " array([[[ -1.  ,   3.  ,   4.56,  88.  , -99.5 ,  -4.56,   4.3 ,  -4.3 ]]]))"
      ]
     },
     "execution_count": 443,
     "metadata": {},
     "output_type": "execute_result"
    }
   ],
   "source": [
    "# Find the absolute value of variable named b\n",
    "# np.abs does not save the changes neither np.absolute, boh are same\n",
    "\n",
    "np.absolute(b), b"
   ]
  },
  {
   "cell_type": "code",
   "execution_count": 444,
   "id": "d57b1004",
   "metadata": {},
   "outputs": [
    {
     "name": "stdout",
     "output_type": "stream",
     "text": [
      "[[[ 1.    3.    4.56 88.   99.5   4.56  4.3   4.3 ]]] <class 'numpy.ndarray'>\n"
     ]
    }
   ],
   "source": [
    "# Create a variable named d saving the absolute of b\n",
    "\n",
    "d = np.absolute(b)\n",
    "print(d, type(d))"
   ]
  },
  {
   "cell_type": "code",
   "execution_count": 445,
   "id": "2a4de6f3",
   "metadata": {},
   "outputs": [
    {
     "data": {
      "text/plain": [
       "array([[[ 1.  ,  3.  ,  4.56, 88.  , 99.5 ,  4.56,  4.3 ,  4.3 ]]])"
      ]
     },
     "execution_count": 445,
     "metadata": {},
     "output_type": "execute_result"
    }
   ],
   "source": [
    "# abs is a method of python also\n",
    "\n",
    "abs(b)"
   ]
  },
  {
   "cell_type": "code",
   "execution_count": 446,
   "id": "ec37da3a",
   "metadata": {},
   "outputs": [
    {
     "ename": "NameError",
     "evalue": "name 'absolute' is not defined",
     "output_type": "error",
     "traceback": [
      "\u001b[1;31m---------------------------------------------------------------------------\u001b[0m",
      "\u001b[1;31mNameError\u001b[0m                                 Traceback (most recent call last)",
      "Cell \u001b[1;32mIn[446], line 3\u001b[0m\n\u001b[0;32m      1\u001b[0m \u001b[38;5;66;03m# absolute is not a method in python\u001b[39;00m\n\u001b[1;32m----> 3\u001b[0m \u001b[43mabsolute\u001b[49m(b)\n",
      "\u001b[1;31mNameError\u001b[0m: name 'absolute' is not defined"
     ]
    }
   ],
   "source": [
    "# absolute is not a method in python\n",
    "\n",
    "absolute(b)"
   ]
  },
  {
   "cell_type": "code",
   "execution_count": 451,
   "id": "985eb9f4",
   "metadata": {},
   "outputs": [
    {
     "data": {
      "text/plain": [
       "[1, 4, 2, 3]"
      ]
     },
     "execution_count": 451,
     "metadata": {},
     "output_type": "execute_result"
    }
   ],
   "source": [
    "l"
   ]
  },
  {
   "cell_type": "code",
   "execution_count": 448,
   "id": "29b5e43a",
   "metadata": {},
   "outputs": [
    {
     "data": {
      "text/plain": [
       "array([1, 4, 2, 3])"
      ]
     },
     "execution_count": 448,
     "metadata": {},
     "output_type": "execute_result"
    }
   ],
   "source": [
    "# Find the abs of l variable\n",
    "\n",
    "np.abs(l)"
   ]
  },
  {
   "cell_type": "code",
   "execution_count": 449,
   "id": "d20eead9",
   "metadata": {},
   "outputs": [
    {
     "data": {
      "text/plain": [
       "array([1, 4, 2, 3])"
      ]
     },
     "execution_count": 449,
     "metadata": {},
     "output_type": "execute_result"
    }
   ],
   "source": [
    "# Find the absolute of l variable\n",
    "\n",
    "np.absolute(l)"
   ]
  },
  {
   "cell_type": "code",
   "execution_count": 454,
   "id": "297f40cb",
   "metadata": {},
   "outputs": [
    {
     "data": {
      "text/plain": [
       "array([1, 4, 2, 3])"
      ]
     },
     "execution_count": 454,
     "metadata": {},
     "output_type": "execute_result"
    }
   ],
   "source": [
    "abs(np.array([1, 4, 2, 3]))"
   ]
  },
  {
   "cell_type": "code",
   "execution_count": 459,
   "id": "41b9f836",
   "metadata": {},
   "outputs": [
    {
     "ename": "TypeError",
     "evalue": "bad operand type for abs(): 'list'",
     "output_type": "error",
     "traceback": [
      "\u001b[1;31m---------------------------------------------------------------------------\u001b[0m",
      "\u001b[1;31mTypeError\u001b[0m                                 Traceback (most recent call last)",
      "Cell \u001b[1;32mIn[459], line 3\u001b[0m\n\u001b[0;32m      1\u001b[0m \u001b[38;5;66;03m# As it is a method of python, it takes single element\u001b[39;00m\n\u001b[1;32m----> 3\u001b[0m \u001b[38;5;28;43mabs\u001b[39;49m\u001b[43m(\u001b[49m\u001b[43ml\u001b[49m\u001b[43m)\u001b[49m\n",
      "\u001b[1;31mTypeError\u001b[0m: bad operand type for abs(): 'list'"
     ]
    }
   ],
   "source": [
    "# As it is a method of python, it takes single element\n",
    "\n",
    "abs(l)"
   ]
  },
  {
   "cell_type": "code",
   "execution_count": 460,
   "id": "df9a1318",
   "metadata": {},
   "outputs": [
    {
     "data": {
      "text/plain": [
       "98"
      ]
     },
     "execution_count": 460,
     "metadata": {},
     "output_type": "execute_result"
    }
   ],
   "source": [
    "abs(min(-2,3,-98))"
   ]
  },
  {
   "cell_type": "code",
   "execution_count": 461,
   "id": "fa65b029",
   "metadata": {},
   "outputs": [
    {
     "ename": "TypeError",
     "evalue": "bad operand type for abs(): 'set'",
     "output_type": "error",
     "traceback": [
      "\u001b[1;31m---------------------------------------------------------------------------\u001b[0m",
      "\u001b[1;31mTypeError\u001b[0m                                 Traceback (most recent call last)",
      "Cell \u001b[1;32mIn[461], line 3\u001b[0m\n\u001b[0;32m      1\u001b[0m \u001b[38;5;66;03m# It does not take set data structure as it is an unordered data structured\u001b[39;00m\n\u001b[1;32m----> 3\u001b[0m \u001b[38;5;28;43mabs\u001b[39;49m\u001b[43m(\u001b[49m\u001b[43m{\u001b[49m\u001b[38;5;241;43m-\u001b[39;49m\u001b[38;5;241;43m3\u001b[39;49m\u001b[43m,\u001b[49m\u001b[38;5;241;43m-\u001b[39;49m\u001b[38;5;241;43m3\u001b[39;49m\u001b[43m,\u001b[49m\u001b[38;5;241;43m-\u001b[39;49m\u001b[38;5;241;43m3\u001b[39;49m\u001b[43m}\u001b[49m\u001b[43m)\u001b[49m\n",
      "\u001b[1;31mTypeError\u001b[0m: bad operand type for abs(): 'set'"
     ]
    }
   ],
   "source": [
    "# It does not take set data structure as it is an unordered data structured\n",
    "\n",
    "abs({-3,-3,-3})"
   ]
  },
  {
   "cell_type": "code",
   "execution_count": 462,
   "id": "51f42774",
   "metadata": {},
   "outputs": [
    {
     "data": {
      "text/plain": [
       "0"
      ]
     },
     "execution_count": 462,
     "metadata": {},
     "output_type": "execute_result"
    }
   ],
   "source": [
    "abs((-0))"
   ]
  },
  {
   "cell_type": "code",
   "execution_count": 463,
   "id": "4f28cef1",
   "metadata": {},
   "outputs": [
    {
     "data": {
      "text/plain": [
       "array([0, 5])"
      ]
     },
     "execution_count": 463,
     "metadata": {},
     "output_type": "execute_result"
    }
   ],
   "source": [
    "np.abs((-0,5))"
   ]
  },
  {
   "cell_type": "code",
   "execution_count": 464,
   "id": "e495cccd",
   "metadata": {},
   "outputs": [
    {
     "name": "stdout",
     "output_type": "stream",
     "text": [
      "0\n",
      "<class 'int'>\n",
      "<class 'tuple'>\n"
     ]
    }
   ],
   "source": [
    "print(np.abs((-0)))\n",
    "print(type((5)))\n",
    "print(type((-0,0)))"
   ]
  },
  {
   "cell_type": "code",
   "execution_count": 465,
   "id": "05d0fc88",
   "metadata": {},
   "outputs": [
    {
     "ename": "TypeError",
     "evalue": "bad operand type for unary -: 'NoneType'",
     "output_type": "error",
     "traceback": [
      "\u001b[1;31m---------------------------------------------------------------------------\u001b[0m",
      "\u001b[1;31mTypeError\u001b[0m                                 Traceback (most recent call last)",
      "Cell \u001b[1;32mIn[465], line 1\u001b[0m\n\u001b[1;32m----> 1\u001b[0m \u001b[38;5;28mabs\u001b[39m(\u001b[38;5;241;43m-\u001b[39;49m\u001b[38;5;28;43;01mNone\u001b[39;49;00m)\n",
      "\u001b[1;31mTypeError\u001b[0m: bad operand type for unary -: 'NoneType'"
     ]
    }
   ],
   "source": [
    "abs(-None)"
   ]
  },
  {
   "cell_type": "markdown",
   "id": "b3552147",
   "metadata": {},
   "source": [
    "### Floor\n",
    "`It is a method by which it round of to the lower whole number.`"
   ]
  },
  {
   "cell_type": "code",
   "execution_count": 466,
   "id": "2db7322d",
   "metadata": {},
   "outputs": [
    {
     "name": "stdout",
     "output_type": "stream",
     "text": [
      "[[[ -1.     3.     4.56  88.   -99.5   -4.56   4.3   -4.8 ]]]\n"
     ]
    }
   ],
   "source": [
    "# 3D array\n",
    "\n",
    "bbb = np.array([-1,3,4.56,88,-99.5,-4.56,4.3,-4.8], ndmin=3)\n",
    "print(bbb)"
   ]
  },
  {
   "cell_type": "code",
   "execution_count": 467,
   "id": "39885fef",
   "metadata": {},
   "outputs": [
    {
     "data": {
      "text/plain": [
       "array([[[  -1.,    3.,    4.,   88., -100.,   -5.,    4.,   -5.]]])"
      ]
     },
     "execution_count": 467,
     "metadata": {},
     "output_type": "execute_result"
    }
   ],
   "source": [
    "# Convert 3D array to the lower whole number \n",
    "\n",
    "np.floor(bbb)"
   ]
  },
  {
   "cell_type": "markdown",
   "id": "a0ddcce7",
   "metadata": {},
   "source": [
    "### Ceil\n",
    "`It is a method by which it round of to the upper whole number.`"
   ]
  },
  {
   "cell_type": "code",
   "execution_count": 468,
   "id": "a6c6be55",
   "metadata": {},
   "outputs": [
    {
     "data": {
      "text/plain": [
       "array([[[ -1.,   3.,   5.,  88., -99.,  -4.,   5.,  -4.]]])"
      ]
     },
     "execution_count": 468,
     "metadata": {},
     "output_type": "execute_result"
    }
   ],
   "source": [
    "# Convert 3D array to the upper whole number \n",
    "\n",
    "np.ceil(bbb)"
   ]
  },
  {
   "cell_type": "markdown",
   "id": "bddced33",
   "metadata": {},
   "source": [
    "### Around\n",
    "`It is a method by which it round of to the nearest whole number.`\n",
    "\n",
    "> In python round method takes single value and in around it can take a list also \n",
    "\n",
    "\n",
    "`It gives output in float`"
   ]
  },
  {
   "cell_type": "code",
   "execution_count": 469,
   "id": "a412cd4c",
   "metadata": {},
   "outputs": [
    {
     "data": {
      "text/plain": [
       "array([[[ -1.  ,   3.  ,   4.56,  88.  , -99.5 ,  -4.56,   4.3 ,  -4.8 ]]])"
      ]
     },
     "execution_count": 469,
     "metadata": {},
     "output_type": "execute_result"
    }
   ],
   "source": [
    "bbb"
   ]
  },
  {
   "cell_type": "code",
   "execution_count": 470,
   "id": "0a80d9f6",
   "metadata": {},
   "outputs": [
    {
     "data": {
      "text/plain": [
       "array([[[  -1.,    3.,    5.,   88., -100.,   -5.,    4.,   -5.]]])"
      ]
     },
     "execution_count": 470,
     "metadata": {},
     "output_type": "execute_result"
    }
   ],
   "source": [
    "# Convert the 3D array to the nearest whole number\n",
    "\n",
    "np.around(bbb)"
   ]
  },
  {
   "cell_type": "code",
   "execution_count": 472,
   "id": "40c37272",
   "metadata": {},
   "outputs": [
    {
     "data": {
      "text/plain": [
       "(4, 5, 5, 4.0, 5.0, 5.0)"
      ]
     },
     "execution_count": 472,
     "metadata": {},
     "output_type": "execute_result"
    }
   ],
   "source": [
    "# Convert the number to the nearest whole number\n",
    "\n",
    "round(4.5),round(4.51),round(4.61),np.around(4.5),np.around(4.51),np.around(4.61)"
   ]
  },
  {
   "cell_type": "code",
   "execution_count": 473,
   "id": "1077bf06",
   "metadata": {},
   "outputs": [
    {
     "name": "stdout",
     "output_type": "stream",
     "text": [
      "Current Python Version- 3.10.13\n"
     ]
    }
   ],
   "source": [
    "from platform import python_version\n",
    "print(\"Current Python Version-\", python_version())"
   ]
  },
  {
   "cell_type": "code",
   "execution_count": 476,
   "id": "f4aa6475",
   "metadata": {},
   "outputs": [
    {
     "data": {
      "text/plain": [
       "(4.54, 4.5, 4.51, 4.52)"
      ]
     },
     "execution_count": 476,
     "metadata": {},
     "output_type": "execute_result"
    }
   ],
   "source": [
    "# Convert the number to the nearest whole number\n",
    "\n",
    "np.around(4.54374,2), np.around(4.514,1), np.around(4.514,2), np.around(4.519,2)"
   ]
  },
  {
   "cell_type": "code",
   "execution_count": 477,
   "id": "5e140983",
   "metadata": {},
   "outputs": [
    {
     "data": {
      "text/plain": [
       "(2.0, 3.0)"
      ]
     },
     "execution_count": 477,
     "metadata": {},
     "output_type": "execute_result"
    }
   ],
   "source": [
    "# Convert the number to the nearest whole number\n",
    "\n",
    "np.around(2.50), np.around(2.51)"
   ]
  },
  {
   "cell_type": "code",
   "execution_count": 478,
   "id": "5613060f",
   "metadata": {
    "scrolled": true
   },
   "outputs": [
    {
     "ename": "TypeError",
     "evalue": "ufunc 'rint' not supported for the input types, and the inputs could not be safely coerced to any supported types according to the casting rule ''safe''",
     "output_type": "error",
     "traceback": [
      "\u001b[1;31m---------------------------------------------------------------------------\u001b[0m",
      "\u001b[1;31mTypeError\u001b[0m                                 Traceback (most recent call last)",
      "File \u001b[1;32mC:\\ProgramData\\anaconda3\\envs\\ml\\lib\\site-packages\\numpy\\core\\fromnumeric.py:57\u001b[0m, in \u001b[0;36m_wrapfunc\u001b[1;34m(obj, method, *args, **kwds)\u001b[0m\n\u001b[0;32m     56\u001b[0m \u001b[38;5;28;01mtry\u001b[39;00m:\n\u001b[1;32m---> 57\u001b[0m     \u001b[38;5;28;01mreturn\u001b[39;00m bound(\u001b[38;5;241m*\u001b[39margs, \u001b[38;5;241m*\u001b[39m\u001b[38;5;241m*\u001b[39mkwds)\n\u001b[0;32m     58\u001b[0m \u001b[38;5;28;01mexcept\u001b[39;00m \u001b[38;5;167;01mTypeError\u001b[39;00m:\n\u001b[0;32m     59\u001b[0m     \u001b[38;5;66;03m# A TypeError occurs if the object does have such a method in its\u001b[39;00m\n\u001b[0;32m     60\u001b[0m     \u001b[38;5;66;03m# class, but its signature is not identical to that of NumPy's. This\u001b[39;00m\n\u001b[1;32m   (...)\u001b[0m\n\u001b[0;32m     64\u001b[0m     \u001b[38;5;66;03m# Call _wrapit from within the except clause to ensure a potential\u001b[39;00m\n\u001b[0;32m     65\u001b[0m     \u001b[38;5;66;03m# exception has a traceback chain.\u001b[39;00m\n",
      "\u001b[1;31mTypeError\u001b[0m: ufunc 'rint' not supported for the input types, and the inputs could not be safely coerced to any supported types according to the casting rule ''safe''",
      "\nDuring handling of the above exception, another exception occurred:\n",
      "\u001b[1;31mTypeError\u001b[0m                                 Traceback (most recent call last)",
      "Cell \u001b[1;32mIn[478], line 3\u001b[0m\n\u001b[0;32m      1\u001b[0m \u001b[38;5;66;03m# As the dtype is object, it will throw the error\u001b[39;00m\n\u001b[1;32m----> 3\u001b[0m \u001b[43mnp\u001b[49m\u001b[38;5;241;43m.\u001b[39;49m\u001b[43maround\u001b[49m\u001b[43m(\u001b[49m\u001b[43mnp\u001b[49m\u001b[38;5;241;43m.\u001b[39;49m\u001b[43marray\u001b[49m\u001b[43m(\u001b[49m\u001b[43m[\u001b[49m\u001b[43m[\u001b[49m\u001b[38;5;124;43m'\u001b[39;49m\u001b[38;5;124;43m2.2\u001b[39;49m\u001b[38;5;124;43m'\u001b[39;49m\u001b[43m,\u001b[49m\u001b[38;5;241;43m3.6\u001b[39;49m\u001b[43m]\u001b[49m\u001b[43m]\u001b[49m\u001b[43m)\u001b[49m\u001b[43m)\u001b[49m\n",
      "File \u001b[1;32m<__array_function__ internals>:180\u001b[0m, in \u001b[0;36maround\u001b[1;34m(*args, **kwargs)\u001b[0m\n",
      "File \u001b[1;32mC:\\ProgramData\\anaconda3\\envs\\ml\\lib\\site-packages\\numpy\\core\\fromnumeric.py:3305\u001b[0m, in \u001b[0;36maround\u001b[1;34m(a, decimals, out)\u001b[0m\n\u001b[0;32m   3214\u001b[0m \u001b[38;5;129m@array_function_dispatch\u001b[39m(_around_dispatcher)\n\u001b[0;32m   3215\u001b[0m \u001b[38;5;28;01mdef\u001b[39;00m \u001b[38;5;21maround\u001b[39m(a, decimals\u001b[38;5;241m=\u001b[39m\u001b[38;5;241m0\u001b[39m, out\u001b[38;5;241m=\u001b[39m\u001b[38;5;28;01mNone\u001b[39;00m):\n\u001b[0;32m   3216\u001b[0m \u001b[38;5;250m    \u001b[39m\u001b[38;5;124;03m\"\"\"\u001b[39;00m\n\u001b[0;32m   3217\u001b[0m \u001b[38;5;124;03m    Evenly round to the given number of decimals.\u001b[39;00m\n\u001b[0;32m   3218\u001b[0m \n\u001b[1;32m   (...)\u001b[0m\n\u001b[0;32m   3303\u001b[0m \n\u001b[0;32m   3304\u001b[0m \u001b[38;5;124;03m    \"\"\"\u001b[39;00m\n\u001b[1;32m-> 3305\u001b[0m     \u001b[38;5;28;01mreturn\u001b[39;00m \u001b[43m_wrapfunc\u001b[49m\u001b[43m(\u001b[49m\u001b[43ma\u001b[49m\u001b[43m,\u001b[49m\u001b[43m \u001b[49m\u001b[38;5;124;43m'\u001b[39;49m\u001b[38;5;124;43mround\u001b[39;49m\u001b[38;5;124;43m'\u001b[39;49m\u001b[43m,\u001b[49m\u001b[43m \u001b[49m\u001b[43mdecimals\u001b[49m\u001b[38;5;241;43m=\u001b[39;49m\u001b[43mdecimals\u001b[49m\u001b[43m,\u001b[49m\u001b[43m \u001b[49m\u001b[43mout\u001b[49m\u001b[38;5;241;43m=\u001b[39;49m\u001b[43mout\u001b[49m\u001b[43m)\u001b[49m\n",
      "File \u001b[1;32mC:\\ProgramData\\anaconda3\\envs\\ml\\lib\\site-packages\\numpy\\core\\fromnumeric.py:66\u001b[0m, in \u001b[0;36m_wrapfunc\u001b[1;34m(obj, method, *args, **kwds)\u001b[0m\n\u001b[0;32m     57\u001b[0m     \u001b[38;5;28;01mreturn\u001b[39;00m bound(\u001b[38;5;241m*\u001b[39margs, \u001b[38;5;241m*\u001b[39m\u001b[38;5;241m*\u001b[39mkwds)\n\u001b[0;32m     58\u001b[0m \u001b[38;5;28;01mexcept\u001b[39;00m \u001b[38;5;167;01mTypeError\u001b[39;00m:\n\u001b[0;32m     59\u001b[0m     \u001b[38;5;66;03m# A TypeError occurs if the object does have such a method in its\u001b[39;00m\n\u001b[0;32m     60\u001b[0m     \u001b[38;5;66;03m# class, but its signature is not identical to that of NumPy's. This\u001b[39;00m\n\u001b[1;32m   (...)\u001b[0m\n\u001b[0;32m     64\u001b[0m     \u001b[38;5;66;03m# Call _wrapit from within the except clause to ensure a potential\u001b[39;00m\n\u001b[0;32m     65\u001b[0m     \u001b[38;5;66;03m# exception has a traceback chain.\u001b[39;00m\n\u001b[1;32m---> 66\u001b[0m     \u001b[38;5;28;01mreturn\u001b[39;00m _wrapit(obj, method, \u001b[38;5;241m*\u001b[39margs, \u001b[38;5;241m*\u001b[39m\u001b[38;5;241m*\u001b[39mkwds)\n",
      "File \u001b[1;32mC:\\ProgramData\\anaconda3\\envs\\ml\\lib\\site-packages\\numpy\\core\\fromnumeric.py:43\u001b[0m, in \u001b[0;36m_wrapit\u001b[1;34m(obj, method, *args, **kwds)\u001b[0m\n\u001b[0;32m     41\u001b[0m \u001b[38;5;28;01mexcept\u001b[39;00m \u001b[38;5;167;01mAttributeError\u001b[39;00m:\n\u001b[0;32m     42\u001b[0m     wrap \u001b[38;5;241m=\u001b[39m \u001b[38;5;28;01mNone\u001b[39;00m\n\u001b[1;32m---> 43\u001b[0m result \u001b[38;5;241m=\u001b[39m \u001b[38;5;28mgetattr\u001b[39m(asarray(obj), method)(\u001b[38;5;241m*\u001b[39margs, \u001b[38;5;241m*\u001b[39m\u001b[38;5;241m*\u001b[39mkwds)\n\u001b[0;32m     44\u001b[0m \u001b[38;5;28;01mif\u001b[39;00m wrap:\n\u001b[0;32m     45\u001b[0m     \u001b[38;5;28;01mif\u001b[39;00m \u001b[38;5;129;01mnot\u001b[39;00m \u001b[38;5;28misinstance\u001b[39m(result, mu\u001b[38;5;241m.\u001b[39mndarray):\n",
      "\u001b[1;31mTypeError\u001b[0m: ufunc 'rint' not supported for the input types, and the inputs could not be safely coerced to any supported types according to the casting rule ''safe''"
     ]
    }
   ],
   "source": [
    "# As the dtype is object, it will throw the error\n",
    "\n",
    "np.around(np.array([['2.2',3.6]]))"
   ]
  },
  {
   "cell_type": "code",
   "execution_count": 479,
   "id": "6e4d1209",
   "metadata": {},
   "outputs": [
    {
     "data": {
      "text/plain": [
       "array([2., 9., 2., 3.])"
      ]
     },
     "execution_count": 479,
     "metadata": {},
     "output_type": "execute_result"
    }
   ],
   "source": [
    "# Convert the array to the nearest whole number\n",
    "\n",
    "np.around(np.array([2.50, 8.9,2.1,2.7]))"
   ]
  },
  {
   "cell_type": "code",
   "execution_count": 480,
   "id": "e9e3275a",
   "metadata": {},
   "outputs": [
    {
     "data": {
      "text/plain": [
       "4.56"
      ]
     },
     "execution_count": 480,
     "metadata": {},
     "output_type": "execute_result"
    }
   ],
   "source": [
    "round(4.56373, 2)"
   ]
  },
  {
   "cell_type": "code",
   "execution_count": 481,
   "id": "ed21d848",
   "metadata": {},
   "outputs": [
    {
     "data": {
      "text/plain": [
       "5.0"
      ]
     },
     "execution_count": 481,
     "metadata": {},
     "output_type": "execute_result"
    }
   ],
   "source": [
    "round(4.51,0)"
   ]
  },
  {
   "cell_type": "code",
   "execution_count": 482,
   "id": "75e6d162",
   "metadata": {},
   "outputs": [
    {
     "ename": "TypeError",
     "evalue": "type numpy.ndarray doesn't define __round__ method",
     "output_type": "error",
     "traceback": [
      "\u001b[1;31m---------------------------------------------------------------------------\u001b[0m",
      "\u001b[1;31mTypeError\u001b[0m                                 Traceback (most recent call last)",
      "Cell \u001b[1;32mIn[482], line 3\u001b[0m\n\u001b[0;32m      1\u001b[0m \u001b[38;5;66;03m# round takes single value only\u001b[39;00m\n\u001b[1;32m----> 3\u001b[0m \u001b[38;5;28;43mround\u001b[39;49m\u001b[43m(\u001b[49m\u001b[43mnp\u001b[49m\u001b[38;5;241;43m.\u001b[39;49m\u001b[43marray\u001b[49m\u001b[43m(\u001b[49m\u001b[43m[\u001b[49m\u001b[38;5;241;43m5.2\u001b[39;49m\u001b[43m]\u001b[49m\u001b[43m)\u001b[49m\u001b[43m)\u001b[49m\n",
      "\u001b[1;31mTypeError\u001b[0m: type numpy.ndarray doesn't define __round__ method"
     ]
    }
   ],
   "source": [
    "# round takes single value only\n",
    "\n",
    "round(np.array([5.2]))"
   ]
  },
  {
   "cell_type": "code",
   "execution_count": 483,
   "id": "48dc21f4",
   "metadata": {},
   "outputs": [
    {
     "ename": "TypeError",
     "evalue": "type numpy.ndarray doesn't define __round__ method",
     "output_type": "error",
     "traceback": [
      "\u001b[1;31m---------------------------------------------------------------------------\u001b[0m",
      "\u001b[1;31mTypeError\u001b[0m                                 Traceback (most recent call last)",
      "Cell \u001b[1;32mIn[483], line 3\u001b[0m\n\u001b[0;32m      1\u001b[0m \u001b[38;5;66;03m#\u001b[39;00m\n\u001b[1;32m----> 3\u001b[0m \u001b[38;5;28;43mround\u001b[39;49m\u001b[43m(\u001b[49m\u001b[43mnp\u001b[49m\u001b[38;5;241;43m.\u001b[39;49m\u001b[43marray\u001b[49m\u001b[43m(\u001b[49m\u001b[43m[\u001b[49m\u001b[38;5;241;43m5.2\u001b[39;49m\u001b[43m,\u001b[49m\u001b[43m \u001b[49m\u001b[38;5;241;43m2.3\u001b[39;49m\u001b[43m]\u001b[49m\u001b[43m)\u001b[49m\u001b[43m)\u001b[49m\n",
      "\u001b[1;31mTypeError\u001b[0m: type numpy.ndarray doesn't define __round__ method"
     ]
    }
   ],
   "source": [
    "#\n",
    "\n",
    "round(np.array([5.2, 2.3]))"
   ]
  },
  {
   "cell_type": "code",
   "execution_count": 484,
   "id": "51531a18",
   "metadata": {},
   "outputs": [
    {
     "data": {
      "text/plain": [
       "4.5"
      ]
     },
     "execution_count": 484,
     "metadata": {},
     "output_type": "execute_result"
    }
   ],
   "source": [
    "round(4.51,1)"
   ]
  },
  {
   "cell_type": "code",
   "execution_count": 485,
   "id": "4f42f2a8",
   "metadata": {},
   "outputs": [
    {
     "data": {
      "text/plain": [
       "4.51"
      ]
     },
     "execution_count": 485,
     "metadata": {},
     "output_type": "execute_result"
    }
   ],
   "source": [
    "round(4.51,5)"
   ]
  },
  {
   "cell_type": "code",
   "execution_count": 486,
   "id": "00fa3fff",
   "metadata": {},
   "outputs": [
    {
     "name": "stdout",
     "output_type": "stream",
     "text": [
      "4.51\n"
     ]
    }
   ],
   "source": [
    "print(round(4.51,5))"
   ]
  },
  {
   "cell_type": "markdown",
   "id": "ae659d6a",
   "metadata": {},
   "source": [
    "### Sort\n",
    "\n",
    "> python sort in the original and numpy does not sort in the original"
   ]
  },
  {
   "cell_type": "code",
   "execution_count": 487,
   "id": "2e84a417",
   "metadata": {},
   "outputs": [],
   "source": [
    "bbb = [[[ -1.  ,   3.  ,   4.56,  88.  , -99.5 ,  -4.56,   4.3 ,  -4.8 ]]]"
   ]
  },
  {
   "cell_type": "code",
   "execution_count": 488,
   "id": "2ee6fdfc",
   "metadata": {},
   "outputs": [
    {
     "name": "stdout",
     "output_type": "stream",
     "text": [
      "None\n",
      "[[[-1.0, 3.0, 4.56, 88.0, -99.5, -4.56, 4.3, -4.8]]]\n"
     ]
    }
   ],
   "source": [
    "# Sort an 3D array\n",
    "\n",
    "print(bbb.sort())\n",
    "print(bbb)"
   ]
  },
  {
   "cell_type": "code",
   "execution_count": 489,
   "id": "461ed844",
   "metadata": {},
   "outputs": [
    {
     "name": "stdout",
     "output_type": "stream",
     "text": [
      "None\n",
      "[-99.5, -4.8, -4.56, -1.0, 3.0, 4.3, 4.56, 88.0]\n"
     ]
    }
   ],
   "source": [
    "# Sort a list\n",
    "\n",
    "b = [ -1.  ,   3.  ,   4.56,  88.  , -99.5 ,  -4.56,   4.3 ,  -4.8 ]\n",
    "\n",
    "print(b.sort())\n",
    "print(b)"
   ]
  },
  {
   "cell_type": "code",
   "execution_count": 490,
   "id": "305a975c",
   "metadata": {},
   "outputs": [
    {
     "data": {
      "text/plain": [
       "array([[ 1,  3,  6, 52],\n",
       "       [ 2,  2,  4, 56]])"
      ]
     },
     "execution_count": 490,
     "metadata": {},
     "output_type": "execute_result"
    }
   ],
   "source": [
    "# Sort 2D array with length 2\n",
    "\n",
    "abc = np.array([[1, 52, 3, 6], [2, 4,2, 56]])\n",
    "abc.sort()\n",
    "abc"
   ]
  },
  {
   "cell_type": "code",
   "execution_count": 491,
   "id": "9abf73d4",
   "metadata": {},
   "outputs": [
    {
     "name": "stdout",
     "output_type": "stream",
     "text": [
      "[5 7 1 2 3 list([5, 6])] object\n"
     ]
    },
    {
     "name": "stderr",
     "output_type": "stream",
     "text": [
      "C:\\Users\\Atharv Soni\\AppData\\Local\\Temp\\ipykernel_9908\\1524208358.py:3: VisibleDeprecationWarning: Creating an ndarray from ragged nested sequences (which is a list-or-tuple of lists-or-tuples-or ndarrays with different lengths or shapes) is deprecated. If you meant to do this, you must specify 'dtype=object' when creating the ndarray.\n",
      "  ss = np.array([5,7,1,2,3,[5,6]])\n"
     ]
    },
    {
     "ename": "TypeError",
     "evalue": "'<' not supported between instances of 'list' and 'int'",
     "output_type": "error",
     "traceback": [
      "\u001b[1;31m---------------------------------------------------------------------------\u001b[0m",
      "\u001b[1;31mTypeError\u001b[0m                                 Traceback (most recent call last)",
      "Cell \u001b[1;32mIn[491], line 5\u001b[0m\n\u001b[0;32m      3\u001b[0m ss \u001b[38;5;241m=\u001b[39m np\u001b[38;5;241m.\u001b[39marray([\u001b[38;5;241m5\u001b[39m,\u001b[38;5;241m7\u001b[39m,\u001b[38;5;241m1\u001b[39m,\u001b[38;5;241m2\u001b[39m,\u001b[38;5;241m3\u001b[39m,[\u001b[38;5;241m5\u001b[39m,\u001b[38;5;241m6\u001b[39m]])\n\u001b[0;32m      4\u001b[0m \u001b[38;5;28mprint\u001b[39m(ss, ss\u001b[38;5;241m.\u001b[39mdtype)\n\u001b[1;32m----> 5\u001b[0m \u001b[43mnp\u001b[49m\u001b[38;5;241;43m.\u001b[39;49m\u001b[43msort\u001b[49m\u001b[43m(\u001b[49m\u001b[43mss\u001b[49m\u001b[43m)\u001b[49m\n",
      "File \u001b[1;32m<__array_function__ internals>:180\u001b[0m, in \u001b[0;36msort\u001b[1;34m(*args, **kwargs)\u001b[0m\n",
      "File \u001b[1;32mC:\\ProgramData\\anaconda3\\envs\\ml\\lib\\site-packages\\numpy\\core\\fromnumeric.py:1004\u001b[0m, in \u001b[0;36msort\u001b[1;34m(a, axis, kind, order)\u001b[0m\n\u001b[0;32m   1002\u001b[0m \u001b[38;5;28;01melse\u001b[39;00m:\n\u001b[0;32m   1003\u001b[0m     a \u001b[38;5;241m=\u001b[39m asanyarray(a)\u001b[38;5;241m.\u001b[39mcopy(order\u001b[38;5;241m=\u001b[39m\u001b[38;5;124m\"\u001b[39m\u001b[38;5;124mK\u001b[39m\u001b[38;5;124m\"\u001b[39m)\n\u001b[1;32m-> 1004\u001b[0m \u001b[43ma\u001b[49m\u001b[38;5;241;43m.\u001b[39;49m\u001b[43msort\u001b[49m\u001b[43m(\u001b[49m\u001b[43maxis\u001b[49m\u001b[38;5;241;43m=\u001b[39;49m\u001b[43maxis\u001b[49m\u001b[43m,\u001b[49m\u001b[43m \u001b[49m\u001b[43mkind\u001b[49m\u001b[38;5;241;43m=\u001b[39;49m\u001b[43mkind\u001b[49m\u001b[43m,\u001b[49m\u001b[43m \u001b[49m\u001b[43morder\u001b[49m\u001b[38;5;241;43m=\u001b[39;49m\u001b[43morder\u001b[49m\u001b[43m)\u001b[49m\n\u001b[0;32m   1005\u001b[0m \u001b[38;5;28;01mreturn\u001b[39;00m a\n",
      "\u001b[1;31mTypeError\u001b[0m: '<' not supported between instances of 'list' and 'int'"
     ]
    }
   ],
   "source": [
    "# An object type array will throw a error while sorting\n",
    "\n",
    "ss = np.array([5,7,1,2,3,[5,6]])\n",
    "print(ss, ss.dtype)\n",
    "np.sort(ss)"
   ]
  },
  {
   "cell_type": "code",
   "execution_count": 492,
   "id": "0fcb0c7c",
   "metadata": {},
   "outputs": [
    {
     "name": "stdout",
     "output_type": "stream",
     "text": [
      "[ 1  2  3  5 11]\n",
      "[ 2  5  1  3 11]\n"
     ]
    }
   ],
   "source": [
    "# Sort an array, np.sort doesnt save in the original\n",
    "\n",
    "ss11 = np.array([2,5,1,3,sum([5,6])])\n",
    "print(np.sort(ss11))\n",
    "print(ss11)"
   ]
  },
  {
   "cell_type": "code",
   "execution_count": 493,
   "id": "636c47ad",
   "metadata": {},
   "outputs": [
    {
     "data": {
      "text/plain": [
       "array([ 1,  2,  3,  5, 11])"
      ]
     },
     "execution_count": 493,
     "metadata": {},
     "output_type": "execute_result"
    }
   ],
   "source": [
    "# Sort an array\n",
    "# numpy sort\n",
    "\n",
    "ss11 = np.array([2,5,1,3,sum([5,6])])\n",
    "ss11.sort()\n",
    "ss11"
   ]
  },
  {
   "cell_type": "code",
   "execution_count": 494,
   "id": "bceee13d",
   "metadata": {},
   "outputs": [
    {
     "name": "stderr",
     "output_type": "stream",
     "text": [
      "C:\\Users\\Atharv Soni\\AppData\\Local\\Temp\\ipykernel_9908\\1959910647.py:3: VisibleDeprecationWarning: Creating an ndarray from ragged nested sequences (which is a list-or-tuple of lists-or-tuples-or ndarrays with different lengths or shapes) is deprecated. If you meant to do this, you must specify 'dtype=object' when creating the ndarray.\n",
      "  ss = np.array([1,2,3,[5,6]])\n"
     ]
    },
    {
     "ename": "TypeError",
     "evalue": "'<' not supported between instances of 'list' and 'int'",
     "output_type": "error",
     "traceback": [
      "\u001b[1;31m---------------------------------------------------------------------------\u001b[0m",
      "\u001b[1;31mTypeError\u001b[0m                                 Traceback (most recent call last)",
      "Cell \u001b[1;32mIn[494], line 4\u001b[0m\n\u001b[0;32m      1\u001b[0m \u001b[38;5;66;03m# Sort an object type array will give an array as the array contains a list an int\u001b[39;00m\n\u001b[0;32m      3\u001b[0m ss \u001b[38;5;241m=\u001b[39m np\u001b[38;5;241m.\u001b[39marray([\u001b[38;5;241m1\u001b[39m,\u001b[38;5;241m2\u001b[39m,\u001b[38;5;241m3\u001b[39m,[\u001b[38;5;241m5\u001b[39m,\u001b[38;5;241m6\u001b[39m]])\n\u001b[1;32m----> 4\u001b[0m \u001b[43mss\u001b[49m\u001b[38;5;241;43m.\u001b[39;49m\u001b[43msort\u001b[49m\u001b[43m(\u001b[49m\u001b[43m)\u001b[49m\n",
      "\u001b[1;31mTypeError\u001b[0m: '<' not supported between instances of 'list' and 'int'"
     ]
    }
   ],
   "source": [
    "# Sort an object type array will give an array as the array contains a list an int\n",
    "\n",
    "ss = np.array([1,2,3,[5,6]])\n",
    "ss.sort()"
   ]
  },
  {
   "cell_type": "code",
   "execution_count": 495,
   "id": "6c2c1827",
   "metadata": {},
   "outputs": [
    {
     "data": {
      "text/plain": [
       "array([ 1,  2,  3, 11])"
      ]
     },
     "execution_count": 495,
     "metadata": {},
     "output_type": "execute_result"
    }
   ],
   "source": [
    "# Sort an array\n",
    "\n",
    "ss = np.array([1,2,3,sum([5,6])])\n",
    "ss.sort()\n",
    "ss"
   ]
  },
  {
   "cell_type": "code",
   "execution_count": 496,
   "id": "9bd36366",
   "metadata": {},
   "outputs": [
    {
     "name": "stdout",
     "output_type": "stream",
     "text": [
      "[[ 1  3  6 52]\n",
      " [ 2  2  4 56]]\n",
      "None\n",
      "[[ 1  3  6 52]\n",
      " [ 2  2  4 56]]\n"
     ]
    }
   ],
   "source": [
    "# Sort an array with length 2\n",
    "\n",
    "abc = np.array([[1, 52, 3, 6], [2, 4,2, 56]])\n",
    "bcd = abc.sort()\n",
    "cde = np.sort(abc)\n",
    "print(abc)\n",
    "print(bcd)\n",
    "print(cde)"
   ]
  },
  {
   "cell_type": "code",
   "execution_count": 497,
   "id": "5ee97380",
   "metadata": {},
   "outputs": [
    {
     "name": "stdout",
     "output_type": "stream",
     "text": [
      "[[ 1 52  3  6]\n",
      " [ 2  4  2 56]]\n",
      "[[ 1  3  6 52]\n",
      " [ 2  2  4 56]]\n"
     ]
    }
   ],
   "source": [
    "# Sort an array with length 2\n",
    "\n",
    "abc = np.array([[1, 52, 3, 6], [2, 4,2, 56]])\n",
    "cde = np.sort(abc)\n",
    "print(abc)\n",
    "print(cde)"
   ]
  },
  {
   "cell_type": "code",
   "execution_count": 498,
   "id": "85d8f333",
   "metadata": {},
   "outputs": [
    {
     "name": "stdout",
     "output_type": "stream",
     "text": [
      "[[ 1  3  6 52]\n",
      " [ 2  2  4 56]]\n"
     ]
    },
    {
     "data": {
      "text/plain": [
       "array([[ 1, 52,  3,  6],\n",
       "       [ 2,  4,  2, 56]])"
      ]
     },
     "execution_count": 498,
     "metadata": {},
     "output_type": "execute_result"
    }
   ],
   "source": [
    "abbc = np.array([[1, 52, 3, 6], [2, 4,2, 56]])\n",
    "print(np.sort(abbc))\n",
    "abbc"
   ]
  },
  {
   "cell_type": "code",
   "execution_count": 500,
   "id": "be0cbd4e",
   "metadata": {},
   "outputs": [
    {
     "name": "stdout",
     "output_type": "stream",
     "text": [
      "object\n",
      "[list([1, 52, 'palak', 6]) list([2, 4, 2, 2, 56]) list([33, 5, 66, 78])]\n"
     ]
    },
    {
     "name": "stderr",
     "output_type": "stream",
     "text": [
      "C:\\Users\\Atharv Soni\\AppData\\Local\\Temp\\ipykernel_9908\\256240509.py:5: VisibleDeprecationWarning: Creating an ndarray from ragged nested sequences (which is a list-or-tuple of lists-or-tuples-or ndarrays with different lengths or shapes) is deprecated. If you meant to do this, you must specify 'dtype=object' when creating the ndarray.\n",
      "  cc = np.array([[33,5,66,78],[1, 52, 'palak', 6], [2, 4,2,2, 56]])\n"
     ]
    }
   ],
   "source": [
    "# Sort an array with length 2, dtype object\n",
    "# As the dtype is object, it will sort on the basis of the 1st element of the object\n",
    "\n",
    "\n",
    "cc = np.array([[33,5,66,78],[1, 52, 'palak', 6], [2, 4,2,2, 56]])\n",
    "print(cc.dtype)\n",
    "cc.sort()\n",
    "print(cc)"
   ]
  },
  {
   "cell_type": "code",
   "execution_count": 501,
   "id": "4b128ee8",
   "metadata": {},
   "outputs": [
    {
     "name": "stdout",
     "output_type": "stream",
     "text": [
      "[list([1, 52, 'palak', 6]) list([2, 4, 2, 2, 56]) list([33, 5, 66, 78])]\n",
      "[list([33, 5, 66, 78]) list([1, 52, 'palak', 6]) list([2, 4, 2, 2, 56])]\n"
     ]
    },
    {
     "name": "stderr",
     "output_type": "stream",
     "text": [
      "C:\\Users\\Atharv Soni\\AppData\\Local\\Temp\\ipykernel_9908\\1309973613.py:5: VisibleDeprecationWarning: Creating an ndarray from ragged nested sequences (which is a list-or-tuple of lists-or-tuples-or ndarrays with different lengths or shapes) is deprecated. If you meant to do this, you must specify 'dtype=object' when creating the ndarray.\n",
      "  cc = np.array([[33,5,66,78],[1, 52, 'palak', 6], [2, 4,2,2, 56]])\n"
     ]
    }
   ],
   "source": [
    "# Sort an array with length 2, dtype object\n",
    "# As the dtype is object, it will sort on the basis of the 1st element of the object\n",
    "\n",
    "\n",
    "cc = np.array([[33,5,66,78],[1, 52, 'palak', 6], [2, 4,2,2, 56]])\n",
    "\n",
    "print(np.sort(cc))\n",
    "print(cc)"
   ]
  },
  {
   "cell_type": "code",
   "execution_count": 502,
   "id": "a65bd935",
   "metadata": {},
   "outputs": [
    {
     "name": "stdout",
     "output_type": "stream",
     "text": [
      "[list([1, 52, 'palak', 6]) list([2, 2, 2, 4, 56])]\n"
     ]
    },
    {
     "name": "stderr",
     "output_type": "stream",
     "text": [
      "C:\\Users\\Atharv Soni\\AppData\\Local\\Temp\\ipykernel_9908\\3498916731.py:1: VisibleDeprecationWarning: Creating an ndarray from ragged nested sequences (which is a list-or-tuple of lists-or-tuples-or ndarrays with different lengths or shapes) is deprecated. If you meant to do this, you must specify 'dtype=object' when creating the ndarray.\n",
      "  cc = np.array([[1, 52, 'palak', 6], [2, 4,2,2, 56]])\n"
     ]
    },
    {
     "ename": "TypeError",
     "evalue": "'<' not supported between instances of 'str' and 'int'",
     "output_type": "error",
     "traceback": [
      "\u001b[1;31m---------------------------------------------------------------------------\u001b[0m",
      "\u001b[1;31mTypeError\u001b[0m                                 Traceback (most recent call last)",
      "Cell \u001b[1;32mIn[502], line 8\u001b[0m\n\u001b[0;32m      5\u001b[0m \u001b[38;5;28mprint\u001b[39m(cc)\n\u001b[0;32m      7\u001b[0m \u001b[38;5;66;03m# It will not sort the elements of the list as the list contains mix data\u001b[39;00m\n\u001b[1;32m----> 8\u001b[0m \u001b[43mcc\u001b[49m\u001b[43m[\u001b[49m\u001b[38;5;241;43m0\u001b[39;49m\u001b[43m]\u001b[49m\u001b[38;5;241;43m.\u001b[39;49m\u001b[43msort\u001b[49m\u001b[43m(\u001b[49m\u001b[43m)\u001b[49m\n\u001b[0;32m      9\u001b[0m cc\n",
      "\u001b[1;31mTypeError\u001b[0m: '<' not supported between instances of 'str' and 'int'"
     ]
    }
   ],
   "source": [
    "cc = np.array([[1, 52, 'palak', 6], [2, 4,2,2, 56]])\n",
    "\n",
    "# It will sort as the list contains integers\n",
    "cc[1].sort()\n",
    "print(cc)\n",
    "\n",
    "# It will not sort the elements of the list as the list contains mix data\n",
    "cc[0].sort()\n",
    "cc"
   ]
  },
  {
   "cell_type": "code",
   "execution_count": 503,
   "id": "4c105532",
   "metadata": {},
   "outputs": [
    {
     "name": "stdout",
     "output_type": "stream",
     "text": [
      "[['1' '52' '6' 'palak']]\n"
     ]
    }
   ],
   "source": [
    "# Sort a array of strings\n",
    "# It will sort according to ASCII\n",
    "\n",
    "cca = np.array([['1', '52', 'palak', '6']])\n",
    "\n",
    "cca.sort()\n",
    "print(cca)"
   ]
  },
  {
   "cell_type": "code",
   "execution_count": 504,
   "id": "1e6f4efa",
   "metadata": {},
   "outputs": [
    {
     "name": "stdout",
     "output_type": "stream",
     "text": [
      "[['1' '52' '6' 'palak']]\n"
     ]
    }
   ],
   "source": [
    "# Sort a array of strings\n",
    "# It will sort according to ASCII\n",
    "\n",
    "cca = np.array([['1', '52', 'palak', '6']])\n",
    "\n",
    "ccs = np.sort(cca)\n",
    "print(ccs)"
   ]
  },
  {
   "cell_type": "code",
   "execution_count": 505,
   "id": "ba05f925",
   "metadata": {},
   "outputs": [
    {
     "name": "stderr",
     "output_type": "stream",
     "text": [
      "C:\\Users\\Atharv Soni\\AppData\\Local\\Temp\\ipykernel_9908\\3157689553.py:4: VisibleDeprecationWarning: Creating an ndarray from ragged nested sequences (which is a list-or-tuple of lists-or-tuples-or ndarrays with different lengths or shapes) is deprecated. If you meant to do this, you must specify 'dtype=object' when creating the ndarray.\n",
      "  cc = np.array([[1, 52, 'palak', 6], [2, 4,2,2, 56]])\n"
     ]
    },
    {
     "data": {
      "text/plain": [
       "array([list([1, 52, 'palak', 6]), list([2, 4, 2, 2, 56])], dtype=object)"
      ]
     },
     "execution_count": 505,
     "metadata": {},
     "output_type": "execute_result"
    }
   ],
   "source": [
    "# Sort an array with length 2, dtype object\n",
    "# As the dtype is object, it will sort on the basis of the 1st element of the object\n",
    "\n",
    "cc = np.array([[1, 52, 'palak', 6], [2, 4,2,2, 56]])\n",
    "\n",
    "cc1 = np.sort(cc)\n",
    "cc1"
   ]
  },
  {
   "cell_type": "code",
   "execution_count": 506,
   "id": "9efdf07f",
   "metadata": {},
   "outputs": [
    {
     "name": "stderr",
     "output_type": "stream",
     "text": [
      "C:\\Users\\Atharv Soni\\AppData\\Local\\Temp\\ipykernel_9908\\1294894051.py:4: VisibleDeprecationWarning: Creating an ndarray from ragged nested sequences (which is a list-or-tuple of lists-or-tuples-or ndarrays with different lengths or shapes) is deprecated. If you meant to do this, you must specify 'dtype=object' when creating the ndarray.\n",
      "  cc = np.array([[2,5],[2, 4,2,2, 56],[1, 52, 'palak', 6]])\n"
     ]
    },
    {
     "data": {
      "text/plain": [
       "array([list([1, 52, 'palak', 6]), list([2, 4, 2, 2, 56]), list([2, 5])],\n",
       "      dtype=object)"
      ]
     },
     "execution_count": 506,
     "metadata": {},
     "output_type": "execute_result"
    }
   ],
   "source": [
    "# Sort an array with length 2, dtype object\n",
    "# As the dtype is object, it will sort on the basis of the 1st element of the object\n",
    "\n",
    "cc = np.array([[2,5],[2, 4,2,2, 56],[1, 52, 'palak', 6]])\n",
    "\n",
    "cc1 = np.sort(cc)\n",
    "cc1"
   ]
  },
  {
   "cell_type": "code",
   "execution_count": 507,
   "id": "780eb430",
   "metadata": {},
   "outputs": [
    {
     "name": "stdout",
     "output_type": "stream",
     "text": [
      "[list([1, 52, 'palak', 6]) list([2, 4, 2, 2, 56])]\n",
      "\n"
     ]
    },
    {
     "name": "stderr",
     "output_type": "stream",
     "text": [
      "C:\\Users\\Atharv Soni\\AppData\\Local\\Temp\\ipykernel_9908\\836166788.py:5: VisibleDeprecationWarning: Creating an ndarray from ragged nested sequences (which is a list-or-tuple of lists-or-tuples-or ndarrays with different lengths or shapes) is deprecated. If you meant to do this, you must specify 'dtype=object' when creating the ndarray.\n",
      "  abc = np.array([[1, 52, 'palak', 6], [2, 4,2,2, 56]])\n"
     ]
    },
    {
     "data": {
      "text/html": [
       "<div>\n",
       "<style scoped>\n",
       "    .dataframe tbody tr th:only-of-type {\n",
       "        vertical-align: middle;\n",
       "    }\n",
       "\n",
       "    .dataframe tbody tr th {\n",
       "        vertical-align: top;\n",
       "    }\n",
       "\n",
       "    .dataframe thead th {\n",
       "        text-align: right;\n",
       "    }\n",
       "</style>\n",
       "<table border=\"1\" class=\"dataframe\">\n",
       "  <thead>\n",
       "    <tr style=\"text-align: right;\">\n",
       "      <th></th>\n",
       "      <th>0</th>\n",
       "    </tr>\n",
       "  </thead>\n",
       "  <tbody>\n",
       "    <tr>\n",
       "      <th>0</th>\n",
       "      <td>[1, 52, palak, 6]</td>\n",
       "    </tr>\n",
       "    <tr>\n",
       "      <th>1</th>\n",
       "      <td>[2, 4, 2, 2, 56]</td>\n",
       "    </tr>\n",
       "  </tbody>\n",
       "</table>\n",
       "</div>"
      ],
      "text/plain": [
       "                   0\n",
       "0  [1, 52, palak, 6]\n",
       "1   [2, 4, 2, 2, 56]"
      ]
     },
     "execution_count": 507,
     "metadata": {},
     "output_type": "execute_result"
    }
   ],
   "source": [
    "# Sort an array with length 2, dtype object\n",
    "# As the dtype is object, it will sort on the basis of the 1st element of the object\n",
    "# Create dataframe of the array\n",
    "\n",
    "abc = np.array([[1, 52, 'palak', 6], [2, 4,2,2, 56]])\n",
    "\n",
    "print(abc)\n",
    "print()\n",
    "# pd.Series(abc)\n",
    "pd.DataFrame(abc)"
   ]
  },
  {
   "cell_type": "code",
   "execution_count": 509,
   "id": "5353d849",
   "metadata": {},
   "outputs": [
    {
     "name": "stdout",
     "output_type": "stream",
     "text": [
      "[['1' '52' '3' '6']\n",
      " ['2' 'palak' '2' '56']]\n"
     ]
    },
    {
     "data": {
      "text/html": [
       "<div>\n",
       "<style scoped>\n",
       "    .dataframe tbody tr th:only-of-type {\n",
       "        vertical-align: middle;\n",
       "    }\n",
       "\n",
       "    .dataframe tbody tr th {\n",
       "        vertical-align: top;\n",
       "    }\n",
       "\n",
       "    .dataframe thead th {\n",
       "        text-align: right;\n",
       "    }\n",
       "</style>\n",
       "<table border=\"1\" class=\"dataframe\">\n",
       "  <thead>\n",
       "    <tr style=\"text-align: right;\">\n",
       "      <th></th>\n",
       "      <th>0</th>\n",
       "      <th>1</th>\n",
       "      <th>2</th>\n",
       "      <th>3</th>\n",
       "    </tr>\n",
       "  </thead>\n",
       "  <tbody>\n",
       "    <tr>\n",
       "      <th>0</th>\n",
       "      <td>1</td>\n",
       "      <td>52</td>\n",
       "      <td>3</td>\n",
       "      <td>6</td>\n",
       "    </tr>\n",
       "    <tr>\n",
       "      <th>1</th>\n",
       "      <td>2</td>\n",
       "      <td>palak</td>\n",
       "      <td>2</td>\n",
       "      <td>56</td>\n",
       "    </tr>\n",
       "  </tbody>\n",
       "</table>\n",
       "</div>"
      ],
      "text/plain": [
       "   0      1  2   3\n",
       "0  1     52  3   6\n",
       "1  2  palak  2  56"
      ]
     },
     "execution_count": 509,
     "metadata": {},
     "output_type": "execute_result"
    }
   ],
   "source": [
    "abb = np.array([[1, 52, 3, 6], [2, 'palak',2, 56]])\n",
    "print(abb)\n",
    "pd.DataFrame(abb)"
   ]
  },
  {
   "cell_type": "markdown",
   "id": "37c9e5c6",
   "metadata": {},
   "source": [
    "### Min - Max\n",
    "\n",
    "> min and max in numpy return a array with 1 less dimention if array is 2D or more with length 1, if 1D array it gives the output <br>\n",
    "> In numpy min and max, if the dtype is object, it will give output by comparing the object 1 element, if 1 element is same then it will compare it with the next element of the object"
   ]
  },
  {
   "cell_type": "code",
   "execution_count": 510,
   "id": "8020d392",
   "metadata": {},
   "outputs": [
    {
     "name": "stdout",
     "output_type": "stream",
     "text": [
      "[2, 3, 4, 1] [9 2 5 6 3]\n"
     ]
    }
   ],
   "source": [
    "# variables contain a list and an array\n",
    "\n",
    "a = [2,3,4,1]\n",
    "b = np.array([9,2,5,6,3])\n",
    "print(a,b)"
   ]
  },
  {
   "cell_type": "code",
   "execution_count": 511,
   "id": "8e2b2ee1",
   "metadata": {},
   "outputs": [
    {
     "name": "stdout",
     "output_type": "stream",
     "text": [
      "1 2 4 9\n",
      "1 2 4 9\n"
     ]
    }
   ],
   "source": [
    "# numpy Min & Max of the list and array\n",
    "\n",
    "print(np.min(a), np.min(b), np.max(a), np.max(b))\n",
    "print(min(a), min(b), max(a), max(b))"
   ]
  },
  {
   "cell_type": "code",
   "execution_count": 512,
   "id": "8c2be390",
   "metadata": {},
   "outputs": [
    {
     "ename": "AttributeError",
     "evalue": "'list' object has no attribute 'min'",
     "output_type": "error",
     "traceback": [
      "\u001b[1;31m---------------------------------------------------------------------------\u001b[0m",
      "\u001b[1;31mAttributeError\u001b[0m                            Traceback (most recent call last)",
      "Cell \u001b[1;32mIn[512], line 1\u001b[0m\n\u001b[1;32m----> 1\u001b[0m \u001b[43ma\u001b[49m\u001b[38;5;241;43m.\u001b[39;49m\u001b[43mmin\u001b[49m()\n",
      "\u001b[1;31mAttributeError\u001b[0m: 'list' object has no attribute 'min'"
     ]
    }
   ],
   "source": [
    "a.min()"
   ]
  },
  {
   "cell_type": "code",
   "execution_count": 513,
   "id": "ed162eff",
   "metadata": {},
   "outputs": [
    {
     "data": {
      "text/plain": [
       "1"
      ]
     },
     "execution_count": 513,
     "metadata": {},
     "output_type": "execute_result"
    }
   ],
   "source": [
    "min(a)"
   ]
  },
  {
   "cell_type": "code",
   "execution_count": 514,
   "id": "1aae731b",
   "metadata": {},
   "outputs": [
    {
     "data": {
      "text/plain": [
       "1"
      ]
     },
     "execution_count": 514,
     "metadata": {},
     "output_type": "execute_result"
    }
   ],
   "source": [
    "np.min(a)"
   ]
  },
  {
   "cell_type": "code",
   "execution_count": 515,
   "id": "6edac3d8",
   "metadata": {},
   "outputs": [
    {
     "data": {
      "text/plain": [
       "(2, 999)"
      ]
     },
     "execution_count": 515,
     "metadata": {},
     "output_type": "execute_result"
    }
   ],
   "source": [
    "aa = np.array([[3,5,999,7], [3,2,77,8]])\n",
    "np.min(aa), np.max(aa)"
   ]
  },
  {
   "cell_type": "code",
   "execution_count": 516,
   "id": "65ada263",
   "metadata": {},
   "outputs": [
    {
     "name": "stderr",
     "output_type": "stream",
     "text": [
      "C:\\Users\\Atharv Soni\\AppData\\Local\\Temp\\ipykernel_9908\\1276116742.py:1: VisibleDeprecationWarning: Creating an ndarray from ragged nested sequences (which is a list-or-tuple of lists-or-tuples-or ndarrays with different lengths or shapes) is deprecated. If you meant to do this, you must specify 'dtype=object' when creating the ndarray.\n",
      "  aa = np.array([[[3,5,999,7]], [3,2,77,8]])\n"
     ]
    },
    {
     "ename": "TypeError",
     "evalue": "'<=' not supported between instances of 'list' and 'int'",
     "output_type": "error",
     "traceback": [
      "\u001b[1;31m---------------------------------------------------------------------------\u001b[0m",
      "\u001b[1;31mTypeError\u001b[0m                                 Traceback (most recent call last)",
      "Cell \u001b[1;32mIn[516], line 2\u001b[0m\n\u001b[0;32m      1\u001b[0m aa \u001b[38;5;241m=\u001b[39m np\u001b[38;5;241m.\u001b[39marray([[[\u001b[38;5;241m3\u001b[39m,\u001b[38;5;241m5\u001b[39m,\u001b[38;5;241m999\u001b[39m,\u001b[38;5;241m7\u001b[39m]], [\u001b[38;5;241m3\u001b[39m,\u001b[38;5;241m2\u001b[39m,\u001b[38;5;241m77\u001b[39m,\u001b[38;5;241m8\u001b[39m]])\n\u001b[1;32m----> 2\u001b[0m \u001b[43mnp\u001b[49m\u001b[38;5;241;43m.\u001b[39;49m\u001b[43mmin\u001b[49m\u001b[43m(\u001b[49m\u001b[43maa\u001b[49m\u001b[43m)\u001b[49m, np\u001b[38;5;241m.\u001b[39mmax(aa)\n",
      "File \u001b[1;32m<__array_function__ internals>:180\u001b[0m, in \u001b[0;36mamin\u001b[1;34m(*args, **kwargs)\u001b[0m\n",
      "File \u001b[1;32mC:\\ProgramData\\anaconda3\\envs\\ml\\lib\\site-packages\\numpy\\core\\fromnumeric.py:2918\u001b[0m, in \u001b[0;36mamin\u001b[1;34m(a, axis, out, keepdims, initial, where)\u001b[0m\n\u001b[0;32m   2802\u001b[0m \u001b[38;5;129m@array_function_dispatch\u001b[39m(_amin_dispatcher)\n\u001b[0;32m   2803\u001b[0m \u001b[38;5;28;01mdef\u001b[39;00m \u001b[38;5;21mamin\u001b[39m(a, axis\u001b[38;5;241m=\u001b[39m\u001b[38;5;28;01mNone\u001b[39;00m, out\u001b[38;5;241m=\u001b[39m\u001b[38;5;28;01mNone\u001b[39;00m, keepdims\u001b[38;5;241m=\u001b[39mnp\u001b[38;5;241m.\u001b[39m_NoValue, initial\u001b[38;5;241m=\u001b[39mnp\u001b[38;5;241m.\u001b[39m_NoValue,\n\u001b[0;32m   2804\u001b[0m          where\u001b[38;5;241m=\u001b[39mnp\u001b[38;5;241m.\u001b[39m_NoValue):\n\u001b[0;32m   2805\u001b[0m \u001b[38;5;250m    \u001b[39m\u001b[38;5;124;03m\"\"\"\u001b[39;00m\n\u001b[0;32m   2806\u001b[0m \u001b[38;5;124;03m    Return the minimum of an array or minimum along an axis.\u001b[39;00m\n\u001b[0;32m   2807\u001b[0m \n\u001b[1;32m   (...)\u001b[0m\n\u001b[0;32m   2916\u001b[0m \u001b[38;5;124;03m    6\u001b[39;00m\n\u001b[0;32m   2917\u001b[0m \u001b[38;5;124;03m    \"\"\"\u001b[39;00m\n\u001b[1;32m-> 2918\u001b[0m     \u001b[38;5;28;01mreturn\u001b[39;00m \u001b[43m_wrapreduction\u001b[49m\u001b[43m(\u001b[49m\u001b[43ma\u001b[49m\u001b[43m,\u001b[49m\u001b[43m \u001b[49m\u001b[43mnp\u001b[49m\u001b[38;5;241;43m.\u001b[39;49m\u001b[43mminimum\u001b[49m\u001b[43m,\u001b[49m\u001b[43m \u001b[49m\u001b[38;5;124;43m'\u001b[39;49m\u001b[38;5;124;43mmin\u001b[39;49m\u001b[38;5;124;43m'\u001b[39;49m\u001b[43m,\u001b[49m\u001b[43m \u001b[49m\u001b[43maxis\u001b[49m\u001b[43m,\u001b[49m\u001b[43m \u001b[49m\u001b[38;5;28;43;01mNone\u001b[39;49;00m\u001b[43m,\u001b[49m\u001b[43m \u001b[49m\u001b[43mout\u001b[49m\u001b[43m,\u001b[49m\n\u001b[0;32m   2919\u001b[0m \u001b[43m                          \u001b[49m\u001b[43mkeepdims\u001b[49m\u001b[38;5;241;43m=\u001b[39;49m\u001b[43mkeepdims\u001b[49m\u001b[43m,\u001b[49m\u001b[43m \u001b[49m\u001b[43minitial\u001b[49m\u001b[38;5;241;43m=\u001b[39;49m\u001b[43minitial\u001b[49m\u001b[43m,\u001b[49m\u001b[43m \u001b[49m\u001b[43mwhere\u001b[49m\u001b[38;5;241;43m=\u001b[39;49m\u001b[43mwhere\u001b[49m\u001b[43m)\u001b[49m\n",
      "File \u001b[1;32mC:\\ProgramData\\anaconda3\\envs\\ml\\lib\\site-packages\\numpy\\core\\fromnumeric.py:86\u001b[0m, in \u001b[0;36m_wrapreduction\u001b[1;34m(obj, ufunc, method, axis, dtype, out, **kwargs)\u001b[0m\n\u001b[0;32m     83\u001b[0m         \u001b[38;5;28;01melse\u001b[39;00m:\n\u001b[0;32m     84\u001b[0m             \u001b[38;5;28;01mreturn\u001b[39;00m reduction(axis\u001b[38;5;241m=\u001b[39maxis, out\u001b[38;5;241m=\u001b[39mout, \u001b[38;5;241m*\u001b[39m\u001b[38;5;241m*\u001b[39mpasskwargs)\n\u001b[1;32m---> 86\u001b[0m \u001b[38;5;28;01mreturn\u001b[39;00m ufunc\u001b[38;5;241m.\u001b[39mreduce(obj, axis, dtype, out, \u001b[38;5;241m*\u001b[39m\u001b[38;5;241m*\u001b[39mpasskwargs)\n",
      "\u001b[1;31mTypeError\u001b[0m: '<=' not supported between instances of 'list' and 'int'"
     ]
    }
   ],
   "source": [
    "aa = np.array([[[3,5,999,7]], [3,2,77,8]])\n",
    "np.min(aa), np.max(aa)"
   ]
  },
  {
   "cell_type": "code",
   "execution_count": 517,
   "id": "f17f44af",
   "metadata": {},
   "outputs": [
    {
     "ename": "UFuncTypeError",
     "evalue": "ufunc 'minimum' did not contain a loop with signature matching types (dtype('<U11'), dtype('<U11')) -> None",
     "output_type": "error",
     "traceback": [
      "\u001b[1;31m---------------------------------------------------------------------------\u001b[0m",
      "\u001b[1;31mUFuncTypeError\u001b[0m                            Traceback (most recent call last)",
      "Cell \u001b[1;32mIn[517], line 2\u001b[0m\n\u001b[0;32m      1\u001b[0m aa \u001b[38;5;241m=\u001b[39m np\u001b[38;5;241m.\u001b[39marray([[[\u001b[38;5;241m3\u001b[39m,\u001b[38;5;241m5\u001b[39m,\u001b[38;5;241m999\u001b[39m,\u001b[38;5;124m'\u001b[39m\u001b[38;5;124m7\u001b[39m\u001b[38;5;124m'\u001b[39m]], [[\u001b[38;5;241m3\u001b[39m,\u001b[38;5;241m2\u001b[39m,\u001b[38;5;241m77\u001b[39m,\u001b[38;5;241m8\u001b[39m]]])\n\u001b[1;32m----> 2\u001b[0m \u001b[43mnp\u001b[49m\u001b[38;5;241;43m.\u001b[39;49m\u001b[43mmin\u001b[49m\u001b[43m(\u001b[49m\u001b[43maa\u001b[49m\u001b[43m)\u001b[49m, np\u001b[38;5;241m.\u001b[39mmax(aa)\n",
      "File \u001b[1;32m<__array_function__ internals>:180\u001b[0m, in \u001b[0;36mamin\u001b[1;34m(*args, **kwargs)\u001b[0m\n",
      "File \u001b[1;32mC:\\ProgramData\\anaconda3\\envs\\ml\\lib\\site-packages\\numpy\\core\\fromnumeric.py:2918\u001b[0m, in \u001b[0;36mamin\u001b[1;34m(a, axis, out, keepdims, initial, where)\u001b[0m\n\u001b[0;32m   2802\u001b[0m \u001b[38;5;129m@array_function_dispatch\u001b[39m(_amin_dispatcher)\n\u001b[0;32m   2803\u001b[0m \u001b[38;5;28;01mdef\u001b[39;00m \u001b[38;5;21mamin\u001b[39m(a, axis\u001b[38;5;241m=\u001b[39m\u001b[38;5;28;01mNone\u001b[39;00m, out\u001b[38;5;241m=\u001b[39m\u001b[38;5;28;01mNone\u001b[39;00m, keepdims\u001b[38;5;241m=\u001b[39mnp\u001b[38;5;241m.\u001b[39m_NoValue, initial\u001b[38;5;241m=\u001b[39mnp\u001b[38;5;241m.\u001b[39m_NoValue,\n\u001b[0;32m   2804\u001b[0m          where\u001b[38;5;241m=\u001b[39mnp\u001b[38;5;241m.\u001b[39m_NoValue):\n\u001b[0;32m   2805\u001b[0m \u001b[38;5;250m    \u001b[39m\u001b[38;5;124;03m\"\"\"\u001b[39;00m\n\u001b[0;32m   2806\u001b[0m \u001b[38;5;124;03m    Return the minimum of an array or minimum along an axis.\u001b[39;00m\n\u001b[0;32m   2807\u001b[0m \n\u001b[1;32m   (...)\u001b[0m\n\u001b[0;32m   2916\u001b[0m \u001b[38;5;124;03m    6\u001b[39;00m\n\u001b[0;32m   2917\u001b[0m \u001b[38;5;124;03m    \"\"\"\u001b[39;00m\n\u001b[1;32m-> 2918\u001b[0m     \u001b[38;5;28;01mreturn\u001b[39;00m \u001b[43m_wrapreduction\u001b[49m\u001b[43m(\u001b[49m\u001b[43ma\u001b[49m\u001b[43m,\u001b[49m\u001b[43m \u001b[49m\u001b[43mnp\u001b[49m\u001b[38;5;241;43m.\u001b[39;49m\u001b[43mminimum\u001b[49m\u001b[43m,\u001b[49m\u001b[43m \u001b[49m\u001b[38;5;124;43m'\u001b[39;49m\u001b[38;5;124;43mmin\u001b[39;49m\u001b[38;5;124;43m'\u001b[39;49m\u001b[43m,\u001b[49m\u001b[43m \u001b[49m\u001b[43maxis\u001b[49m\u001b[43m,\u001b[49m\u001b[43m \u001b[49m\u001b[38;5;28;43;01mNone\u001b[39;49;00m\u001b[43m,\u001b[49m\u001b[43m \u001b[49m\u001b[43mout\u001b[49m\u001b[43m,\u001b[49m\n\u001b[0;32m   2919\u001b[0m \u001b[43m                          \u001b[49m\u001b[43mkeepdims\u001b[49m\u001b[38;5;241;43m=\u001b[39;49m\u001b[43mkeepdims\u001b[49m\u001b[43m,\u001b[49m\u001b[43m \u001b[49m\u001b[43minitial\u001b[49m\u001b[38;5;241;43m=\u001b[39;49m\u001b[43minitial\u001b[49m\u001b[43m,\u001b[49m\u001b[43m \u001b[49m\u001b[43mwhere\u001b[49m\u001b[38;5;241;43m=\u001b[39;49m\u001b[43mwhere\u001b[49m\u001b[43m)\u001b[49m\n",
      "File \u001b[1;32mC:\\ProgramData\\anaconda3\\envs\\ml\\lib\\site-packages\\numpy\\core\\fromnumeric.py:86\u001b[0m, in \u001b[0;36m_wrapreduction\u001b[1;34m(obj, ufunc, method, axis, dtype, out, **kwargs)\u001b[0m\n\u001b[0;32m     83\u001b[0m         \u001b[38;5;28;01melse\u001b[39;00m:\n\u001b[0;32m     84\u001b[0m             \u001b[38;5;28;01mreturn\u001b[39;00m reduction(axis\u001b[38;5;241m=\u001b[39maxis, out\u001b[38;5;241m=\u001b[39mout, \u001b[38;5;241m*\u001b[39m\u001b[38;5;241m*\u001b[39mpasskwargs)\n\u001b[1;32m---> 86\u001b[0m \u001b[38;5;28;01mreturn\u001b[39;00m ufunc\u001b[38;5;241m.\u001b[39mreduce(obj, axis, dtype, out, \u001b[38;5;241m*\u001b[39m\u001b[38;5;241m*\u001b[39mpasskwargs)\n",
      "\u001b[1;31mUFuncTypeError\u001b[0m: ufunc 'minimum' did not contain a loop with signature matching types (dtype('<U11'), dtype('<U11')) -> None"
     ]
    }
   ],
   "source": [
    "aa = np.array([[[3,5,999,'7']], [[3,2,77,8]]])\n",
    "np.min(aa), np.max(aa)"
   ]
  },
  {
   "cell_type": "code",
   "execution_count": 518,
   "id": "8c6f27d0",
   "metadata": {},
   "outputs": [
    {
     "ename": "UFuncTypeError",
     "evalue": "ufunc 'minimum' did not contain a loop with signature matching types (dtype('<U3'), dtype('<U3')) -> None",
     "output_type": "error",
     "traceback": [
      "\u001b[1;31m---------------------------------------------------------------------------\u001b[0m",
      "\u001b[1;31mUFuncTypeError\u001b[0m                            Traceback (most recent call last)",
      "Cell \u001b[1;32mIn[518], line 2\u001b[0m\n\u001b[0;32m      1\u001b[0m aa \u001b[38;5;241m=\u001b[39m np\u001b[38;5;241m.\u001b[39marray([[[\u001b[38;5;124m'\u001b[39m\u001b[38;5;124m3\u001b[39m\u001b[38;5;124m'\u001b[39m,\u001b[38;5;124m'\u001b[39m\u001b[38;5;124m5\u001b[39m\u001b[38;5;124m'\u001b[39m,\u001b[38;5;124m'\u001b[39m\u001b[38;5;124m999\u001b[39m\u001b[38;5;124m'\u001b[39m,\u001b[38;5;124m'\u001b[39m\u001b[38;5;124m7\u001b[39m\u001b[38;5;124m'\u001b[39m]], [[\u001b[38;5;124m'\u001b[39m\u001b[38;5;124m3\u001b[39m\u001b[38;5;124m'\u001b[39m,\u001b[38;5;124m'\u001b[39m\u001b[38;5;124m2\u001b[39m\u001b[38;5;124m'\u001b[39m,\u001b[38;5;124m'\u001b[39m\u001b[38;5;124m77\u001b[39m\u001b[38;5;124m'\u001b[39m,\u001b[38;5;124m'\u001b[39m\u001b[38;5;124m8\u001b[39m\u001b[38;5;124m'\u001b[39m]]])\n\u001b[1;32m----> 2\u001b[0m \u001b[43mnp\u001b[49m\u001b[38;5;241;43m.\u001b[39;49m\u001b[43mmin\u001b[49m\u001b[43m(\u001b[49m\u001b[43maa\u001b[49m\u001b[43m)\u001b[49m, np\u001b[38;5;241m.\u001b[39mmax(aa)\n",
      "File \u001b[1;32m<__array_function__ internals>:180\u001b[0m, in \u001b[0;36mamin\u001b[1;34m(*args, **kwargs)\u001b[0m\n",
      "File \u001b[1;32mC:\\ProgramData\\anaconda3\\envs\\ml\\lib\\site-packages\\numpy\\core\\fromnumeric.py:2918\u001b[0m, in \u001b[0;36mamin\u001b[1;34m(a, axis, out, keepdims, initial, where)\u001b[0m\n\u001b[0;32m   2802\u001b[0m \u001b[38;5;129m@array_function_dispatch\u001b[39m(_amin_dispatcher)\n\u001b[0;32m   2803\u001b[0m \u001b[38;5;28;01mdef\u001b[39;00m \u001b[38;5;21mamin\u001b[39m(a, axis\u001b[38;5;241m=\u001b[39m\u001b[38;5;28;01mNone\u001b[39;00m, out\u001b[38;5;241m=\u001b[39m\u001b[38;5;28;01mNone\u001b[39;00m, keepdims\u001b[38;5;241m=\u001b[39mnp\u001b[38;5;241m.\u001b[39m_NoValue, initial\u001b[38;5;241m=\u001b[39mnp\u001b[38;5;241m.\u001b[39m_NoValue,\n\u001b[0;32m   2804\u001b[0m          where\u001b[38;5;241m=\u001b[39mnp\u001b[38;5;241m.\u001b[39m_NoValue):\n\u001b[0;32m   2805\u001b[0m \u001b[38;5;250m    \u001b[39m\u001b[38;5;124;03m\"\"\"\u001b[39;00m\n\u001b[0;32m   2806\u001b[0m \u001b[38;5;124;03m    Return the minimum of an array or minimum along an axis.\u001b[39;00m\n\u001b[0;32m   2807\u001b[0m \n\u001b[1;32m   (...)\u001b[0m\n\u001b[0;32m   2916\u001b[0m \u001b[38;5;124;03m    6\u001b[39;00m\n\u001b[0;32m   2917\u001b[0m \u001b[38;5;124;03m    \"\"\"\u001b[39;00m\n\u001b[1;32m-> 2918\u001b[0m     \u001b[38;5;28;01mreturn\u001b[39;00m \u001b[43m_wrapreduction\u001b[49m\u001b[43m(\u001b[49m\u001b[43ma\u001b[49m\u001b[43m,\u001b[49m\u001b[43m \u001b[49m\u001b[43mnp\u001b[49m\u001b[38;5;241;43m.\u001b[39;49m\u001b[43mminimum\u001b[49m\u001b[43m,\u001b[49m\u001b[43m \u001b[49m\u001b[38;5;124;43m'\u001b[39;49m\u001b[38;5;124;43mmin\u001b[39;49m\u001b[38;5;124;43m'\u001b[39;49m\u001b[43m,\u001b[49m\u001b[43m \u001b[49m\u001b[43maxis\u001b[49m\u001b[43m,\u001b[49m\u001b[43m \u001b[49m\u001b[38;5;28;43;01mNone\u001b[39;49;00m\u001b[43m,\u001b[49m\u001b[43m \u001b[49m\u001b[43mout\u001b[49m\u001b[43m,\u001b[49m\n\u001b[0;32m   2919\u001b[0m \u001b[43m                          \u001b[49m\u001b[43mkeepdims\u001b[49m\u001b[38;5;241;43m=\u001b[39;49m\u001b[43mkeepdims\u001b[49m\u001b[43m,\u001b[49m\u001b[43m \u001b[49m\u001b[43minitial\u001b[49m\u001b[38;5;241;43m=\u001b[39;49m\u001b[43minitial\u001b[49m\u001b[43m,\u001b[49m\u001b[43m \u001b[49m\u001b[43mwhere\u001b[49m\u001b[38;5;241;43m=\u001b[39;49m\u001b[43mwhere\u001b[49m\u001b[43m)\u001b[49m\n",
      "File \u001b[1;32mC:\\ProgramData\\anaconda3\\envs\\ml\\lib\\site-packages\\numpy\\core\\fromnumeric.py:86\u001b[0m, in \u001b[0;36m_wrapreduction\u001b[1;34m(obj, ufunc, method, axis, dtype, out, **kwargs)\u001b[0m\n\u001b[0;32m     83\u001b[0m         \u001b[38;5;28;01melse\u001b[39;00m:\n\u001b[0;32m     84\u001b[0m             \u001b[38;5;28;01mreturn\u001b[39;00m reduction(axis\u001b[38;5;241m=\u001b[39maxis, out\u001b[38;5;241m=\u001b[39mout, \u001b[38;5;241m*\u001b[39m\u001b[38;5;241m*\u001b[39mpasskwargs)\n\u001b[1;32m---> 86\u001b[0m \u001b[38;5;28;01mreturn\u001b[39;00m ufunc\u001b[38;5;241m.\u001b[39mreduce(obj, axis, dtype, out, \u001b[38;5;241m*\u001b[39m\u001b[38;5;241m*\u001b[39mpasskwargs)\n",
      "\u001b[1;31mUFuncTypeError\u001b[0m: ufunc 'minimum' did not contain a loop with signature matching types (dtype('<U3'), dtype('<U3')) -> None"
     ]
    }
   ],
   "source": [
    "aa = np.array([[['3','5','999','7']], [['3','2','77','8']]])\n",
    "np.min(aa), np.max(aa)"
   ]
  },
  {
   "cell_type": "code",
   "execution_count": 519,
   "id": "929aa32b",
   "metadata": {},
   "outputs": [
    {
     "name": "stderr",
     "output_type": "stream",
     "text": [
      "C:\\Users\\Atharv Soni\\AppData\\Local\\Temp\\ipykernel_9908\\2067986536.py:1: VisibleDeprecationWarning: Creating an ndarray from ragged nested sequences (which is a list-or-tuple of lists-or-tuples-or ndarrays with different lengths or shapes) is deprecated. If you meant to do this, you must specify 'dtype=object' when creating the ndarray.\n",
      "  aa = np.array([[[11,3,5,66,8,57]], [[1,3,2,77,2,1,3,8]]])\n"
     ]
    },
    {
     "data": {
      "text/plain": [
       "([1, 3, 2, 77, 2, 1, 3, 8], [11, 3, 5, 66, 8, 57])"
      ]
     },
     "execution_count": 519,
     "metadata": {},
     "output_type": "execute_result"
    }
   ],
   "source": [
    "aa = np.array([[[11,3,5,66,8,57]], [[1,3,2,77,2,1,3,8]]])\n",
    "np.min(aa), np.max(aa)"
   ]
  },
  {
   "cell_type": "code",
   "execution_count": 520,
   "id": "ccc28b87",
   "metadata": {},
   "outputs": [
    {
     "name": "stderr",
     "output_type": "stream",
     "text": [
      "C:\\Users\\Atharv Soni\\AppData\\Local\\Temp\\ipykernel_9908\\3084386054.py:1: VisibleDeprecationWarning: Creating an ndarray from ragged nested sequences (which is a list-or-tuple of lists-or-tuples-or ndarrays with different lengths or shapes) is deprecated. If you meant to do this, you must specify 'dtype=object' when creating the ndarray.\n",
      "  aa = np.array([[[[[11,3,5,66,8,57]]]], [[[[1,3,2,77,2,1,3,8]]]]])\n"
     ]
    },
    {
     "data": {
      "text/plain": [
       "([1, 3, 2, 77, 2, 1, 3, 8], [11, 3, 5, 66, 8, 57])"
      ]
     },
     "execution_count": 520,
     "metadata": {},
     "output_type": "execute_result"
    }
   ],
   "source": [
    "aa = np.array([[[[[11,3,5,66,8,57]]]], [[[[1,3,2,77,2,1,3,8]]]]])\n",
    "np.min(aa), np.max(aa)"
   ]
  },
  {
   "cell_type": "code",
   "execution_count": 521,
   "id": "f248345f",
   "metadata": {},
   "outputs": [
    {
     "data": {
      "text/plain": [
       "(1, 77)"
      ]
     },
     "execution_count": 521,
     "metadata": {},
     "output_type": "execute_result"
    }
   ],
   "source": [
    "aa = np.array([[[[[11,3,5,66,8,57]]]], [[[[1,3,2,77,2,1]]]]])\n",
    "np.min(aa), np.max(aa)"
   ]
  },
  {
   "cell_type": "code",
   "execution_count": 522,
   "id": "e46ed68d",
   "metadata": {},
   "outputs": [
    {
     "data": {
      "text/plain": [
       "(array([[[1]]]),\n",
       " '\\n',\n",
       " array([[[98]]]),\n",
       " '\\n',\n",
       " array([[98, 45,  2, 12],\n",
       "        [ 8,  5,  2,  1],\n",
       "        [ 9,  5, 32, 12]]),\n",
       " '\\n',\n",
       " array([[98,  8, 32]]),\n",
       " '\\n',\n",
       " array([[98, 45, 32, 12]]))"
      ]
     },
     "execution_count": 522,
     "metadata": {},
     "output_type": "execute_result"
    }
   ],
   "source": [
    "# numpy Min & Max of the 3D array\n",
    "\n",
    "c = np.array([[98,45,2,12], [8,5,2,1], [9,5,32,12]], ndmin = 3)\n",
    "np.min(c, keepdims= True),'\\n', np.max(c, keepdims= True),'\\n', np.max(c, keepdims= False, axis=0),'\\n', np.max(c, keepdims= False, axis=2),'\\n', np.max(c, keepdims= False, axis=1)"
   ]
  },
  {
   "cell_type": "code",
   "execution_count": 525,
   "id": "56b83fbf",
   "metadata": {},
   "outputs": [
    {
     "data": {
      "text/plain": [
       "(array([[[12]]]),\n",
       " array([[ 98,  45, 632,  12]]),\n",
       " array([[ 98,  45, 632,  12]]),\n",
       " array([[[632]]]))"
      ]
     },
     "execution_count": 525,
     "metadata": {},
     "output_type": "execute_result"
    }
   ],
   "source": [
    "# numpy Min & Max of the 3D array\n",
    "\n",
    "c = np.array([98,45,632,12], ndmin = 3)\n",
    "np.min(c, keepdims= True), np.max(c, keepdims= False, axis=0), np.max(c, keepdims= False, axis=1), np.max(c, keepdims= True, axis=2)"
   ]
  },
  {
   "cell_type": "code",
   "execution_count": 526,
   "id": "f4cefcb4",
   "metadata": {},
   "outputs": [
    {
     "data": {
      "text/plain": [
       "(array([[ 98,  45, 632,  12]]), array([[ 98,  45, 632,  12]]))"
      ]
     },
     "execution_count": 526,
     "metadata": {},
     "output_type": "execute_result"
    }
   ],
   "source": [
    "# Min & Max of the 3D array\n",
    "\n",
    "min(c), max(c)"
   ]
  },
  {
   "cell_type": "code",
   "execution_count": 527,
   "id": "50fbafe5",
   "metadata": {},
   "outputs": [
    {
     "data": {
      "text/plain": [
       "(array([ 98,  45, 632,  12]), array([ 98,  45, 632,  12]))"
      ]
     },
     "execution_count": 527,
     "metadata": {},
     "output_type": "execute_result"
    }
   ],
   "source": [
    "# Min & Max of the 3D array by indexing\n",
    "\n",
    "min(c[0]), max(c[0])"
   ]
  },
  {
   "cell_type": "code",
   "execution_count": 528,
   "id": "a0859f69",
   "metadata": {},
   "outputs": [
    {
     "data": {
      "text/plain": [
       "(12, 632)"
      ]
     },
     "execution_count": 528,
     "metadata": {},
     "output_type": "execute_result"
    }
   ],
   "source": [
    "# Min & Max of the 3D array by indexing\n",
    "\n",
    "min(c[0][0]), max(c[0][0])"
   ]
  },
  {
   "cell_type": "code",
   "execution_count": 529,
   "id": "9494caa5",
   "metadata": {},
   "outputs": [
    {
     "data": {
      "text/plain": [
       "(12, 983)"
      ]
     },
     "execution_count": 529,
     "metadata": {},
     "output_type": "execute_result"
    }
   ],
   "source": [
    "# Min & Max of the 2D array of same size\n",
    "\n",
    "m = np.array([[53,223,32,45,12], [983,23,543,65,99]])\n",
    "np.min(m), np.max(m)"
   ]
  },
  {
   "cell_type": "code",
   "execution_count": 531,
   "id": "74909b57",
   "metadata": {},
   "outputs": [
    {
     "name": "stderr",
     "output_type": "stream",
     "text": [
      "C:\\Users\\Atharv Soni\\AppData\\Local\\Temp\\ipykernel_9908\\3284567378.py:4: VisibleDeprecationWarning: Creating an ndarray from ragged nested sequences (which is a list-or-tuple of lists-or-tuples-or ndarrays with different lengths or shapes) is deprecated. If you meant to do this, you must specify 'dtype=object' when creating the ndarray.\n",
      "  m = np.array([[53,223,32,45,12], [533,23,543,65]])\n"
     ]
    },
    {
     "data": {
      "text/plain": [
       "([53, 223, 32, 45, 12], [533, 23, 543, 65])"
      ]
     },
     "execution_count": 531,
     "metadata": {},
     "output_type": "execute_result"
    }
   ],
   "source": [
    "# Min & Max of the 2D array of different size, dtype = object\n",
    "# It will return the output by comparing the object 1st element, if same then the next element from the object\n",
    "\n",
    "m = np.array([[53,223,32,45,12], [533,23,543,65]])\n",
    "np.min(m), np.max(m)"
   ]
  },
  {
   "cell_type": "code",
   "execution_count": 532,
   "id": "531d971d",
   "metadata": {},
   "outputs": [
    {
     "name": "stdout",
     "output_type": "stream",
     "text": [
      "[533, 23, 543, 65]\n",
      "[53, 223, 32, 45, 12]\n"
     ]
    }
   ],
   "source": [
    "# Min & Max of the 2D array of different size, dtype = object\n",
    "# It will return the output by comparing the object 1st element, if same then the next element from the object\n",
    "\n",
    "print(max(m))\n",
    "print(min(m))"
   ]
  },
  {
   "cell_type": "code",
   "execution_count": 533,
   "id": "aceae25c",
   "metadata": {},
   "outputs": [
    {
     "data": {
      "text/plain": [
       "(223, 12)"
      ]
     },
     "execution_count": 533,
     "metadata": {},
     "output_type": "execute_result"
    }
   ],
   "source": [
    "# Max and min of the 2D array by indexing\n",
    "\n",
    "np.max(m[0]), np.min(m[0])"
   ]
  },
  {
   "cell_type": "code",
   "execution_count": 534,
   "id": "7efe1f4d",
   "metadata": {},
   "outputs": [
    {
     "data": {
      "text/plain": [
       "(223, 12)"
      ]
     },
     "execution_count": 534,
     "metadata": {},
     "output_type": "execute_result"
    }
   ],
   "source": [
    "# Max and min of the 2D array by indexing\n",
    "\n",
    "max(m[0]), min(m[0])"
   ]
  },
  {
   "cell_type": "code",
   "execution_count": 535,
   "id": "d8386211",
   "metadata": {},
   "outputs": [
    {
     "data": {
      "text/plain": [
       "(543, 23)"
      ]
     },
     "execution_count": 535,
     "metadata": {},
     "output_type": "execute_result"
    }
   ],
   "source": [
    "# Max and min of the 2D array by indexing\n",
    "\n",
    "max(m[1]), min(m[1])"
   ]
  },
  {
   "cell_type": "code",
   "execution_count": 536,
   "id": "df8d59ba",
   "metadata": {},
   "outputs": [
    {
     "name": "stderr",
     "output_type": "stream",
     "text": [
      "C:\\Users\\Atharv Soni\\AppData\\Local\\Temp\\ipykernel_9908\\507807213.py:4: VisibleDeprecationWarning: Creating an ndarray from ragged nested sequences (which is a list-or-tuple of lists-or-tuples-or ndarrays with different lengths or shapes) is deprecated. If you meant to do this, you must specify 'dtype=object' when creating the ndarray.\n",
      "  n = np.array([[53,223,32,45,12], [983,23,543,65]])\n"
     ]
    },
    {
     "data": {
      "text/plain": [
       "([53, 223, 32, 45, 12], [983, 23, 543, 65])"
      ]
     },
     "execution_count": 536,
     "metadata": {},
     "output_type": "execute_result"
    }
   ],
   "source": [
    "# Min & Max of the 2D array of different size, dtype = object\n",
    "# It will return the output by comparing the object 1st element, if same then the next element from the object\n",
    "\n",
    "n = np.array([[53,223,32,45,12], [983,23,543,65]])\n",
    "np.min(n), np.max(n)"
   ]
  },
  {
   "cell_type": "code",
   "execution_count": 537,
   "id": "b5867a9c",
   "metadata": {},
   "outputs": [
    {
     "data": {
      "text/plain": [
       "(223, 23)"
      ]
     },
     "execution_count": 537,
     "metadata": {},
     "output_type": "execute_result"
    }
   ],
   "source": [
    "# Max and min of the 2D array by indexing\n",
    "\n",
    "max(n[0]), min(n[1])"
   ]
  },
  {
   "cell_type": "code",
   "execution_count": 538,
   "id": "34121d30",
   "metadata": {},
   "outputs": [
    {
     "data": {
      "text/plain": [
       "(12, 223)"
      ]
     },
     "execution_count": 538,
     "metadata": {},
     "output_type": "execute_result"
    }
   ],
   "source": [
    "# Max and min of the 2D array by indexing\n",
    "\n",
    "np.min(n[0]), np.max(n[0])"
   ]
  },
  {
   "cell_type": "markdown",
   "id": "57a3915e",
   "metadata": {},
   "source": [
    "### Arg(max-min)\n",
    "\n",
    "> It returns the index number of the output"
   ]
  },
  {
   "cell_type": "code",
   "execution_count": 539,
   "id": "8b79487a",
   "metadata": {},
   "outputs": [
    {
     "data": {
      "text/plain": [
       "(0, 1)"
      ]
     },
     "execution_count": 539,
     "metadata": {},
     "output_type": "execute_result"
    }
   ],
   "source": [
    "np.argmax([5,2,4]), np.argmin([5,2,4])"
   ]
  },
  {
   "cell_type": "code",
   "execution_count": 540,
   "id": "f89c7917",
   "metadata": {},
   "outputs": [
    {
     "name": "stderr",
     "output_type": "stream",
     "text": [
      "C:\\Users\\Atharv Soni\\AppData\\Local\\Temp\\ipykernel_9908\\727870785.py:1: VisibleDeprecationWarning: Creating an ndarray from ragged nested sequences (which is a list-or-tuple of lists-or-tuples-or ndarrays with different lengths or shapes) is deprecated. If you meant to do this, you must specify 'dtype=object' when creating the ndarray.\n",
      "  np.argmax(np.array([[53,223,32,45,12], [7, 983,23,543,65,8]])), np.max(np.array([[53,223,32,45,12], [7, 983,23,543,65,8]]))\n"
     ]
    },
    {
     "data": {
      "text/plain": [
       "(0, [53, 223, 32, 45, 12])"
      ]
     },
     "execution_count": 540,
     "metadata": {},
     "output_type": "execute_result"
    }
   ],
   "source": [
    "np.argmax(np.array([[53,223,32,45,12], [7, 983,23,543,65,8]])), np.max(np.array([[53,223,32,45,12], [7, 983,23,543,65,8]]))"
   ]
  },
  {
   "cell_type": "code",
   "execution_count": 541,
   "id": "3e6a55de",
   "metadata": {},
   "outputs": [
    {
     "name": "stderr",
     "output_type": "stream",
     "text": [
      "C:\\Users\\Atharv Soni\\AppData\\Local\\Temp\\ipykernel_9908\\2799165828.py:1: VisibleDeprecationWarning: Creating an ndarray from ragged nested sequences (which is a list-or-tuple of lists-or-tuples-or ndarrays with different lengths or shapes) is deprecated. If you meant to do this, you must specify 'dtype=object' when creating the ndarray.\n",
      "  np.argmax(np.array([[53,223,32,45,12], [53, 983,23,543,65,8]])), np.max(np.array([[53,223,32,45,12], [53, 983,23,543,65,8]]))\n"
     ]
    },
    {
     "data": {
      "text/plain": [
       "(1, [53, 983, 23, 543, 65, 8])"
      ]
     },
     "execution_count": 541,
     "metadata": {},
     "output_type": "execute_result"
    }
   ],
   "source": [
    "np.argmax(np.array([[53,223,32,45,12], [53, 983,23,543,65,8]])), np.max(np.array([[53,223,32,45,12], [53, 983,23,543,65,8]]))"
   ]
  },
  {
   "cell_type": "code",
   "execution_count": 542,
   "id": "f23e13ed",
   "metadata": {
    "scrolled": true
   },
   "outputs": [
    {
     "name": "stderr",
     "output_type": "stream",
     "text": [
      "C:\\Users\\Atharv Soni\\AppData\\Local\\Temp\\ipykernel_9908\\1763260928.py:1: VisibleDeprecationWarning: Creating an ndarray from ragged nested sequences (which is a list-or-tuple of lists-or-tuples-or ndarrays with different lengths or shapes) is deprecated. If you meant to do this, you must specify 'dtype=object' when creating the ndarray.\n",
      "  np.argmax(np.array([[53,223,32,45,12], [9,23,3,5,6,7,8]])), np.max(np.array([[53,223,32,45,12], [9,23,3,5,6,7,8]]))\n"
     ]
    },
    {
     "data": {
      "text/plain": [
       "(0, [53, 223, 32, 45, 12])"
      ]
     },
     "execution_count": 542,
     "metadata": {},
     "output_type": "execute_result"
    }
   ],
   "source": [
    "np.argmax(np.array([[53,223,32,45,12], [9,23,3,5,6,7,8]])), np.max(np.array([[53,223,32,45,12], [9,23,3,5,6,7,8]]))"
   ]
  },
  {
   "cell_type": "code",
   "execution_count": 543,
   "id": "b0981b66",
   "metadata": {
    "scrolled": true
   },
   "outputs": [
    {
     "name": "stderr",
     "output_type": "stream",
     "text": [
      "C:\\Users\\Atharv Soni\\AppData\\Local\\Temp\\ipykernel_9908\\2748379311.py:1: VisibleDeprecationWarning: Creating an ndarray from ragged nested sequences (which is a list-or-tuple of lists-or-tuples-or ndarrays with different lengths or shapes) is deprecated. If you meant to do this, you must specify 'dtype=object' when creating the ndarray.\n",
      "  np.argmax(np.array([[53,223,32,45,12], [9,23,3,598]])), np.max(np.array([[53,223,32,45,12], [9,23,3,598]]))\n"
     ]
    },
    {
     "data": {
      "text/plain": [
       "(0, [53, 223, 32, 45, 12])"
      ]
     },
     "execution_count": 543,
     "metadata": {},
     "output_type": "execute_result"
    }
   ],
   "source": [
    "np.argmax(np.array([[53,223,32,45,12], [9,23,3,598]])), np.max(np.array([[53,223,32,45,12], [9,23,3,598]]))"
   ]
  },
  {
   "cell_type": "code",
   "execution_count": 544,
   "id": "a8d64297",
   "metadata": {
    "scrolled": true
   },
   "outputs": [
    {
     "data": {
      "text/plain": [
       "9"
      ]
     },
     "execution_count": 544,
     "metadata": {},
     "output_type": "execute_result"
    }
   ],
   "source": [
    "np.argmax(np.array([[53,223,32,45,12], [983,23,543,65,996]]))"
   ]
  },
  {
   "cell_type": "code",
   "execution_count": 545,
   "id": "0009193e",
   "metadata": {
    "scrolled": true
   },
   "outputs": [
    {
     "data": {
      "text/plain": [
       "5"
      ]
     },
     "execution_count": 545,
     "metadata": {},
     "output_type": "execute_result"
    }
   ],
   "source": [
    "np.argmax(np.array([[53,223,32,45,12], [983,23,543,65,96]]))"
   ]
  },
  {
   "cell_type": "code",
   "execution_count": 550,
   "id": "b6288ad3",
   "metadata": {},
   "outputs": [
    {
     "data": {
      "text/plain": [
       "(7, 6)"
      ]
     },
     "execution_count": 550,
     "metadata": {},
     "output_type": "execute_result"
    }
   ],
   "source": [
    "np.argmax(np.array([[53,223,32,45], [9,23,3,598]])), np.argmin(np.array([[53,223,32,45], [9,23,3,598]]))"
   ]
  },
  {
   "cell_type": "code",
   "execution_count": 552,
   "id": "decd9042",
   "metadata": {},
   "outputs": [
    {
     "name": "stderr",
     "output_type": "stream",
     "text": [
      "C:\\Users\\Atharv Soni\\AppData\\Local\\Temp\\ipykernel_9908\\1496740326.py:1: VisibleDeprecationWarning: Creating an ndarray from ragged nested sequences (which is a list-or-tuple of lists-or-tuples-or ndarrays with different lengths or shapes) is deprecated. If you meant to do this, you must specify 'dtype=object' when creating the ndarray.\n",
      "  np.argmax(np.array([[53,223,33,'32',45], [9,23,3,598]])), np.argmin(np.array([[53,223,33,'32',45], [9,23,3,598]]))\n"
     ]
    },
    {
     "data": {
      "text/plain": [
       "(0, 1)"
      ]
     },
     "execution_count": 552,
     "metadata": {},
     "output_type": "execute_result"
    }
   ],
   "source": [
    "np.argmax(np.array([[53,223,33,'32',45], [9,23,3,598]])), np.argmin(np.array([[53,223,33,'32',45], [9,23,3,598]]))"
   ]
  },
  {
   "cell_type": "code",
   "execution_count": 554,
   "id": "6d298836",
   "metadata": {},
   "outputs": [
    {
     "name": "stderr",
     "output_type": "stream",
     "text": [
      "C:\\Users\\Atharv Soni\\AppData\\Local\\Temp\\ipykernel_9908\\175572589.py:1: VisibleDeprecationWarning: Creating an ndarray from ragged nested sequences (which is a list-or-tuple of lists-or-tuples-or ndarrays with different lengths or shapes) is deprecated. If you meant to do this, you must specify 'dtype=object' when creating the ndarray.\n",
      "  np.argmax(np.array([[53,223,'32',45], [9,23,33,4,3,598]])), np.argmin(np.array([[5,223,33,'32',45], [9,23,3,598]]))\n"
     ]
    },
    {
     "data": {
      "text/plain": [
       "(0, 0)"
      ]
     },
     "execution_count": 554,
     "metadata": {},
     "output_type": "execute_result"
    }
   ],
   "source": [
    "np.argmax(np.array([[53,223,'32',45], [9,23,33,4,3,598]])), np.argmin(np.array([[5,223,33,'32',45], [9,23,3,598]]))"
   ]
  },
  {
   "cell_type": "code",
   "execution_count": 556,
   "id": "be04dc34",
   "metadata": {},
   "outputs": [
    {
     "name": "stderr",
     "output_type": "stream",
     "text": [
      "C:\\Users\\Atharv Soni\\AppData\\Local\\Temp\\ipykernel_9908\\2404203312.py:1: VisibleDeprecationWarning: Creating an ndarray from ragged nested sequences (which is a list-or-tuple of lists-or-tuples-or ndarrays with different lengths or shapes) is deprecated. If you meant to do this, you must specify 'dtype=object' when creating the ndarray.\n",
      "  np.argmax(np.array([['53',223,33,'32',45], ['9',23,3,598]])), np.argmin(np.array([['53',223,33,'32',45], ['9',23,3,598]]))\n"
     ]
    },
    {
     "data": {
      "text/plain": [
       "(1, 0)"
      ]
     },
     "execution_count": 556,
     "metadata": {},
     "output_type": "execute_result"
    }
   ],
   "source": [
    "np.argmax(np.array([['53',223,33,'32',45], ['9',23,3,598]])), np.argmin(np.array([['53',223,33,'32',45], ['9',23,3,598]]))"
   ]
  },
  {
   "cell_type": "code",
   "execution_count": 557,
   "id": "1314c326",
   "metadata": {},
   "outputs": [
    {
     "data": {
      "text/plain": [
       "(9, 6)"
      ]
     },
     "execution_count": 557,
     "metadata": {},
     "output_type": "execute_result"
    }
   ],
   "source": [
    "np.argmax(np.array([[53,223,33,32,2], [9,98,23,3,598]])), np.argmin(np.array([[53,223,32,45], [9,23,3,598]]))"
   ]
  },
  {
   "cell_type": "code",
   "execution_count": 558,
   "id": "efd9b250",
   "metadata": {},
   "outputs": [
    {
     "name": "stderr",
     "output_type": "stream",
     "text": [
      "C:\\Users\\Atharv Soni\\AppData\\Local\\Temp\\ipykernel_9908\\2555685936.py:1: VisibleDeprecationWarning: Creating an ndarray from ragged nested sequences (which is a list-or-tuple of lists-or-tuples-or ndarrays with different lengths or shapes) is deprecated. If you meant to do this, you must specify 'dtype=object' when creating the ndarray.\n",
      "  a = np.array([[11,5,6,188], [7,15,8,28,11]])\n"
     ]
    },
    {
     "data": {
      "text/plain": [
       "(1, [7, 15, 8, 28, 11])"
      ]
     },
     "execution_count": 558,
     "metadata": {},
     "output_type": "execute_result"
    }
   ],
   "source": [
    "a = np.array([[11,5,6,188], [7,15,8,28,11]])\n",
    "np.argmin(a), np.min(a)"
   ]
  },
  {
   "cell_type": "code",
   "execution_count": 559,
   "id": "da8da9ba",
   "metadata": {},
   "outputs": [
    {
     "name": "stderr",
     "output_type": "stream",
     "text": [
      "C:\\Users\\Atharv Soni\\AppData\\Local\\Temp\\ipykernel_9908\\2713681239.py:1: VisibleDeprecationWarning: Creating an ndarray from ragged nested sequences (which is a list-or-tuple of lists-or-tuples-or ndarrays with different lengths or shapes) is deprecated. If you meant to do this, you must specify 'dtype=object' when creating the ndarray.\n",
      "  a = np.array([[7,15,8,28], [7,15,8,28,11]])\n"
     ]
    },
    {
     "data": {
      "text/plain": [
       "(0, [7, 15, 8, 28])"
      ]
     },
     "execution_count": 559,
     "metadata": {},
     "output_type": "execute_result"
    }
   ],
   "source": [
    "a = np.array([[7,15,8,28], [7,15,8,28,11]])\n",
    "np.argmin(a), np.min(a)"
   ]
  },
  {
   "cell_type": "code",
   "execution_count": 560,
   "id": "be91b4d3",
   "metadata": {},
   "outputs": [
    {
     "name": "stderr",
     "output_type": "stream",
     "text": [
      "C:\\Users\\Atharv Soni\\AppData\\Local\\Temp\\ipykernel_9908\\605611243.py:1: VisibleDeprecationWarning: Creating an ndarray from ragged nested sequences (which is a list-or-tuple of lists-or-tuples-or ndarrays with different lengths or shapes) is deprecated. If you meant to do this, you must specify 'dtype=object' when creating the ndarray.\n",
      "  a = np.array([[7,15,8,28], [7,15,8,28,0]])\n"
     ]
    },
    {
     "data": {
      "text/plain": [
       "(0, [7, 15, 8, 28])"
      ]
     },
     "execution_count": 560,
     "metadata": {},
     "output_type": "execute_result"
    }
   ],
   "source": [
    "a = np.array([[7,15,8,28], [7,15,8,28,0]])\n",
    "np.argmin(a), np.min(a)"
   ]
  },
  {
   "cell_type": "markdown",
   "id": "10634eb0",
   "metadata": {},
   "source": [
    "### Mean/Average\n",
    "\n",
    "> 1. Mean is calculated as summation of the data divided by no. of obeservations/data points of the data <br>\n",
    "> 2. Mean should be avoided when there are outliers in the data because the average will be biased towards the skwed(outliers) side"
   ]
  },
  {
   "cell_type": "code",
   "execution_count": 561,
   "id": "f2969e32",
   "metadata": {},
   "outputs": [
    {
     "name": "stderr",
     "output_type": "stream",
     "text": [
      "C:\\Users\\Atharv Soni\\AppData\\Local\\Temp\\ipykernel_9908\\1831892510.py:1: VisibleDeprecationWarning: Creating an ndarray from ragged nested sequences (which is a list-or-tuple of lists-or-tuples-or ndarrays with different lengths or shapes) is deprecated. If you meant to do this, you must specify 'dtype=object' when creating the ndarray.\n",
      "  m = np.array([[53, 223, 32, 45, 12], [983, 23, 543, 65],[12,23,44]])\n"
     ]
    },
    {
     "data": {
      "text/plain": [
       "array([list([53, 223, 32, 45, 12]), list([983, 23, 543, 65]),\n",
       "       list([12, 23, 44])], dtype=object)"
      ]
     },
     "execution_count": 561,
     "metadata": {},
     "output_type": "execute_result"
    }
   ],
   "source": [
    "m = np.array([[53, 223, 32, 45, 12], [983, 23, 543, 65],[12,23,44]])\n",
    "m"
   ]
  },
  {
   "cell_type": "code",
   "execution_count": 562,
   "id": "fbca19a6",
   "metadata": {},
   "outputs": [
    {
     "name": "stdout",
     "output_type": "stream",
     "text": [
      "[ 17.66666667  74.33333333  10.66666667  15.           4.\n",
      " 327.66666667   7.66666667 181.          21.66666667   4.\n",
      "   7.66666667  14.66666667]\n"
     ]
    },
    {
     "data": {
      "text/plain": [
       "numpy.ndarray"
      ]
     },
     "execution_count": 562,
     "metadata": {},
     "output_type": "execute_result"
    }
   ],
   "source": [
    "# Mean of an array, dtype = object\n",
    "# Mean should not be calculated if the dtype is object, bcz it gives the wrong output \n",
    "# (it divides the number by total number of ojects)\n",
    "\n",
    "print(np.mean(m))\n",
    "type(np.mean(m))"
   ]
  },
  {
   "cell_type": "code",
   "execution_count": 563,
   "id": "dfd030a3",
   "metadata": {},
   "outputs": [
    {
     "data": {
      "text/plain": [
       "(53.0, 53.0)"
      ]
     },
     "execution_count": 563,
     "metadata": {},
     "output_type": "execute_result"
    }
   ],
   "source": [
    "np.average(53), np.mean(53)"
   ]
  },
  {
   "cell_type": "code",
   "execution_count": 564,
   "id": "9aefd5ce",
   "metadata": {},
   "outputs": [
    {
     "name": "stdout",
     "output_type": "stream",
     "text": [
      "[ 17.66666667  74.33333333  10.66666667  15.           4.\n",
      " 327.66666667   7.66666667 181.          21.66666667   4.\n",
      "   7.66666667  14.66666667]\n"
     ]
    },
    {
     "data": {
      "text/plain": [
       "numpy.ndarray"
      ]
     },
     "execution_count": 564,
     "metadata": {},
     "output_type": "execute_result"
    }
   ],
   "source": [
    "print(np.average(m))\n",
    "type(np.average(m))"
   ]
  },
  {
   "cell_type": "code",
   "execution_count": 565,
   "id": "3179a8d3",
   "metadata": {},
   "outputs": [
    {
     "name": "stderr",
     "output_type": "stream",
     "text": [
      "C:\\Users\\Atharv Soni\\AppData\\Local\\Temp\\ipykernel_9908\\349518000.py:1: VisibleDeprecationWarning: Creating an ndarray from ragged nested sequences (which is a list-or-tuple of lists-or-tuples-or ndarrays with different lengths or shapes) is deprecated. If you meant to do this, you must specify 'dtype=object' when creating the ndarray.\n",
      "  n = np. array([[53, 223, 32, 45, 12],[983, 23, 543, 65]])\n"
     ]
    },
    {
     "data": {
      "text/plain": [
       "array([list([53, 223, 32, 45, 12]), list([983, 23, 543, 65])],\n",
       "      dtype=object)"
      ]
     },
     "execution_count": 565,
     "metadata": {},
     "output_type": "execute_result"
    }
   ],
   "source": [
    "n = np. array([[53, 223, 32, 45, 12],[983, 23, 543, 65]])\n",
    "n"
   ]
  },
  {
   "cell_type": "code",
   "execution_count": 566,
   "id": "4ae56127",
   "metadata": {
    "scrolled": true
   },
   "outputs": [
    {
     "name": "stdout",
     "output_type": "stream",
     "text": [
      "[ 26.5 111.5  16.   22.5   6.  491.5  11.5 271.5  32.5]\n"
     ]
    },
    {
     "data": {
      "text/plain": [
       "numpy.ndarray"
      ]
     },
     "execution_count": 566,
     "metadata": {},
     "output_type": "execute_result"
    }
   ],
   "source": [
    "print(np.average(n))\n",
    "type(np.average(n))"
   ]
  },
  {
   "cell_type": "code",
   "execution_count": 567,
   "id": "0698b98d",
   "metadata": {},
   "outputs": [
    {
     "name": "stdout",
     "output_type": "stream",
     "text": [
      "73.0\n"
     ]
    },
    {
     "data": {
      "text/plain": [
       "numpy.float64"
      ]
     },
     "execution_count": 567,
     "metadata": {},
     "output_type": "execute_result"
    }
   ],
   "source": [
    "print(np.average(n[0]))\n",
    "type(np.average(n[0]))"
   ]
  },
  {
   "cell_type": "code",
   "execution_count": 568,
   "id": "5546ddd9",
   "metadata": {},
   "outputs": [],
   "source": [
    "import pandas as pd"
   ]
  },
  {
   "cell_type": "code",
   "execution_count": 569,
   "id": "a7912d6c",
   "metadata": {},
   "outputs": [
    {
     "data": {
      "text/html": [
       "<div>\n",
       "<style scoped>\n",
       "    .dataframe tbody tr th:only-of-type {\n",
       "        vertical-align: middle;\n",
       "    }\n",
       "\n",
       "    .dataframe tbody tr th {\n",
       "        vertical-align: top;\n",
       "    }\n",
       "\n",
       "    .dataframe thead th {\n",
       "        text-align: right;\n",
       "    }\n",
       "</style>\n",
       "<table border=\"1\" class=\"dataframe\">\n",
       "  <thead>\n",
       "    <tr style=\"text-align: right;\">\n",
       "      <th></th>\n",
       "      <th>0</th>\n",
       "    </tr>\n",
       "  </thead>\n",
       "  <tbody>\n",
       "    <tr>\n",
       "      <th>0</th>\n",
       "      <td>[53, 223, 32, 45, 12]</td>\n",
       "    </tr>\n",
       "    <tr>\n",
       "      <th>1</th>\n",
       "      <td>[983, 23, 543, 65]</td>\n",
       "    </tr>\n",
       "  </tbody>\n",
       "</table>\n",
       "</div>"
      ],
      "text/plain": [
       "                       0\n",
       "0  [53, 223, 32, 45, 12]\n",
       "1     [983, 23, 543, 65]"
      ]
     },
     "execution_count": 569,
     "metadata": {},
     "output_type": "execute_result"
    }
   ],
   "source": [
    "pd.DataFrame(n)"
   ]
  },
  {
   "cell_type": "code",
   "execution_count": 570,
   "id": "a53a75ba",
   "metadata": {},
   "outputs": [
    {
     "data": {
      "text/html": [
       "<div>\n",
       "<style scoped>\n",
       "    .dataframe tbody tr th:only-of-type {\n",
       "        vertical-align: middle;\n",
       "    }\n",
       "\n",
       "    .dataframe tbody tr th {\n",
       "        vertical-align: top;\n",
       "    }\n",
       "\n",
       "    .dataframe thead th {\n",
       "        text-align: right;\n",
       "    }\n",
       "</style>\n",
       "<table border=\"1\" class=\"dataframe\">\n",
       "  <thead>\n",
       "    <tr style=\"text-align: right;\">\n",
       "      <th></th>\n",
       "      <th>0</th>\n",
       "    </tr>\n",
       "  </thead>\n",
       "  <tbody>\n",
       "    <tr>\n",
       "      <th>0</th>\n",
       "      <td>[53, 223, 32, 45, 12]</td>\n",
       "    </tr>\n",
       "    <tr>\n",
       "      <th>1</th>\n",
       "      <td>[983, 23, 543, 65]</td>\n",
       "    </tr>\n",
       "    <tr>\n",
       "      <th>2</th>\n",
       "      <td>[12, 23, 44]</td>\n",
       "    </tr>\n",
       "  </tbody>\n",
       "</table>\n",
       "</div>"
      ],
      "text/plain": [
       "                       0\n",
       "0  [53, 223, 32, 45, 12]\n",
       "1     [983, 23, 543, 65]\n",
       "2           [12, 23, 44]"
      ]
     },
     "execution_count": 570,
     "metadata": {},
     "output_type": "execute_result"
    }
   ],
   "source": [
    "pd.DataFrame(m)"
   ]
  },
  {
   "cell_type": "code",
   "execution_count": 571,
   "id": "0dd5f34b",
   "metadata": {},
   "outputs": [
    {
     "data": {
      "text/plain": [
       "73.0"
      ]
     },
     "execution_count": 571,
     "metadata": {},
     "output_type": "execute_result"
    }
   ],
   "source": [
    "np.mean(pd.DataFrame(n)[0][0])"
   ]
  },
  {
   "cell_type": "code",
   "execution_count": 572,
   "id": "a18cc4dc",
   "metadata": {},
   "outputs": [
    {
     "data": {
      "text/plain": [
       "73.0"
      ]
     },
     "execution_count": 572,
     "metadata": {},
     "output_type": "execute_result"
    }
   ],
   "source": [
    "np.average(pd.DataFrame(n)[0][0])"
   ]
  },
  {
   "cell_type": "code",
   "execution_count": 573,
   "id": "917e3d53",
   "metadata": {},
   "outputs": [
    {
     "data": {
      "text/plain": [
       "[53, 223, 32, 45, 12, 983, 23, 543, 65]"
      ]
     },
     "execution_count": 573,
     "metadata": {},
     "output_type": "execute_result"
    }
   ],
   "source": [
    "n[0]+n[1]"
   ]
  },
  {
   "cell_type": "code",
   "execution_count": 577,
   "id": "8e5f0b5c",
   "metadata": {},
   "outputs": [
    {
     "data": {
      "text/plain": [
       "(1979, 219.88888888888889)"
      ]
     },
     "execution_count": 577,
     "metadata": {},
     "output_type": "execute_result"
    }
   ],
   "source": [
    "sum(n[0]+n[1]), 1979/9"
   ]
  },
  {
   "cell_type": "code",
   "execution_count": 574,
   "id": "3bb51b21",
   "metadata": {},
   "outputs": [
    {
     "name": "stdout",
     "output_type": "stream",
     "text": [
      "219.88888888888889\n"
     ]
    },
    {
     "data": {
      "text/plain": [
       "numpy.float64"
      ]
     },
     "execution_count": 574,
     "metadata": {},
     "output_type": "execute_result"
    }
   ],
   "source": [
    "print(np.average(n[0]+n[1]))\n",
    "type(np.average(n[0]+n[1]))"
   ]
  },
  {
   "cell_type": "code",
   "execution_count": 578,
   "id": "bb936482",
   "metadata": {},
   "outputs": [
    {
     "name": "stdout",
     "output_type": "stream",
     "text": [
      "200.1\n",
      "200.1\n"
     ]
    }
   ],
   "source": [
    "ll = np.array([[53, 223, 32, 45, 12],[983,22, 23, 543, 65]])\n",
    "print(np.average(ll))\n",
    "print(np.mean(ll))"
   ]
  },
  {
   "cell_type": "code",
   "execution_count": 579,
   "id": "e3d1b64f",
   "metadata": {},
   "outputs": [
    {
     "name": "stdout",
     "output_type": "stream",
     "text": [
      "140.53333333333333\n",
      "140.53333333333333\n",
      "(1, 3, 1, 5)\n"
     ]
    }
   ],
   "source": [
    "w = np.array([[[[53, 223, 32, 45, 12]],[[983,22, 23, 543, 65]],[[2,4,6,7,88]]]])\n",
    "print(np.average(w))\n",
    "print(np.mean(w))\n",
    "print(w.shape)"
   ]
  },
  {
   "cell_type": "code",
   "execution_count": 580,
   "id": "f15c491d",
   "metadata": {},
   "outputs": [
    {
     "name": "stdout",
     "output_type": "stream",
     "text": [
      "[list([53, 223, 32, 45, 12]) list([983, 22, 543, 65])]\n"
     ]
    },
    {
     "name": "stderr",
     "output_type": "stream",
     "text": [
      "C:\\Users\\Atharv Soni\\AppData\\Local\\Temp\\ipykernel_9908\\499029671.py:1: VisibleDeprecationWarning: Creating an ndarray from ragged nested sequences (which is a list-or-tuple of lists-or-tuples-or ndarrays with different lengths or shapes) is deprecated. If you meant to do this, you must specify 'dtype=object' when creating the ndarray.\n",
      "  ll = np.array([[53, 223, 32, 45, 12],[983,22, 543, 65]])\n"
     ]
    },
    {
     "data": {
      "text/plain": [
       "array([ 26.5, 111.5,  16. ,  22.5,   6. , 491.5,  11. , 271.5,  32.5])"
      ]
     },
     "execution_count": 580,
     "metadata": {},
     "output_type": "execute_result"
    }
   ],
   "source": [
    "ll = np.array([[53, 223, 32, 45, 12],[983,22, 543, 65]])\n",
    "print(ll)\n",
    "np.average(ll)"
   ]
  },
  {
   "cell_type": "code",
   "execution_count": 581,
   "id": "7e9f94c2",
   "metadata": {},
   "outputs": [
    {
     "name": "stderr",
     "output_type": "stream",
     "text": [
      "C:\\Users\\Atharv Soni\\AppData\\Local\\Temp\\ipykernel_9908\\1939235167.py:1: VisibleDeprecationWarning: Creating an ndarray from ragged nested sequences (which is a list-or-tuple of lists-or-tuples-or ndarrays with different lengths or shapes) is deprecated. If you meant to do this, you must specify 'dtype=object' when creating the ndarray.\n",
      "  ll = np.array([[53, 223, 33, 32, 45, 12],[983,22, 543, 65]])\n"
     ]
    },
    {
     "data": {
      "text/plain": [
       "array([ 26.5, 111.5,  16.5,  16. ,  22.5,   6. , 491.5,  11. , 271.5,\n",
       "        32.5])"
      ]
     },
     "execution_count": 581,
     "metadata": {},
     "output_type": "execute_result"
    }
   ],
   "source": [
    "ll = np.array([[53, 223, 33, 32, 45, 12],[983,22, 543, 65]])\n",
    "np.average(ll)"
   ]
  },
  {
   "cell_type": "code",
   "execution_count": 582,
   "id": "a607b86c",
   "metadata": {},
   "outputs": [
    {
     "name": "stderr",
     "output_type": "stream",
     "text": [
      "C:\\Users\\Atharv Soni\\AppData\\Local\\Temp\\ipykernel_9908\\3253531000.py:1: VisibleDeprecationWarning: Creating an ndarray from ragged nested sequences (which is a list-or-tuple of lists-or-tuples-or ndarrays with different lengths or shapes) is deprecated. If you meant to do this, you must specify 'dtype=object' when creating the ndarray.\n",
      "  ll = np.array([[53, '223', 32, 45, 12],[983,22, 543, 65]])\n"
     ]
    },
    {
     "ename": "TypeError",
     "evalue": "ufunc 'divide' not supported for the input types, and the inputs could not be safely coerced to any supported types according to the casting rule ''safe''",
     "output_type": "error",
     "traceback": [
      "\u001b[1;31m---------------------------------------------------------------------------\u001b[0m",
      "\u001b[1;31mTypeError\u001b[0m                                 Traceback (most recent call last)",
      "Cell \u001b[1;32mIn[582], line 2\u001b[0m\n\u001b[0;32m      1\u001b[0m ll \u001b[38;5;241m=\u001b[39m np\u001b[38;5;241m.\u001b[39marray([[\u001b[38;5;241m53\u001b[39m, \u001b[38;5;124m'\u001b[39m\u001b[38;5;124m223\u001b[39m\u001b[38;5;124m'\u001b[39m, \u001b[38;5;241m32\u001b[39m, \u001b[38;5;241m45\u001b[39m, \u001b[38;5;241m12\u001b[39m],[\u001b[38;5;241m983\u001b[39m,\u001b[38;5;241m22\u001b[39m, \u001b[38;5;241m543\u001b[39m, \u001b[38;5;241m65\u001b[39m]])\n\u001b[1;32m----> 2\u001b[0m \u001b[43mnp\u001b[49m\u001b[38;5;241;43m.\u001b[39;49m\u001b[43maverage\u001b[49m\u001b[43m(\u001b[49m\u001b[43mll\u001b[49m\u001b[43m)\u001b[49m\n",
      "File \u001b[1;32m<__array_function__ internals>:180\u001b[0m, in \u001b[0;36maverage\u001b[1;34m(*args, **kwargs)\u001b[0m\n",
      "File \u001b[1;32mC:\\ProgramData\\anaconda3\\envs\\ml\\lib\\site-packages\\numpy\\lib\\function_base.py:518\u001b[0m, in \u001b[0;36maverage\u001b[1;34m(a, axis, weights, returned, keepdims)\u001b[0m\n\u001b[0;32m    515\u001b[0m     keepdims_kw \u001b[38;5;241m=\u001b[39m {\u001b[38;5;124m'\u001b[39m\u001b[38;5;124mkeepdims\u001b[39m\u001b[38;5;124m'\u001b[39m: keepdims}\n\u001b[0;32m    517\u001b[0m \u001b[38;5;28;01mif\u001b[39;00m weights \u001b[38;5;129;01mis\u001b[39;00m \u001b[38;5;28;01mNone\u001b[39;00m:\n\u001b[1;32m--> 518\u001b[0m     avg \u001b[38;5;241m=\u001b[39m a\u001b[38;5;241m.\u001b[39mmean(axis, \u001b[38;5;241m*\u001b[39m\u001b[38;5;241m*\u001b[39mkeepdims_kw)\n\u001b[0;32m    519\u001b[0m     scl \u001b[38;5;241m=\u001b[39m avg\u001b[38;5;241m.\u001b[39mdtype\u001b[38;5;241m.\u001b[39mtype(a\u001b[38;5;241m.\u001b[39msize\u001b[38;5;241m/\u001b[39mavg\u001b[38;5;241m.\u001b[39msize)\n\u001b[0;32m    520\u001b[0m \u001b[38;5;28;01melse\u001b[39;00m:\n",
      "File \u001b[1;32mC:\\ProgramData\\anaconda3\\envs\\ml\\lib\\site-packages\\numpy\\core\\_methods.py:192\u001b[0m, in \u001b[0;36m_mean\u001b[1;34m(a, axis, dtype, out, keepdims, where)\u001b[0m\n\u001b[0;32m    190\u001b[0m         ret \u001b[38;5;241m=\u001b[39m ret\u001b[38;5;241m.\u001b[39mdtype\u001b[38;5;241m.\u001b[39mtype(ret \u001b[38;5;241m/\u001b[39m rcount)\n\u001b[0;32m    191\u001b[0m \u001b[38;5;28;01melse\u001b[39;00m:\n\u001b[1;32m--> 192\u001b[0m     ret \u001b[38;5;241m=\u001b[39m \u001b[43mret\u001b[49m\u001b[43m \u001b[49m\u001b[38;5;241;43m/\u001b[39;49m\u001b[43m \u001b[49m\u001b[43mrcount\u001b[49m\n\u001b[0;32m    194\u001b[0m \u001b[38;5;28;01mreturn\u001b[39;00m ret\n",
      "\u001b[1;31mTypeError\u001b[0m: ufunc 'divide' not supported for the input types, and the inputs could not be safely coerced to any supported types according to the casting rule ''safe''"
     ]
    }
   ],
   "source": [
    "ll = np.array([[53, '223', 32, 45, 12],[983,22, 543, 65]])\n",
    "np.average(ll)"
   ]
  },
  {
   "cell_type": "markdown",
   "id": "bbe7948b",
   "metadata": {},
   "source": [
    "### Median\n",
    "> 1. Median is the center of the data <br>\n",
    "> 2. Median is prefered over mean when there are outliers in the data "
   ]
  },
  {
   "cell_type": "code",
   "execution_count": 583,
   "id": "e5c7d398",
   "metadata": {},
   "outputs": [
    {
     "data": {
      "text/plain": [
       "array([1, 2, 3, 4])"
      ]
     },
     "execution_count": 583,
     "metadata": {},
     "output_type": "execute_result"
    }
   ],
   "source": [
    "n = np.array([1, 2, 3, 4])\n",
    "n"
   ]
  },
  {
   "cell_type": "code",
   "execution_count": 584,
   "id": "2168babb",
   "metadata": {},
   "outputs": [
    {
     "name": "stdout",
     "output_type": "stream",
     "text": [
      "[[ 53 223  32  45  12]\n",
      " [983  23 543  65  99]]\n",
      "[array([ 53, 223,  32,  45,  12])]\n",
      "[ 12  23  32  45  53  65  99 223 543 983]\n",
      "59.0\n"
     ]
    }
   ],
   "source": [
    "m = np.array([[ 53, 223,  32,  45,  12],\n",
    "       [983,  23, 543,  65,  99]])\n",
    "\n",
    "mm = list(m[0])+list(m[1]) # Adding the list\n",
    "print(m)\n",
    "print([(m[0])]) # Slicing the array\n",
    "print(np.sort(mm)) # Sorting the list\n",
    "print(sum([53,65])/2) # Manual calculation of median"
   ]
  },
  {
   "cell_type": "code",
   "execution_count": 585,
   "id": "04a1493e",
   "metadata": {},
   "outputs": [
    {
     "name": "stdout",
     "output_type": "stream",
     "text": [
      "2.5\n",
      "59.0\n"
     ]
    }
   ],
   "source": [
    "print(np.median(n))\n",
    "print(np.median(m))"
   ]
  },
  {
   "cell_type": "code",
   "execution_count": 586,
   "id": "1e955d71",
   "metadata": {},
   "outputs": [
    {
     "data": {
      "text/plain": [
       "59.0"
      ]
     },
     "execution_count": 586,
     "metadata": {},
     "output_type": "execute_result"
    }
   ],
   "source": [
    "(53+65)/2"
   ]
  },
  {
   "cell_type": "code",
   "execution_count": 587,
   "id": "31c441fa",
   "metadata": {},
   "outputs": [
    {
     "name": "stdout",
     "output_type": "stream",
     "text": [
      "[ 12  22  32  45  53  65 223 543 983]\n"
     ]
    },
    {
     "name": "stderr",
     "output_type": "stream",
     "text": [
      "C:\\Users\\Atharv Soni\\AppData\\Local\\Temp\\ipykernel_9908\\1510740303.py:1: VisibleDeprecationWarning: Creating an ndarray from ragged nested sequences (which is a list-or-tuple of lists-or-tuples-or ndarrays with different lengths or shapes) is deprecated. If you meant to do this, you must specify 'dtype=object' when creating the ndarray.\n",
      "  ll = np.array([([53, 223, 32, 45, 12]), ([983, 22, 543, 65])])\n"
     ]
    },
    {
     "data": {
      "text/plain": [
       "53.0"
      ]
     },
     "execution_count": 587,
     "metadata": {},
     "output_type": "execute_result"
    }
   ],
   "source": [
    "ll = np.array([([53, 223, 32, 45, 12]), ([983, 22, 543, 65])])\n",
    "ll1 = ll[0]+ll[1]\n",
    "print(np.sort(ll1))\n",
    "np.median(ll1)"
   ]
  },
  {
   "cell_type": "code",
   "execution_count": 588,
   "id": "5f9cdc98",
   "metadata": {},
   "outputs": [
    {
     "name": "stdout",
     "output_type": "stream",
     "text": [
      "[list([53, 223, 32, 45, 12]) list([983, 22, 543, 65])]\n"
     ]
    },
    {
     "name": "stderr",
     "output_type": "stream",
     "text": [
      "C:\\Users\\Atharv Soni\\AppData\\Local\\Temp\\ipykernel_9908\\3684170428.py:1: VisibleDeprecationWarning: Creating an ndarray from ragged nested sequences (which is a list-or-tuple of lists-or-tuples-or ndarrays with different lengths or shapes) is deprecated. If you meant to do this, you must specify 'dtype=object' when creating the ndarray.\n",
      "  ll = np.array([([53, 223, 32, 45, 12]), ([983, 22, 543, 65])])\n"
     ]
    },
    {
     "data": {
      "text/plain": [
       "array([ 26.5, 111.5,  16. ,  22.5,   6. , 491.5,  11. , 271.5,  32.5])"
      ]
     },
     "execution_count": 588,
     "metadata": {},
     "output_type": "execute_result"
    }
   ],
   "source": [
    "ll = np.array([([53, 223, 32, 45, 12]), ([983, 22, 543, 65])])\n",
    "print(np.sort(ll))\n",
    "np.median(ll)"
   ]
  },
  {
   "cell_type": "code",
   "execution_count": 590,
   "id": "a25b7e38",
   "metadata": {},
   "outputs": [
    {
     "data": {
      "text/plain": [
       "[53, 223, 32, 45, 12, 983, 22, 543, 65]"
      ]
     },
     "execution_count": 590,
     "metadata": {},
     "output_type": "execute_result"
    }
   ],
   "source": [
    "np.sum(ll)"
   ]
  },
  {
   "cell_type": "code",
   "execution_count": 589,
   "id": "2fe42c77",
   "metadata": {},
   "outputs": [
    {
     "data": {
      "text/plain": [
       "53.0"
      ]
     },
     "execution_count": 589,
     "metadata": {},
     "output_type": "execute_result"
    }
   ],
   "source": [
    "np.median(np.sum(ll))"
   ]
  },
  {
   "cell_type": "markdown",
   "id": "0c1746e7",
   "metadata": {},
   "source": [
    "\n",
    "### Variance and Standard Deviation\n",
    "\n",
    "> 1. Variance is the spread of the data from the mean <br>\n",
    "> 2. Standard Deviation is the square root of the variance"
   ]
  },
  {
   "cell_type": "code",
   "execution_count": 592,
   "id": "f7ed3e8c",
   "metadata": {},
   "outputs": [
    {
     "data": {
      "text/plain": [
       "array([1, 2, 3, 4])"
      ]
     },
     "execution_count": 592,
     "metadata": {},
     "output_type": "execute_result"
    }
   ],
   "source": [
    "n"
   ]
  },
  {
   "cell_type": "code",
   "execution_count": 593,
   "id": "55f020c9",
   "metadata": {},
   "outputs": [
    {
     "data": {
      "text/plain": [
       "array([[ 53, 223,  32,  45,  12],\n",
       "       [983,  23, 543,  65,  99]])"
      ]
     },
     "execution_count": 593,
     "metadata": {},
     "output_type": "execute_result"
    }
   ],
   "source": [
    "m"
   ]
  },
  {
   "cell_type": "code",
   "execution_count": 594,
   "id": "622e9560",
   "metadata": {},
   "outputs": [
    {
     "data": {
      "text/plain": [
       "array([list([53, 223, 32, 45, 12]), list([983, 22, 543, 65])],\n",
       "      dtype=object)"
      ]
     },
     "execution_count": 594,
     "metadata": {},
     "output_type": "execute_result"
    }
   ],
   "source": [
    "ll"
   ]
  },
  {
   "cell_type": "code",
   "execution_count": 595,
   "id": "a40e54d5",
   "metadata": {},
   "outputs": [
    {
     "data": {
      "text/plain": [
       "8.1875"
      ]
     },
     "execution_count": 595,
     "metadata": {},
     "output_type": "execute_result"
    }
   ],
   "source": [
    "a = np.array([[8, 2], [9, 4]])\n",
    "np.var(a)"
   ]
  },
  {
   "cell_type": "code",
   "execution_count": 596,
   "id": "7e6dca4a",
   "metadata": {},
   "outputs": [
    {
     "name": "stdout",
     "output_type": "stream",
     "text": [
      "1.25\n",
      "89961.56000000001\n",
      "89961.56000000001\n"
     ]
    }
   ],
   "source": [
    "print(np.var(n))\n",
    "print(np.var((list(m[0])+ list(m[1]))))\n",
    "print(np.var(m))"
   ]
  },
  {
   "cell_type": "code",
   "execution_count": 597,
   "id": "6083825b",
   "metadata": {},
   "outputs": [
    {
     "data": {
      "text/plain": [
       "1.118033988749895"
      ]
     },
     "execution_count": 597,
     "metadata": {},
     "output_type": "execute_result"
    }
   ],
   "source": [
    "np.std(n)"
   ]
  },
  {
   "cell_type": "code",
   "execution_count": 598,
   "id": "47efa374",
   "metadata": {},
   "outputs": [
    {
     "data": {
      "text/plain": [
       "299.93592649097576"
      ]
     },
     "execution_count": 598,
     "metadata": {},
     "output_type": "execute_result"
    }
   ],
   "source": [
    "np.std(m)"
   ]
  },
  {
   "cell_type": "code",
   "execution_count": 599,
   "id": "5d9cb5ce",
   "metadata": {
    "scrolled": true
   },
   "outputs": [
    {
     "ename": "TypeError",
     "evalue": "unsupported operand type(s) for /: 'list' and 'int'",
     "output_type": "error",
     "traceback": [
      "\u001b[1;31m---------------------------------------------------------------------------\u001b[0m",
      "\u001b[1;31mTypeError\u001b[0m                                 Traceback (most recent call last)",
      "Cell \u001b[1;32mIn[599], line 1\u001b[0m\n\u001b[1;32m----> 1\u001b[0m \u001b[43mnp\u001b[49m\u001b[38;5;241;43m.\u001b[39;49m\u001b[43mstd\u001b[49m\u001b[43m(\u001b[49m\u001b[43mll\u001b[49m\u001b[43m)\u001b[49m\n",
      "File \u001b[1;32m<__array_function__ internals>:180\u001b[0m, in \u001b[0;36mstd\u001b[1;34m(*args, **kwargs)\u001b[0m\n",
      "File \u001b[1;32mC:\\ProgramData\\anaconda3\\envs\\ml\\lib\\site-packages\\numpy\\core\\fromnumeric.py:3573\u001b[0m, in \u001b[0;36mstd\u001b[1;34m(a, axis, dtype, out, ddof, keepdims, where)\u001b[0m\n\u001b[0;32m   3570\u001b[0m     \u001b[38;5;28;01melse\u001b[39;00m:\n\u001b[0;32m   3571\u001b[0m         \u001b[38;5;28;01mreturn\u001b[39;00m std(axis\u001b[38;5;241m=\u001b[39maxis, dtype\u001b[38;5;241m=\u001b[39mdtype, out\u001b[38;5;241m=\u001b[39mout, ddof\u001b[38;5;241m=\u001b[39mddof, \u001b[38;5;241m*\u001b[39m\u001b[38;5;241m*\u001b[39mkwargs)\n\u001b[1;32m-> 3573\u001b[0m \u001b[38;5;28;01mreturn\u001b[39;00m _methods\u001b[38;5;241m.\u001b[39m_std(a, axis\u001b[38;5;241m=\u001b[39maxis, dtype\u001b[38;5;241m=\u001b[39mdtype, out\u001b[38;5;241m=\u001b[39mout, ddof\u001b[38;5;241m=\u001b[39mddof,\n\u001b[0;32m   3574\u001b[0m                      \u001b[38;5;241m*\u001b[39m\u001b[38;5;241m*\u001b[39mkwargs)\n",
      "File \u001b[1;32mC:\\ProgramData\\anaconda3\\envs\\ml\\lib\\site-packages\\numpy\\core\\_methods.py:265\u001b[0m, in \u001b[0;36m_std\u001b[1;34m(a, axis, dtype, out, ddof, keepdims, where)\u001b[0m\n\u001b[0;32m    263\u001b[0m \u001b[38;5;28;01mdef\u001b[39;00m \u001b[38;5;21m_std\u001b[39m(a, axis\u001b[38;5;241m=\u001b[39m\u001b[38;5;28;01mNone\u001b[39;00m, dtype\u001b[38;5;241m=\u001b[39m\u001b[38;5;28;01mNone\u001b[39;00m, out\u001b[38;5;241m=\u001b[39m\u001b[38;5;28;01mNone\u001b[39;00m, ddof\u001b[38;5;241m=\u001b[39m\u001b[38;5;241m0\u001b[39m, keepdims\u001b[38;5;241m=\u001b[39m\u001b[38;5;28;01mFalse\u001b[39;00m, \u001b[38;5;241m*\u001b[39m,\n\u001b[0;32m    264\u001b[0m          where\u001b[38;5;241m=\u001b[39m\u001b[38;5;28;01mTrue\u001b[39;00m):\n\u001b[1;32m--> 265\u001b[0m     ret \u001b[38;5;241m=\u001b[39m \u001b[43m_var\u001b[49m\u001b[43m(\u001b[49m\u001b[43ma\u001b[49m\u001b[43m,\u001b[49m\u001b[43m \u001b[49m\u001b[43maxis\u001b[49m\u001b[38;5;241;43m=\u001b[39;49m\u001b[43maxis\u001b[49m\u001b[43m,\u001b[49m\u001b[43m \u001b[49m\u001b[43mdtype\u001b[49m\u001b[38;5;241;43m=\u001b[39;49m\u001b[43mdtype\u001b[49m\u001b[43m,\u001b[49m\u001b[43m \u001b[49m\u001b[43mout\u001b[49m\u001b[38;5;241;43m=\u001b[39;49m\u001b[43mout\u001b[49m\u001b[43m,\u001b[49m\u001b[43m \u001b[49m\u001b[43mddof\u001b[49m\u001b[38;5;241;43m=\u001b[39;49m\u001b[43mddof\u001b[49m\u001b[43m,\u001b[49m\n\u001b[0;32m    266\u001b[0m \u001b[43m               \u001b[49m\u001b[43mkeepdims\u001b[49m\u001b[38;5;241;43m=\u001b[39;49m\u001b[43mkeepdims\u001b[49m\u001b[43m,\u001b[49m\u001b[43m \u001b[49m\u001b[43mwhere\u001b[49m\u001b[38;5;241;43m=\u001b[39;49m\u001b[43mwhere\u001b[49m\u001b[43m)\u001b[49m\n\u001b[0;32m    268\u001b[0m     \u001b[38;5;28;01mif\u001b[39;00m \u001b[38;5;28misinstance\u001b[39m(ret, mu\u001b[38;5;241m.\u001b[39mndarray):\n\u001b[0;32m    269\u001b[0m         ret \u001b[38;5;241m=\u001b[39m um\u001b[38;5;241m.\u001b[39msqrt(ret, out\u001b[38;5;241m=\u001b[39mret)\n",
      "File \u001b[1;32mC:\\ProgramData\\anaconda3\\envs\\ml\\lib\\site-packages\\numpy\\core\\_methods.py:223\u001b[0m, in \u001b[0;36m_var\u001b[1;34m(a, axis, dtype, out, ddof, keepdims, where)\u001b[0m\n\u001b[0;32m    221\u001b[0m     div \u001b[38;5;241m=\u001b[39m rcount\u001b[38;5;241m.\u001b[39mreshape(arrmean\u001b[38;5;241m.\u001b[39mshape)\n\u001b[0;32m    222\u001b[0m \u001b[38;5;28;01mif\u001b[39;00m \u001b[38;5;28misinstance\u001b[39m(arrmean, mu\u001b[38;5;241m.\u001b[39mndarray):\n\u001b[1;32m--> 223\u001b[0m     arrmean \u001b[38;5;241m=\u001b[39m \u001b[43mum\u001b[49m\u001b[38;5;241;43m.\u001b[39;49m\u001b[43mtrue_divide\u001b[49m\u001b[43m(\u001b[49m\u001b[43marrmean\u001b[49m\u001b[43m,\u001b[49m\u001b[43m \u001b[49m\u001b[43mdiv\u001b[49m\u001b[43m,\u001b[49m\u001b[43m \u001b[49m\u001b[43mout\u001b[49m\u001b[38;5;241;43m=\u001b[39;49m\u001b[43marrmean\u001b[49m\u001b[43m,\u001b[49m\u001b[43m \u001b[49m\u001b[43mcasting\u001b[49m\u001b[38;5;241;43m=\u001b[39;49m\u001b[38;5;124;43m'\u001b[39;49m\u001b[38;5;124;43munsafe\u001b[39;49m\u001b[38;5;124;43m'\u001b[39;49m\u001b[43m,\u001b[49m\n\u001b[0;32m    224\u001b[0m \u001b[43m                             \u001b[49m\u001b[43msubok\u001b[49m\u001b[38;5;241;43m=\u001b[39;49m\u001b[38;5;28;43;01mFalse\u001b[39;49;00m\u001b[43m)\u001b[49m\n\u001b[0;32m    225\u001b[0m \u001b[38;5;28;01melif\u001b[39;00m \u001b[38;5;28mhasattr\u001b[39m(arrmean, \u001b[38;5;124m\"\u001b[39m\u001b[38;5;124mdtype\u001b[39m\u001b[38;5;124m\"\u001b[39m):\n\u001b[0;32m    226\u001b[0m     arrmean \u001b[38;5;241m=\u001b[39m arrmean\u001b[38;5;241m.\u001b[39mdtype\u001b[38;5;241m.\u001b[39mtype(arrmean \u001b[38;5;241m/\u001b[39m rcount)\n",
      "\u001b[1;31mTypeError\u001b[0m: unsupported operand type(s) for /: 'list' and 'int'"
     ]
    }
   ],
   "source": [
    "np.std(ll)"
   ]
  },
  {
   "cell_type": "code",
   "execution_count": 600,
   "id": "a35946dd",
   "metadata": {},
   "outputs": [
    {
     "data": {
      "text/plain": [
       "76.27057099563369"
      ]
     },
     "execution_count": 600,
     "metadata": {},
     "output_type": "execute_result"
    }
   ],
   "source": [
    "np.std(ll[0])"
   ]
  },
  {
   "cell_type": "code",
   "execution_count": 601,
   "id": "e9629565",
   "metadata": {},
   "outputs": [
    {
     "data": {
      "text/plain": [
       "392.2386868986791"
      ]
     },
     "execution_count": 601,
     "metadata": {},
     "output_type": "execute_result"
    }
   ],
   "source": [
    "np.std(ll[1])"
   ]
  },
  {
   "cell_type": "code",
   "execution_count": 602,
   "id": "f016e071",
   "metadata": {},
   "outputs": [
    {
     "data": {
      "text/plain": [
       "313.9103827449193"
      ]
     },
     "execution_count": 602,
     "metadata": {},
     "output_type": "execute_result"
    }
   ],
   "source": [
    "np.std(ll[0]+ll[1])"
   ]
  },
  {
   "cell_type": "code",
   "execution_count": 603,
   "id": "12738acf",
   "metadata": {
    "scrolled": true
   },
   "outputs": [
    {
     "ename": "TypeError",
     "evalue": "unsupported operand type(s) for /: 'list' and 'int'",
     "output_type": "error",
     "traceback": [
      "\u001b[1;31m---------------------------------------------------------------------------\u001b[0m",
      "\u001b[1;31mTypeError\u001b[0m                                 Traceback (most recent call last)",
      "Cell \u001b[1;32mIn[603], line 1\u001b[0m\n\u001b[1;32m----> 1\u001b[0m \u001b[43mnp\u001b[49m\u001b[38;5;241;43m.\u001b[39;49m\u001b[43mvar\u001b[49m\u001b[43m(\u001b[49m\u001b[43mll\u001b[49m\u001b[43m)\u001b[49m\n",
      "File \u001b[1;32m<__array_function__ internals>:180\u001b[0m, in \u001b[0;36mvar\u001b[1;34m(*args, **kwargs)\u001b[0m\n",
      "File \u001b[1;32mC:\\ProgramData\\anaconda3\\envs\\ml\\lib\\site-packages\\numpy\\core\\fromnumeric.py:3715\u001b[0m, in \u001b[0;36mvar\u001b[1;34m(a, axis, dtype, out, ddof, keepdims, where)\u001b[0m\n\u001b[0;32m   3712\u001b[0m     \u001b[38;5;28;01melse\u001b[39;00m:\n\u001b[0;32m   3713\u001b[0m         \u001b[38;5;28;01mreturn\u001b[39;00m var(axis\u001b[38;5;241m=\u001b[39maxis, dtype\u001b[38;5;241m=\u001b[39mdtype, out\u001b[38;5;241m=\u001b[39mout, ddof\u001b[38;5;241m=\u001b[39mddof, \u001b[38;5;241m*\u001b[39m\u001b[38;5;241m*\u001b[39mkwargs)\n\u001b[1;32m-> 3715\u001b[0m \u001b[38;5;28;01mreturn\u001b[39;00m _methods\u001b[38;5;241m.\u001b[39m_var(a, axis\u001b[38;5;241m=\u001b[39maxis, dtype\u001b[38;5;241m=\u001b[39mdtype, out\u001b[38;5;241m=\u001b[39mout, ddof\u001b[38;5;241m=\u001b[39mddof,\n\u001b[0;32m   3716\u001b[0m                      \u001b[38;5;241m*\u001b[39m\u001b[38;5;241m*\u001b[39mkwargs)\n",
      "File \u001b[1;32mC:\\ProgramData\\anaconda3\\envs\\ml\\lib\\site-packages\\numpy\\core\\_methods.py:223\u001b[0m, in \u001b[0;36m_var\u001b[1;34m(a, axis, dtype, out, ddof, keepdims, where)\u001b[0m\n\u001b[0;32m    221\u001b[0m     div \u001b[38;5;241m=\u001b[39m rcount\u001b[38;5;241m.\u001b[39mreshape(arrmean\u001b[38;5;241m.\u001b[39mshape)\n\u001b[0;32m    222\u001b[0m \u001b[38;5;28;01mif\u001b[39;00m \u001b[38;5;28misinstance\u001b[39m(arrmean, mu\u001b[38;5;241m.\u001b[39mndarray):\n\u001b[1;32m--> 223\u001b[0m     arrmean \u001b[38;5;241m=\u001b[39m \u001b[43mum\u001b[49m\u001b[38;5;241;43m.\u001b[39;49m\u001b[43mtrue_divide\u001b[49m\u001b[43m(\u001b[49m\u001b[43marrmean\u001b[49m\u001b[43m,\u001b[49m\u001b[43m \u001b[49m\u001b[43mdiv\u001b[49m\u001b[43m,\u001b[49m\u001b[43m \u001b[49m\u001b[43mout\u001b[49m\u001b[38;5;241;43m=\u001b[39;49m\u001b[43marrmean\u001b[49m\u001b[43m,\u001b[49m\u001b[43m \u001b[49m\u001b[43mcasting\u001b[49m\u001b[38;5;241;43m=\u001b[39;49m\u001b[38;5;124;43m'\u001b[39;49m\u001b[38;5;124;43munsafe\u001b[39;49m\u001b[38;5;124;43m'\u001b[39;49m\u001b[43m,\u001b[49m\n\u001b[0;32m    224\u001b[0m \u001b[43m                             \u001b[49m\u001b[43msubok\u001b[49m\u001b[38;5;241;43m=\u001b[39;49m\u001b[38;5;28;43;01mFalse\u001b[39;49;00m\u001b[43m)\u001b[49m\n\u001b[0;32m    225\u001b[0m \u001b[38;5;28;01melif\u001b[39;00m \u001b[38;5;28mhasattr\u001b[39m(arrmean, \u001b[38;5;124m\"\u001b[39m\u001b[38;5;124mdtype\u001b[39m\u001b[38;5;124m\"\u001b[39m):\n\u001b[0;32m    226\u001b[0m     arrmean \u001b[38;5;241m=\u001b[39m arrmean\u001b[38;5;241m.\u001b[39mdtype\u001b[38;5;241m.\u001b[39mtype(arrmean \u001b[38;5;241m/\u001b[39m rcount)\n",
      "\u001b[1;31mTypeError\u001b[0m: unsupported operand type(s) for /: 'list' and 'int'"
     ]
    }
   ],
   "source": [
    "np.var(ll)"
   ]
  },
  {
   "cell_type": "code",
   "execution_count": 604,
   "id": "3fe5e327",
   "metadata": {},
   "outputs": [
    {
     "data": {
      "text/plain": [
       "98539.72839506173"
      ]
     },
     "execution_count": 604,
     "metadata": {},
     "output_type": "execute_result"
    }
   ],
   "source": [
    "np.var(ll[0]+ll[1])"
   ]
  },
  {
   "cell_type": "markdown",
   "id": "7b79e857",
   "metadata": {},
   "source": [
    "### Product(multiply)"
   ]
  },
  {
   "cell_type": "code",
   "execution_count": 605,
   "id": "d8607ad6",
   "metadata": {},
   "outputs": [
    {
     "data": {
      "text/plain": [
       "6"
      ]
     },
     "execution_count": 605,
     "metadata": {},
     "output_type": "execute_result"
    }
   ],
   "source": [
    "np.prod([1,2,3])"
   ]
  },
  {
   "cell_type": "code",
   "execution_count": 606,
   "id": "4a841af3",
   "metadata": {},
   "outputs": [
    {
     "data": {
      "text/plain": [
       "-72"
      ]
     },
     "execution_count": 606,
     "metadata": {},
     "output_type": "execute_result"
    }
   ],
   "source": [
    "np.prod([-9,2,1,4])"
   ]
  },
  {
   "cell_type": "code",
   "execution_count": 608,
   "id": "77b3a29d",
   "metadata": {},
   "outputs": [
    {
     "data": {
      "text/plain": [
       "0"
      ]
     },
     "execution_count": 608,
     "metadata": {},
     "output_type": "execute_result"
    }
   ],
   "source": [
    "np.prod([-9,2,1,0])"
   ]
  },
  {
   "cell_type": "code",
   "execution_count": 609,
   "id": "13bd0642",
   "metadata": {},
   "outputs": [
    {
     "data": {
      "text/plain": [
       "18"
      ]
     },
     "execution_count": 609,
     "metadata": {},
     "output_type": "execute_result"
    }
   ],
   "source": [
    "np.prod([-9,2,-1])"
   ]
  },
  {
   "cell_type": "code",
   "execution_count": 610,
   "id": "ff55cdcc",
   "metadata": {
    "scrolled": true
   },
   "outputs": [
    {
     "name": "stderr",
     "output_type": "stream",
     "text": [
      "C:\\Users\\Atharv Soni\\AppData\\Local\\Temp\\ipykernel_9908\\3647993152.py:1: VisibleDeprecationWarning: Creating an ndarray from ragged nested sequences (which is a list-or-tuple of lists-or-tuples-or ndarrays with different lengths or shapes) is deprecated. If you meant to do this, you must specify 'dtype=object' when creating the ndarray.\n",
      "  x = np.array([[9,5,1], [1,2]])\n"
     ]
    },
    {
     "ename": "TypeError",
     "evalue": "can't multiply sequence by non-int of type 'list'",
     "output_type": "error",
     "traceback": [
      "\u001b[1;31m---------------------------------------------------------------------------\u001b[0m",
      "\u001b[1;31mTypeError\u001b[0m                                 Traceback (most recent call last)",
      "Cell \u001b[1;32mIn[610], line 2\u001b[0m\n\u001b[0;32m      1\u001b[0m x \u001b[38;5;241m=\u001b[39m np\u001b[38;5;241m.\u001b[39marray([[\u001b[38;5;241m9\u001b[39m,\u001b[38;5;241m5\u001b[39m,\u001b[38;5;241m1\u001b[39m], [\u001b[38;5;241m1\u001b[39m,\u001b[38;5;241m2\u001b[39m]])\n\u001b[1;32m----> 2\u001b[0m \u001b[43mnp\u001b[49m\u001b[38;5;241;43m.\u001b[39;49m\u001b[43mprod\u001b[49m\u001b[43m(\u001b[49m\u001b[43mx\u001b[49m\u001b[43m)\u001b[49m\n",
      "File \u001b[1;32m<__array_function__ internals>:180\u001b[0m, in \u001b[0;36mprod\u001b[1;34m(*args, **kwargs)\u001b[0m\n",
      "File \u001b[1;32mC:\\ProgramData\\anaconda3\\envs\\ml\\lib\\site-packages\\numpy\\core\\fromnumeric.py:3045\u001b[0m, in \u001b[0;36mprod\u001b[1;34m(a, axis, dtype, out, keepdims, initial, where)\u001b[0m\n\u001b[0;32m   2927\u001b[0m \u001b[38;5;129m@array_function_dispatch\u001b[39m(_prod_dispatcher)\n\u001b[0;32m   2928\u001b[0m \u001b[38;5;28;01mdef\u001b[39;00m \u001b[38;5;21mprod\u001b[39m(a, axis\u001b[38;5;241m=\u001b[39m\u001b[38;5;28;01mNone\u001b[39;00m, dtype\u001b[38;5;241m=\u001b[39m\u001b[38;5;28;01mNone\u001b[39;00m, out\u001b[38;5;241m=\u001b[39m\u001b[38;5;28;01mNone\u001b[39;00m, keepdims\u001b[38;5;241m=\u001b[39mnp\u001b[38;5;241m.\u001b[39m_NoValue,\n\u001b[0;32m   2929\u001b[0m          initial\u001b[38;5;241m=\u001b[39mnp\u001b[38;5;241m.\u001b[39m_NoValue, where\u001b[38;5;241m=\u001b[39mnp\u001b[38;5;241m.\u001b[39m_NoValue):\n\u001b[0;32m   2930\u001b[0m \u001b[38;5;250m    \u001b[39m\u001b[38;5;124;03m\"\"\"\u001b[39;00m\n\u001b[0;32m   2931\u001b[0m \u001b[38;5;124;03m    Return the product of array elements over a given axis.\u001b[39;00m\n\u001b[0;32m   2932\u001b[0m \n\u001b[1;32m   (...)\u001b[0m\n\u001b[0;32m   3043\u001b[0m \u001b[38;5;124;03m    10\u001b[39;00m\n\u001b[0;32m   3044\u001b[0m \u001b[38;5;124;03m    \"\"\"\u001b[39;00m\n\u001b[1;32m-> 3045\u001b[0m     \u001b[38;5;28;01mreturn\u001b[39;00m \u001b[43m_wrapreduction\u001b[49m\u001b[43m(\u001b[49m\u001b[43ma\u001b[49m\u001b[43m,\u001b[49m\u001b[43m \u001b[49m\u001b[43mnp\u001b[49m\u001b[38;5;241;43m.\u001b[39;49m\u001b[43mmultiply\u001b[49m\u001b[43m,\u001b[49m\u001b[43m \u001b[49m\u001b[38;5;124;43m'\u001b[39;49m\u001b[38;5;124;43mprod\u001b[39;49m\u001b[38;5;124;43m'\u001b[39;49m\u001b[43m,\u001b[49m\u001b[43m \u001b[49m\u001b[43maxis\u001b[49m\u001b[43m,\u001b[49m\u001b[43m \u001b[49m\u001b[43mdtype\u001b[49m\u001b[43m,\u001b[49m\u001b[43m \u001b[49m\u001b[43mout\u001b[49m\u001b[43m,\u001b[49m\n\u001b[0;32m   3046\u001b[0m \u001b[43m                          \u001b[49m\u001b[43mkeepdims\u001b[49m\u001b[38;5;241;43m=\u001b[39;49m\u001b[43mkeepdims\u001b[49m\u001b[43m,\u001b[49m\u001b[43m \u001b[49m\u001b[43minitial\u001b[49m\u001b[38;5;241;43m=\u001b[39;49m\u001b[43minitial\u001b[49m\u001b[43m,\u001b[49m\u001b[43m \u001b[49m\u001b[43mwhere\u001b[49m\u001b[38;5;241;43m=\u001b[39;49m\u001b[43mwhere\u001b[49m\u001b[43m)\u001b[49m\n",
      "File \u001b[1;32mC:\\ProgramData\\anaconda3\\envs\\ml\\lib\\site-packages\\numpy\\core\\fromnumeric.py:86\u001b[0m, in \u001b[0;36m_wrapreduction\u001b[1;34m(obj, ufunc, method, axis, dtype, out, **kwargs)\u001b[0m\n\u001b[0;32m     83\u001b[0m         \u001b[38;5;28;01melse\u001b[39;00m:\n\u001b[0;32m     84\u001b[0m             \u001b[38;5;28;01mreturn\u001b[39;00m reduction(axis\u001b[38;5;241m=\u001b[39maxis, out\u001b[38;5;241m=\u001b[39mout, \u001b[38;5;241m*\u001b[39m\u001b[38;5;241m*\u001b[39mpasskwargs)\n\u001b[1;32m---> 86\u001b[0m \u001b[38;5;28;01mreturn\u001b[39;00m ufunc\u001b[38;5;241m.\u001b[39mreduce(obj, axis, dtype, out, \u001b[38;5;241m*\u001b[39m\u001b[38;5;241m*\u001b[39mpasskwargs)\n",
      "\u001b[1;31mTypeError\u001b[0m: can't multiply sequence by non-int of type 'list'"
     ]
    }
   ],
   "source": [
    "x = np.array([[9,5,1], [1,2]])\n",
    "np.prod(x)"
   ]
  },
  {
   "cell_type": "code",
   "execution_count": 611,
   "id": "419cc70f",
   "metadata": {},
   "outputs": [
    {
     "data": {
      "text/plain": [
       "90"
      ]
     },
     "execution_count": 611,
     "metadata": {},
     "output_type": "execute_result"
    }
   ],
   "source": [
    "np.prod(x[0]+x[1])"
   ]
  },
  {
   "cell_type": "code",
   "execution_count": 4,
   "id": "9d31273c",
   "metadata": {
    "scrolled": true
   },
   "outputs": [
    {
     "data": {
      "text/plain": [
       "450"
      ]
     },
     "execution_count": 4,
     "metadata": {},
     "output_type": "execute_result"
    }
   ],
   "source": [
    "np.prod([[9,5,1], [1,2,5]])"
   ]
  },
  {
   "cell_type": "code",
   "execution_count": 6,
   "id": "9e4457c0-bac7-4980-8f16-5fd6ac605fa7",
   "metadata": {},
   "outputs": [
    {
     "data": {
      "text/plain": [
       "450"
      ]
     },
     "execution_count": 6,
     "metadata": {},
     "output_type": "execute_result"
    }
   ],
   "source": [
    "(9*1)*(5*2)*(1*5)"
   ]
  },
  {
   "cell_type": "code",
   "execution_count": 613,
   "id": "d138edf4",
   "metadata": {},
   "outputs": [
    {
     "data": {
      "text/plain": [
       "360"
      ]
     },
     "execution_count": 613,
     "metadata": {},
     "output_type": "execute_result"
    }
   ],
   "source": [
    "np.prod([[1,2,3], [3,4,5]])"
   ]
  },
  {
   "cell_type": "code",
   "execution_count": 614,
   "id": "8d57e124",
   "metadata": {
    "scrolled": true
   },
   "outputs": [
    {
     "name": "stderr",
     "output_type": "stream",
     "text": [
      "C:\\ProgramData\\anaconda3\\envs\\ml\\lib\\site-packages\\numpy\\core\\fromnumeric.py:86: VisibleDeprecationWarning: Creating an ndarray from ragged nested sequences (which is a list-or-tuple of lists-or-tuples-or ndarrays with different lengths or shapes) is deprecated. If you meant to do this, you must specify 'dtype=object' when creating the ndarray.\n",
      "  return ufunc.reduce(obj, axis, dtype, out, **passkwargs)\n"
     ]
    },
    {
     "ename": "TypeError",
     "evalue": "can't multiply sequence by non-int of type 'list'",
     "output_type": "error",
     "traceback": [
      "\u001b[1;31m---------------------------------------------------------------------------\u001b[0m",
      "\u001b[1;31mTypeError\u001b[0m                                 Traceback (most recent call last)",
      "Cell \u001b[1;32mIn[614], line 1\u001b[0m\n\u001b[1;32m----> 1\u001b[0m \u001b[43mnp\u001b[49m\u001b[38;5;241;43m.\u001b[39;49m\u001b[43mprod\u001b[49m\u001b[43m(\u001b[49m\u001b[43m[\u001b[49m\u001b[43m[\u001b[49m\u001b[38;5;241;43m1\u001b[39;49m\u001b[43m,\u001b[49m\u001b[38;5;241;43m2\u001b[39;49m\u001b[43m,\u001b[49m\u001b[38;5;241;43m3\u001b[39;49m\u001b[43m,\u001b[49m\u001b[38;5;241;43m4\u001b[39;49m\u001b[43m]\u001b[49m\u001b[43m,\u001b[49m\u001b[43m \u001b[49m\u001b[43m[\u001b[49m\u001b[38;5;241;43m3\u001b[39;49m\u001b[43m,\u001b[49m\u001b[38;5;241;43m5\u001b[39;49m\u001b[43m,\u001b[49m\u001b[38;5;241;43m5\u001b[39;49m\u001b[43m]\u001b[49m\u001b[43m]\u001b[49m\u001b[43m)\u001b[49m\n",
      "File \u001b[1;32m<__array_function__ internals>:180\u001b[0m, in \u001b[0;36mprod\u001b[1;34m(*args, **kwargs)\u001b[0m\n",
      "File \u001b[1;32mC:\\ProgramData\\anaconda3\\envs\\ml\\lib\\site-packages\\numpy\\core\\fromnumeric.py:3045\u001b[0m, in \u001b[0;36mprod\u001b[1;34m(a, axis, dtype, out, keepdims, initial, where)\u001b[0m\n\u001b[0;32m   2927\u001b[0m \u001b[38;5;129m@array_function_dispatch\u001b[39m(_prod_dispatcher)\n\u001b[0;32m   2928\u001b[0m \u001b[38;5;28;01mdef\u001b[39;00m \u001b[38;5;21mprod\u001b[39m(a, axis\u001b[38;5;241m=\u001b[39m\u001b[38;5;28;01mNone\u001b[39;00m, dtype\u001b[38;5;241m=\u001b[39m\u001b[38;5;28;01mNone\u001b[39;00m, out\u001b[38;5;241m=\u001b[39m\u001b[38;5;28;01mNone\u001b[39;00m, keepdims\u001b[38;5;241m=\u001b[39mnp\u001b[38;5;241m.\u001b[39m_NoValue,\n\u001b[0;32m   2929\u001b[0m          initial\u001b[38;5;241m=\u001b[39mnp\u001b[38;5;241m.\u001b[39m_NoValue, where\u001b[38;5;241m=\u001b[39mnp\u001b[38;5;241m.\u001b[39m_NoValue):\n\u001b[0;32m   2930\u001b[0m \u001b[38;5;250m    \u001b[39m\u001b[38;5;124;03m\"\"\"\u001b[39;00m\n\u001b[0;32m   2931\u001b[0m \u001b[38;5;124;03m    Return the product of array elements over a given axis.\u001b[39;00m\n\u001b[0;32m   2932\u001b[0m \n\u001b[1;32m   (...)\u001b[0m\n\u001b[0;32m   3043\u001b[0m \u001b[38;5;124;03m    10\u001b[39;00m\n\u001b[0;32m   3044\u001b[0m \u001b[38;5;124;03m    \"\"\"\u001b[39;00m\n\u001b[1;32m-> 3045\u001b[0m     \u001b[38;5;28;01mreturn\u001b[39;00m \u001b[43m_wrapreduction\u001b[49m\u001b[43m(\u001b[49m\u001b[43ma\u001b[49m\u001b[43m,\u001b[49m\u001b[43m \u001b[49m\u001b[43mnp\u001b[49m\u001b[38;5;241;43m.\u001b[39;49m\u001b[43mmultiply\u001b[49m\u001b[43m,\u001b[49m\u001b[43m \u001b[49m\u001b[38;5;124;43m'\u001b[39;49m\u001b[38;5;124;43mprod\u001b[39;49m\u001b[38;5;124;43m'\u001b[39;49m\u001b[43m,\u001b[49m\u001b[43m \u001b[49m\u001b[43maxis\u001b[49m\u001b[43m,\u001b[49m\u001b[43m \u001b[49m\u001b[43mdtype\u001b[49m\u001b[43m,\u001b[49m\u001b[43m \u001b[49m\u001b[43mout\u001b[49m\u001b[43m,\u001b[49m\n\u001b[0;32m   3046\u001b[0m \u001b[43m                          \u001b[49m\u001b[43mkeepdims\u001b[49m\u001b[38;5;241;43m=\u001b[39;49m\u001b[43mkeepdims\u001b[49m\u001b[43m,\u001b[49m\u001b[43m \u001b[49m\u001b[43minitial\u001b[49m\u001b[38;5;241;43m=\u001b[39;49m\u001b[43minitial\u001b[49m\u001b[43m,\u001b[49m\u001b[43m \u001b[49m\u001b[43mwhere\u001b[49m\u001b[38;5;241;43m=\u001b[39;49m\u001b[43mwhere\u001b[49m\u001b[43m)\u001b[49m\n",
      "File \u001b[1;32mC:\\ProgramData\\anaconda3\\envs\\ml\\lib\\site-packages\\numpy\\core\\fromnumeric.py:86\u001b[0m, in \u001b[0;36m_wrapreduction\u001b[1;34m(obj, ufunc, method, axis, dtype, out, **kwargs)\u001b[0m\n\u001b[0;32m     83\u001b[0m         \u001b[38;5;28;01melse\u001b[39;00m:\n\u001b[0;32m     84\u001b[0m             \u001b[38;5;28;01mreturn\u001b[39;00m reduction(axis\u001b[38;5;241m=\u001b[39maxis, out\u001b[38;5;241m=\u001b[39mout, \u001b[38;5;241m*\u001b[39m\u001b[38;5;241m*\u001b[39mpasskwargs)\n\u001b[1;32m---> 86\u001b[0m \u001b[38;5;28;01mreturn\u001b[39;00m ufunc\u001b[38;5;241m.\u001b[39mreduce(obj, axis, dtype, out, \u001b[38;5;241m*\u001b[39m\u001b[38;5;241m*\u001b[39mpasskwargs)\n",
      "\u001b[1;31mTypeError\u001b[0m: can't multiply sequence by non-int of type 'list'"
     ]
    }
   ],
   "source": [
    "np.prod([[1,2,3,4], [3,5,5]])"
   ]
  },
  {
   "cell_type": "code",
   "execution_count": 615,
   "id": "771ba439",
   "metadata": {
    "scrolled": true
   },
   "outputs": [
    {
     "ename": "UFuncTypeError",
     "evalue": "ufunc 'multiply' did not contain a loop with signature matching types (dtype('<U11'), dtype('<U11')) -> None",
     "output_type": "error",
     "traceback": [
      "\u001b[1;31m---------------------------------------------------------------------------\u001b[0m",
      "\u001b[1;31mUFuncTypeError\u001b[0m                            Traceback (most recent call last)",
      "Cell \u001b[1;32mIn[615], line 1\u001b[0m\n\u001b[1;32m----> 1\u001b[0m \u001b[43mnp\u001b[49m\u001b[38;5;241;43m.\u001b[39;49m\u001b[43mprod\u001b[49m\u001b[43m(\u001b[49m\u001b[43m[\u001b[49m\u001b[43m[\u001b[49m\u001b[38;5;241;43m1\u001b[39;49m\u001b[43m,\u001b[49m\u001b[38;5;241;43m2\u001b[39;49m\u001b[43m,\u001b[49m\u001b[38;5;124;43m'\u001b[39;49m\u001b[38;5;124;43m3\u001b[39;49m\u001b[38;5;124;43m'\u001b[39;49m\u001b[43m]\u001b[49m\u001b[43m,\u001b[49m\u001b[43m \u001b[49m\u001b[43m[\u001b[49m\u001b[38;5;241;43m3\u001b[39;49m\u001b[43m,\u001b[49m\u001b[38;5;241;43m5\u001b[39;49m\u001b[43m,\u001b[49m\u001b[38;5;241;43m5\u001b[39;49m\u001b[43m]\u001b[49m\u001b[43m]\u001b[49m\u001b[43m)\u001b[49m\n",
      "File \u001b[1;32m<__array_function__ internals>:180\u001b[0m, in \u001b[0;36mprod\u001b[1;34m(*args, **kwargs)\u001b[0m\n",
      "File \u001b[1;32mC:\\ProgramData\\anaconda3\\envs\\ml\\lib\\site-packages\\numpy\\core\\fromnumeric.py:3045\u001b[0m, in \u001b[0;36mprod\u001b[1;34m(a, axis, dtype, out, keepdims, initial, where)\u001b[0m\n\u001b[0;32m   2927\u001b[0m \u001b[38;5;129m@array_function_dispatch\u001b[39m(_prod_dispatcher)\n\u001b[0;32m   2928\u001b[0m \u001b[38;5;28;01mdef\u001b[39;00m \u001b[38;5;21mprod\u001b[39m(a, axis\u001b[38;5;241m=\u001b[39m\u001b[38;5;28;01mNone\u001b[39;00m, dtype\u001b[38;5;241m=\u001b[39m\u001b[38;5;28;01mNone\u001b[39;00m, out\u001b[38;5;241m=\u001b[39m\u001b[38;5;28;01mNone\u001b[39;00m, keepdims\u001b[38;5;241m=\u001b[39mnp\u001b[38;5;241m.\u001b[39m_NoValue,\n\u001b[0;32m   2929\u001b[0m          initial\u001b[38;5;241m=\u001b[39mnp\u001b[38;5;241m.\u001b[39m_NoValue, where\u001b[38;5;241m=\u001b[39mnp\u001b[38;5;241m.\u001b[39m_NoValue):\n\u001b[0;32m   2930\u001b[0m \u001b[38;5;250m    \u001b[39m\u001b[38;5;124;03m\"\"\"\u001b[39;00m\n\u001b[0;32m   2931\u001b[0m \u001b[38;5;124;03m    Return the product of array elements over a given axis.\u001b[39;00m\n\u001b[0;32m   2932\u001b[0m \n\u001b[1;32m   (...)\u001b[0m\n\u001b[0;32m   3043\u001b[0m \u001b[38;5;124;03m    10\u001b[39;00m\n\u001b[0;32m   3044\u001b[0m \u001b[38;5;124;03m    \"\"\"\u001b[39;00m\n\u001b[1;32m-> 3045\u001b[0m     \u001b[38;5;28;01mreturn\u001b[39;00m \u001b[43m_wrapreduction\u001b[49m\u001b[43m(\u001b[49m\u001b[43ma\u001b[49m\u001b[43m,\u001b[49m\u001b[43m \u001b[49m\u001b[43mnp\u001b[49m\u001b[38;5;241;43m.\u001b[39;49m\u001b[43mmultiply\u001b[49m\u001b[43m,\u001b[49m\u001b[43m \u001b[49m\u001b[38;5;124;43m'\u001b[39;49m\u001b[38;5;124;43mprod\u001b[39;49m\u001b[38;5;124;43m'\u001b[39;49m\u001b[43m,\u001b[49m\u001b[43m \u001b[49m\u001b[43maxis\u001b[49m\u001b[43m,\u001b[49m\u001b[43m \u001b[49m\u001b[43mdtype\u001b[49m\u001b[43m,\u001b[49m\u001b[43m \u001b[49m\u001b[43mout\u001b[49m\u001b[43m,\u001b[49m\n\u001b[0;32m   3046\u001b[0m \u001b[43m                          \u001b[49m\u001b[43mkeepdims\u001b[49m\u001b[38;5;241;43m=\u001b[39;49m\u001b[43mkeepdims\u001b[49m\u001b[43m,\u001b[49m\u001b[43m \u001b[49m\u001b[43minitial\u001b[49m\u001b[38;5;241;43m=\u001b[39;49m\u001b[43minitial\u001b[49m\u001b[43m,\u001b[49m\u001b[43m \u001b[49m\u001b[43mwhere\u001b[49m\u001b[38;5;241;43m=\u001b[39;49m\u001b[43mwhere\u001b[49m\u001b[43m)\u001b[49m\n",
      "File \u001b[1;32mC:\\ProgramData\\anaconda3\\envs\\ml\\lib\\site-packages\\numpy\\core\\fromnumeric.py:86\u001b[0m, in \u001b[0;36m_wrapreduction\u001b[1;34m(obj, ufunc, method, axis, dtype, out, **kwargs)\u001b[0m\n\u001b[0;32m     83\u001b[0m         \u001b[38;5;28;01melse\u001b[39;00m:\n\u001b[0;32m     84\u001b[0m             \u001b[38;5;28;01mreturn\u001b[39;00m reduction(axis\u001b[38;5;241m=\u001b[39maxis, out\u001b[38;5;241m=\u001b[39mout, \u001b[38;5;241m*\u001b[39m\u001b[38;5;241m*\u001b[39mpasskwargs)\n\u001b[1;32m---> 86\u001b[0m \u001b[38;5;28;01mreturn\u001b[39;00m ufunc\u001b[38;5;241m.\u001b[39mreduce(obj, axis, dtype, out, \u001b[38;5;241m*\u001b[39m\u001b[38;5;241m*\u001b[39mpasskwargs)\n",
      "\u001b[1;31mUFuncTypeError\u001b[0m: ufunc 'multiply' did not contain a loop with signature matching types (dtype('<U11'), dtype('<U11')) -> None"
     ]
    }
   ],
   "source": [
    "np.prod([[1,2,'3'], [3,5,5]])"
   ]
  },
  {
   "cell_type": "markdown",
   "id": "17e2e256",
   "metadata": {},
   "source": [
    "### Copies vs. Views\n",
    "### Memory Pointing"
   ]
  },
  {
   "cell_type": "code",
   "execution_count": 616,
   "id": "5c925847",
   "metadata": {},
   "outputs": [
    {
     "name": "stdout",
     "output_type": "stream",
     "text": [
      "[ 2 46 66  8  6]\n",
      "\n",
      "[ 2 46 66  8  6]\n",
      "----------\n",
      "[100  46  66   8   6]\n",
      "\n",
      "[100  46  66   8   6]\n"
     ]
    }
   ],
   "source": [
    "# create an 1D array in variable named array\n",
    "# save reverse of array in variable named reverse_array \n",
    "# changing the value of 0th index in variable named reverse_array\n",
    "# Both the variables value(6) changes(1000) bcz the location in the memory are same\n",
    "\n",
    "array = np.array([2,46,66,8,6])\n",
    "reverse_array = array\n",
    "\n",
    "print(reverse_array)\n",
    "print()\n",
    "print(array)\n",
    "reverse_array[0] = 100\n",
    "print('----------')\n",
    "print(reverse_array)\n",
    "print()\n",
    "print(array)"
   ]
  },
  {
   "cell_type": "code",
   "execution_count": 617,
   "id": "52fb110c",
   "metadata": {},
   "outputs": [
    {
     "name": "stdout",
     "output_type": "stream",
     "text": [
      "[1000    8   66   46    2]\n",
      "\n",
      "[   2   46   66    8 1000]\n",
      "\n",
      "2 1000\n"
     ]
    }
   ],
   "source": [
    "# create an 1D array in variable named array\n",
    "# save reverse of array in variable named reverse_array \n",
    "# changing the value of 0th index in variable named reverse_array\n",
    "# Both the variables value(6) changes(1000) bcz the location in the memory are same\n",
    "\n",
    "array = np.array([2,46,66,8,6])\n",
    "reverse_array = array[::-1]\n",
    "reverse_array[0] = 1000\n",
    "\n",
    "print(reverse_array)\n",
    "print()\n",
    "print(array)\n",
    "print()\n",
    "print(array[0],reverse_array[0])"
   ]
  },
  {
   "cell_type": "markdown",
   "id": "90054694",
   "metadata": {},
   "source": [
    "## Random Numbers\n",
    "### 1. Generators & Random Integers\n",
    "\n",
    "> **a) default_rng** <br>\n",
    "`default_rng is a class.`<br>\n",
    "`default_rng stands for default random number generator`<br>\n",
    "`To use default_rng you can create its instance`\n",
    "\n",
    "> **b) **seed** <br>\n",
    "`seed is use to store particular sequence/values`<br>\n",
    "`seed can be any random number to store that sequence`\n",
    "\n",
    "`The difference between both is that default_rng is updated version and always give random no. and seed uses some pattern for giving random no.`\n",
    "\n",
    "#### random, integers, randn, randint"
   ]
  },
  {
   "cell_type": "code",
   "execution_count": 319,
   "id": "6d986840",
   "metadata": {},
   "outputs": [],
   "source": [
    "# Import random module from numpy\n",
    "\n",
    "from numpy import random"
   ]
  },
  {
   "cell_type": "code",
   "execution_count": 750,
   "id": "a5af75e9",
   "metadata": {},
   "outputs": [
    {
     "data": {
      "text/plain": [
       "array([4, 8, 9, 3, 2, 6, 7, 7, 6, 7, 9, 9, 9, 8, 7], dtype=int64)"
      ]
     },
     "execution_count": 750,
     "metadata": {},
     "output_type": "execute_result"
    }
   ],
   "source": [
    "# default_rng without instance and with seed\n",
    "# create 15 random integers from range(1,10)\n",
    "\n",
    "random.default_rng(seed = 9).integers(1,10,size = 15) "
   ]
  },
  {
   "cell_type": "code",
   "execution_count": 751,
   "id": "b7e5fffe",
   "metadata": {},
   "outputs": [
    {
     "data": {
      "text/plain": [
       "array([4, 8, 9, 3, 2, 6, 7, 7, 6, 7, 9, 9, 9, 8, 7], dtype=int64)"
      ]
     },
     "execution_count": 751,
     "metadata": {},
     "output_type": "execute_result"
    }
   ],
   "source": [
    "# \n",
    "\n",
    "random.default_rng(seed = 9).integers(1,10,size = 15) "
   ]
  },
  {
   "cell_type": "code",
   "execution_count": 753,
   "id": "dc69ea6d",
   "metadata": {},
   "outputs": [
    {
     "data": {
      "text/plain": [
       "array([9, 8, 2, 6, 1, 9, 4, 7, 3, 5, 4, 9, 4, 9, 1], dtype=int64)"
      ]
     },
     "execution_count": 753,
     "metadata": {},
     "output_type": "execute_result"
    }
   ],
   "source": [
    "# default_rng without instance and without seed\n",
    "# create 15 random integers from range(1,10)\n",
    "\n",
    "random.default_rng().integers(1,10,size = 15) "
   ]
  },
  {
   "cell_type": "code",
   "execution_count": 656,
   "id": "8b7338b9",
   "metadata": {},
   "outputs": [
    {
     "data": {
      "text/plain": [
       "array([4, 6, 6, 8, 2, 6, 4, 8, 6, 5, 5, 7, 1, 8, 5], dtype=int64)"
      ]
     },
     "execution_count": 656,
     "metadata": {},
     "output_type": "execute_result"
    }
   ],
   "source": [
    "# \n",
    "\n",
    "random.default_rng().integers(1,10,size = 15) "
   ]
  },
  {
   "cell_type": "code",
   "execution_count": 756,
   "id": "ded2215f",
   "metadata": {},
   "outputs": [
    {
     "data": {
      "text/plain": [
       "array([4, 2, 6, 6, 4, 6, 2, 2, 4, 8, 7, 9, 8, 5, 2])"
      ]
     },
     "execution_count": 756,
     "metadata": {},
     "output_type": "execute_result"
    }
   ],
   "source": [
    "# \n",
    "\n",
    "random.randint(1,10,size = 15) "
   ]
  },
  {
   "cell_type": "code",
   "execution_count": 11,
   "id": "ed79fba1",
   "metadata": {},
   "outputs": [
    {
     "name": "stdout",
     "output_type": "stream",
     "text": [
      "<class 'numpy.random._generator.Generator'>\n",
      "Generator(PCG64)\n"
     ]
    }
   ],
   "source": [
    "# Create a variable ran\n",
    "# ran is a generator 'default_rng' from random module\n",
    "# Use default_rng method without seed\n",
    "# seed is a parameter which is use to store particular sequence/values\n",
    "\n",
    "ran = random.default_rng()\n",
    "print(type(ran))\n",
    "print(ran)"
   ]
  },
  {
   "cell_type": "code",
   "execution_count": 757,
   "id": "b55bebca",
   "metadata": {},
   "outputs": [
    {
     "name": "stdout",
     "output_type": "stream",
     "text": [
      "[8 1 4 7 7 7 4 4 7 9 9 2 7 1 2]\n"
     ]
    }
   ],
   "source": [
    "# Create a variable a1\n",
    "# generate 15 random integers between range(1,10) by integers() with endpoint = False\n",
    "# endpoint False means do not include the end value of the range\n",
    "\n",
    "a1 = ran.integers(1, 10, size = 15, endpoint = False)\n",
    "print(a1)"
   ]
  },
  {
   "cell_type": "code",
   "execution_count": 659,
   "id": "5f3abf7a",
   "metadata": {},
   "outputs": [
    {
     "name": "stdout",
     "output_type": "stream",
     "text": [
      "[9 6 5 5 7 2 8 4 2 6 1 1 5 4 4]\n"
     ]
    }
   ],
   "source": [
    "# \n",
    "\n",
    "a2 = ran.integers(1, 10, size = 15, endpoint = False)\n",
    "print(a2)"
   ]
  },
  {
   "cell_type": "code",
   "execution_count": 758,
   "id": "1a5211e8",
   "metadata": {},
   "outputs": [],
   "source": [
    "ran1 = random.default_rng(seed= 1)"
   ]
  },
  {
   "cell_type": "code",
   "execution_count": 761,
   "id": "dcf9443c",
   "metadata": {},
   "outputs": [
    {
     "name": "stdout",
     "output_type": "stream",
     "text": [
      "[2 5 9 2 4 4 9 2 5 3 1 7 1 3 5]\n"
     ]
    }
   ],
   "source": [
    "# \n",
    "\n",
    "a21 = ran1.integers(1, 10, size = 15, endpoint = False)\n",
    "print(a21)"
   ]
  },
  {
   "cell_type": "code",
   "execution_count": 662,
   "id": "dc773ca0",
   "metadata": {},
   "outputs": [
    {
     "name": "stdout",
     "output_type": "stream",
     "text": [
      "[4 6 5 1 1 8 7 8 5 8 3 5 8 2 3]\n"
     ]
    }
   ],
   "source": [
    "# \n",
    "\n",
    "a22 = ran1.integers(1, 10, size = 15, endpoint = False)\n",
    "print(a22)"
   ]
  },
  {
   "cell_type": "code",
   "execution_count": 8,
   "id": "2f2f25ef",
   "metadata": {},
   "outputs": [
    {
     "name": "stdout",
     "output_type": "stream",
     "text": [
      "[5 5 7 9 1 2 8 9 3 3 8 4 3 8 3]\n"
     ]
    }
   ],
   "source": [
    "ran1 = random.default_rng(seed= 1)\n",
    "a21 = ran1.integers(1, 10, size = 15, endpoint = False)\n",
    "print(a21)"
   ]
  },
  {
   "cell_type": "code",
   "execution_count": 14,
   "id": "ad12d707",
   "metadata": {},
   "outputs": [
    {
     "name": "stdout",
     "output_type": "stream",
     "text": [
      "[ 6 10  9  8  9  7  2  2  5  7  1  6  8  6 10]\n"
     ]
    }
   ],
   "source": [
    "# Create a variable a2\n",
    "# generate 15 random integers between range(1,10) by integers() with endpoint = True\n",
    "# endpoint True means include the end value of the range\n",
    "\n",
    "a2 = ran.integers(1, 10, size = 15, endpoint = True)\n",
    "print(a2)"
   ]
  },
  {
   "cell_type": "code",
   "execution_count": 664,
   "id": "af0595b4",
   "metadata": {},
   "outputs": [
    {
     "name": "stdout",
     "output_type": "stream",
     "text": [
      "[10  6  2 10  3  4  5  7  6  1  3  3  5  1  7]\n",
      "[6 8 1 3 1 9 3 9 6 9 9 7 3 9 8]\n",
      "[1 6 2 1 7 4 6 4 5 3 1 5 8 8 8]\n"
     ]
    }
   ],
   "source": [
    "print(ran.integers(1, 10, size = 15, endpoint = True))\n",
    "\n",
    "print(ran.integers(1, 10, size = 15, endpoint = True))\n",
    "\n",
    "print(ran.integers(1, 10, size = 15, endpoint = True))"
   ]
  },
  {
   "cell_type": "code",
   "execution_count": 665,
   "id": "5aa07a8f",
   "metadata": {},
   "outputs": [
    {
     "name": "stdout",
     "output_type": "stream",
     "text": [
      "<class 'numpy.random._generator.Generator'>\n",
      "Generator(PCG64)\n"
     ]
    }
   ],
   "source": [
    "# Create a variable ran1\n",
    "# ran is a generator 'default_rng' from random module\n",
    "# Use default_rng method with seed = 0\n",
    "# seed is a parameter which is use to store particular sequence/values\n",
    "# seed can be any random number to store that sequence\n",
    "\n",
    "ran1 = random.default_rng(seed = 0)\n",
    "print(type(ran1))\n",
    "print(ran1)"
   ]
  },
  {
   "cell_type": "code",
   "execution_count": 666,
   "id": "c5edeccf",
   "metadata": {},
   "outputs": [
    {
     "name": "stdout",
     "output_type": "stream",
     "text": [
      "[ 9  7  6  3  4  1  1  1  2  9  7 10  6  7 10]\n"
     ]
    }
   ],
   "source": [
    "# Create a variable a3 where seed = 0\n",
    "# generate 15 random integers between range(1,10) by integers() with endpoint = True\n",
    "# endpoint True means include the end value of the range\n",
    "\n",
    "a3 = ran1.integers(1, 10, size = 15, endpoint = True)\n",
    "\n",
    "print(a3)"
   ]
  },
  {
   "cell_type": "code",
   "execution_count": 667,
   "id": "379f8372",
   "metadata": {},
   "outputs": [
    {
     "data": {
      "text/plain": [
       "array([1, 1, 1, 1, 1, 0, 1, 1, 0, 0, 1, 1, 0, 1, 1, 1, 0, 0, 1, 0, 1, 0,\n",
       "       0, 0, 0], dtype=int64)"
      ]
     },
     "execution_count": 667,
     "metadata": {},
     "output_type": "execute_result"
    }
   ],
   "source": [
    "# Create a variable a4\n",
    "# a4 stores 25 random integers from range(2)\n",
    "\n",
    "a4 = ran1.integers(2, size = 25)\n",
    "a4"
   ]
  },
  {
   "cell_type": "code",
   "execution_count": 668,
   "id": "8a50829c",
   "metadata": {},
   "outputs": [
    {
     "data": {
      "text/plain": [
       "Generator(PCG64) at 0x205B6634900"
      ]
     },
     "execution_count": 668,
     "metadata": {},
     "output_type": "execute_result"
    }
   ],
   "source": [
    "# Create a default_rng generator with seed = 101 and store in the variable named rnd\n",
    "\n",
    "rnd = np.random.default_rng(101)\n",
    "rnd"
   ]
  },
  {
   "cell_type": "code",
   "execution_count": 669,
   "id": "55e6d1dd",
   "metadata": {},
   "outputs": [
    {
     "data": {
      "text/plain": [
       "array([2, 6, 5], dtype=int64)"
      ]
     },
     "execution_count": 669,
     "metadata": {},
     "output_type": "execute_result"
    }
   ],
   "source": [
    "# Create a variable named randon_vector to store the 3 integers from range(1,6) including 6(using endpoint = True)\n",
    "\n",
    "random_vector = rnd.integers(1, 6, size = 3, endpoint = True)\n",
    "random_vector"
   ]
  },
  {
   "cell_type": "code",
   "execution_count": 670,
   "id": "66ae3776",
   "metadata": {},
   "outputs": [
    {
     "data": {
      "text/plain": [
       "array([3, 1, 5], dtype=int64)"
      ]
     },
     "execution_count": 670,
     "metadata": {},
     "output_type": "execute_result"
    }
   ],
   "source": [
    "# Create a variable named randon_vector to store the 3 integers from range(1,6) including 6(using endpoint = True)\n",
    "\n",
    "rnd.integers(1, 6, size = 3, endpoint = True)"
   ]
  },
  {
   "cell_type": "code",
   "execution_count": 770,
   "id": "91db4bf3",
   "metadata": {},
   "outputs": [
    {
     "data": {
      "text/plain": [
       "array([2, 6, 5], dtype=int64)"
      ]
     },
     "execution_count": 770,
     "metadata": {},
     "output_type": "execute_result"
    }
   ],
   "source": [
    "#\n",
    "\n",
    "rnd = np.random.default_rng(101)\n",
    "rnd.integers(1, 6, size = 3, endpoint = True)"
   ]
  },
  {
   "cell_type": "code",
   "execution_count": 772,
   "id": "8cd4dd3a",
   "metadata": {},
   "outputs": [
    {
     "data": {
      "text/plain": [
       "array([2, 6, 5], dtype=int64)"
      ]
     },
     "execution_count": 772,
     "metadata": {},
     "output_type": "execute_result"
    }
   ],
   "source": [
    "#\n",
    "\n",
    "rnd = np.random.default_rng(101)\n",
    "rnd.integers(1, 6, size = 3, endpoint = True)"
   ]
  },
  {
   "cell_type": "code",
   "execution_count": 673,
   "id": "6839ac12",
   "metadata": {},
   "outputs": [
    {
     "data": {
      "text/plain": [
       "array([1, 3, 9, 8, 9, 8, 2, 4, 5, 4, 1, 7, 3, 7, 1, 1, 0, 6, 4, 7])"
      ]
     },
     "execution_count": 673,
     "metadata": {},
     "output_type": "execute_result"
    }
   ],
   "source": [
    "# Create 20 random integer of range(0,10) using seed(99)\n",
    "\n",
    "np.random.seed(99)\n",
    "random.randint(0,10,size = 20)"
   ]
  },
  {
   "cell_type": "code",
   "execution_count": 715,
   "id": "97dbb145",
   "metadata": {},
   "outputs": [
    {
     "data": {
      "text/plain": [
       "array([6, 7, 2, 8, 6, 4, 2, 5, 0, 1, 7, 0, 5, 3, 5, 9, 8, 3, 1, 5])"
      ]
     },
     "execution_count": 715,
     "metadata": {},
     "output_type": "execute_result"
    }
   ],
   "source": [
    "# Create 20 random integer of range(0,10) using seed(99)\n",
    "\n",
    "np.random.default_rng(99)\n",
    "random.randint(0,10,size = 20)"
   ]
  },
  {
   "cell_type": "code",
   "execution_count": 737,
   "id": "8a7b2f87",
   "metadata": {},
   "outputs": [
    {
     "data": {
      "text/plain": [
       "array([2, 6, 7, 4, 3, 7, 7, 2, 5, 4, 1, 7, 5, 1, 4, 0, 9, 5, 8, 0])"
      ]
     },
     "execution_count": 737,
     "metadata": {},
     "output_type": "execute_result"
    }
   ],
   "source": [
    "# Create 20 random integer of range(0,10) using seed(99)\n",
    "\n",
    "np.random.default_rng(99)\n",
    "random.randint(0,10,size = 20)"
   ]
  },
  {
   "cell_type": "code",
   "execution_count": 707,
   "id": "88b4e0fb",
   "metadata": {},
   "outputs": [
    {
     "data": {
      "text/plain": [
       "array([0.67227856, 0.4880784 , 0.82549517, 0.03144639, 0.80804996,\n",
       "       0.56561742, 0.2976225 , 0.04669572, 0.9906274 , 0.00682573])"
      ]
     },
     "execution_count": 707,
     "metadata": {},
     "output_type": "execute_result"
    }
   ],
   "source": [
    "# Create 10 random integer of range(0,1) using seed(99)\n",
    "\n",
    "np.random.seed(99)\n",
    "random.random(10)"
   ]
  },
  {
   "cell_type": "code",
   "execution_count": 708,
   "id": "1031e28b",
   "metadata": {},
   "outputs": [
    {
     "data": {
      "text/plain": [
       "array([0.67227856, 0.4880784 , 0.82549517, 0.03144639, 0.80804996,\n",
       "       0.56561742, 0.2976225 , 0.04669572, 0.9906274 , 0.00682573])"
      ]
     },
     "execution_count": 708,
     "metadata": {},
     "output_type": "execute_result"
    }
   ],
   "source": [
    "# Create 10 random integer of range(0,1) using seed(99)\n",
    "\n",
    "np.random.seed(99)\n",
    "random.random(10)"
   ]
  },
  {
   "cell_type": "code",
   "execution_count": 705,
   "id": "5945c385",
   "metadata": {},
   "outputs": [
    {
     "data": {
      "text/plain": [
       "array([ 1,  3,  8,  9,  8, 18,  4,  5,  1,  3, 17,  1, 16,  6, 11,  2,  0,\n",
       "       12,  8,  8])"
      ]
     },
     "execution_count": 705,
     "metadata": {},
     "output_type": "execute_result"
    }
   ],
   "source": [
    "# Create 20 random integer of range(0,20) using seed(99)\n",
    "\n",
    "np.random.seed(99)\n",
    "random.randint(0,20,size = 20)"
   ]
  },
  {
   "cell_type": "code",
   "execution_count": 706,
   "id": "891fe636",
   "metadata": {},
   "outputs": [
    {
     "data": {
      "text/plain": [
       "array([ 1,  3,  8,  9,  8, 18,  4,  5,  1,  3, 17,  1, 16,  6, 11,  2,  0,\n",
       "       12,  8,  8])"
      ]
     },
     "execution_count": 706,
     "metadata": {},
     "output_type": "execute_result"
    }
   ],
   "source": [
    "# Create 20 random integer of range(0,20) using seed(99)\n",
    "\n",
    "np.random.seed(99)\n",
    "random.randint(0,20,size = 20)"
   ]
  },
  {
   "cell_type": "code",
   "execution_count": 686,
   "id": "65abd539",
   "metadata": {},
   "outputs": [],
   "source": [
    "# Seed can be used to store the sequence \n",
    "# Once you run the seed, it will generate the sequence for one time. To obtain same sequence you will have to again run the seed\n",
    "\n",
    "np.random.seed(100)"
   ]
  },
  {
   "cell_type": "code",
   "execution_count": 687,
   "id": "2489ad1e",
   "metadata": {},
   "outputs": [
    {
     "data": {
      "text/plain": [
       "-1.7497654730546974"
      ]
     },
     "execution_count": 687,
     "metadata": {},
     "output_type": "execute_result"
    }
   ],
   "source": [
    "random.randn()"
   ]
  },
  {
   "cell_type": "code",
   "execution_count": 744,
   "id": "470afd33",
   "metadata": {},
   "outputs": [
    {
     "data": {
      "text/plain": [
       "array([0.37454012, 0.95071431, 0.73199394, 0.59865848, 0.15601864])"
      ]
     },
     "execution_count": 744,
     "metadata": {},
     "output_type": "execute_result"
    }
   ],
   "source": [
    "import numpy as np\n",
    "\n",
    "np.random.seed(42)\n",
    "random_numbers = np.random.rand(5)\n",
    "random_numbers"
   ]
  },
  {
   "cell_type": "code",
   "execution_count": 745,
   "id": "88ea5d83",
   "metadata": {},
   "outputs": [
    {
     "data": {
      "text/plain": [
       "array([0.77395605, 0.43887844, 0.85859792, 0.69736803, 0.09417735])"
      ]
     },
     "execution_count": 745,
     "metadata": {},
     "output_type": "execute_result"
    }
   ],
   "source": [
    "rng = default_rng(42)\n",
    "random_numbers = rng.random(5)\n",
    "random_numbers"
   ]
  },
  {
   "cell_type": "code",
   "execution_count": 777,
   "id": "b31b2be7",
   "metadata": {},
   "outputs": [
    {
     "data": {
      "text/plain": [
       "NoneType"
      ]
     },
     "execution_count": 777,
     "metadata": {},
     "output_type": "execute_result"
    }
   ],
   "source": [
    "type(np.random.seed(42))"
   ]
  },
  {
   "cell_type": "markdown",
   "id": "60795995",
   "metadata": {},
   "source": [
    "## Random Numbers\n",
    "### 2. Random, Shuffle, choose and Choice"
   ]
  },
  {
   "cell_type": "code",
   "execution_count": 6,
   "id": "3f10d29d",
   "metadata": {},
   "outputs": [],
   "source": [
    "# Random gives float random numbers betweet 0 to 1\n",
    "\n",
    "rng = random.default_rng(101)"
   ]
  },
  {
   "cell_type": "code",
   "execution_count": 62,
   "id": "b65fd3fe",
   "metadata": {},
   "outputs": [
    {
     "data": {
      "text/plain": [
       "array([0.94353251, 0.35942103, 0.78480541, 0.59127819, 0.29432856,\n",
       "       0.92272569, 0.86933154, 0.36413843, 0.97317681, 0.22452433])"
      ]
     },
     "execution_count": 62,
     "metadata": {},
     "output_type": "execute_result"
    }
   ],
   "source": [
    "# By random method 10 values being retrived for rng where seed = 101 \n",
    "\n",
    "rng.random(10)"
   ]
  },
  {
   "cell_type": "code",
   "execution_count": 63,
   "id": "2b9a4275",
   "metadata": {},
   "outputs": [
    {
     "data": {
      "text/plain": [
       "array([ 2, 96,  4, 88,  6,  8])"
      ]
     },
     "execution_count": 63,
     "metadata": {},
     "output_type": "execute_result"
    }
   ],
   "source": [
    "# Create a varaible named array to sotr a 1D array(vector)\n",
    "# Shuffle the variable named array by generator(rng)\n",
    "\n",
    "array = np.array([4,8,96,2,6,88])\n",
    "rng.shuffle(array)\n",
    "array"
   ]
  },
  {
   "cell_type": "code",
   "execution_count": 64,
   "id": "a7d825ec",
   "metadata": {},
   "outputs": [
    {
     "name": "stderr",
     "output_type": "stream",
     "text": [
      "C:\\Users\\Atharv Soni\\AppData\\Local\\Temp\\ipykernel_23532\\1509781017.py:4: VisibleDeprecationWarning: Creating an ndarray from ragged nested sequences (which is a list-or-tuple of lists-or-tuples-or ndarrays with different lengths or shapes) is deprecated. If you meant to do this, you must specify 'dtype=object' when creating the ndarray.\n",
      "  aa = np.array(([4,8,96,2,6,88],[5,6,64,8,96,2,6,88]))\n"
     ]
    },
    {
     "data": {
      "text/plain": [
       "array([list([5, 6, 64, 8, 96, 2, 6, 88]), list([4, 8, 96, 2, 6, 88])],\n",
       "      dtype=object)"
      ]
     },
     "execution_count": 64,
     "metadata": {},
     "output_type": "execute_result"
    }
   ],
   "source": [
    "# Create a 2D array in variable named aa\n",
    "# Shuffle the variable named aa\n",
    "\n",
    "aa = np.array(([4,8,96,2,6,88],[5,6,64,8,96,2,6,88]))\n",
    "rng.shuffle(aa)\n",
    "aa"
   ]
  },
  {
   "cell_type": "markdown",
   "id": "58077802",
   "metadata": {},
   "source": [
    "> **when the element in array is more than one, it shuffles object wise**"
   ]
  },
  {
   "cell_type": "code",
   "execution_count": 65,
   "id": "94d1a2da",
   "metadata": {},
   "outputs": [
    {
     "name": "stdout",
     "output_type": "stream",
     "text": [
      "[[ 5  6 64  8 96  2]\n",
      " [ 4  8 96  2  6 88]]\n",
      "int32\n"
     ]
    }
   ],
   "source": [
    "# Create a 2D array in variable named aa\n",
    "# Shuffle the variable named aa\n",
    "\n",
    "aa = np.array(([4,8,96,2,6,88],[5,6,64,8,96,2]))\n",
    "rng.shuffle(aa)\n",
    "print(aa)\n",
    "print(aa.dtype)"
   ]
  },
  {
   "cell_type": "markdown",
   "id": "b4d5df78",
   "metadata": {},
   "source": [
    "> **when the element in array is more than one, it shuffles object wise**"
   ]
  },
  {
   "cell_type": "code",
   "execution_count": 66,
   "id": "d83b15b9",
   "metadata": {},
   "outputs": [
    {
     "name": "stdout",
     "output_type": "stream",
     "text": [
      "object\n",
      "[list([4, 8, 96, 2, 6, 88]) list([5, 6, 64, 8, 96, 2, 6, 88])]\n"
     ]
    },
    {
     "name": "stderr",
     "output_type": "stream",
     "text": [
      "C:\\Users\\Atharv Soni\\AppData\\Local\\Temp\\ipykernel_23532\\3661787987.py:1: VisibleDeprecationWarning: Creating an ndarray from ragged nested sequences (which is a list-or-tuple of lists-or-tuples-or ndarrays with different lengths or shapes) is deprecated. If you meant to do this, you must specify 'dtype=object' when creating the ndarray.\n",
      "  aa = np.array(([4,8,96,2,6,88],[5,6,64,8,96,2,6,88]))\n"
     ]
    }
   ],
   "source": [
    "aa = np.array(([4,8,96,2,6,88],[5,6,64,8,96,2,6,88]))\n",
    "rng.shuffle(aa, axis = 0)\n",
    "print(aa.dtype)\n",
    "print(aa)"
   ]
  },
  {
   "cell_type": "code",
   "execution_count": 67,
   "id": "f70734ec",
   "metadata": {},
   "outputs": [
    {
     "name": "stderr",
     "output_type": "stream",
     "text": [
      "C:\\Users\\Atharv Soni\\AppData\\Local\\Temp\\ipykernel_23532\\926005697.py:1: VisibleDeprecationWarning: Creating an ndarray from ragged nested sequences (which is a list-or-tuple of lists-or-tuples-or ndarrays with different lengths or shapes) is deprecated. If you meant to do this, you must specify 'dtype=object' when creating the ndarray.\n",
      "  aaa = np.array(([[[4,8,96,2,6,88],[5,6,64,8,96,2,6,88]]]))\n"
     ]
    },
    {
     "data": {
      "text/plain": [
       "array([[list([4, 8, 96, 2, 6, 88]), list([5, 6, 64, 8, 96, 2, 6, 88])]],\n",
       "      dtype=object)"
      ]
     },
     "execution_count": 67,
     "metadata": {},
     "output_type": "execute_result"
    }
   ],
   "source": [
    "aaa = np.array(([[[4,8,96,2,6,88],[5,6,64,8,96,2,6,88]]]))\n",
    "rng.shuffle(aaa, axis = 1)\n",
    "aaa"
   ]
  },
  {
   "cell_type": "code",
   "execution_count": 75,
   "id": "262262ab",
   "metadata": {},
   "outputs": [
    {
     "name": "stderr",
     "output_type": "stream",
     "text": [
      "C:\\Users\\Atharv Soni\\AppData\\Local\\Temp\\ipykernel_23532\\1638223927.py:1: VisibleDeprecationWarning: Creating an ndarray from ragged nested sequences (which is a list-or-tuple of lists-or-tuples-or ndarrays with different lengths or shapes) is deprecated. If you meant to do this, you must specify 'dtype=object' when creating the ndarray.\n",
      "  aaaa = np.array(([[[[4,8,96,2,6,88],[5,6,64,8,96,2,6,88]]]]))\n"
     ]
    },
    {
     "data": {
      "text/plain": [
       "array([[[list([4, 8, 96, 2, 6, 88]), list([5, 6, 64, 8, 96, 2, 6, 88])]]],\n",
       "      dtype=object)"
      ]
     },
     "execution_count": 75,
     "metadata": {},
     "output_type": "execute_result"
    }
   ],
   "source": [
    "aaaa = np.array(([[[[4,8,96,2,6,88],[5,6,64,8,96,2,6,88]]]]))\n",
    "rng.shuffle(aaaa, axis = 1)\n",
    "aaaa"
   ]
  },
  {
   "cell_type": "code",
   "execution_count": 81,
   "id": "de107e87",
   "metadata": {},
   "outputs": [
    {
     "name": "stderr",
     "output_type": "stream",
     "text": [
      "C:\\Users\\Atharv Soni\\AppData\\Local\\Temp\\ipykernel_23532\\3798515410.py:1: VisibleDeprecationWarning: Creating an ndarray from ragged nested sequences (which is a list-or-tuple of lists-or-tuples-or ndarrays with different lengths or shapes) is deprecated. If you meant to do this, you must specify 'dtype=object' when creating the ndarray.\n",
      "  aaaa = np.array(([[[[4,8,96,2,6,88],[5,6,64,8,96,2,6,88]]]]))\n"
     ]
    },
    {
     "data": {
      "text/plain": [
       "array([[[list([5, 6, 64, 8, 96, 2, 6, 88]), list([4, 8, 96, 2, 6, 88])]]],\n",
       "      dtype=object)"
      ]
     },
     "execution_count": 81,
     "metadata": {},
     "output_type": "execute_result"
    }
   ],
   "source": [
    "aaaa = np.array(([[[[4,8,96,2,6,88],[5,6,64,8,96,2,6,88]]]]))\n",
    "rng.shuffle(aaaa, axis = 2)\n",
    "aaaa"
   ]
  },
  {
   "cell_type": "code",
   "execution_count": 95,
   "id": "8a613ccd",
   "metadata": {},
   "outputs": [
    {
     "data": {
      "text/plain": [
       "array([[[[ 4,  8, 96,  2,  6, 88],\n",
       "         [64,  8, 96,  2,  6, 88]]]])"
      ]
     },
     "execution_count": 95,
     "metadata": {},
     "output_type": "execute_result"
    }
   ],
   "source": [
    "aaaa = np.array(([[[[4,8,96,2,6,88],[64,8,96,2,6,88]]]]))\n",
    "rng.shuffle(aaaa)\n",
    "aaaa"
   ]
  },
  {
   "cell_type": "code",
   "execution_count": 98,
   "id": "3b047864",
   "metadata": {},
   "outputs": [
    {
     "data": {
      "text/plain": [
       "array([[[[ 4,  6,  2,  8, 88, 96],\n",
       "         [64,  6,  2,  8, 88, 96]]]])"
      ]
     },
     "execution_count": 98,
     "metadata": {},
     "output_type": "execute_result"
    }
   ],
   "source": [
    "aaaa = np.array(([[[[4,8,96,2,6,88],[64,8,96,2,6,88]]]]))\n",
    "rng.shuffle(aaaa, axis=3)\n",
    "aaaa"
   ]
  },
  {
   "cell_type": "code",
   "execution_count": 107,
   "id": "2a978b91",
   "metadata": {},
   "outputs": [
    {
     "name": "stderr",
     "output_type": "stream",
     "text": [
      "C:\\Users\\Atharv Soni\\AppData\\Local\\Temp\\ipykernel_23532\\2996022138.py:1: VisibleDeprecationWarning: Creating an ndarray from ragged nested sequences (which is a list-or-tuple of lists-or-tuples-or ndarrays with different lengths or shapes) is deprecated. If you meant to do this, you must specify 'dtype=object' when creating the ndarray.\n",
      "  x = np.array([[], [1]])\n"
     ]
    },
    {
     "data": {
      "text/plain": [
       "array([list([1]), list([])], dtype=object)"
      ]
     },
     "execution_count": 107,
     "metadata": {},
     "output_type": "execute_result"
    }
   ],
   "source": [
    "x = np.array([[], [1]])\n",
    "rng.shuffle(x)\n",
    "x"
   ]
  },
  {
   "cell_type": "code",
   "execution_count": 108,
   "id": "be42e968",
   "metadata": {},
   "outputs": [
    {
     "name": "stderr",
     "output_type": "stream",
     "text": [
      "C:\\Users\\Atharv Soni\\AppData\\Local\\Temp\\ipykernel_23532\\1669882984.py:1: VisibleDeprecationWarning: Creating an ndarray from ragged nested sequences (which is a list-or-tuple of lists-or-tuples-or ndarrays with different lengths or shapes) is deprecated. If you meant to do this, you must specify 'dtype=object' when creating the ndarray.\n",
      "  x = np.array([[], [1]])\n"
     ]
    },
    {
     "ename": "AxisError",
     "evalue": "axis 1 is out of bounds for array of dimension 1",
     "output_type": "error",
     "traceback": [
      "\u001b[1;31m---------------------------------------------------------------------------\u001b[0m",
      "\u001b[1;31mAxisError\u001b[0m                                 Traceback (most recent call last)",
      "Cell \u001b[1;32mIn[108], line 2\u001b[0m\n\u001b[0;32m      1\u001b[0m x \u001b[38;5;241m=\u001b[39m np\u001b[38;5;241m.\u001b[39marray([[], [\u001b[38;5;241m1\u001b[39m]])\n\u001b[1;32m----> 2\u001b[0m \u001b[43mrng\u001b[49m\u001b[38;5;241;43m.\u001b[39;49m\u001b[43mshuffle\u001b[49m\u001b[43m(\u001b[49m\u001b[43mx\u001b[49m\u001b[43m,\u001b[49m\u001b[43m \u001b[49m\u001b[43maxis\u001b[49m\u001b[38;5;241;43m=\u001b[39;49m\u001b[43m \u001b[49m\u001b[38;5;241;43m1\u001b[39;49m\u001b[43m)\u001b[49m\n\u001b[0;32m      3\u001b[0m x\n",
      "File \u001b[1;32m_generator.pyx:4632\u001b[0m, in \u001b[0;36mnumpy.random._generator.Generator.shuffle\u001b[1;34m()\u001b[0m\n",
      "\u001b[1;31mAxisError\u001b[0m: axis 1 is out of bounds for array of dimension 1"
     ]
    }
   ],
   "source": [
    "x = np.array([[], [1]])\n",
    "rng.shuffle(x, axis= 1)\n",
    "x"
   ]
  },
  {
   "cell_type": "code",
   "execution_count": 109,
   "id": "9d12669f",
   "metadata": {},
   "outputs": [
    {
     "data": {
      "text/plain": [
       "1"
      ]
     },
     "execution_count": 109,
     "metadata": {},
     "output_type": "execute_result"
    }
   ],
   "source": [
    "x.ndim"
   ]
  },
  {
   "cell_type": "code",
   "execution_count": 115,
   "id": "39842988",
   "metadata": {},
   "outputs": [
    {
     "data": {
      "text/plain": [
       "array([[1],\n",
       "       [5]])"
      ]
     },
     "execution_count": 115,
     "metadata": {},
     "output_type": "execute_result"
    }
   ],
   "source": [
    "x = np.array([[5], [1]])\n",
    "rng.shuffle(x)\n",
    "x"
   ]
  },
  {
   "cell_type": "code",
   "execution_count": 127,
   "id": "9dc8a990",
   "metadata": {},
   "outputs": [
    {
     "name": "stderr",
     "output_type": "stream",
     "text": [
      "C:\\Users\\Atharv Soni\\AppData\\Local\\Temp\\ipykernel_23532\\91007083.py:1: VisibleDeprecationWarning: Creating an ndarray from ragged nested sequences (which is a list-or-tuple of lists-or-tuples-or ndarrays with different lengths or shapes) is deprecated. If you meant to do this, you must specify 'dtype=object' when creating the ndarray.\n",
      "  aaaa = np.array(([[[[4,8,96,2,6,88],[5,6,64,8,96,2,6,88]]]]))\n"
     ]
    },
    {
     "data": {
      "text/plain": [
       "array([[[list([4, 8, 96, 2, 6, 88]), list([5, 6, 64, 8, 96, 2, 6, 88])]]],\n",
       "      dtype=object)"
      ]
     },
     "execution_count": 127,
     "metadata": {},
     "output_type": "execute_result"
    }
   ],
   "source": [
    "aaaa = np.array(([[[[4,8,96,2,6,88],[5,6,64,8,96,2,6,88]]]]))\n",
    "rng.shuffle(aaaa)\n",
    "aaaa"
   ]
  },
  {
   "cell_type": "code",
   "execution_count": 128,
   "id": "f806aa1d",
   "metadata": {},
   "outputs": [
    {
     "name": "stderr",
     "output_type": "stream",
     "text": [
      "C:\\Users\\Atharv Soni\\AppData\\Local\\Temp\\ipykernel_23532\\4260337898.py:1: VisibleDeprecationWarning: Creating an ndarray from ragged nested sequences (which is a list-or-tuple of lists-or-tuples-or ndarrays with different lengths or shapes) is deprecated. If you meant to do this, you must specify 'dtype=object' when creating the ndarray.\n",
      "  aaaa = np.array(([[[[4,8,96,2,6,88],[5,6,64,8,96,2,6,88]]]]))\n"
     ]
    },
    {
     "data": {
      "text/plain": [
       "array([[[list([5, 6, 64, 8, 96, 2, 6, 88]), list([4, 8, 96, 2, 6, 88])]]],\n",
       "      dtype=object)"
      ]
     },
     "execution_count": 128,
     "metadata": {},
     "output_type": "execute_result"
    }
   ],
   "source": [
    "aaaa = np.array(([[[[4,8,96,2,6,88],[5,6,64,8,96,2,6,88]]]]))\n",
    "rng.shuffle(aaaa, axis=2)\n",
    "aaaa"
   ]
  },
  {
   "cell_type": "code",
   "execution_count": 130,
   "id": "5dd26c67",
   "metadata": {},
   "outputs": [
    {
     "data": {
      "text/plain": [
       "array([[[['35', '6', '64', '8', '96', '222'],\n",
       "         ['54', '6', '64', '8', '96', '222'],\n",
       "         ['5', '6', '64', '8', '96', '222'],\n",
       "         ['4', '8', '96', '2', '6', '88'],\n",
       "         ['4', '8', '96', '2', '6', '88']]]], dtype='<U11')"
      ]
     },
     "execution_count": 130,
     "metadata": {},
     "output_type": "execute_result"
    }
   ],
   "source": [
    "aaaa = np.array(([[[[4,8,'96',2,6,88],[35,6,64,8,96,222],[4,8,'96',2,6,88],[54,6,64,8,96,222],[5,6,64,8,96,222]]]]))\n",
    "rng.shuffle(aaaa, axis=2)\n",
    "aaaa"
   ]
  },
  {
   "cell_type": "code",
   "execution_count": 131,
   "id": "ac72f9cb",
   "metadata": {},
   "outputs": [
    {
     "name": "stderr",
     "output_type": "stream",
     "text": [
      "C:\\Users\\Atharv Soni\\AppData\\Local\\Temp\\ipykernel_23532\\3798515410.py:1: VisibleDeprecationWarning: Creating an ndarray from ragged nested sequences (which is a list-or-tuple of lists-or-tuples-or ndarrays with different lengths or shapes) is deprecated. If you meant to do this, you must specify 'dtype=object' when creating the ndarray.\n",
      "  aaaa = np.array(([[[[4,8,96,2,6,88],[5,6,64,8,96,2,6,88]]]]))\n"
     ]
    },
    {
     "data": {
      "text/plain": [
       "array([[[list([5, 6, 64, 8, 96, 2, 6, 88]), list([4, 8, 96, 2, 6, 88])]]],\n",
       "      dtype=object)"
      ]
     },
     "execution_count": 131,
     "metadata": {},
     "output_type": "execute_result"
    }
   ],
   "source": [
    "aaaa = np.array(([[[[4,8,96,2,6,88],[5,6,64,8,96,2,6,88]]]]))\n",
    "rng.shuffle(aaaa, axis = 2)\n",
    "aaaa"
   ]
  },
  {
   "cell_type": "code",
   "execution_count": 135,
   "id": "8f34bb98",
   "metadata": {},
   "outputs": [
    {
     "name": "stderr",
     "output_type": "stream",
     "text": [
      "C:\\Users\\Atharv Soni\\AppData\\Local\\Temp\\ipykernel_23532\\3823479839.py:1: VisibleDeprecationWarning: Creating an ndarray from ragged nested sequences (which is a list-or-tuple of lists-or-tuples-or ndarrays with different lengths or shapes) is deprecated. If you meant to do this, you must specify 'dtype=object' when creating the ndarray.\n",
      "  bbb = np.array(([[[[4,8,96,2,6,88],[5,6,64,8,96,2,6,88]]], [[[6,8,96,2,6,88],[7,6,64,8,96,2,6,88]]]]))\n"
     ]
    },
    {
     "data": {
      "text/plain": [
       "array([[[list([6, 8, 96, 2, 6, 88]), list([7, 6, 64, 8, 96, 2, 6, 88])]],\n",
       "\n",
       "       [[list([4, 8, 96, 2, 6, 88]), list([5, 6, 64, 8, 96, 2, 6, 88])]]],\n",
       "      dtype=object)"
      ]
     },
     "execution_count": 135,
     "metadata": {},
     "output_type": "execute_result"
    }
   ],
   "source": [
    "bbb = np.array(([[[[4,8,96,2,6,88],[5,6,64,8,96,2,6,88]]], [[[6,8,96,2,6,88],[7,6,64,8,96,2,6,88]]]]))\n",
    "rng.shuffle(bbb, axis = 0)\n",
    "bbb"
   ]
  },
  {
   "cell_type": "code",
   "execution_count": 136,
   "id": "176a3c2c",
   "metadata": {},
   "outputs": [
    {
     "data": {
      "text/plain": [
       "3"
      ]
     },
     "execution_count": 136,
     "metadata": {},
     "output_type": "execute_result"
    }
   ],
   "source": [
    "bbb.ndim"
   ]
  },
  {
   "cell_type": "code",
   "execution_count": 138,
   "id": "daa0cfea",
   "metadata": {},
   "outputs": [
    {
     "name": "stderr",
     "output_type": "stream",
     "text": [
      "C:\\Users\\Atharv Soni\\AppData\\Local\\Temp\\ipykernel_23532\\556157963.py:1: VisibleDeprecationWarning: Creating an ndarray from ragged nested sequences (which is a list-or-tuple of lists-or-tuples-or ndarrays with different lengths or shapes) is deprecated. If you meant to do this, you must specify 'dtype=object' when creating the ndarray.\n",
      "  bbb = np.array(([[[[[4,8,96,2,6,88],[5,6,64,8,96,2,6,88]]], [[[6,8,96,2,6,88],[7,6,64,8,96,2,6,88]]]]]))\n"
     ]
    },
    {
     "data": {
      "text/plain": [
       "array([[[[list([6, 8, 96, 2, 6, 88]),\n",
       "          list([7, 6, 64, 8, 96, 2, 6, 88])]],\n",
       "\n",
       "        [[list([4, 8, 96, 2, 6, 88]),\n",
       "          list([5, 6, 64, 8, 96, 2, 6, 88])]]]], dtype=object)"
      ]
     },
     "execution_count": 138,
     "metadata": {},
     "output_type": "execute_result"
    }
   ],
   "source": [
    "bbb = np.array(([[[[[4,8,96,2,6,88],[5,6,64,8,96,2,6,88]]], [[[6,8,96,2,6,88],[7,6,64,8,96,2,6,88]]]]]))\n",
    "rng.shuffle(bbb, axis = 1)\n",
    "bbb"
   ]
  },
  {
   "cell_type": "code",
   "execution_count": 190,
   "id": "dd88bc03",
   "metadata": {},
   "outputs": [
    {
     "name": "stdout",
     "output_type": "stream",
     "text": [
      "(1, 2, 1, 2)\n"
     ]
    },
    {
     "name": "stderr",
     "output_type": "stream",
     "text": [
      "C:\\Users\\Atharv Soni\\AppData\\Local\\Temp\\ipykernel_23532\\1989235329.py:3: VisibleDeprecationWarning: Creating an ndarray from ragged nested sequences (which is a list-or-tuple of lists-or-tuples-or ndarrays with different lengths or shapes) is deprecated. If you meant to do this, you must specify 'dtype=object' when creating the ndarray.\n",
      "  bbb = np.array(([[[[[4,8,96,2,6,88],[5,6,64,8,96,2,6,88]]], [[[6,8,96,2,6,88],[7,6,64,8,96,2,6,88]]]]]))\n"
     ]
    },
    {
     "data": {
      "text/html": [
       "<div>\n",
       "<style scoped>\n",
       "    .dataframe tbody tr th:only-of-type {\n",
       "        vertical-align: middle;\n",
       "    }\n",
       "\n",
       "    .dataframe tbody tr th {\n",
       "        vertical-align: top;\n",
       "    }\n",
       "\n",
       "    .dataframe thead th {\n",
       "        text-align: right;\n",
       "    }\n",
       "</style>\n",
       "<table border=\"1\" class=\"dataframe\">\n",
       "  <thead>\n",
       "    <tr style=\"text-align: right;\">\n",
       "      <th></th>\n",
       "      <th>0</th>\n",
       "      <th>1</th>\n",
       "    </tr>\n",
       "  </thead>\n",
       "  <tbody>\n",
       "    <tr>\n",
       "      <th>0</th>\n",
       "      <td>[4, 8, 96, 2, 6, 88]</td>\n",
       "      <td>[5, 6, 64, 8, 96, 2, 6, 88]</td>\n",
       "    </tr>\n",
       "  </tbody>\n",
       "</table>\n",
       "</div>"
      ],
      "text/plain": [
       "                      0                            1\n",
       "0  [4, 8, 96, 2, 6, 88]  [5, 6, 64, 8, 96, 2, 6, 88]"
      ]
     },
     "execution_count": 190,
     "metadata": {},
     "output_type": "execute_result"
    }
   ],
   "source": [
    "import pandas as pd\n",
    "\n",
    "bbb = np.array(([[[[[4,8,96,2,6,88],[5,6,64,8,96,2,6,88]]], [[[6,8,96,2,6,88],[7,6,64,8,96,2,6,88]]]]]))\n",
    "print(bbb.shape)\n",
    "pd.DataFrame(bbb[0][0])"
   ]
  },
  {
   "cell_type": "code",
   "execution_count": 225,
   "id": "306097de",
   "metadata": {},
   "outputs": [
    {
     "name": "stderr",
     "output_type": "stream",
     "text": [
      "C:\\Users\\Atharv Soni\\AppData\\Local\\Temp\\ipykernel_23532\\3248642026.py:1: VisibleDeprecationWarning: Creating an ndarray from ragged nested sequences (which is a list-or-tuple of lists-or-tuples-or ndarrays with different lengths or shapes) is deprecated. If you meant to do this, you must specify 'dtype=object' when creating the ndarray.\n",
      "  bbb = np.array(([[[[[4,8,96,2,6,88],[5,6,64,8,96,2,6,88]]], [[[6,8,96,2,6,88],[7,6,64,8,96,2,6,88]]]]]))\n"
     ]
    },
    {
     "data": {
      "text/plain": [
       "array([[[[list([4, 8, 96, 2, 6, 88]),\n",
       "          list([5, 6, 64, 8, 96, 2, 6, 88])]],\n",
       "\n",
       "        [[list([6, 8, 96, 2, 6, 88]),\n",
       "          list([7, 6, 64, 8, 96, 2, 6, 88])]]]], dtype=object)"
      ]
     },
     "execution_count": 225,
     "metadata": {},
     "output_type": "execute_result"
    }
   ],
   "source": [
    "bbb = np.array(([[[[[4,8,96,2,6,88],[5,6,64,8,96,2,6,88]]], [[[6,8,96,2,6,88],[7,6,64,8,96,2,6,88]]]]]))\n",
    "rng.shuffle(bbb, axis = 2)\n",
    "bbb"
   ]
  },
  {
   "cell_type": "code",
   "execution_count": 228,
   "id": "dcef0658",
   "metadata": {},
   "outputs": [
    {
     "name": "stderr",
     "output_type": "stream",
     "text": [
      "C:\\Users\\Atharv Soni\\AppData\\Local\\Temp\\ipykernel_23532\\3027700217.py:1: VisibleDeprecationWarning: Creating an ndarray from ragged nested sequences (which is a list-or-tuple of lists-or-tuples-or ndarrays with different lengths or shapes) is deprecated. If you meant to do this, you must specify 'dtype=object' when creating the ndarray.\n",
      "  bbb = np.array(([[[[[4,8,96,2,6,88],[5,6,64,8,96,2,6,88]]], [[[6,8,96,2,6,88],[7,6,64,8,96,2,6,88]]]]]))\n"
     ]
    },
    {
     "data": {
      "text/plain": [
       "array([[[[list([5, 6, 64, 8, 96, 2, 6, 88]),\n",
       "          list([4, 8, 96, 2, 6, 88])]],\n",
       "\n",
       "        [[list([7, 6, 64, 8, 96, 2, 6, 88]),\n",
       "          list([6, 8, 96, 2, 6, 88])]]]], dtype=object)"
      ]
     },
     "execution_count": 228,
     "metadata": {},
     "output_type": "execute_result"
    }
   ],
   "source": [
    "bbb = np.array(([[[[[4,8,96,2,6,88],[5,6,64,8,96,2,6,88]]], [[[6,8,96,2,6,88],[7,6,64,8,96,2,6,88]]]]]))\n",
    "rng.shuffle(bbb, axis = 3)\n",
    "bbb"
   ]
  },
  {
   "cell_type": "code",
   "execution_count": 229,
   "id": "ca42a7d3",
   "metadata": {},
   "outputs": [
    {
     "name": "stderr",
     "output_type": "stream",
     "text": [
      "C:\\Users\\Atharv Soni\\AppData\\Local\\Temp\\ipykernel_23532\\2702386456.py:3: VisibleDeprecationWarning: Creating an ndarray from ragged nested sequences (which is a list-or-tuple of lists-or-tuples-or ndarrays with different lengths or shapes) is deprecated. If you meant to do this, you must specify 'dtype=object' when creating the ndarray.\n",
      "  bbb = np.array(([[[[4,8,96,2,6,88],[5,6,64,8,96,2,6,88],[1,2,5,6,2]]], [[[6,8,96,2,6,88],[7,6,64,8,96,2,6,88],[1,2,5,6,2]]]]))\n"
     ]
    },
    {
     "data": {
      "text/plain": [
       "(                      0                            1                2\n",
       " 0  [4, 8, 96, 2, 6, 88]  [5, 6, 64, 8, 96, 2, 6, 88]  [1, 2, 5, 6, 2],\n",
       "                       0                            1                2\n",
       " 0  [6, 8, 96, 2, 6, 88]  [7, 6, 64, 8, 96, 2, 6, 88]  [1, 2, 5, 6, 2])"
      ]
     },
     "execution_count": 229,
     "metadata": {},
     "output_type": "execute_result"
    }
   ],
   "source": [
    "import pandas as pd\n",
    "\n",
    "bbb = np.array(([[[[4,8,96,2,6,88],[5,6,64,8,96,2,6,88],[1,2,5,6,2]]], [[[6,8,96,2,6,88],[7,6,64,8,96,2,6,88],[1,2,5,6,2]]]]))\n",
    "bbb.shape\n",
    "pd.DataFrame(bbb[0]), pd.DataFrame(bbb[1])"
   ]
  },
  {
   "cell_type": "code",
   "execution_count": 7,
   "id": "45833caf",
   "metadata": {},
   "outputs": [
    {
     "name": "stderr",
     "output_type": "stream",
     "text": [
      "C:\\Users\\Atharv Soni\\AppData\\Local\\Temp\\ipykernel_14808\\3572790964.py:1: VisibleDeprecationWarning: Creating an ndarray from ragged nested sequences (which is a list-or-tuple of lists-or-tuples-or ndarrays with different lengths or shapes) is deprecated. If you meant to do this, you must specify 'dtype=object' when creating the ndarray.\n",
      "  bbb = np.array(([[[[4,8,96,2,6,88],[5,6,64,8,96,2,6,88],[1,2,5,6,2]]], [[[6,8,96,2,6,88],[7,6,64,8,96,2,6,88],[1,2,5,6,2]]]]))\n"
     ]
    },
    {
     "data": {
      "text/plain": [
       "array([[[list([5, 6, 64, 8, 96, 2, 6, 88]), list([4, 8, 96, 2, 6, 88]),\n",
       "         list([1, 2, 5, 6, 2])]],\n",
       "\n",
       "       [[list([7, 6, 64, 8, 96, 2, 6, 88]), list([6, 8, 96, 2, 6, 88]),\n",
       "         list([1, 2, 5, 6, 2])]]], dtype=object)"
      ]
     },
     "execution_count": 7,
     "metadata": {},
     "output_type": "execute_result"
    }
   ],
   "source": [
    "bbb = np.array(([[[[4,8,96,2,6,88],[5,6,64,8,96,2,6,88],[1,2,5,6,2]]], [[[6,8,96,2,6,88],[7,6,64,8,96,2,6,88],[1,2,5,6,2]]]]))\n",
    "rng.shuffle(bbb, axis = 2)\n",
    "bbb"
   ]
  },
  {
   "cell_type": "code",
   "execution_count": 23,
   "id": "d1a6a37c",
   "metadata": {},
   "outputs": [
    {
     "data": {
      "text/html": [
       "<div>\n",
       "<style scoped>\n",
       "    .dataframe tbody tr th:only-of-type {\n",
       "        vertical-align: middle;\n",
       "    }\n",
       "\n",
       "    .dataframe tbody tr th {\n",
       "        vertical-align: top;\n",
       "    }\n",
       "\n",
       "    .dataframe thead th {\n",
       "        text-align: right;\n",
       "    }\n",
       "</style>\n",
       "<table border=\"1\" class=\"dataframe\">\n",
       "  <thead>\n",
       "    <tr style=\"text-align: right;\">\n",
       "      <th></th>\n",
       "      <th>0</th>\n",
       "      <th>1</th>\n",
       "      <th>2</th>\n",
       "      <th>3</th>\n",
       "      <th>4</th>\n",
       "      <th>5</th>\n",
       "    </tr>\n",
       "  </thead>\n",
       "  <tbody>\n",
       "    <tr>\n",
       "      <th>0</th>\n",
       "      <td>4</td>\n",
       "      <td>8</td>\n",
       "      <td>96</td>\n",
       "      <td>2</td>\n",
       "      <td>6</td>\n",
       "      <td>88</td>\n",
       "    </tr>\n",
       "    <tr>\n",
       "      <th>1</th>\n",
       "      <td>5</td>\n",
       "      <td>6</td>\n",
       "      <td>64</td>\n",
       "      <td>8</td>\n",
       "      <td>96</td>\n",
       "      <td>88</td>\n",
       "    </tr>\n",
       "  </tbody>\n",
       "</table>\n",
       "</div>"
      ],
      "text/plain": [
       "   0  1   2  3   4   5\n",
       "0  4  8  96  2   6  88\n",
       "1  5  6  64  8  96  88"
      ]
     },
     "execution_count": 23,
     "metadata": {},
     "output_type": "execute_result"
    }
   ],
   "source": [
    "ba = np.array(([[4,8,96,2,6,88],[5,6,64,8,96,88]]))\n",
    "pd.DataFrame(ba)"
   ]
  },
  {
   "cell_type": "code",
   "execution_count": 24,
   "id": "957a8192",
   "metadata": {},
   "outputs": [
    {
     "name": "stdout",
     "output_type": "stream",
     "text": [
      "[[ 5  6 64  8 96 88]\n",
      " [ 4  8 96  2  6 88]]\n",
      "int32\n"
     ]
    }
   ],
   "source": [
    "ba = np.array(([[4,8,96,2,6,88],[5,6,64,8,96,88]]))\n",
    "rng.shuffle(ba)\n",
    "print(ba)\n",
    "print(ba.dtype)"
   ]
  },
  {
   "cell_type": "code",
   "execution_count": 25,
   "id": "bbfac904",
   "metadata": {},
   "outputs": [
    {
     "name": "stdout",
     "output_type": "stream",
     "text": [
      "[[96 88  8  4  2  6]\n",
      " [64 88  6  5  8 96]]\n",
      "int32\n"
     ]
    }
   ],
   "source": [
    "ba = np.array(([[4,8,96,2,6,88],[5,6,64,8,96,88]]))\n",
    "rng.shuffle(ba, axis = 1)\n",
    "print(ba)\n",
    "print(ba.dtype)"
   ]
  },
  {
   "cell_type": "code",
   "execution_count": 26,
   "id": "2899fcb6",
   "metadata": {},
   "outputs": [
    {
     "data": {
      "text/plain": [
       "array([ 9, 56,  2, 64,  8, 88,  7,  5, 96])"
      ]
     },
     "execution_count": 26,
     "metadata": {},
     "output_type": "execute_result"
    }
   ],
   "source": [
    "aba = np.array(([5,9,7,2,56,64,8,96,88]))\n",
    "rng.shuffle(aba)\n",
    "aba"
   ]
  },
  {
   "cell_type": "code",
   "execution_count": 32,
   "id": "b97a9c35",
   "metadata": {},
   "outputs": [
    {
     "data": {
      "text/plain": [
       "array([ 8,  5,  5,  5, 64])"
      ]
     },
     "execution_count": 32,
     "metadata": {},
     "output_type": "execute_result"
    }
   ],
   "source": [
    "# Select random 5 values from given array of size more than 5\n",
    "\n",
    "aa1 = np.array(([5,9,7,2,56,64,8,96,88]))\n",
    "aa11 = rng.choice(aa1, size = 5)\n",
    "aa11"
   ]
  },
  {
   "cell_type": "code",
   "execution_count": 33,
   "id": "dbbac081",
   "metadata": {},
   "outputs": [
    {
     "data": {
      "text/plain": [
       "array([0, 0, 0, 0, 0, 0, 0, 0, 0, 0, 0, 0, 0, 0, 0], dtype=int64)"
      ]
     },
     "execution_count": 33,
     "metadata": {},
     "output_type": "execute_result"
    }
   ],
   "source": [
    "# Select 15 random values from given array of size less than 15\n",
    "# If the size of array is less than the selected random values, then it will return the n(15) number of 0\n",
    "\n",
    "a1 = np.array(([5,9,7,2,56,64,8,96,88]))\n",
    "a11 = rng.choice(1, size = 15)\n",
    "a11"
   ]
  },
  {
   "cell_type": "code",
   "execution_count": 34,
   "id": "87b52420",
   "metadata": {},
   "outputs": [
    {
     "data": {
      "text/plain": [
       "array([8, 8, 8])"
      ]
     },
     "execution_count": 34,
     "metadata": {},
     "output_type": "execute_result"
    }
   ],
   "source": [
    "# Select 3 random values from given array\n",
    "\n",
    "l1 = np.array([8,8,8,8,8,8])\n",
    "rng.choice(l1,size = 3, replace = False)"
   ]
  },
  {
   "cell_type": "code",
   "execution_count": 40,
   "id": "d3652d98",
   "metadata": {},
   "outputs": [
    {
     "data": {
      "text/plain": [
       "array([64, 88, 56,  8,  2])"
      ]
     },
     "execution_count": 40,
     "metadata": {},
     "output_type": "execute_result"
    }
   ],
   "source": [
    "# Select 5 random values from given array of size more than 5\n",
    "# replace = False, means no same index value is allowed for the random values \n",
    "# By default replace = True\n",
    "\n",
    "aa1 = np.array(([5,9,7,2,56,64,8,96,88]))\n",
    "aa11 = rng.choice(aa1, size = 5, replace = False)\n",
    "aa11"
   ]
  },
  {
   "cell_type": "code",
   "execution_count": 41,
   "id": "852c8dd2",
   "metadata": {},
   "outputs": [
    {
     "data": {
      "text/plain": [
       "array([[ 5,  9,  7,  2, 56, 64,  8, 96, 88]])"
      ]
     },
     "execution_count": 41,
     "metadata": {},
     "output_type": "execute_result"
    }
   ],
   "source": [
    "# Select 1 random values from given 2D array\n",
    "# replace = False, means no same index value is allowed for the random values \n",
    "\n",
    "aa2 = np.array(([[5,9,7,2,56,64,8,96,88]]))\n",
    "aa12 = rng.choice(aa2, size = 1, replace = False)\n",
    "aa12"
   ]
  },
  {
   "cell_type": "code",
   "execution_count": 42,
   "id": "8fd1a4f7",
   "metadata": {},
   "outputs": [
    {
     "ename": "ValueError",
     "evalue": "Cannot take a larger sample than population when replace is False",
     "output_type": "error",
     "traceback": [
      "\u001b[1;31m---------------------------------------------------------------------------\u001b[0m",
      "\u001b[1;31mValueError\u001b[0m                                Traceback (most recent call last)",
      "Cell \u001b[1;32mIn[42], line 5\u001b[0m\n\u001b[0;32m      1\u001b[0m \u001b[38;5;66;03m# Select 2 random values from given 2D array\u001b[39;00m\n\u001b[0;32m      2\u001b[0m \u001b[38;5;66;03m# As there is 1 object in the array, it will throw the error\u001b[39;00m\n\u001b[0;32m      4\u001b[0m aa2 \u001b[38;5;241m=\u001b[39m np\u001b[38;5;241m.\u001b[39marray(([[\u001b[38;5;241m5\u001b[39m,\u001b[38;5;241m9\u001b[39m,\u001b[38;5;241m7\u001b[39m,\u001b[38;5;241m2\u001b[39m,\u001b[38;5;241m56\u001b[39m,\u001b[38;5;241m64\u001b[39m,\u001b[38;5;241m8\u001b[39m,\u001b[38;5;241m96\u001b[39m,\u001b[38;5;241m88\u001b[39m]]))\n\u001b[1;32m----> 5\u001b[0m aa12 \u001b[38;5;241m=\u001b[39m \u001b[43mrng\u001b[49m\u001b[38;5;241;43m.\u001b[39;49m\u001b[43mchoice\u001b[49m\u001b[43m(\u001b[49m\u001b[43maa2\u001b[49m\u001b[43m,\u001b[49m\u001b[43m \u001b[49m\u001b[43msize\u001b[49m\u001b[43m \u001b[49m\u001b[38;5;241;43m=\u001b[39;49m\u001b[43m \u001b[49m\u001b[38;5;241;43m2\u001b[39;49m\u001b[43m,\u001b[49m\u001b[43m \u001b[49m\u001b[43mreplace\u001b[49m\u001b[43m \u001b[49m\u001b[38;5;241;43m=\u001b[39;49m\u001b[43m \u001b[49m\u001b[38;5;28;43;01mFalse\u001b[39;49;00m\u001b[43m)\u001b[49m\n\u001b[0;32m      6\u001b[0m aa12\n",
      "File \u001b[1;32m_generator.pyx:772\u001b[0m, in \u001b[0;36mnumpy.random._generator.Generator.choice\u001b[1;34m()\u001b[0m\n",
      "\u001b[1;31mValueError\u001b[0m: Cannot take a larger sample than population when replace is False"
     ]
    }
   ],
   "source": [
    "# Select 2 random values from given 2D array\n",
    "# As there is 1 object in the array, it will throw the error\n",
    "\n",
    "aa2 = np.array(([[5,9,7,2,56,64,8,96,88]]))\n",
    "aa12 = rng.choice(aa2, size = 2, replace = False)\n",
    "aa12"
   ]
  },
  {
   "cell_type": "code",
   "execution_count": 43,
   "id": "55d93396",
   "metadata": {},
   "outputs": [
    {
     "data": {
      "text/plain": [
       "array([[50, 90,  7,  2, 56, 64,  8, 96, 88],\n",
       "       [ 5,  9,  7,  2, 56, 64,  8, 96, 88]])"
      ]
     },
     "execution_count": 43,
     "metadata": {},
     "output_type": "execute_result"
    }
   ],
   "source": [
    "# \n",
    "\n",
    "aa2 = np.array(([[5,9,7,2,56,64,8,96,88], [50,90,7,2,56,64,8,96,88]]))\n",
    "aa12 = rng.choice(aa2, size = 2, replace = False)\n",
    "aa12"
   ]
  },
  {
   "cell_type": "code",
   "execution_count": 47,
   "id": "d95ee1c9",
   "metadata": {},
   "outputs": [
    {
     "data": {
      "text/plain": [
       "array([['50', '90', '7', '2', '56', '64', '8', '96', '88'],\n",
       "       ['5', '9', '7', '2', '56', '64', '8', '96', '88']], dtype='<U11')"
      ]
     },
     "execution_count": 47,
     "metadata": {},
     "output_type": "execute_result"
    }
   ],
   "source": [
    "#\n",
    "\n",
    "aa2 = np.array(([[5,9,7,2,56,'64',8,96,88], [50,90,7,2,56,64,8,96,88]]))\n",
    "aa12 = rng.choice(aa2, size = 2, replace = False)\n",
    "aa12"
   ]
  },
  {
   "cell_type": "code",
   "execution_count": 44,
   "id": "05e7cccd",
   "metadata": {},
   "outputs": [
    {
     "name": "stderr",
     "output_type": "stream",
     "text": [
      "C:\\Users\\Atharv Soni\\AppData\\Local\\Temp\\ipykernel_14808\\2463004149.py:3: VisibleDeprecationWarning: Creating an ndarray from ragged nested sequences (which is a list-or-tuple of lists-or-tuples-or ndarrays with different lengths or shapes) is deprecated. If you meant to do this, you must specify 'dtype=object' when creating the ndarray.\n",
      "  aa2 = np.array(([[5,9,7,2,56,'64',8,96,88], [50,90,7,2,56,'555',64,8,96,88]]))\n"
     ]
    },
    {
     "data": {
      "text/plain": [
       "array([list([5, 9, 7, 2, 56, '64', 8, 96, 88])], dtype=object)"
      ]
     },
     "execution_count": 44,
     "metadata": {},
     "output_type": "execute_result"
    }
   ],
   "source": [
    "#\n",
    "\n",
    "aa2 = np.array(([[5,9,7,2,56,'64',8,96,88], [50,90,7,2,56,'555',64,8,96,88]]))\n",
    "aa12 = rng.choice(aa2, size = 1, replace = False)\n",
    "aa12"
   ]
  },
  {
   "cell_type": "code",
   "execution_count": 48,
   "id": "acd1f592",
   "metadata": {},
   "outputs": [
    {
     "data": {
      "text/plain": [
       "array([], shape=(0, 9), dtype=int32)"
      ]
     },
     "execution_count": 48,
     "metadata": {},
     "output_type": "execute_result"
    }
   ],
   "source": [
    "# Select 0 random values from given 2D array\n",
    "# It will return empty array\n",
    "\n",
    "aa2 = np.array(([[5,9,7,2,56,64,8,96,88],[25,19,7,2,56,64,8,96,88]]))\n",
    "aa12 = rng.choice(aa2, size = 0, replace = False)\n",
    "aa12"
   ]
  },
  {
   "cell_type": "code",
   "execution_count": 50,
   "id": "521a240e",
   "metadata": {},
   "outputs": [
    {
     "data": {
      "text/plain": [
       "array([[25, 19,  7,  2, 56, 64,  8, 96, 88]])"
      ]
     },
     "execution_count": 50,
     "metadata": {},
     "output_type": "execute_result"
    }
   ],
   "source": [
    "# Select 1 random value from given 2D array\n",
    "\n",
    "aa2 = np.array(([[5,9,7,2,56,64,8,96,88],[25,19,7,2,56,64,8,96,88]]))\n",
    "aa12 = rng.choice(aa2, size = 1, replace = False)\n",
    "aa12"
   ]
  },
  {
   "cell_type": "code",
   "execution_count": 54,
   "id": "a03245fa",
   "metadata": {},
   "outputs": [
    {
     "data": {
      "text/plain": [
       "array([[ 25,  19,   7,   2,  56,  64,   8,  96,  88],\n",
       "       [  5,   9,   7,   2,  56,  64, 888,  96,  88]])"
      ]
     },
     "execution_count": 54,
     "metadata": {},
     "output_type": "execute_result"
    }
   ],
   "source": [
    "# Select 2 random values from given 2D array\n",
    "\n",
    "aa2 = np.array(([[5,9,7,2,56,64,888,96,88],[25,19,7,2,56,64,8,96,88]]))\n",
    "aa12 = rng.choice(aa2, size = 2, replace = False)\n",
    "aa12"
   ]
  },
  {
   "cell_type": "code",
   "execution_count": 65,
   "id": "43b40964",
   "metadata": {},
   "outputs": [
    {
     "data": {
      "text/plain": [
       "array([[  5, 888],\n",
       "       [ 25,   8]])"
      ]
     },
     "execution_count": 65,
     "metadata": {},
     "output_type": "execute_result"
    }
   ],
   "source": [
    "# Select 2 random values from given 2D array\n",
    "\n",
    "aa2 = np.array(([[5,9,7,2,56,64,888,96,88],[25,19,7,2,56,64,8,96,88]]))\n",
    "aa12 = rng.choice(aa2, size = 2, axis= 1, replace = False)\n",
    "aa12"
   ]
  },
  {
   "cell_type": "code",
   "execution_count": 55,
   "id": "3ff3d6aa",
   "metadata": {},
   "outputs": [
    {
     "ename": "ValueError",
     "evalue": "Cannot take a larger sample than population when replace is False",
     "output_type": "error",
     "traceback": [
      "\u001b[1;31m---------------------------------------------------------------------------\u001b[0m",
      "\u001b[1;31mValueError\u001b[0m                                Traceback (most recent call last)",
      "Cell \u001b[1;32mIn[55], line 4\u001b[0m\n\u001b[0;32m      1\u001b[0m \u001b[38;5;66;03m# Select 2 random values from given 2D array\u001b[39;00m\n\u001b[0;32m      3\u001b[0m aa2 \u001b[38;5;241m=\u001b[39m np\u001b[38;5;241m.\u001b[39marray(([[\u001b[38;5;241m5\u001b[39m,\u001b[38;5;241m9\u001b[39m,\u001b[38;5;241m7\u001b[39m,\u001b[38;5;241m2\u001b[39m,\u001b[38;5;241m56\u001b[39m,\u001b[38;5;241m64\u001b[39m,\u001b[38;5;241m888\u001b[39m,\u001b[38;5;241m96\u001b[39m,\u001b[38;5;241m88\u001b[39m],[\u001b[38;5;241m25\u001b[39m,\u001b[38;5;241m19\u001b[39m,\u001b[38;5;241m7\u001b[39m,\u001b[38;5;241m2\u001b[39m,\u001b[38;5;241m56\u001b[39m,\u001b[38;5;241m64\u001b[39m,\u001b[38;5;241m8\u001b[39m,\u001b[38;5;241m96\u001b[39m,\u001b[38;5;241m88\u001b[39m]]))\n\u001b[1;32m----> 4\u001b[0m aa12 \u001b[38;5;241m=\u001b[39m \u001b[43mrng\u001b[49m\u001b[38;5;241;43m.\u001b[39;49m\u001b[43mchoice\u001b[49m\u001b[43m(\u001b[49m\u001b[43maa2\u001b[49m\u001b[43m,\u001b[49m\u001b[43m \u001b[49m\u001b[43msize\u001b[49m\u001b[43m \u001b[49m\u001b[38;5;241;43m=\u001b[39;49m\u001b[43m \u001b[49m\u001b[38;5;241;43m3\u001b[39;49m\u001b[43m,\u001b[49m\u001b[43m \u001b[49m\u001b[43mreplace\u001b[49m\u001b[43m \u001b[49m\u001b[38;5;241;43m=\u001b[39;49m\u001b[43m \u001b[49m\u001b[38;5;28;43;01mFalse\u001b[39;49;00m\u001b[43m)\u001b[49m\n\u001b[0;32m      5\u001b[0m aa12\n",
      "File \u001b[1;32m_generator.pyx:772\u001b[0m, in \u001b[0;36mnumpy.random._generator.Generator.choice\u001b[1;34m()\u001b[0m\n",
      "\u001b[1;31mValueError\u001b[0m: Cannot take a larger sample than population when replace is False"
     ]
    }
   ],
   "source": [
    "# Select 2 random values from given 2D array\n",
    "\n",
    "aa2 = np.array(([[5,9,7,2,56,64,888,96,88],[25,19,7,2,56,64,8,96,88]]))\n",
    "aa12 = rng.choice(aa2, size = 3, replace = False)\n",
    "aa12"
   ]
  },
  {
   "cell_type": "code",
   "execution_count": 60,
   "id": "28f99ef1",
   "metadata": {},
   "outputs": [
    {
     "name": "stderr",
     "output_type": "stream",
     "text": [
      "C:\\Users\\Atharv Soni\\AppData\\Local\\Temp\\ipykernel_14808\\826679097.py:4: VisibleDeprecationWarning: Creating an ndarray from ragged nested sequences (which is a list-or-tuple of lists-or-tuples-or ndarrays with different lengths or shapes) is deprecated. If you meant to do this, you must specify 'dtype=object' when creating the ndarray.\n",
      "  aa2 = np.array(([[5,9,7,2,56,64,8,96,88],[25,19,4,8,96,88]]))\n"
     ]
    },
    {
     "data": {
      "text/plain": [
       "array([list([25, 19, 4, 8, 96, 88])], dtype=object)"
      ]
     },
     "execution_count": 60,
     "metadata": {},
     "output_type": "execute_result"
    }
   ],
   "source": [
    "# Select 1 random value from given 2D array\n",
    "# As the dtype = object, it will return the random array list object\n",
    "\n",
    "aa2 = np.array(([[5,9,7,2,56,64,8,96,88],[25,19,4,8,96,88]]))\n",
    "aa12 = rng.choice(aa2, size = 1, replace = False)\n",
    "aa12"
   ]
  },
  {
   "cell_type": "code",
   "execution_count": 62,
   "id": "3ad0a227",
   "metadata": {},
   "outputs": [
    {
     "name": "stderr",
     "output_type": "stream",
     "text": [
      "C:\\Users\\Atharv Soni\\AppData\\Local\\Temp\\ipykernel_14808\\2727081657.py:4: VisibleDeprecationWarning: Creating an ndarray from ragged nested sequences (which is a list-or-tuple of lists-or-tuples-or ndarrays with different lengths or shapes) is deprecated. If you meant to do this, you must specify 'dtype=object' when creating the ndarray.\n",
      "  aa2 = np.array(([[[5,9,7,2,56,64,8,96,88]],[[25,19,4,8,96,88]]]))\n"
     ]
    },
    {
     "data": {
      "text/plain": [
       "array([[list([25, 19, 4, 8, 96, 88])]], dtype=object)"
      ]
     },
     "execution_count": 62,
     "metadata": {},
     "output_type": "execute_result"
    }
   ],
   "source": [
    "# Select 1 random value from given 3D array\n",
    "# As the dtype = object, it will return the random array list object\n",
    "\n",
    "aa2 = np.array(([[[5,9,7,2,56,64,8,96,88]],[[25,19,4,8,96,88]]]))\n",
    "aa12 = rng.choice(aa2, size = 1, replace = False)\n",
    "aa12"
   ]
  },
  {
   "cell_type": "code",
   "execution_count": 82,
   "id": "557faed5",
   "metadata": {},
   "outputs": [
    {
     "name": "stderr",
     "output_type": "stream",
     "text": [
      "C:\\Users\\Atharv Soni\\AppData\\Local\\Temp\\ipykernel_14808\\1679263372.py:4: VisibleDeprecationWarning: Creating an ndarray from ragged nested sequences (which is a list-or-tuple of lists-or-tuples-or ndarrays with different lengths or shapes) is deprecated. If you meant to do this, you must specify 'dtype=object' when creating the ndarray.\n",
      "  aa2 = np.array(([[[5,9,7,2,56,64,8,96,88]],[[25,19,4,8,96,88]]]))\n"
     ]
    },
    {
     "data": {
      "text/plain": [
       "array([[list([5, 9, 7, 2, 56, 64, 8, 96, 88])],\n",
       "       [list([25, 19, 4, 8, 96, 88])]], dtype=object)"
      ]
     },
     "execution_count": 82,
     "metadata": {},
     "output_type": "execute_result"
    }
   ],
   "source": [
    "# Select 1 random value from given 3D array\n",
    "\n",
    "aa2 = np.array(([[[5,9,7,2,56,64,8,96,88]],[[25,19,4,8,96,88]]]))\n",
    "aa12 = rng.choice(aa2, size = 1, axis= 1, replace = False)\n",
    "aa12"
   ]
  },
  {
   "cell_type": "markdown",
   "id": "6cba1cba",
   "metadata": {},
   "source": [
    "##### choose"
   ]
  },
  {
   "cell_type": "code",
   "execution_count": 86,
   "id": "bbe51b31",
   "metadata": {},
   "outputs": [
    {
     "name": "stdout",
     "output_type": "stream",
     "text": [
      "0\n"
     ]
    }
   ],
   "source": [
    "lst1 = [1,2,3,3,4,4,5,5,55,6,0]\n",
    "\n",
    "print(np.choose(int(np.random.randint(0,len(lst1),1)),lst1))"
   ]
  },
  {
   "cell_type": "code",
   "execution_count": 87,
   "id": "0a256051",
   "metadata": {},
   "outputs": [
    {
     "data": {
      "text/plain": [
       "6"
      ]
     },
     "execution_count": 87,
     "metadata": {},
     "output_type": "execute_result"
    }
   ],
   "source": [
    "int(np.random.randint(0,len(lst1),1))"
   ]
  },
  {
   "cell_type": "code",
   "execution_count": 97,
   "id": "38968b34",
   "metadata": {},
   "outputs": [
    {
     "data": {
      "text/plain": [
       "2"
      ]
     },
     "execution_count": 97,
     "metadata": {},
     "output_type": "execute_result"
    }
   ],
   "source": [
    "lst1 = [1,2,3,3,4,4,5,5,55,6,0]\n",
    "\n",
    "np.choose(1,lst1)"
   ]
  },
  {
   "cell_type": "code",
   "execution_count": 98,
   "id": "5f8db5f3",
   "metadata": {},
   "outputs": [
    {
     "data": {
      "text/plain": [
       "2"
      ]
     },
     "execution_count": 98,
     "metadata": {},
     "output_type": "execute_result"
    }
   ],
   "source": [
    "lst1 = [1,2,3,3,4,4,5,5,55,6,0]\n",
    "\n",
    "lst1[1]"
   ]
  },
  {
   "cell_type": "code",
   "execution_count": 99,
   "id": "b64b259c",
   "metadata": {},
   "outputs": [
    {
     "data": {
      "text/plain": [
       "[15, 25, 35, 53, 45, 45, 55, 55, 555, 68, 0]"
      ]
     },
     "execution_count": 99,
     "metadata": {},
     "output_type": "execute_result"
    }
   ],
   "source": [
    "ss = [15,25,35,53,45,45,55,55,555,68,0]\n",
    "ss"
   ]
  },
  {
   "cell_type": "code",
   "execution_count": 100,
   "id": "78560bfb",
   "metadata": {},
   "outputs": [
    {
     "data": {
      "text/plain": [
       "array([25, 55, 53])"
      ]
     },
     "execution_count": 100,
     "metadata": {},
     "output_type": "execute_result"
    }
   ],
   "source": [
    "np.choose([1,6,3],ss)"
   ]
  },
  {
   "cell_type": "code",
   "execution_count": 101,
   "id": "03c852e1",
   "metadata": {},
   "outputs": [
    {
     "data": {
      "text/plain": [
       "[[1, 2, 3, 4], [3, 3, 3, 3]]"
      ]
     },
     "execution_count": 101,
     "metadata": {},
     "output_type": "execute_result"
    }
   ],
   "source": [
    "sd = [[1,2,3,4], [3,3,3,3]]\n",
    "sd"
   ]
  },
  {
   "cell_type": "code",
   "execution_count": 102,
   "id": "f6e839fa",
   "metadata": {},
   "outputs": [
    {
     "data": {
      "text/plain": [
       "3"
      ]
     },
     "execution_count": 102,
     "metadata": {},
     "output_type": "execute_result"
    }
   ],
   "source": [
    "np.choose([0], sd)[2] "
   ]
  },
  {
   "cell_type": "code",
   "execution_count": 103,
   "id": "a64e3b0b",
   "metadata": {},
   "outputs": [
    {
     "data": {
      "text/plain": [
       "3"
      ]
     },
     "execution_count": 103,
     "metadata": {},
     "output_type": "execute_result"
    }
   ],
   "source": [
    "np.choose([1], sd)[1]"
   ]
  },
  {
   "cell_type": "code",
   "execution_count": 105,
   "id": "927b08fd",
   "metadata": {},
   "outputs": [
    {
     "data": {
      "text/plain": [
       "array([3, 3, 3, 3])"
      ]
     },
     "execution_count": 105,
     "metadata": {},
     "output_type": "execute_result"
    }
   ],
   "source": [
    "np.choose([[1][0]][0], sd)"
   ]
  },
  {
   "cell_type": "code",
   "execution_count": 106,
   "id": "288fc1a8",
   "metadata": {},
   "outputs": [
    {
     "data": {
      "text/plain": [
       "[[1, 2, 3, 4], [3, 9, 0, 2]]"
      ]
     },
     "execution_count": 106,
     "metadata": {},
     "output_type": "execute_result"
    }
   ],
   "source": [
    "sdd = [[1,2,3,4], [3,9,0,2]]\n",
    "sdd"
   ]
  },
  {
   "cell_type": "code",
   "execution_count": 124,
   "id": "1c329b8c",
   "metadata": {},
   "outputs": [
    {
     "data": {
      "text/plain": [
       "array([3, 9, 0, 2])"
      ]
     },
     "execution_count": 124,
     "metadata": {},
     "output_type": "execute_result"
    }
   ],
   "source": [
    "np.choose(1, sdd)"
   ]
  },
  {
   "cell_type": "code",
   "execution_count": 125,
   "id": "66d67cb6",
   "metadata": {},
   "outputs": [
    {
     "data": {
      "text/plain": [
       "array([1, 2, 3, 4])"
      ]
     },
     "execution_count": 125,
     "metadata": {},
     "output_type": "execute_result"
    }
   ],
   "source": [
    "np.choose(0, sdd)"
   ]
  },
  {
   "cell_type": "code",
   "execution_count": 141,
   "id": "2f272a36",
   "metadata": {},
   "outputs": [
    {
     "data": {
      "text/plain": [
       "array([1, 2, 3, 4])"
      ]
     },
     "execution_count": 141,
     "metadata": {},
     "output_type": "execute_result"
    }
   ],
   "source": [
    "np.choose([[0][0]][0], sdd)"
   ]
  },
  {
   "cell_type": "code",
   "execution_count": 135,
   "id": "468baea1",
   "metadata": {},
   "outputs": [
    {
     "data": {
      "text/plain": [
       "array(['2', '2', '22', '222'], dtype='<U11')"
      ]
     },
     "execution_count": 135,
     "metadata": {},
     "output_type": "execute_result"
    }
   ],
   "source": [
    "aas = np.array([[1, 2, 'palak', 4], [2,2,'22',222]])\n",
    "np.choose([1][0], aas)"
   ]
  },
  {
   "cell_type": "code",
   "execution_count": null,
   "id": "041491de",
   "metadata": {},
   "outputs": [],
   "source": [
    "aap = np.array([[1, 2, 'palak', 4], [2,2,4,'22',222]])\n",
    "np.choose([1][0], aap)"
   ]
  },
  {
   "cell_type": "markdown",
   "id": "0bcf8e4c",
   "metadata": {},
   "source": [
    "## Random Number 3\n",
    "\n",
    "### 3. Normal Distribution and More!\n",
    "\n",
    "**Normal distribution is also known as guassian distribution** <br>\n",
    "**In normal distribution:**\n",
    ">> 1. Mean, median, mode are same/close to each other"
   ]
  },
  {
   "cell_type": "code",
   "execution_count": 142,
   "id": "8560b620",
   "metadata": {},
   "outputs": [],
   "source": [
    "import matplotlib.pyplot as plt"
   ]
  },
  {
   "cell_type": "code",
   "execution_count": 143,
   "id": "47602216",
   "metadata": {},
   "outputs": [
    {
     "name": "stdout",
     "output_type": "stream",
     "text": [
      "[0.9662234  1.19926935 0.93961251 1.06353444 0.94136015 1.03207008\n",
      " 0.95571101 0.96069736 1.16236606 0.96629713]\n"
     ]
    }
   ],
   "source": [
    "# Create normaly distributed 10 random values with mean close to 1 and standard deviation 0.1\n",
    "\n",
    "h = rng.normal(1, 0.1, 10)\n",
    "print(h)"
   ]
  },
  {
   "cell_type": "code",
   "execution_count": 144,
   "id": "153415ba",
   "metadata": {
    "scrolled": true
   },
   "outputs": [
    {
     "name": "stdout",
     "output_type": "stream",
     "text": [
      "[1.17171376 0.92604724 0.95312042 1.11094438 0.75203373 0.83261451\n",
      " 1.00179706 1.04769026 1.05728744 0.96739683 0.85547119 1.08344402\n",
      " 1.04463434 0.88586464 1.00861598 1.18212475 1.01238431 0.87969442\n",
      " 0.95669555 0.96256143 1.03437748 1.09137046 0.90498189 0.93368804\n",
      " 1.10307128 1.07474182 1.13728425 0.85139525 0.90251353 1.10175713\n",
      " 0.90310466 1.03260296 0.99412712 0.92374594 1.14869347 0.9981536\n",
      " 0.94806224 0.98339382 1.02486836 0.83940029 0.91175577 0.86935784\n",
      " 0.78555985 1.09906379 1.14555468 1.12063019 0.81945372 1.04020504\n",
      " 1.06874603 0.9415957  1.08271788 0.88604807 0.89029122 0.91481346\n",
      " 0.92619982 0.89702189 1.09723243 0.8907313  0.95227954 0.93477213\n",
      " 1.22295341 0.90829501 1.04740528 1.18401369 0.8794041  0.91518353\n",
      " 0.96603432 0.86528414 1.12365289 0.9514431  1.10603376 1.05343854\n",
      " 1.00176239 1.09645665 0.9690078  1.10610696 0.86720184 0.92454888\n",
      " 1.12139318 0.78843256 1.04763185 0.95832984 0.94475847 0.9295007\n",
      " 1.12907609 0.8462099  1.0835183  1.04771535 0.95702393 0.99112632\n",
      " 1.07069849 0.94021675 0.8478362  1.02820182 0.91533262 0.95869203\n",
      " 1.00525009 1.07372576 1.18166663 1.03425548 1.01151249 1.08195065\n",
      " 1.02857617 0.83088129 0.93971601 0.87603218 1.06966144 1.12733765\n",
      " 1.03562086 0.89684611 1.08011627 0.90364435 1.02533283 0.88001363\n",
      " 0.86128821 0.85955567 1.00172812 0.93381505 1.04364288 0.87006593\n",
      " 1.04902552 0.9380769  1.12525856 1.10197375 0.97837418 1.01082807\n",
      " 1.02435995 1.04637569 0.97257731 1.10956479 0.94915506 0.80748652\n",
      " 1.02463602 0.98916084 1.0832419  1.05959964 1.01294859 1.01072864\n",
      " 1.01267162 0.93407282 0.87825579 0.91790795 0.99086762 0.77346375\n",
      " 0.95642789 0.90180561 0.99118261 0.91865561 1.00622899 0.97718449\n",
      " 1.12960767 0.96567547 0.97564696 1.00257462 0.81821145 0.89278195\n",
      " 1.14362383 1.05164967 1.00842797 1.10815392 0.9819756  0.9750848\n",
      " 0.96973344 0.82240738 1.0939084  0.9810822  0.99058915 0.96657741\n",
      " 0.93650351 0.77408983 1.01511346 1.21810168 1.09881648 0.97118316\n",
      " 0.90753066 1.00256869 1.03708999 0.9879678  1.08340533 0.9046848\n",
      " 1.10676765 1.01551269 0.94508215 0.97163353 1.03473395 1.07622991\n",
      " 1.00724433 1.05818812 1.24035252 0.83610986 0.79946429 1.00887373\n",
      " 0.90322425 1.01130263 0.83895842 1.01329196 1.13108679 1.11084767\n",
      " 0.89019998 0.96904526 1.08851676 1.18245413 0.90468915 0.91459472\n",
      " 1.1117639  0.96407746 0.89732714 1.10511686 0.83199604 0.93160407\n",
      " 1.09663375 0.93716722 1.07637353 0.87733384 1.07753653 1.04721037\n",
      " 1.1620671  0.97541184 0.96473517 0.99041744 1.10475644 0.92573236\n",
      " 0.98578703 1.19496413 1.07802746 1.07242828 0.94789081 1.08610454\n",
      " 0.88353418 0.85080441 0.90576083 1.14177315 1.01672802 0.90659337\n",
      " 0.96418169 1.04507769 1.11815529 0.8366563  1.13369808 1.09313615\n",
      " 0.93023854 0.96006633 1.04905327 0.97134513 1.01374472 0.89398932\n",
      " 0.81772155 1.24287443 1.01706196 1.02244525 1.05088025 1.13354791\n",
      " 1.09289298 0.89715926 0.98869882 1.00692205 1.07617779 0.93996128\n",
      " 1.03813557 1.02251456 1.13794692 0.73910769 1.00795872 1.03391896\n",
      " 1.06745678 0.999141   0.91713923 1.06693464 1.03687278 0.91589275\n",
      " 0.86388691 1.05577829 0.91326509 1.06498762 1.15158219 1.02060775\n",
      " 1.02287573 1.0125369  1.13859616 1.14029072 1.00842925 1.07424225\n",
      " 1.0044954  0.95030359 1.07681757 0.99112391 0.91500388 0.85019739\n",
      " 1.09921098 0.90361066 0.88894431 0.97364266 1.07394507 0.82726511\n",
      " 1.06367673 1.0391639  0.87841036 0.88607976 0.9825541  1.19338884\n",
      " 0.97492241 1.1086058  1.0943764  0.8412687  0.99986889 1.0987062\n",
      " 0.95029984 1.12220069 0.892254   0.85308384 0.95617402 1.06587869\n",
      " 0.96165599 1.09248399 0.84588683 0.94221231 1.13724477 0.75486481\n",
      " 1.03139447 0.91149782 0.92604218 0.96774732 0.85349168 1.09322273\n",
      " 1.05878079 1.12246758 1.01688893 0.9060073  1.06531031 0.8665536\n",
      " 0.90874817 1.21047011 1.10819431 1.04490788 1.14901242 0.97165559\n",
      " 1.05949132 0.91939888 0.9674519  1.00969782 1.15057581 0.93116277\n",
      " 1.10685592 1.00010388 0.82481863 0.80764629 0.93122304 1.10864775\n",
      " 1.02696021 1.18341996 1.01932121 1.14331491 1.02631467 0.90973586\n",
      " 1.07289311 0.92657077 0.85959995 0.925819   0.96213853 1.02633757\n",
      " 1.0867814  1.06248273 1.21124794 0.80484947 0.98338816 1.26119194\n",
      " 0.9702584  0.87534153 0.92594198 0.9043737  0.95229012 1.17562898\n",
      " 0.86160791 0.9321511  1.14442636 1.03188701 1.03522155 0.96429212\n",
      " 1.09680065 0.89995878 1.09836763 1.01459378 0.9834123  0.9485417\n",
      " 1.0978274  1.03631703 0.96304382 1.0143579  0.89708933 1.13103658\n",
      " 1.14145233 1.11664057 1.03194034 1.05426983 0.86658934 0.96625952\n",
      " 0.97867508 0.98993341 1.06664532 0.95917201 0.9292391  1.12398309\n",
      " 0.97202467 0.93878525 0.80098936 0.86621754 0.97982315 1.03007183\n",
      " 0.82407798 1.00082062 1.03531014 0.95174876 1.00785354 1.14327949\n",
      " 0.92709232 0.83229676 0.96398646 0.91348505 0.99688561 1.07150764\n",
      " 1.09078017 1.03390107 1.14203742 1.03791756 1.10446693 1.03676991\n",
      " 1.0291489  0.95085094 1.00176657 0.94398347 0.97178435 1.00871181\n",
      " 1.1169326  0.97577523 1.06352458 0.8774984  0.97255598 1.12890048\n",
      " 1.03594859 0.81962671 0.99823124 0.97664725 0.88254482 0.82533061\n",
      " 0.90598404 0.89430817 1.07262885 1.05903232 1.06527576 1.10933586\n",
      " 0.78324557 0.97368998 1.03526232 0.93427752 0.93845902 0.92131408\n",
      " 1.01795679 0.9954547  1.12425866 1.04047816 1.02247621 0.99903576\n",
      " 0.92272641 1.01365713 1.08370955 1.04847428 0.89491517 0.85038619\n",
      " 1.07136864 1.02056345 1.03070886 0.91607698 1.07622487 1.07432809\n",
      " 0.9765727  1.0595661  0.91066153 0.99372402 0.80196001 0.97372064\n",
      " 1.24821812 1.07310095 1.17493239 1.0613137  1.02780027 1.02634857\n",
      " 0.96455677 1.0777122  0.93167615 1.01000834 1.3319986  1.05585774\n",
      " 0.9582497  1.11244971 1.0493032  0.97961866 0.89446455 0.98956413\n",
      " 0.96170064 1.01092313 1.04415977 1.03471621 0.91187251 1.05774822\n",
      " 1.04645336 0.8583467  1.03798559 0.99659176 1.04275869 0.89482282\n",
      " 0.97145945 0.9794342  0.87923391 1.05426845 0.97275218 1.04154909\n",
      " 0.90198222 0.86213273 0.88617665 0.78344888 0.9245127  1.04187327\n",
      " 1.1485329  1.12113661 1.13605539 1.13557228 1.2211079  1.0245751\n",
      " 1.10077572 1.0712377  0.74423009 1.02181232 1.01169698 1.0446617\n",
      " 0.95345575 0.93059887 0.9532956  1.0797554  1.05222475 1.15592924\n",
      " 0.87620186 1.11969735 1.19880757 0.91200071 1.01249065 0.84145515\n",
      " 0.71872715 0.86278476 1.00499922 1.02265846 0.96032406 1.0660511\n",
      " 1.03628705 1.19428301 0.8542055  0.90881558 0.93831179 0.93237776\n",
      " 0.95014441 1.24449938 0.96188276 1.06649721 0.8522083  0.92667135\n",
      " 1.08731578 1.10229756 0.83233323 1.21692079 1.04360452 0.91995558\n",
      " 1.04844182 0.9332569  0.84860704 1.01943523 1.08627679 1.11160395\n",
      " 0.82616321 0.90037162 0.97938893 1.10972038 1.13623926 0.9577058\n",
      " 0.87284889 1.05886395 0.94954211 1.04424721 1.11004759 1.06412837\n",
      " 0.89432448 0.87080839 0.84249084 1.07805397 1.11865255 0.89080021\n",
      " 0.94280781 0.89969457 0.98309382 0.90806431 0.90763313 1.12884407\n",
      " 1.09343229 0.99982384 1.11595374 0.93346043 1.04477861 0.89709344\n",
      " 0.91660363 1.09710883 0.86827257 0.95052522 0.87090051 0.86199056\n",
      " 0.9936036  0.99850297 0.83284019 1.21737096 1.15018021 0.89467182\n",
      " 1.03250046 1.00543384 0.92254614 0.85333061 0.98985156 0.96959004\n",
      " 1.11402587 1.00515066 0.88263168 0.91662849 0.98629225 1.09007309\n",
      " 0.86634282 1.01576127 1.12569448 0.83786945 1.13789741 0.93224707\n",
      " 0.9844513  0.93465674 1.0291323  1.04305447 1.046485   1.28394658\n",
      " 0.73202279 0.93873937 0.85406196 0.96974663 0.91814923 0.9650227\n",
      " 0.98939867 0.93081187 1.08955804 0.83927072 0.93808867 0.99613765\n",
      " 1.13623917 0.85410293 0.86520067 1.04893781 1.00267311 0.84541543\n",
      " 1.11487847 1.02178663 0.96089047 0.96070845 1.00585987 0.95772833\n",
      " 1.0295278  1.03015002 0.88244858 0.83435773 1.16068079 0.94096846\n",
      " 1.17434017 1.01186737 0.72106839 1.02501807 0.90688351 0.7651691\n",
      " 0.99505682 0.8809432  0.97373171 1.1131375  1.07578384 1.00059676\n",
      " 1.00337254 1.00351243 0.92595081 0.89004854 0.94671251 1.00710312\n",
      " 0.90984909 0.96640617 0.99275886 0.8950077  1.09803878 1.12179502\n",
      " 1.00937952 0.89346665 0.79059546 0.73253406 1.1096626  1.01110629\n",
      " 0.9290734  0.83705008 0.971736   1.08531014 1.02181949 0.88299556\n",
      " 1.29914989 1.04406589 0.86024143 1.0295506  1.03163588 1.06533196\n",
      " 1.02818931 0.86370634 1.03037613 0.90842631 1.00508076 0.98669146\n",
      " 1.06066208 1.01568551 0.95874552 1.26376433 0.95847414 0.95571164\n",
      " 1.04001895 1.04327938 1.09441044 0.84488032 0.93608278 1.10668307\n",
      " 1.02128819 1.02308095 0.84732683 0.84591123 0.90782602 1.01563267\n",
      " 1.072635   1.0842303  0.7985806  0.98517646 0.99982117 0.9496339\n",
      " 0.95144579 0.88215877 0.95458026 0.74878249 1.12227426 1.01148661\n",
      " 1.14197003 0.90720107 0.81399948 1.17503045 0.76820353 0.86460767\n",
      " 1.06878566 1.13579738 0.92019357 0.96914847 0.96396385 1.04582849\n",
      " 0.89999409 1.05311889 1.08290628 0.98125754 1.00176418 1.22814697\n",
      " 1.02432641 0.9503563  1.10380204 1.11707251 0.92134556 0.89381461\n",
      " 1.1419188  1.11848792 1.12877215 1.16333679 0.87781732 0.8285033\n",
      " 1.09784475 1.09195963 1.01241935 1.07012037 0.91850913 0.8923222\n",
      " 0.98493017 1.03879859 1.05862288 0.98456172 1.05705214 1.11911177\n",
      " 1.04478812 0.94640598 1.16737959 0.87768431 1.01658731 1.18903406\n",
      " 1.2449313  1.15966064 0.95298857 0.81767858 0.94848404 0.9921999\n",
      " 1.00966778 0.89533087 0.94514398 1.02049646 1.00500913 1.12932408\n",
      " 1.05702458 1.05915041 0.94519059 1.00725365 0.80346231 0.95817465\n",
      " 0.83912132 1.01401938 1.05496751 1.01209765 1.15257834 0.93140119\n",
      " 0.98984244 0.94370169 0.96710581 1.13246834 0.86055452 1.16567862\n",
      " 1.13637925 1.05898391 0.96455059 1.02397709 0.95959107 1.14762288\n",
      " 0.88638974 0.90158684 1.00359001 0.74819698 1.14738301 0.96741009\n",
      " 1.07600649 1.01755389 0.82248034 1.00420186 1.04212715 0.88015904\n",
      " 0.89798311 0.8935148  1.07778617 0.87333464 0.90793663 0.99082167\n",
      " 1.01146887 0.93855397 1.15645832 1.16114945 0.87177228 1.17972689\n",
      " 1.04577756 1.06572163 1.07753994 0.85980468 0.87134349 1.04703456\n",
      " 0.92602098 1.27705111 0.95370444 1.09357958 0.90090516 1.21611033\n",
      " 1.18795486 0.84828221 1.03506611 1.00848823 1.15533004 0.7563642\n",
      " 0.96586797 1.08683209 0.96068424 0.92948031 0.84508153 1.02886748\n",
      " 0.97036222 0.84350972 1.00421123 0.91793545 1.01807808 1.0637572\n",
      " 1.10121957 1.02661438 0.88806146 0.96894674 0.95291464 1.09416223\n",
      " 0.91909066 1.14510954 0.98764688 1.05844704 0.94548567 1.11559252\n",
      " 0.9311708  1.15769312 1.03458892 1.07175448 1.04979656 0.91042277\n",
      " 1.13416735 0.83590456 1.00226264 1.07199212 1.09649122 0.92773621\n",
      " 0.94236431 0.96870223 0.88852029 0.96616068 0.89998818 1.03931279\n",
      " 0.97025053 0.90765416 0.9144855  1.0044074  0.90644402 0.84913953\n",
      " 0.87840976 1.01243439 0.80743005 0.99776077 1.07222612 0.92543337\n",
      " 0.95723283 0.83775537 0.88811432 0.92931176 1.02096193 0.94773085\n",
      " 0.87276054 0.93159067 0.8638343  1.16148454 0.92306723 1.14147084\n",
      " 0.82662544 0.88916907 1.1327464  0.95987325 1.20451711 1.07141016\n",
      " 1.12980886 0.83218909 1.00890921 0.95493089 1.15231186 0.94467829\n",
      " 0.99117808 0.90761465 0.82157922 1.04881962 0.95100969 1.02174293\n",
      " 0.88709227 0.97932192 0.89900582 0.93222542 1.00086876 0.92971653\n",
      " 1.03999858 0.86698941 0.94192806 1.11628855 0.90974325 0.80326975\n",
      " 1.10971852 0.96903367 0.87892697 0.86534607 1.03936139 0.86684392\n",
      " 0.80992492 1.04557517 1.00507075 1.04247602 0.92684893 1.02218655\n",
      " 0.88391293 0.94560118 1.00111539 1.00866095 1.09708457 1.06668552\n",
      " 0.89627068 0.93328721 1.06433669 1.12317571 1.04659005 0.95681343\n",
      " 1.02279285 1.11613181 1.13685894 0.94345937]\n"
     ]
    }
   ],
   "source": [
    "# Create normaly distributed 1000 random values with mean close to 1 and standard deviation 0.1\n",
    "\n",
    "h = rng.normal(1, 0.1, 1000)\n",
    "print(h)"
   ]
  },
  {
   "cell_type": "code",
   "execution_count": 145,
   "id": "6ad80654",
   "metadata": {},
   "outputs": [
    {
     "data": {
      "image/png": "[encoded data removed]",
      "text/plain": [
       "<Figure size 640x480 with 1 Axes>"
      ]
     },
     "metadata": {},
     "output_type": "display_data"
    }
   ],
   "source": [
    "# Plot the data of h variable on the histogram\n",
    "\n",
    "plt.hist(h);"
   ]
  },
  {
   "cell_type": "code",
   "execution_count": 146,
   "id": "a90251da",
   "metadata": {},
   "outputs": [],
   "source": [
    "from collections import Counter"
   ]
  },
  {
   "cell_type": "code",
   "execution_count": 147,
   "id": "dc14eeb9",
   "metadata": {},
   "outputs": [
    {
     "name": "stdout",
     "output_type": "stream",
     "text": [
      "0.9931099853428316\n",
      "0.9963647019697817\n",
      "dict_keys([1.1717137602600713, 0.9260472414062566, 0.9531204168943473, 1.1109443794468719, 0.7520337269870938, 0.8326145138875167, 1.0017970567538417, 1.0476902561234123, 1.0572874447652, 0.9673968286725034, 0.8554711948669815, 1.0834440225518311, 1.044634342391683, 0.8858646362433013, 1.0086159770010024, 1.1821247493665072, 1.0123843113819924, 0.8796944164520095, 0.9566955484860085, 0.9625614302642774, 1.0343774784536144, 1.0913704552595322, 0.9049818885212416, 0.9336880449651992, 1.1030712840866725, 1.0747418235922703, 1.1372842472022908, 0.8513952530276148, 0.9025135329964753, 1.1017571266997084, 0.9031046593469587, 1.0326029579502098, 0.9941271198425645, 0.9237459398270356, 1.148693465173085, 0.9981536028744405, 0.9480622388876025, 0.983393818849659, 1.0248683563451682, 0.839400294510129, 0.9117557682356372, 0.8693578438988194, 0.785559852487866, 1.0990637910486802, 1.1455546841337667, 1.1206301853624445, 0.8194537219579575, 1.0402050377462697, 1.068746031493814, 0.9415956998145532, 1.0827178802893362, 0.886048065876461, 0.8902912204400745, 0.914813461881045, 0.9261998228460264, 0.8970218924198671, 1.097232432984382, 0.8907313007369436, 0.9522795435760736, 0.9347721275736235, 1.2229534055292335, 0.9082950071855327, 1.0474052840493306, 1.1840136879060827, 0.8794041043024469, 0.9151835297327208, 0.9660343202255871, 0.8652841352664274, 1.1236528907864285, 0.9514431039584998, 1.1060337563585927, 1.053438540648889, 1.0017623935009778, 1.0964566542311174, 0.9690078020081875, 1.1061069593766824, 0.8672018421877995, 0.924548882031873, 1.1213931795103493, 0.7884325596207351, 1.0476318533847206, 0.958329844291219, 0.944758469918018, 0.9295007040140034, 1.129076092743581, 0.846209903358619, 1.0835183004498132, 1.0477153534844532, 0.9570239283097366, 0.9911263187406505, 1.0706984907254002, 0.9402167496411884, 0.8478362030351557, 1.0282018194898357, 0.9153326207295461, 0.9586920258110683, 1.0052500918683702, 1.0737257618584661, 1.1816666266235274, 1.034255484430089, 1.0115124858886775, 1.0819506535566985, 1.0285761667551792, 0.8308812931578594, 0.9397160131441936, 0.8760321840370294, 1.0696614401340727, 1.1273376495479945, 1.0356208567421843, 0.8968461071206166, 1.0801162650432183, 0.9036443544302246, 1.0253328295438056, 0.8800136335363931, 0.8612882144307614, 0.8595556662879416, 1.0017281189226606, 0.9338150525185169, 1.0436428777538131, 0.8700659253921013, 1.0490255181104016, 0.9380768974893501, 1.1252585558421646, 1.1019737529928015, 0.9783741771240109, 1.010828074864108, 1.024359953875066, 1.0463756854566773, 0.9725773113409019, 1.1095647855704023, 0.9491550575175656, 0.8074865168245794, 1.0246360205207128, 0.9891608366847335, 1.0832418999812619, 1.0595996436714092, 1.012948589152872, 1.0107286393121588, 1.012671618330705, 0.9340728220112243, 0.8782557913116829, 0.9179079535880585, 0.9908676184551707, 0.7734637500761394, 0.9564278868504916, 0.9018056143903646, 0.991182612439913, 0.9186556089237525, 1.0062289939653688, 0.9771844942918431, 1.1296076666464763, 0.965675471721777, 0.9756469594121339, 1.0025746167320007, 0.8182114455595384, 0.8927819524276687, 1.143623825638909, 1.0516496656860717, 1.0084279746353155, 1.1081539182121714, 0.9819755965270723, 0.9750848015159997, 0.9697334417602854, 0.8224073759944976, 1.0939084003372752, 0.9810822046126703, 0.990589154357962, 0.9665774078789315, 0.9365035089619237, 0.774089834961132, 1.0151134555647314, 1.218101681274427, 1.0988164790637478, 0.9711831621193835, 0.9075306588324721, 1.0025686867729748, 1.0370899905380264, 0.9879678048973064, 1.0834053316409655, 0.9046847956703697, 1.1067676535237283, 1.015512685136011, 0.9450821508441904, 0.9716335286253288, 1.0347339483233045, 1.076229908820299, 1.0072443343904105, 1.0581881236606463, 1.2403525233175843, 0.8361098553820939, 0.7994642858166835, 1.008873729362989, 0.903224247618764, 1.0113026297627812, 0.8389584163047022, 1.0132919600207622, 1.1310867899029948, 1.1108476674983288, 0.8901999762355346, 0.9690452576706764, 1.0885167616296225, 1.182454133543238, 0.9046891535547616, 0.9145947237185914, 1.111763899347254, 0.9640774599773533, 0.8973271351187343, 1.1051168587750417, 0.8319960449802867, 0.9316040726249586, 1.0966337490799645, 0.9371672188083277, 1.0763735264582555, 0.8773338352853357, 1.0775365293553762, 1.0472103726792532, 1.1620670952699608, 0.9754118391219629, 0.964735170716494, 0.9904174357900714, 1.1047564373732022, 0.9257323602478095, 0.985787034035658, 1.1949641300684506, 1.0780274587830179, 1.0724282774988354, 0.9478908054897772, 1.0861045354412533, 0.8835341787083288, 0.8508044068044124, 0.9057608281598826, 1.1417731526575838, 1.0167280232229385, 0.9065933701186689, 0.9641816867028483, 1.0450776902088146, 1.1181552885428678, 0.8366562994373015, 1.1336980789272506, 1.0931361495156002, 0.930238542815666, 0.9600663335849372, 1.0490532741821101, 0.971345127855507, 1.0137447159187514, 0.893989317052003, 0.817721548333936, 1.242874433361331, 1.0170619639639127, 1.0224452493029255, 1.0508802455154074, 1.1335479124935324, 1.0928929827219995, 0.8971592568510284, 0.9886988224793456, 1.0069220493978543, 1.076177787576727, 0.939961283375123, 1.0381355687747722, 1.0225145636518784, 1.1379469226918009, 0.7391076919488035, 1.0079587201182063, 1.0339189584106496, 1.067456779485836, 0.9991410001691091, 0.9171392332445638, 1.0669346443671757, 1.0368727796802018, 0.9158927493141662, 0.8638869146279129, 1.0557782913550007, 0.9132650910267895, 1.0649876202153403, 1.1515821925919323, 1.0206077510236233, 1.022875730323597, 1.012536902091334, 1.1385961646045522, 1.1402907166889662, 1.008429252508822, 1.074242247332866, 1.0044953976290996, 0.9503035890849977, 1.076817574458236, 0.9911239106708744, 0.9150038812929164, 0.8501973896894283, 1.0992109828757999, 0.9036106566013831, 0.888944306593513, 0.9736426568575811, 1.0739450695836734, 0.827265109295928, 1.0636767305676018, 1.039163897341138, 0.8784103594183496, 0.8860797568431382, 0.9825540999230702, 1.1933888418485978, 0.9749224105880023, 1.108605802883087, 1.094376401306171, 0.8412686966932384, 0.9998688906410027, 1.0987061968013894, 0.9502998448789516, 1.122200686276273, 0.8922540020722143, 0.8530838389009516, 0.9561740188150112, 1.0658786933094297, 0.9616559918607802, 1.0924839895821707, 0.8458868311422034, 0.9422123052305588, 1.1372447673512156, 0.7548648108304497, 1.0313944722726434, 0.9114978235462704, 0.9260421756351483, 0.9677473220550581, 0.8534916799150232, 1.0932227339820142, 1.0587807899400965, 1.122467584146806, 1.0168889319293577, 0.9060072963711077, 1.065310313814776, 0.8665535970019569, 0.9087481660637811, 1.2104701102909434, 1.1081943054043033, 1.044907878170267, 1.1490124178509409, 0.9716555923452371, 1.059491319292535, 0.9193988816822234, 0.9674519035071159, 1.0096978153560552, 1.1505758067054113, 0.9311627721566493, 1.1068559231528527, 1.0001038819095467, 0.8248186342746325, 0.8076462917962663, 0.9312230383174387, 1.108647754175026, 1.026960212395096, 1.1834199588310383, 1.0193212052921687, 1.1433149058955983, 1.0263146684695448, 0.9097358595145413, 1.072893111094838, 0.9265707664566913, 0.8595999457390097, 0.92581899745282, 0.9621385331087224, 1.0263375659805467, 1.0867813984378558, 1.0624827268657289, 1.2112479377446017, 0.804849469870491, 0.9833881613508976, 1.2611919428238665, 0.9702583976599305, 0.8753415283181639, 0.9259419772367162, 0.9043737047300597, 0.9522901211342475, 1.1756289827816597, 0.8616079062819035, 0.9321510955098786, 1.1444263640526107, 1.0318870105710152, 1.0352215511204996, 0.9642921208983619, 1.096800654751871, 0.8999587838950541, 1.0983676276619747, 1.014593777506761, 0.9834122999495184, 0.9485416950226471, 1.097827395088608, 1.0363170310032022, 0.9630438225309602, 1.0143578978301084, 0.8970893311634356, 1.131036577766952, 1.1414523340308844, 1.11664057348518, 1.031940338384482, 1.0542698265689465, 0.8665893367606698, 0.9662595161135544, 0.9786750799749866, 0.9899334147878289, 1.0666453232652546, 0.9591720065116102, 0.9292391027470654, 1.1239830948123415, 0.9720246669084341, 0.9387852469597443, 0.8009893594262656, 0.8662175443946951, 0.9798231523215238, 1.03007183177315, 0.8240779784579667, 1.0008206155301989, 1.035310135520015, 0.9517487587870068, 1.0078535362398169, 1.1432794918974158, 0.9270923158319052, 0.8322967588217001, 0.9639864596194643, 0.9134850477967446, 0.9968856097808442, 1.0715076394495073, 1.0907801654648832, 1.0339010706236598, 1.1420374238825042, 1.0379175618086218, 1.1044669316803146, 1.0367699133288388, 1.0291489014165542, 0.9508509427238724, 1.0017665711357122, 0.94398346743441, 0.9717843508374298, 1.0087118135890387, 1.1169325977419111, 0.9757752299297072, 1.0635245765994374, 0.8774983950258977, 0.9725559780622391, 1.1289004819677, 1.0359485942832916, 0.81962671063523, 0.9982312365641449, 0.9766472452515564, 0.8825448193392194, 0.8253306139498028, 0.905984039459984, 0.8943081691325035, 1.072628845093722, 1.0590323165454938, 1.0652757618472342, 1.109335859764395, 0.7832455713226693, 0.9736899770435749, 1.0352623185263414, 0.9342775203867197, 0.9384590188259023, 0.9213140789382815, 1.0179567910688818, 0.9954546976024786, 1.1242586561226053, 1.040478160253981, 1.0224762127475826, 0.9990357584345424, 0.9227264070189585, 1.01365712819886, 1.083709554636765, 1.0484742823265718, 0.894915174355313, 0.8503861851503702, 1.0713686392640362, 1.0205634514403232, 1.0307088552026915, 0.9160769825948102, 1.0762248690446445, 1.0743280894380696, 0.9765726953047408, 1.0595661023887004, 0.9106615282338352, 0.9937240198951438, 0.8019600065897857, 0.9737206350088485, 1.2482181156222223, 1.0731009470675048, 1.174932385685484, 1.0613136970449983, 1.027800272968274, 1.026348568505214, 0.9645567728803954, 1.077712195940986, 0.9316761502852229, 1.0100083356728284, 1.3319986022243258, 1.0558577380462253, 0.9582497043340517, 1.1124497072324062, 1.0493032003385656, 0.9796186633928464, 0.894464548593695, 0.989564125263788, 0.9617006426445546, 1.0109231265516505, 1.044159772280728, 1.0347162073163456, 0.9118725121867453, 1.0577482209600384, 1.046453358263148, 0.8583466976417858, 1.0379855922656511, 0.996591755623055, 1.042758690295664, 0.8948228172925337, 0.9714594523315191, 0.9794342047650558, 0.8792339119477238, 1.0542684519607437, 0.9727521811330921, 1.0415490868164121, 0.9019822249790312, 0.8621327295288125, 0.8861766485341273, 0.7834488768359563, 0.9245127017356624, 1.0418732744921484, 1.1485328987033514, 1.121136610931735, 1.1360553930018262, 1.135572275981342, 1.2211078979779908, 1.0245750975074586, 1.1007757159554972, 1.071237698719274, 0.7442300932636838, 1.021812323391696, 1.0116969816716854, 1.0446617012525155, 0.9534557485809412, 0.9305988712922818, 0.9532955952036603, 1.0797553990963524, 1.0522247519574117, 1.1559292384852244, 0.8762018584914395, 1.1196973483461123, 1.1988075719978213, 0.9120007063147899, 1.0124906514316387, 0.8414551497272609, 0.7187271541499257, 0.8627847578927811, 1.004999219424759, 1.0226584551641869, 0.9603240590631833, 1.0660511029760096, 1.036287054148685, 1.1942830139563503, 0.8542055041484619, 0.9088155812228181, 0.9383117920384888, 0.9323777569734024, 0.95014441254577, 1.2444993777188245, 0.9618827598125989, 1.0664972133607489, 0.8522083005632557, 0.9266713544385023, 1.0873157830999878, 1.1022975620401083, 0.8323332295310666, 1.2169207901038928, 1.0436045190553598, 0.9199555786855931, 1.048441816591912, 0.9332568973052022, 0.8486070361507109, 1.019435227392061, 1.0862767919675769, 1.1116039525355432, 0.8261632113729745, 0.9003716247552839, 0.9793889336620211, 1.1097203820004164, 1.136239257683819, 0.9577058005589871, 0.8728488867477227, 1.0588639490388618, 0.949542109194784, 1.0442472056476242, 1.1100475940775283, 1.0641283701025064, 0.8943244793474024, 0.8708083856839827, 0.842490835080745, 1.0780539747455617, 1.1186525470027124, 0.8908002121935834, 0.9428078077352546, 0.8996945658417271, 0.9830938184167141, 0.9080643148837888, 0.9076331325669749, 1.1288440690081418, 1.0934322866545265, 0.9998238448328914, 1.1159537404979858, 0.9334604308651655, 1.0447786109783728, 0.8970934406179938, 0.9166036331170558, 1.097108826788483, 0.8682725724926562, 0.9505252150028852, 0.870900507038672, 0.8619905591135768, 0.993603597051319, 0.998502971091371, 0.8328401863771737, 1.2173709572604727, 1.1501802071028355, 0.8946718152549824, 1.0325004572458283, 1.0054338376378502, 0.922546140293985, 0.8533306082395932, 0.989851557001129, 0.9695900449855559, 1.1140258715917553, 1.0051506586828236, 0.8826316800817151, 0.9166284924142231, 0.9862922507570605, 1.090073091064398, 0.8663428162559198, 1.0157612705706858, 1.1256944762477015, 0.8378694509622722, 1.1378974095361412, 0.9322470651188803, 0.9844513012895467, 0.9346567390048358, 1.0291323016860534, 1.0430544678000175, 1.0464850021941576, 1.2839465811241495, 0.7320227944034636, 0.9387393741221489, 0.8540619596166038, 0.9697466331174792, 0.918149231969036, 0.9650226996944004, 0.989398665274529, 0.9308118716506036, 1.0895580361840882, 0.8392707174398656, 0.9380886659925392, 0.9961376483165083, 1.1362391730718049, 0.8541029284608666, 0.8652006681590586, 1.048937809037901, 1.0026731070655641, 0.8454154256480528, 1.1148784700347332, 1.0217866265313422, 0.9608904657810428, 0.9607084493594558, 1.0058598690440896, 0.9577283298066381, 1.0295277995879817, 1.0301500202322278, 0.8824485830284631, 0.8343577336915365, 1.1606807945974027, 0.9409684626411984, 1.1743401749725906, 1.011867369731379, 0.7210683876967843, 1.0250180669404971, 0.906883510113861, 0.7651691040279063, 0.995056815902277, 0.8809432039447748, 0.9737317057205455, 1.1131375031202777, 1.075783839405522, 1.0005967550324264, 1.0033725406942429, 1.0035124335738121, 0.9259508079157821, 0.8900485385597305, 0.9467125120007431, 1.0071031173035185, 0.9098490875283092, 0.9664061678238133, 0.9927588598001142, 0.8950076975482433, 1.0980387841262524, 1.1217950218196129, 1.0093795206918532, 0.8934666521288327, 0.7905954564255562, 0.7325340587945308, 1.1096626032432724, 1.0111062855125452, 0.9290734034022827, 0.8370500827858378, 0.9717360017791636, 1.0853101412301835, 1.0218194907661173, 0.8829955611947489, 1.299149886677481, 1.0440658892506578, 0.8602414263102315, 1.0295505990877563, 1.0316358832101298, 1.0653319638798346, 1.028189308672246, 0.8637063371669778, 1.030376130357579, 0.9084263114005726, 1.0050807582170453, 0.9866914554826434, 1.0606620810265788, 1.0156855054470353, 0.9587455183211557, 1.2637643314976685, 0.9584741446317886, 0.9557116422370241, 1.0400189492847782, 1.0432793802694948, 1.0944104434065314, 0.8448803186253296, 0.9360827781355068, 1.106683068194191, 1.021288186844549, 1.0230809500969231, 0.8473268255240212, 0.8459112310537908, 0.9078260154677172, 1.015632673943734, 1.0726350046560718, 1.0842303021823883, 0.7985805982669724, 0.985176463951699, 0.9998211660682702, 0.9496339043435094, 0.9514457859258891, 0.8821587662411643, 0.9545802639920268, 0.74878248727519, 1.1222742595484094, 1.011486607124627, 1.1419700332093177, 0.9072010720073377, 0.8139994787897316, 1.1750304506322349, 0.7682035262727459, 0.864607665451242, 1.0687856603853538, 1.1357973771348175, 0.9201935669716205, 0.9691484720771535, 0.9639638486671105, 1.0458284884633302, 0.8999940919930811, 1.0531188936724745, 1.0829062848427222, 0.9812575406466891, 1.0017641786989004, 1.2281469741632627, 1.0243264132348542, 0.9503563049798764, 1.103802042740794, 1.117072507303121, 0.9213455598843543, 0.893814612623361, 1.1419188024019749, 1.118487918396983, 1.128772148959395, 1.1633367895801887, 0.8778173246567272, 0.8285033048749917, 1.0978447535026457, 1.0919596299596699, 1.0124193518403228, 1.0701203733766225, 0.918509130208995, 0.8923221975296286, 0.9849301691800214, 1.038798588976422, 1.058622879514182, 0.9845617231435322, 1.0570521433420683, 1.1191117667305912, 1.0447881210995944, 0.9464059835338067, 1.1673795945038121, 0.8776843061800546, 1.016587305314589, 1.189034064162605, 1.2449312993576074, 1.1596606383082224, 0.9529885711203716, 0.8176785829156015, 0.9484840439271515, 0.9921998986416538, 1.009667780638582, 0.8953308670410797, 0.9451439826291694, 1.0204964584222729, 1.0050091271868815, 1.1293240764371644, 1.0570245763647315, 1.059150410482054, 0.9451905852553437, 1.007253653789872, 0.8034623144879611, 0.9581746468272918, 0.8391213206121422, 1.0140193800490076, 1.0549675101056817, 1.0120976525306904, 1.152578340510814, 0.9314011891959716, 0.9898424410642996, 0.9437016893249929, 0.9671058063788569, 1.132468336725941, 0.8605545169715579, 1.165678615128366, 1.1363792495084977, 1.0589839109077097, 0.964550587553454, 1.0239770880359018, 0.9595910687524909, 1.1476228803172666, 0.8863897420028237, 0.9015868358655541, 1.003590014460284, 0.7481969804055835, 1.1473830059420296, 0.9674100934285983, 1.0760064887530867, 1.0175538897963485, 0.8224803361055407, 1.0042018600479174, 1.0421271530999736, 0.8801590354150011, 0.8979831120224315, 0.8935147951205904, 1.0777861682450613, 0.8733346375488462, 0.9079366346394073, 0.9908216746229928, 1.0114688650259032, 0.9385539679889497, 1.1564583219349507, 1.1611494481209235, 0.8717722765935256, 1.179726888537004, 1.0457775553917377, 1.0657216310150353, 1.0775399416963558, 0.8598046841353149, 0.8713434875649663, 1.047034556795272, 0.9260209818827319, 1.2770511055475877, 0.953704444771111, 1.093579583884555, 0.9009051569975972, 1.2161103338646435, 1.1879548571169662, 0.8482822142233019, 1.035066113925083, 1.0084882283137326, 1.155330037904119, 0.756364195881436, 0.9658679691812914, 1.0868320857316998, 0.96068423938619, 0.9294803105888498, 0.8450815299719648, 1.0288674832994162, 0.9703622168849032, 0.8435097177001204, 1.0042112259004132, 0.9179354489934917, 1.018078076869516, 1.0637571982555494, 1.101219568035928, 1.0266143779564656, 0.888061457399816, 0.9689467395249638, 0.9529146383604954, 1.0941622338962411, 0.9190906612610299, 1.1451095400455213, 0.9876468813912915, 1.0584470355762263, 0.9454856668503727, 1.1155925215167477, 0.9311708040695504, 1.157693120246266, 1.0345889191367044, 1.0717544836593895, 1.0497965626921268, 0.9104227685746566, 1.1341673516488013, 0.8359045576758062, 1.0022626408333626, 1.071992117008145, 1.0964912209613842, 0.9277362094027412, 0.9423643144288691, 0.9687022272852366, 0.888520288836812, 0.966160677865309, 0.8999881805080664, 1.039312794456314, 0.9702505321958589, 0.9076541590681708, 0.9144854988289391, 1.0044074019569582, 0.9064440238264728, 0.8491395263201422, 0.8784097649001741, 1.0124343890786052, 0.807430049621773, 0.9977607743159445, 1.072226124909598, 0.9254333653207428, 0.957232828776312, 0.8377553738560658, 0.8881143240864624, 0.9293117566570369, 1.020961931683584, 0.947730849336603, 0.8727605409867643, 0.9315906736061688, 0.8638343006423544, 1.1614845409433072, 0.9230672260470677, 1.1414708403356002, 0.8266254400494967, 0.8891690730064019, 1.1327464035001464, 0.9598732546880163, 1.2045171060941027, 1.0714101575623773, 1.1298088614858899, 0.8321890857647934, 1.0089092132712114, 0.9549308874216766, 1.1523118638639054, 0.9446782868659215, 0.9911780755995024, 0.9076146546587779, 0.8215792169238477, 1.048819622326276, 0.9510096887227313, 1.0217429342713884, 0.8870922665333629, 0.9793219217854477, 0.8990058219413538, 0.9322254177709525, 1.0008687600991728, 0.9297165312122454, 1.0399985820738848, 0.8669894066898731, 0.9419280579472211, 1.1162885456674008, 0.9097432536563985, 0.8032697490196168, 1.1097185163068948, 0.9690336667349765, 0.8789269687393158, 0.8653460663598745, 1.0393613935058037, 0.8668439234197034, 0.8099249205248673, 1.0455751727464777, 1.005070751537538, 1.0424760201242855, 0.9268489298869798, 1.0221865502566303, 0.8839129278649338, 0.9456011785938924, 1.0011153914540538, 1.008660950226087, 1.0970845717891407, 1.06668552050625, 0.8962706797610384, 0.9332872051761227, 1.064336688909406, 1.1231757133862132, 1.0465900488941293, 0.9568134269209968, 1.0227928456025674, 1.1161318127962092, 1.136858943299663, 0.9434593670288346])\n"
     ]
    }
   ],
   "source": [
    "# Mean and median of variable named h\n",
    "\n",
    "print(np.mean(h))\n",
    "print(np.median(h))\n",
    "print(dict(Counter(h)).keys())"
   ]
  },
  {
   "cell_type": "code",
   "execution_count": 148,
   "id": "3ba97471",
   "metadata": {},
   "outputs": [
    {
     "data": {
      "text/plain": [
       "Text(0.5, 1.0, 'Normal Distribution')"
      ]
     },
     "execution_count": 148,
     "metadata": {},
     "output_type": "execute_result"
    },
    {
     "data": {
      "image/png": "[encoded data removed]",
      "text/plain": [
       "<Figure size 640x480 with 1 Axes>"
      ]
     },
     "metadata": {},
     "output_type": "display_data"
    }
   ],
   "source": [
    "# Create histogram by using bins and also mention the x,y lables and title\n",
    "    \n",
    "plt.hist(h, bins = 10)\n",
    "plt.xlabel(\"Random Range\")\n",
    "plt.ylabel(\"250\")\n",
    "plt.title(\"Normal Distribution\")"
   ]
  },
  {
   "cell_type": "code",
   "execution_count": 149,
   "id": "01317806",
   "metadata": {
    "scrolled": true
   },
   "outputs": [
    {
     "name": "stdout",
     "output_type": "stream",
     "text": [
      "0.03256067528752005\n"
     ]
    }
   ],
   "source": [
    "# Create normaly distributed random values with mean close to 1\n",
    "\n",
    "h = rng.normal(1)\n",
    "print(h)"
   ]
  },
  {
   "cell_type": "code",
   "execution_count": 150,
   "id": "fbfb10fe",
   "metadata": {},
   "outputs": [
    {
     "data": {
      "text/plain": [
       "[1.08344402,\n",
       " 1.04463434,\n",
       " 0.88586464,\n",
       " 1.00861598,\n",
       " 1.18212475,\n",
       " 1.01238431,\n",
       " 0.87969442,\n",
       " 0.95669555,\n",
       " 0.96256143,\n",
       " 1.03437748,\n",
       " 1.09137046,\n",
       " 0.90498189,\n",
       " 0.93368804,\n",
       " 1.10307128,\n",
       " 1.07474182,\n",
       " 1.13728425,\n",
       " 0.85139525,\n",
       " 0.90251353,\n",
       " 1.10175713,\n",
       " 0.90310466]"
      ]
     },
     "execution_count": 150,
     "metadata": {},
     "output_type": "execute_result"
    }
   ],
   "source": [
    "py = [float(x) for x in '1.08344402 1.04463434 0.88586464 1.00861598 1.18212475 1.01238431\\\n",
    " 0.87969442 0.95669555 0.96256143 1.03437748 1.09137046 0.90498189\\\n",
    " 0.93368804 1.10307128 1.07474182 1.13728425 0.85139525 0.90251353\\\n",
    " 1.10175713 0.90310466'.split(' ')]\n",
    "py"
   ]
  },
  {
   "cell_type": "code",
   "execution_count": 152,
   "id": "2978d9b4",
   "metadata": {},
   "outputs": [
    {
     "data": {
      "text/plain": [
       "(array([2., 4., 1., 2., 2., 2., 1., 4., 1., 1.]),\n",
       " array([0.85139525, 0.8844682 , 0.91754115, 0.9506141 , 0.98368705,\n",
       "        1.01676   , 1.04983295, 1.0829059 , 1.11597885, 1.1490518 ,\n",
       "        1.18212475]),\n",
       " <BarContainer object of 10 artists>)"
      ]
     },
     "execution_count": 152,
     "metadata": {},
     "output_type": "execute_result"
    },
    {
     "data": {
      "image/png": "[encoded data removed]",
      "text/plain": [
       "<Figure size 640x480 with 1 Axes>"
      ]
     },
     "metadata": {},
     "output_type": "display_data"
    }
   ],
   "source": [
    "# Plot the data of py variable on the histogram\n",
    "\n",
    "plt.hist(py)"
   ]
  },
  {
   "cell_type": "code",
   "execution_count": 153,
   "id": "e27e1cf8",
   "metadata": {
    "scrolled": true
   },
   "outputs": [
    {
     "name": "stdout",
     "output_type": "stream",
     "text": [
      "1.0062652805072265\n"
     ]
    }
   ],
   "source": [
    "h = rng.normal(1, 0.1)\n",
    "print(h)"
   ]
  },
  {
   "cell_type": "code",
   "execution_count": 154,
   "id": "df6f2205",
   "metadata": {
    "scrolled": true
   },
   "outputs": [
    {
     "name": "stdout",
     "output_type": "stream",
     "text": [
      "0.3968001357668359\n"
     ]
    }
   ],
   "source": [
    "h = rng.normal(1,)\n",
    "print(h)"
   ]
  },
  {
   "cell_type": "code",
   "execution_count": 155,
   "id": "5b83f538",
   "metadata": {
    "scrolled": true
   },
   "outputs": [
    {
     "name": "stdout",
     "output_type": "stream",
     "text": [
      "1.0097639604316013\n"
     ]
    }
   ],
   "source": [
    "h = rng.normal(1)\n",
    "print(h)"
   ]
  },
  {
   "cell_type": "code",
   "execution_count": 156,
   "id": "17c3e398",
   "metadata": {},
   "outputs": [
    {
     "data": {
      "text/plain": [
       "array([[[[ 1,  2, 33,  4],\n",
       "         [ 1, 23,  3,  4],\n",
       "         [ 1,  2,  3, 43]]],\n",
       "\n",
       "\n",
       "       [[[ 1,  2, 33,  4],\n",
       "         [ 1, 23,  3,  4],\n",
       "         [ 1,  2,  3, 43]]]])"
      ]
     },
     "execution_count": 156,
     "metadata": {},
     "output_type": "execute_result"
    }
   ],
   "source": [
    "my_list = [[[[1,2,33,4],[1,23,3,4],[1,2,3,43]]],[[[1,2,33,4],[1,23,3,4],[1,2,3,43]]]]\n",
    "k = np.array(my_list)\n",
    "k"
   ]
  },
  {
   "cell_type": "code",
   "execution_count": 157,
   "id": "376893bd",
   "metadata": {},
   "outputs": [
    {
     "data": {
      "text/plain": [
       "(2, 1, 3, 4)"
      ]
     },
     "execution_count": 157,
     "metadata": {},
     "output_type": "execute_result"
    }
   ],
   "source": [
    "k.shape"
   ]
  },
  {
   "cell_type": "code",
   "execution_count": 158,
   "id": "29683ac9",
   "metadata": {},
   "outputs": [
    {
     "data": {
      "text/plain": [
       "24"
      ]
     },
     "execution_count": 158,
     "metadata": {},
     "output_type": "execute_result"
    }
   ],
   "source": [
    "np.size(k)"
   ]
  },
  {
   "cell_type": "code",
   "execution_count": 159,
   "id": "0ec7807c",
   "metadata": {},
   "outputs": [
    {
     "data": {
      "text/plain": [
       "2"
      ]
     },
     "execution_count": 159,
     "metadata": {},
     "output_type": "execute_result"
    }
   ],
   "source": [
    "len(k)"
   ]
  },
  {
   "cell_type": "code",
   "execution_count": 160,
   "id": "0c3ca6fa",
   "metadata": {},
   "outputs": [
    {
     "data": {
      "text/plain": [
       "array([[[list([1, 2, 33, 4]), list([1, 23, 3, 4]), list([1, 2, 3, 43])]],\n",
       "\n",
       "       [[list([1, 2, 33, 4]), list([1, 23, 3, 4]),\n",
       "         list([1, 2, 3, 43, 7, 8, 9, 12])]]], dtype=object)"
      ]
     },
     "execution_count": 160,
     "metadata": {},
     "output_type": "execute_result"
    }
   ],
   "source": [
    "my_list = [[[[1,2,33,4],[1,23,3,4],[1,2,3,43]]],[[[1,2,33,4],[1,23,3,4],[1,2,3,43,7,8,9,12]]]]\n",
    "kk = np.array(my_list,dtype = 'O')\n",
    "kk"
   ]
  },
  {
   "cell_type": "code",
   "execution_count": 161,
   "id": "5ab5c79c",
   "metadata": {},
   "outputs": [
    {
     "data": {
      "text/plain": [
       "6"
      ]
     },
     "execution_count": 161,
     "metadata": {},
     "output_type": "execute_result"
    }
   ],
   "source": [
    "np.size(kk)"
   ]
  },
  {
   "cell_type": "code",
   "execution_count": 162,
   "id": "067cf63d",
   "metadata": {},
   "outputs": [
    {
     "data": {
      "text/plain": [
       "2"
      ]
     },
     "execution_count": 162,
     "metadata": {},
     "output_type": "execute_result"
    }
   ],
   "source": [
    "len(kk)"
   ]
  },
  {
   "cell_type": "markdown",
   "id": "01dc2970",
   "metadata": {},
   "source": [
    "### Attributes"
   ]
  },
  {
   "cell_type": "markdown",
   "id": "6e3eab74",
   "metadata": {},
   "source": [
    "> **1. ndim**"
   ]
  },
  {
   "cell_type": "code",
   "execution_count": 163,
   "id": "cafdfebb",
   "metadata": {},
   "outputs": [
    {
     "data": {
      "text/plain": [
       "array([0, 1, 2, 3, 4])"
      ]
     },
     "execution_count": 163,
     "metadata": {},
     "output_type": "execute_result"
    }
   ],
   "source": [
    "vector = np.arange(5)\n",
    "vector"
   ]
  },
  {
   "cell_type": "code",
   "execution_count": 164,
   "id": "87afb9b6",
   "metadata": {},
   "outputs": [
    {
     "data": {
      "text/plain": [
       "array([[[1, 2],\n",
       "        [4, 6],\n",
       "        [7, 8]]])"
      ]
     },
     "execution_count": 164,
     "metadata": {},
     "output_type": "execute_result"
    }
   ],
   "source": [
    "matrix = np.array([[[1,2],[4,6],[7,8]]])\n",
    "matrix"
   ]
  },
  {
   "cell_type": "code",
   "execution_count": 165,
   "id": "c39109d6",
   "metadata": {},
   "outputs": [
    {
     "data": {
      "text/plain": [
       "(1, 3, 2)"
      ]
     },
     "execution_count": 165,
     "metadata": {},
     "output_type": "execute_result"
    }
   ],
   "source": [
    "matrix.shape"
   ]
  },
  {
   "cell_type": "code",
   "execution_count": 166,
   "id": "efb42b76",
   "metadata": {},
   "outputs": [
    {
     "data": {
      "text/plain": [
       "1"
      ]
     },
     "execution_count": 166,
     "metadata": {},
     "output_type": "execute_result"
    }
   ],
   "source": [
    "vector.ndim"
   ]
  },
  {
   "cell_type": "code",
   "execution_count": 167,
   "id": "a5ccc490",
   "metadata": {},
   "outputs": [
    {
     "data": {
      "text/plain": [
       "3"
      ]
     },
     "execution_count": 167,
     "metadata": {},
     "output_type": "execute_result"
    }
   ],
   "source": [
    "matrix.ndim"
   ]
  },
  {
   "cell_type": "code",
   "execution_count": 168,
   "id": "37631cf5",
   "metadata": {},
   "outputs": [
    {
     "name": "stderr",
     "output_type": "stream",
     "text": [
      "C:\\Users\\Atharv Soni\\AppData\\Local\\Temp\\ipykernel_14808\\3625270770.py:1: VisibleDeprecationWarning: Creating an ndarray from ragged nested sequences (which is a list-or-tuple of lists-or-tuples-or ndarrays with different lengths or shapes) is deprecated. If you meant to do this, you must specify 'dtype=object' when creating the ndarray.\n",
      "  matrixo = np.array([[[[1,2],[4,6,6,8],[7,8]]]])\n"
     ]
    },
    {
     "data": {
      "text/plain": [
       "array([[[list([1, 2]), list([4, 6, 6, 8]), list([7, 8])]]], dtype=object)"
      ]
     },
     "execution_count": 168,
     "metadata": {},
     "output_type": "execute_result"
    }
   ],
   "source": [
    "matrixo = np.array([[[[1,2],[4,6,6,8],[7,8]]]])\n",
    "matrixo"
   ]
  },
  {
   "cell_type": "code",
   "execution_count": 169,
   "id": "5acd0b97",
   "metadata": {},
   "outputs": [
    {
     "data": {
      "text/plain": [
       "3"
      ]
     },
     "execution_count": 169,
     "metadata": {},
     "output_type": "execute_result"
    }
   ],
   "source": [
    "matrixo.ndim"
   ]
  },
  {
   "cell_type": "code",
   "execution_count": 170,
   "id": "dbfe0452",
   "metadata": {},
   "outputs": [
    {
     "data": {
      "text/plain": [
       "array([[[[ -1.  ,   3.  ,   4.56,  88.  , -99.5 ,  -4.56,   4.3 ,\n",
       "           -4.3 ]]]])"
      ]
     },
     "execution_count": 170,
     "metadata": {},
     "output_type": "execute_result"
    }
   ],
   "source": [
    "# \n",
    "\n",
    "sb = np.array([[-1,3,4.56,88,-99.5,-4.56,4.3,-4.3]], ndmin = 4)\n",
    "sb"
   ]
  },
  {
   "cell_type": "code",
   "execution_count": 171,
   "id": "498664b8",
   "metadata": {},
   "outputs": [
    {
     "data": {
      "text/plain": [
       "array([[[[[[[ -1.  ,   3.  ,   4.56,  88.  , -99.5 ,  -4.56,   4.3 ,\n",
       "              -4.3 ]]]]]]])"
      ]
     },
     "execution_count": 171,
     "metadata": {},
     "output_type": "execute_result"
    }
   ],
   "source": [
    "# \n",
    "\n",
    "sb = np.array([[[[[[[-1,3,4.56,88,-99.5,-4.56,4.3,-4.3]]]]]]], ndmin = 2)\n",
    "sb"
   ]
  },
  {
   "cell_type": "code",
   "execution_count": 172,
   "id": "dcd3dbb2",
   "metadata": {},
   "outputs": [
    {
     "data": {
      "text/plain": [
       "array([[[[ 2,  3,  4, 45]],\n",
       "\n",
       "        [[ 2,  3,  4, 45]],\n",
       "\n",
       "        [[ 2,  3,  4, 45]]]])"
      ]
     },
     "execution_count": 172,
     "metadata": {},
     "output_type": "execute_result"
    }
   ],
   "source": [
    "# \n",
    "\n",
    "sb = np.array([[[2,3,4,45]], [[2,3,4,45]], [[2,3,4,45]]], ndmin = 4)\n",
    "sb"
   ]
  },
  {
   "cell_type": "code",
   "execution_count": 173,
   "id": "17c20256",
   "metadata": {},
   "outputs": [
    {
     "data": {
      "text/plain": [
       "4"
      ]
     },
     "execution_count": 173,
     "metadata": {},
     "output_type": "execute_result"
    }
   ],
   "source": [
    "sb.ndim"
   ]
  },
  {
   "cell_type": "markdown",
   "id": "9ee2b095",
   "metadata": {},
   "source": [
    "> **2. dtype**"
   ]
  },
  {
   "cell_type": "code",
   "execution_count": 174,
   "id": "5e0cd88e",
   "metadata": {},
   "outputs": [
    {
     "data": {
      "text/plain": [
       "dtype('int32')"
      ]
     },
     "execution_count": 174,
     "metadata": {},
     "output_type": "execute_result"
    }
   ],
   "source": [
    "matrix.dtype"
   ]
  },
  {
   "cell_type": "code",
   "execution_count": 175,
   "id": "f14bec5d",
   "metadata": {},
   "outputs": [
    {
     "data": {
      "text/plain": [
       "dtype('O')"
      ]
     },
     "execution_count": 175,
     "metadata": {},
     "output_type": "execute_result"
    }
   ],
   "source": [
    "matrixo.dtype"
   ]
  },
  {
   "cell_type": "code",
   "execution_count": 176,
   "id": "946c659c",
   "metadata": {},
   "outputs": [
    {
     "data": {
      "text/plain": [
       "dtype('int32')"
      ]
     },
     "execution_count": 176,
     "metadata": {},
     "output_type": "execute_result"
    }
   ],
   "source": [
    "vector.dtype"
   ]
  },
  {
   "cell_type": "markdown",
   "id": "78954b78",
   "metadata": {},
   "source": [
    "> **3. size(no. of elements)**"
   ]
  },
  {
   "cell_type": "code",
   "execution_count": 177,
   "id": "0505ff09",
   "metadata": {},
   "outputs": [
    {
     "data": {
      "text/plain": [
       "5"
      ]
     },
     "execution_count": 177,
     "metadata": {},
     "output_type": "execute_result"
    }
   ],
   "source": [
    "vector.size"
   ]
  },
  {
   "cell_type": "code",
   "execution_count": 178,
   "id": "1aaf4b04",
   "metadata": {},
   "outputs": [
    {
     "data": {
      "text/plain": [
       "6"
      ]
     },
     "execution_count": 178,
     "metadata": {},
     "output_type": "execute_result"
    }
   ],
   "source": [
    "matrix.size"
   ]
  },
  {
   "cell_type": "code",
   "execution_count": 179,
   "id": "732fcf87",
   "metadata": {},
   "outputs": [
    {
     "data": {
      "text/plain": [
       "3"
      ]
     },
     "execution_count": 179,
     "metadata": {},
     "output_type": "execute_result"
    }
   ],
   "source": [
    "matrixo.size"
   ]
  },
  {
   "cell_type": "markdown",
   "id": "bffaa340",
   "metadata": {},
   "source": [
    "> **4. shape**"
   ]
  },
  {
   "cell_type": "code",
   "execution_count": 180,
   "id": "5ad1d68a",
   "metadata": {},
   "outputs": [
    {
     "data": {
      "text/plain": [
       "array([0, 1, 2, 3, 4])"
      ]
     },
     "execution_count": 180,
     "metadata": {},
     "output_type": "execute_result"
    }
   ],
   "source": [
    "vector"
   ]
  },
  {
   "cell_type": "code",
   "execution_count": 181,
   "id": "ba81cc1d",
   "metadata": {},
   "outputs": [
    {
     "data": {
      "text/html": [
       "<div>\n",
       "<style scoped>\n",
       "    .dataframe tbody tr th:only-of-type {\n",
       "        vertical-align: middle;\n",
       "    }\n",
       "\n",
       "    .dataframe tbody tr th {\n",
       "        vertical-align: top;\n",
       "    }\n",
       "\n",
       "    .dataframe thead th {\n",
       "        text-align: right;\n",
       "    }\n",
       "</style>\n",
       "<table border=\"1\" class=\"dataframe\">\n",
       "  <thead>\n",
       "    <tr style=\"text-align: right;\">\n",
       "      <th></th>\n",
       "      <th>0</th>\n",
       "    </tr>\n",
       "  </thead>\n",
       "  <tbody>\n",
       "    <tr>\n",
       "      <th>0</th>\n",
       "      <td>0</td>\n",
       "    </tr>\n",
       "    <tr>\n",
       "      <th>1</th>\n",
       "      <td>1</td>\n",
       "    </tr>\n",
       "    <tr>\n",
       "      <th>2</th>\n",
       "      <td>2</td>\n",
       "    </tr>\n",
       "    <tr>\n",
       "      <th>3</th>\n",
       "      <td>3</td>\n",
       "    </tr>\n",
       "    <tr>\n",
       "      <th>4</th>\n",
       "      <td>4</td>\n",
       "    </tr>\n",
       "  </tbody>\n",
       "</table>\n",
       "</div>"
      ],
      "text/plain": [
       "   0\n",
       "0  0\n",
       "1  1\n",
       "2  2\n",
       "3  3\n",
       "4  4"
      ]
     },
     "execution_count": 181,
     "metadata": {},
     "output_type": "execute_result"
    }
   ],
   "source": [
    "pd.DataFrame(vector)"
   ]
  },
  {
   "cell_type": "code",
   "execution_count": 182,
   "id": "5a6d631e",
   "metadata": {},
   "outputs": [
    {
     "data": {
      "text/plain": [
       "(5,)"
      ]
     },
     "execution_count": 182,
     "metadata": {},
     "output_type": "execute_result"
    }
   ],
   "source": [
    "vector.shape"
   ]
  },
  {
   "cell_type": "code",
   "execution_count": 183,
   "id": "92b322b6",
   "metadata": {},
   "outputs": [
    {
     "data": {
      "text/plain": [
       "0    0\n",
       "1    1\n",
       "2    2\n",
       "3    3\n",
       "4    4\n",
       "dtype: int32"
      ]
     },
     "execution_count": 183,
     "metadata": {},
     "output_type": "execute_result"
    }
   ],
   "source": [
    "z = pd.Series(vector)\n",
    "z"
   ]
  },
  {
   "cell_type": "code",
   "execution_count": 184,
   "id": "892857b5",
   "metadata": {
    "scrolled": true
   },
   "outputs": [
    {
     "ename": "ValueError",
     "evalue": "Multi-dimensional indexing (e.g. `obj[:, None]`) is no longer supported. Convert to a numpy array before indexing instead.",
     "output_type": "error",
     "traceback": [
      "\u001b[1;31m---------------------------------------------------------------------------\u001b[0m",
      "\u001b[1;31mValueError\u001b[0m                                Traceback (most recent call last)",
      "Cell \u001b[1;32mIn[184], line 1\u001b[0m\n\u001b[1;32m----> 1\u001b[0m \u001b[43mz\u001b[49m\u001b[43m[\u001b[49m\u001b[43mnp\u001b[49m\u001b[38;5;241;43m.\u001b[39;49m\u001b[43mnewaxis\u001b[49m\u001b[43m,\u001b[49m\u001b[43m:\u001b[49m\u001b[43m]\u001b[49m\n",
      "File \u001b[1;32mC:\\ProgramData\\anaconda3\\envs\\ml\\lib\\site-packages\\pandas\\core\\series.py:1072\u001b[0m, in \u001b[0;36mSeries.__getitem__\u001b[1;34m(self, key)\u001b[0m\n\u001b[0;32m   1069\u001b[0m     key \u001b[38;5;241m=\u001b[39m np\u001b[38;5;241m.\u001b[39masarray(key, dtype\u001b[38;5;241m=\u001b[39m\u001b[38;5;28mbool\u001b[39m)\n\u001b[0;32m   1070\u001b[0m     \u001b[38;5;28;01mreturn\u001b[39;00m \u001b[38;5;28mself\u001b[39m\u001b[38;5;241m.\u001b[39m_get_rows_with_mask(key)\n\u001b[1;32m-> 1072\u001b[0m \u001b[38;5;28;01mreturn\u001b[39;00m \u001b[38;5;28;43mself\u001b[39;49m\u001b[38;5;241;43m.\u001b[39;49m\u001b[43m_get_with\u001b[49m\u001b[43m(\u001b[49m\u001b[43mkey\u001b[49m\u001b[43m)\u001b[49m\n",
      "File \u001b[1;32mC:\\ProgramData\\anaconda3\\envs\\ml\\lib\\site-packages\\pandas\\core\\series.py:1082\u001b[0m, in \u001b[0;36mSeries._get_with\u001b[1;34m(self, key)\u001b[0m\n\u001b[0;32m   1077\u001b[0m     \u001b[38;5;28;01mraise\u001b[39;00m \u001b[38;5;167;01mTypeError\u001b[39;00m(\n\u001b[0;32m   1078\u001b[0m         \u001b[38;5;124m\"\u001b[39m\u001b[38;5;124mIndexing a Series with DataFrame is not \u001b[39m\u001b[38;5;124m\"\u001b[39m\n\u001b[0;32m   1079\u001b[0m         \u001b[38;5;124m\"\u001b[39m\u001b[38;5;124msupported, use the appropriate DataFrame column\u001b[39m\u001b[38;5;124m\"\u001b[39m\n\u001b[0;32m   1080\u001b[0m     )\n\u001b[0;32m   1081\u001b[0m \u001b[38;5;28;01melif\u001b[39;00m \u001b[38;5;28misinstance\u001b[39m(key, \u001b[38;5;28mtuple\u001b[39m):\n\u001b[1;32m-> 1082\u001b[0m     \u001b[38;5;28;01mreturn\u001b[39;00m \u001b[38;5;28;43mself\u001b[39;49m\u001b[38;5;241;43m.\u001b[39;49m\u001b[43m_get_values_tuple\u001b[49m\u001b[43m(\u001b[49m\u001b[43mkey\u001b[49m\u001b[43m)\u001b[49m\n\u001b[0;32m   1084\u001b[0m \u001b[38;5;28;01melif\u001b[39;00m \u001b[38;5;129;01mnot\u001b[39;00m is_list_like(key):\n\u001b[0;32m   1085\u001b[0m     \u001b[38;5;66;03m# e.g. scalars that aren't recognized by lib.is_scalar, GH#32684\u001b[39;00m\n\u001b[0;32m   1086\u001b[0m     \u001b[38;5;28;01mreturn\u001b[39;00m \u001b[38;5;28mself\u001b[39m\u001b[38;5;241m.\u001b[39mloc[key]\n",
      "File \u001b[1;32mC:\\ProgramData\\anaconda3\\envs\\ml\\lib\\site-packages\\pandas\\core\\series.py:1122\u001b[0m, in \u001b[0;36mSeries._get_values_tuple\u001b[1;34m(self, key)\u001b[0m\n\u001b[0;32m   1117\u001b[0m \u001b[38;5;28;01mif\u001b[39;00m com\u001b[38;5;241m.\u001b[39many_none(\u001b[38;5;241m*\u001b[39mkey):\n\u001b[0;32m   1118\u001b[0m     \u001b[38;5;66;03m# mpl compat if we look up e.g. ser[:, np.newaxis];\u001b[39;00m\n\u001b[0;32m   1119\u001b[0m     \u001b[38;5;66;03m#  see tests.series.timeseries.test_mpl_compat_hack\u001b[39;00m\n\u001b[0;32m   1120\u001b[0m     \u001b[38;5;66;03m# the asarray is needed to avoid returning a 2D DatetimeArray\u001b[39;00m\n\u001b[0;32m   1121\u001b[0m     result \u001b[38;5;241m=\u001b[39m np\u001b[38;5;241m.\u001b[39masarray(\u001b[38;5;28mself\u001b[39m\u001b[38;5;241m.\u001b[39m_values[key])\n\u001b[1;32m-> 1122\u001b[0m     \u001b[43mdisallow_ndim_indexing\u001b[49m\u001b[43m(\u001b[49m\u001b[43mresult\u001b[49m\u001b[43m)\u001b[49m\n\u001b[0;32m   1123\u001b[0m     \u001b[38;5;28;01mreturn\u001b[39;00m result\n\u001b[0;32m   1125\u001b[0m \u001b[38;5;28;01mif\u001b[39;00m \u001b[38;5;129;01mnot\u001b[39;00m \u001b[38;5;28misinstance\u001b[39m(\u001b[38;5;28mself\u001b[39m\u001b[38;5;241m.\u001b[39mindex, MultiIndex):\n",
      "File \u001b[1;32mC:\\ProgramData\\anaconda3\\envs\\ml\\lib\\site-packages\\pandas\\core\\indexers\\utils.py:341\u001b[0m, in \u001b[0;36mdisallow_ndim_indexing\u001b[1;34m(result)\u001b[0m\n\u001b[0;32m    333\u001b[0m \u001b[38;5;250m\u001b[39m\u001b[38;5;124;03m\"\"\"\u001b[39;00m\n\u001b[0;32m    334\u001b[0m \u001b[38;5;124;03mHelper function to disallow multi-dimensional indexing on 1D Series/Index.\u001b[39;00m\n\u001b[0;32m    335\u001b[0m \n\u001b[1;32m   (...)\u001b[0m\n\u001b[0;32m    338\u001b[0m \u001b[38;5;124;03min GH#30588.\u001b[39;00m\n\u001b[0;32m    339\u001b[0m \u001b[38;5;124;03m\"\"\"\u001b[39;00m\n\u001b[0;32m    340\u001b[0m \u001b[38;5;28;01mif\u001b[39;00m np\u001b[38;5;241m.\u001b[39mndim(result) \u001b[38;5;241m>\u001b[39m \u001b[38;5;241m1\u001b[39m:\n\u001b[1;32m--> 341\u001b[0m     \u001b[38;5;28;01mraise\u001b[39;00m \u001b[38;5;167;01mValueError\u001b[39;00m(\n\u001b[0;32m    342\u001b[0m         \u001b[38;5;124m\"\u001b[39m\u001b[38;5;124mMulti-dimensional indexing (e.g. `obj[:, None]`) is no longer \u001b[39m\u001b[38;5;124m\"\u001b[39m\n\u001b[0;32m    343\u001b[0m         \u001b[38;5;124m\"\u001b[39m\u001b[38;5;124msupported. Convert to a numpy array before indexing instead.\u001b[39m\u001b[38;5;124m\"\u001b[39m\n\u001b[0;32m    344\u001b[0m     )\n",
      "\u001b[1;31mValueError\u001b[0m: Multi-dimensional indexing (e.g. `obj[:, None]`) is no longer supported. Convert to a numpy array before indexing instead."
     ]
    }
   ],
   "source": [
    "z[np.newaxis,:]"
   ]
  },
  {
   "cell_type": "code",
   "execution_count": 185,
   "id": "ea3136ad",
   "metadata": {},
   "outputs": [
    {
     "data": {
      "text/plain": [
       "array([[0, 1, 2, 3, 4]])"
      ]
     },
     "execution_count": 185,
     "metadata": {},
     "output_type": "execute_result"
    }
   ],
   "source": [
    "np.array(z)[np.newaxis,:]"
   ]
  },
  {
   "cell_type": "code",
   "execution_count": 186,
   "id": "339c4c89",
   "metadata": {},
   "outputs": [
    {
     "data": {
      "text/html": [
       "<div>\n",
       "<style scoped>\n",
       "    .dataframe tbody tr th:only-of-type {\n",
       "        vertical-align: middle;\n",
       "    }\n",
       "\n",
       "    .dataframe tbody tr th {\n",
       "        vertical-align: top;\n",
       "    }\n",
       "\n",
       "    .dataframe thead th {\n",
       "        text-align: right;\n",
       "    }\n",
       "</style>\n",
       "<table border=\"1\" class=\"dataframe\">\n",
       "  <thead>\n",
       "    <tr style=\"text-align: right;\">\n",
       "      <th></th>\n",
       "      <th>0</th>\n",
       "      <th>1</th>\n",
       "      <th>2</th>\n",
       "      <th>3</th>\n",
       "      <th>4</th>\n",
       "    </tr>\n",
       "  </thead>\n",
       "  <tbody>\n",
       "    <tr>\n",
       "      <th>0</th>\n",
       "      <td>0</td>\n",
       "      <td>1</td>\n",
       "      <td>2</td>\n",
       "      <td>3</td>\n",
       "      <td>4</td>\n",
       "    </tr>\n",
       "  </tbody>\n",
       "</table>\n",
       "</div>"
      ],
      "text/plain": [
       "   0  1  2  3  4\n",
       "0  0  1  2  3  4"
      ]
     },
     "execution_count": 186,
     "metadata": {},
     "output_type": "execute_result"
    }
   ],
   "source": [
    "pd.DataFrame((np.array(z)[np.newaxis,:]))"
   ]
  },
  {
   "cell_type": "code",
   "execution_count": 187,
   "id": "6e75c1b7",
   "metadata": {},
   "outputs": [
    {
     "data": {
      "text/plain": [
       "array([[0, 1, 2, 3, 4]])"
      ]
     },
     "execution_count": 187,
     "metadata": {},
     "output_type": "execute_result"
    }
   ],
   "source": [
    "nn = vector[np.newaxis,:]\n",
    "nn"
   ]
  },
  {
   "cell_type": "code",
   "execution_count": 188,
   "id": "6819399b",
   "metadata": {},
   "outputs": [
    {
     "data": {
      "text/plain": [
       "array([[[0, 1, 2, 3, 4]]])"
      ]
     },
     "execution_count": 188,
     "metadata": {},
     "output_type": "execute_result"
    }
   ],
   "source": [
    "nn[:,np.newaxis]"
   ]
  },
  {
   "cell_type": "code",
   "execution_count": 189,
   "id": "304fd9aa",
   "metadata": {},
   "outputs": [
    {
     "data": {
      "text/html": [
       "<div>\n",
       "<style scoped>\n",
       "    .dataframe tbody tr th:only-of-type {\n",
       "        vertical-align: middle;\n",
       "    }\n",
       "\n",
       "    .dataframe tbody tr th {\n",
       "        vertical-align: top;\n",
       "    }\n",
       "\n",
       "    .dataframe thead th {\n",
       "        text-align: right;\n",
       "    }\n",
       "</style>\n",
       "<table border=\"1\" class=\"dataframe\">\n",
       "  <thead>\n",
       "    <tr style=\"text-align: right;\">\n",
       "      <th></th>\n",
       "      <th>0</th>\n",
       "      <th>1</th>\n",
       "      <th>2</th>\n",
       "      <th>3</th>\n",
       "      <th>4</th>\n",
       "    </tr>\n",
       "  </thead>\n",
       "  <tbody>\n",
       "    <tr>\n",
       "      <th>0</th>\n",
       "      <td>0</td>\n",
       "      <td>1</td>\n",
       "      <td>2</td>\n",
       "      <td>3</td>\n",
       "      <td>4</td>\n",
       "    </tr>\n",
       "  </tbody>\n",
       "</table>\n",
       "</div>"
      ],
      "text/plain": [
       "   0  1  2  3  4\n",
       "0  0  1  2  3  4"
      ]
     },
     "execution_count": 189,
     "metadata": {},
     "output_type": "execute_result"
    }
   ],
   "source": [
    "pd.DataFrame(nn)"
   ]
  },
  {
   "cell_type": "code",
   "execution_count": 190,
   "id": "cc3d55b6",
   "metadata": {},
   "outputs": [
    {
     "data": {
      "text/plain": [
       "(1, 5)"
      ]
     },
     "execution_count": 190,
     "metadata": {},
     "output_type": "execute_result"
    }
   ],
   "source": [
    "nn.shape"
   ]
  },
  {
   "cell_type": "code",
   "execution_count": 191,
   "id": "d9ad9102",
   "metadata": {},
   "outputs": [
    {
     "data": {
      "text/plain": [
       "array([[0],\n",
       "       [1],\n",
       "       [2],\n",
       "       [3],\n",
       "       [4]])"
      ]
     },
     "execution_count": 191,
     "metadata": {},
     "output_type": "execute_result"
    }
   ],
   "source": [
    "nm = vector[:,np.newaxis]\n",
    "nm"
   ]
  },
  {
   "cell_type": "code",
   "execution_count": 192,
   "id": "0883e0b4",
   "metadata": {},
   "outputs": [
    {
     "data": {
      "text/plain": [
       "(5, 1)"
      ]
     },
     "execution_count": 192,
     "metadata": {},
     "output_type": "execute_result"
    }
   ],
   "source": [
    "nm.shape"
   ]
  },
  {
   "cell_type": "code",
   "execution_count": 193,
   "id": "0fa701d6",
   "metadata": {},
   "outputs": [
    {
     "data": {
      "text/plain": [
       "(1, 3, 2)"
      ]
     },
     "execution_count": 193,
     "metadata": {},
     "output_type": "execute_result"
    }
   ],
   "source": [
    "matrix.shape"
   ]
  },
  {
   "cell_type": "code",
   "execution_count": 194,
   "id": "4679c823",
   "metadata": {},
   "outputs": [],
   "source": [
    "matrix1 = np.array([[[1, 2],\n",
    "        [4, 6],\n",
    "        [7, 8]],[[1, 2],\n",
    "        [4, 6],\n",
    "        [7, 8]]])"
   ]
  },
  {
   "cell_type": "code",
   "execution_count": 195,
   "id": "0eadbced",
   "metadata": {},
   "outputs": [
    {
     "data": {
      "text/plain": [
       "(2, 3, 2)"
      ]
     },
     "execution_count": 195,
     "metadata": {},
     "output_type": "execute_result"
    }
   ],
   "source": [
    "matrix1.shape"
   ]
  },
  {
   "cell_type": "code",
   "execution_count": 196,
   "id": "d0f55529",
   "metadata": {},
   "outputs": [
    {
     "data": {
      "text/plain": [
       "array([[[list([1, 2]), list([4, 6, 6, 8]), list([7, 8])]]], dtype=object)"
      ]
     },
     "execution_count": 196,
     "metadata": {},
     "output_type": "execute_result"
    }
   ],
   "source": [
    "matrixo"
   ]
  },
  {
   "cell_type": "code",
   "execution_count": 197,
   "id": "56ac3372",
   "metadata": {},
   "outputs": [
    {
     "data": {
      "text/plain": [
       "(1, 1, 3)"
      ]
     },
     "execution_count": 197,
     "metadata": {},
     "output_type": "execute_result"
    }
   ],
   "source": [
    "matrixo.shape"
   ]
  },
  {
   "cell_type": "code",
   "execution_count": 198,
   "id": "11cb196f",
   "metadata": {},
   "outputs": [
    {
     "data": {
      "text/plain": [
       "(2, 1, 4)"
      ]
     },
     "execution_count": 198,
     "metadata": {},
     "output_type": "execute_result"
    }
   ],
   "source": [
    "pa = np.array([[[1,2,3,4]],[[5,6,7,2]]])\n",
    "pa.shape"
   ]
  },
  {
   "cell_type": "code",
   "execution_count": 199,
   "id": "8ba533e9",
   "metadata": {},
   "outputs": [
    {
     "name": "stdout",
     "output_type": "stream",
     "text": [
      "(1, 1, 1, 3, 1, 1, 5)\n"
     ]
    }
   ],
   "source": [
    "wk = np.array([[[[[[[53, 223, 32, 45, 12]]],[[[983,22, 23, 543, 65]]],[[[2,4,6,7,88]]]]]]])\n",
    "print(wk.shape)"
   ]
  },
  {
   "cell_type": "code",
   "execution_count": 202,
   "id": "e4b22088",
   "metadata": {},
   "outputs": [
    {
     "name": "stdout",
     "output_type": "stream",
     "text": [
      "(2, 2, 1, 4)\n"
     ]
    },
    {
     "data": {
      "text/plain": [
       "array([[[[1, 2, 3, 4]],\n",
       "\n",
       "        [[5, 6, 2, 1]]],\n",
       "\n",
       "\n",
       "       [[[1, 2, 3, 4]],\n",
       "\n",
       "        [[5, 6, 7, 2]]]])"
      ]
     },
     "execution_count": 202,
     "metadata": {},
     "output_type": "execute_result"
    }
   ],
   "source": [
    "apa = np.array([[[[1,2,3,4]],[[5,6,2,1]]],[[[1,2,3,4]],[[5,6,7,2]]]])\n",
    "print(apa.shape)\n",
    "apa"
   ]
  },
  {
   "cell_type": "code",
   "execution_count": 203,
   "id": "e9266189",
   "metadata": {},
   "outputs": [
    {
     "name": "stdout",
     "output_type": "stream",
     "text": [
      "(2, 2, 1)\n"
     ]
    },
    {
     "name": "stderr",
     "output_type": "stream",
     "text": [
      "C:\\Users\\Atharv Soni\\AppData\\Local\\Temp\\ipykernel_14808\\188388003.py:1: VisibleDeprecationWarning: Creating an ndarray from ragged nested sequences (which is a list-or-tuple of lists-or-tuples-or ndarrays with different lengths or shapes) is deprecated. If you meant to do this, you must specify 'dtype=object' when creating the ndarray.\n",
      "  apa = np.array([[[[1,2,3,4]],[[5,6,2]]],[[[1,2,3,4]],[[5,6,7,2]]]])\n"
     ]
    },
    {
     "data": {
      "text/plain": [
       "array([[[list([1, 2, 3, 4])],\n",
       "        [list([5, 6, 2])]],\n",
       "\n",
       "       [[list([1, 2, 3, 4])],\n",
       "        [list([5, 6, 7, 2])]]], dtype=object)"
      ]
     },
     "execution_count": 203,
     "metadata": {},
     "output_type": "execute_result"
    }
   ],
   "source": [
    "apa = np.array([[[[1,2,3,4]],[[5,6,2]]],[[[1,2,3,4]],[[5,6,7,2]]]])\n",
    "print(apa.shape)\n",
    "apa"
   ]
  },
  {
   "cell_type": "code",
   "execution_count": 204,
   "id": "f6a37771",
   "metadata": {},
   "outputs": [
    {
     "name": "stdout",
     "output_type": "stream",
     "text": [
      "(2,)\n"
     ]
    },
    {
     "name": "stderr",
     "output_type": "stream",
     "text": [
      "C:\\Users\\Atharv Soni\\AppData\\Local\\Temp\\ipykernel_14808\\289331739.py:1: VisibleDeprecationWarning: Creating an ndarray from ragged nested sequences (which is a list-or-tuple of lists-or-tuples-or ndarrays with different lengths or shapes) is deprecated. If you meant to do this, you must specify 'dtype=object' when creating the ndarray.\n",
      "  paa = np.array([[[1,3,[5],7]],[2,5,7,8]])\n"
     ]
    },
    {
     "data": {
      "text/plain": [
       "array([list([[1, 3, [5], 7]]), list([2, 5, 7, 8])], dtype=object)"
      ]
     },
     "execution_count": 204,
     "metadata": {},
     "output_type": "execute_result"
    }
   ],
   "source": [
    "paa = np.array([[[1,3,[5],7]],[2,5,7,8]])\n",
    "print(paa.shape)\n",
    "paa"
   ]
  },
  {
   "cell_type": "code",
   "execution_count": 205,
   "id": "56b8409b",
   "metadata": {},
   "outputs": [
    {
     "data": {
      "text/html": [
       "<div>\n",
       "<style scoped>\n",
       "    .dataframe tbody tr th:only-of-type {\n",
       "        vertical-align: middle;\n",
       "    }\n",
       "\n",
       "    .dataframe tbody tr th {\n",
       "        vertical-align: top;\n",
       "    }\n",
       "\n",
       "    .dataframe thead th {\n",
       "        text-align: right;\n",
       "    }\n",
       "</style>\n",
       "<table border=\"1\" class=\"dataframe\">\n",
       "  <thead>\n",
       "    <tr style=\"text-align: right;\">\n",
       "      <th></th>\n",
       "      <th>0</th>\n",
       "    </tr>\n",
       "  </thead>\n",
       "  <tbody>\n",
       "    <tr>\n",
       "      <th>0</th>\n",
       "      <td>[[1, 3, [5], 7]]</td>\n",
       "    </tr>\n",
       "    <tr>\n",
       "      <th>1</th>\n",
       "      <td>[2, 5, 7, 8]</td>\n",
       "    </tr>\n",
       "  </tbody>\n",
       "</table>\n",
       "</div>"
      ],
      "text/plain": [
       "                  0\n",
       "0  [[1, 3, [5], 7]]\n",
       "1      [2, 5, 7, 8]"
      ]
     },
     "execution_count": 205,
     "metadata": {},
     "output_type": "execute_result"
    }
   ],
   "source": [
    "pd.DataFrame(paa)"
   ]
  },
  {
   "cell_type": "code",
   "execution_count": 206,
   "id": "f78ac951",
   "metadata": {
    "scrolled": true
   },
   "outputs": [
    {
     "name": "stdout",
     "output_type": "stream",
     "text": [
      "(1, 1, 4)\n"
     ]
    },
    {
     "name": "stderr",
     "output_type": "stream",
     "text": [
      "C:\\Users\\Atharv Soni\\AppData\\Local\\Temp\\ipykernel_14808\\2581423903.py:1: VisibleDeprecationWarning: Creating an ndarray from ragged nested sequences (which is a list-or-tuple of lists-or-tuples-or ndarrays with different lengths or shapes) is deprecated. If you meant to do this, you must specify 'dtype=object' when creating the ndarray.\n",
      "  pa1a = np.array([[[1,3,[5],7]]])\n"
     ]
    },
    {
     "data": {
      "text/plain": [
       "array([[[1, 3, list([5]), 7]]], dtype=object)"
      ]
     },
     "execution_count": 206,
     "metadata": {},
     "output_type": "execute_result"
    }
   ],
   "source": [
    "pa1a = np.array([[[1,3,[5],7]]])\n",
    "print(pa1a.shape)\n",
    "pa1a"
   ]
  },
  {
   "cell_type": "markdown",
   "id": "ca69c3b1",
   "metadata": {},
   "source": [
    "> **6. .tolist()**"
   ]
  },
  {
   "cell_type": "code",
   "execution_count": 207,
   "id": "548e5dec",
   "metadata": {},
   "outputs": [
    {
     "data": {
      "text/plain": [
       "[0, 1, 2, 3, 4]"
      ]
     },
     "execution_count": 207,
     "metadata": {},
     "output_type": "execute_result"
    }
   ],
   "source": [
    "vector.tolist()"
   ]
  },
  {
   "cell_type": "code",
   "execution_count": 208,
   "id": "769f20f4",
   "metadata": {},
   "outputs": [
    {
     "data": {
      "text/plain": [
       "[[[1, 2], [4, 6], [7, 8]]]"
      ]
     },
     "execution_count": 208,
     "metadata": {},
     "output_type": "execute_result"
    }
   ],
   "source": [
    "matrix.tolist()"
   ]
  },
  {
   "cell_type": "code",
   "execution_count": 209,
   "id": "8ce615ff",
   "metadata": {},
   "outputs": [
    {
     "data": {
      "text/plain": [
       "1"
      ]
     },
     "execution_count": 209,
     "metadata": {},
     "output_type": "execute_result"
    }
   ],
   "source": [
    "len(matrix.tolist())"
   ]
  },
  {
   "cell_type": "code",
   "execution_count": 213,
   "id": "7ba73393",
   "metadata": {},
   "outputs": [
    {
     "data": {
      "text/plain": [
       "array([[[1, 2],\n",
       "        [4, 6],\n",
       "        [7, 8]],\n",
       "\n",
       "       [[1, 2],\n",
       "        [4, 6],\n",
       "        [7, 8]]])"
      ]
     },
     "execution_count": 213,
     "metadata": {},
     "output_type": "execute_result"
    }
   ],
   "source": [
    "matrix1"
   ]
  },
  {
   "cell_type": "code",
   "execution_count": 210,
   "id": "72880d40",
   "metadata": {},
   "outputs": [
    {
     "data": {
      "text/plain": [
       "[[[1, 2], [4, 6], [7, 8]], [[1, 2], [4, 6], [7, 8]]]"
      ]
     },
     "execution_count": 210,
     "metadata": {},
     "output_type": "execute_result"
    }
   ],
   "source": [
    "matrix1.tolist()"
   ]
  },
  {
   "cell_type": "code",
   "execution_count": 214,
   "id": "5cf436b0",
   "metadata": {},
   "outputs": [
    {
     "data": {
      "text/plain": [
       "array([[[list([1, 2]), list([4, 6, 6, 8]), list([7, 8])]]], dtype=object)"
      ]
     },
     "execution_count": 214,
     "metadata": {},
     "output_type": "execute_result"
    }
   ],
   "source": [
    "matrixo"
   ]
  },
  {
   "cell_type": "code",
   "execution_count": 211,
   "id": "c69b5c39",
   "metadata": {},
   "outputs": [
    {
     "data": {
      "text/plain": [
       "[[[[1, 2], [4, 6, 6, 8], [7, 8]]]]"
      ]
     },
     "execution_count": 211,
     "metadata": {},
     "output_type": "execute_result"
    }
   ],
   "source": [
    "matrixo.tolist()"
   ]
  },
  {
   "cell_type": "code",
   "execution_count": 212,
   "id": "7f1df939",
   "metadata": {},
   "outputs": [
    {
     "data": {
      "text/plain": [
       "[[[['1', '2', '3'], ['6', '6', '8'], ['9', '7', '8']]]]"
      ]
     },
     "execution_count": 212,
     "metadata": {},
     "output_type": "execute_result"
    }
   ],
   "source": [
    "d  = np.array([[[[1, '2', 3], [6, 6, 8], [9,7, 8]]]])\n",
    "d.tolist()"
   ]
  },
  {
   "cell_type": "markdown",
   "id": "499dc244",
   "metadata": {},
   "source": [
    "### Changing the shape\n",
    "\n",
    "> **1. .reshape** <br>\n",
    ">> **A) -1** <br>\n",
    "\n",
    "> **2. .flatten** <br>\n",
    "\n",
    "**`Both -1 and .flatten works same but the difference is that flatten makes a copy and -1 does not make a copy`**"
   ]
  },
  {
   "cell_type": "code",
   "execution_count": 215,
   "id": "82d7d85a",
   "metadata": {},
   "outputs": [
    {
     "data": {
      "text/plain": [
       "array([  1,   2,   3,   4,   5,   6,   7,   8,   9,  10,  11,  12,  13,\n",
       "        14,  15,  16,  17,  18,  19,  20,  21,  22,  23,  24,  25,  26,\n",
       "        27,  28,  29,  30,  31,  32,  33,  34,  35,  36,  37,  38,  39,\n",
       "        40,  41,  42,  43,  44,  45,  46,  47,  48,  49,  50,  51,  52,\n",
       "        53,  54,  55,  56,  57,  58,  59,  60,  61,  62,  63,  64,  65,\n",
       "        66,  67,  68,  69,  70,  71,  72,  73,  74,  75,  76,  77,  78,\n",
       "        79,  80,  81,  82,  83,  84,  85,  86,  87,  88,  89,  90,  91,\n",
       "        92,  93,  94,  95,  96,  97,  98,  99, 100])"
      ]
     },
     "execution_count": 215,
     "metadata": {},
     "output_type": "execute_result"
    }
   ],
   "source": [
    "v = np.arange(1,101)\n",
    "v"
   ]
  },
  {
   "cell_type": "code",
   "execution_count": 216,
   "id": "5affb6c1",
   "metadata": {
    "scrolled": true
   },
   "outputs": [
    {
     "data": {
      "text/plain": [
       "array([[  1,   2,   3,   4,   5],\n",
       "       [  6,   7,   8,   9,  10],\n",
       "       [ 11,  12,  13,  14,  15],\n",
       "       [ 16,  17,  18,  19,  20],\n",
       "       [ 21,  22,  23,  24,  25],\n",
       "       [ 26,  27,  28,  29,  30],\n",
       "       [ 31,  32,  33,  34,  35],\n",
       "       [ 36,  37,  38,  39,  40],\n",
       "       [ 41,  42,  43,  44,  45],\n",
       "       [ 46,  47,  48,  49,  50],\n",
       "       [ 51,  52,  53,  54,  55],\n",
       "       [ 56,  57,  58,  59,  60],\n",
       "       [ 61,  62,  63,  64,  65],\n",
       "       [ 66,  67,  68,  69,  70],\n",
       "       [ 71,  72,  73,  74,  75],\n",
       "       [ 76,  77,  78,  79,  80],\n",
       "       [ 81,  82,  83,  84,  85],\n",
       "       [ 86,  87,  88,  89,  90],\n",
       "       [ 91,  92,  93,  94,  95],\n",
       "       [ 96,  97,  98,  99, 100]])"
      ]
     },
     "execution_count": 216,
     "metadata": {},
     "output_type": "execute_result"
    }
   ],
   "source": [
    "v.reshape(20,5)"
   ]
  },
  {
   "cell_type": "code",
   "execution_count": 217,
   "id": "278c7db8",
   "metadata": {},
   "outputs": [
    {
     "ename": "ValueError",
     "evalue": "cannot reshape array of size 100 into shape (10,11)",
     "output_type": "error",
     "traceback": [
      "\u001b[1;31m---------------------------------------------------------------------------\u001b[0m",
      "\u001b[1;31mValueError\u001b[0m                                Traceback (most recent call last)",
      "Cell \u001b[1;32mIn[217], line 1\u001b[0m\n\u001b[1;32m----> 1\u001b[0m \u001b[43mv\u001b[49m\u001b[38;5;241;43m.\u001b[39;49m\u001b[43mreshape\u001b[49m\u001b[43m(\u001b[49m\u001b[38;5;241;43m10\u001b[39;49m\u001b[43m,\u001b[49m\u001b[38;5;241;43m11\u001b[39;49m\u001b[43m)\u001b[49m\n",
      "\u001b[1;31mValueError\u001b[0m: cannot reshape array of size 100 into shape (10,11)"
     ]
    }
   ],
   "source": [
    "v.reshape(10,11)"
   ]
  },
  {
   "cell_type": "code",
   "execution_count": 218,
   "id": "0aaa5d2f",
   "metadata": {
    "scrolled": true
   },
   "outputs": [
    {
     "data": {
      "text/plain": [
       "array([[  1,   2,   3,   4,   5,   6,   7,   8,   9,  10],\n",
       "       [ 11,  12,  13,  14,  15,  16,  17,  18,  19,  20],\n",
       "       [ 21,  22,  23,  24,  25,  26,  27,  28,  29,  30],\n",
       "       [ 31,  32,  33,  34,  35,  36,  37,  38,  39,  40],\n",
       "       [ 41,  42,  43,  44,  45,  46,  47,  48,  49,  50],\n",
       "       [ 51,  52,  53,  54,  55,  56,  57,  58,  59,  60],\n",
       "       [ 61,  62,  63,  64,  65,  66,  67,  68,  69,  70],\n",
       "       [ 71,  72,  73,  74,  75,  76,  77,  78,  79,  80],\n",
       "       [ 81,  82,  83,  84,  85,  86,  87,  88,  89,  90],\n",
       "       [ 91,  92,  93,  94,  95,  96,  97,  98,  99, 100]])"
      ]
     },
     "execution_count": 218,
     "metadata": {},
     "output_type": "execute_result"
    }
   ],
   "source": [
    "cv = v.reshape(10,10)\n",
    "cv"
   ]
  },
  {
   "cell_type": "code",
   "execution_count": 219,
   "id": "9b988708",
   "metadata": {},
   "outputs": [
    {
     "data": {
      "text/plain": [
       "array([  1,   2,   3,   4,   5,   6,   7,   8,   9,  10,  11,  12,  13,\n",
       "        14,  15,  16,  17,  18,  19,  20,  21,  22,  23,  24,  25,  26,\n",
       "        27,  28,  29,  30,  31,  32,  33,  34,  35,  36,  37,  38,  39,\n",
       "        40,  41,  42,  43,  44,  45,  46,  47,  48,  49,  50,  51,  52,\n",
       "        53,  54,  55,  56,  57,  58,  59,  60,  61,  62,  63,  64,  65,\n",
       "        66,  67,  68,  69,  70,  71,  72,  73,  74,  75,  76,  77,  78,\n",
       "        79,  80,  81,  82,  83,  84,  85,  86,  87,  88,  89,  90,  91,\n",
       "        92,  93,  94,  95,  96,  97,  98,  99, 100])"
      ]
     },
     "execution_count": 219,
     "metadata": {},
     "output_type": "execute_result"
    }
   ],
   "source": [
    "cv.reshape(100)"
   ]
  },
  {
   "cell_type": "code",
   "execution_count": 220,
   "id": "f9116cec",
   "metadata": {},
   "outputs": [
    {
     "data": {
      "text/plain": [
       "array([[  1,   2,   3,   4,   5,   6,   7,   8,   9,  10],\n",
       "       [ 11,  12,  13,  14,  15,  16,  17,  18,  19,  20],\n",
       "       [ 21,  22,  23,  24,  25,  26,  27,  28,  29,  30],\n",
       "       [ 31,  32,  33,  34,  35,  36,  37,  38,  39,  40],\n",
       "       [ 41,  42,  43,  44,  45,  46,  47,  48,  49,  50],\n",
       "       [ 51,  52,  53,  54,  55,  56,  57,  58,  59,  60],\n",
       "       [ 61,  62,  63,  64,  65,  66,  67,  68,  69,  70],\n",
       "       [ 71,  72,  73,  74,  75,  76,  77,  78,  79,  80],\n",
       "       [ 81,  82,  83,  84,  85,  86,  87,  88,  89,  90],\n",
       "       [ 91,  92,  93,  94,  95,  96,  97,  98,  99, 100]])"
      ]
     },
     "execution_count": 220,
     "metadata": {},
     "output_type": "execute_result"
    }
   ],
   "source": [
    "v.reshape(10,-1)"
   ]
  },
  {
   "cell_type": "code",
   "execution_count": 221,
   "id": "5cdc3102",
   "metadata": {},
   "outputs": [
    {
     "data": {
      "text/plain": [
       "array([[1000,    2,    3,    4,    5,    6,    7,    8,    9,   10],\n",
       "       [  11,   12,   13,   14,   15,   16,   17,   18,   19,   20],\n",
       "       [  21,   22,   23,   24,   25,   26,   27,   28,   29,   30],\n",
       "       [  31,   32,   33,   34,   35,   36,   37,   38,   39,   40],\n",
       "       [  41,   42,   43,   44,   45,   46,   47,   48,   49,   50],\n",
       "       [  51,   52,   53,   54,   55,   56,   57,   58,   59,   60],\n",
       "       [  61,   62,   63,   64,   65,   66,   67,   68,   69,   70],\n",
       "       [  71,   72,   73,   74,   75,   76,   77,   78,   79,   80],\n",
       "       [  81,   82,   83,   84,   85,   86,   87,   88,   89,   90],\n",
       "       [  91,   92,   93,   94,   95,   96,   97,   98,   99,  100]])"
      ]
     },
     "execution_count": 221,
     "metadata": {},
     "output_type": "execute_result"
    }
   ],
   "source": [
    "cv[0,0] = 1000\n",
    "cv"
   ]
  },
  {
   "cell_type": "code",
   "execution_count": 222,
   "id": "bb9a5bb8",
   "metadata": {},
   "outputs": [
    {
     "data": {
      "text/plain": [
       "array([1000,    2,    3,    4,    5,    6,    7,    8,    9,   10,   11,\n",
       "         12,   13,   14,   15,   16,   17,   18,   19,   20,   21,   22,\n",
       "         23,   24,   25,   26,   27,   28,   29,   30,   31,   32,   33,\n",
       "         34,   35,   36,   37,   38,   39,   40,   41,   42,   43,   44,\n",
       "         45,   46,   47,   48,   49,   50,   51,   52,   53,   54,   55,\n",
       "         56,   57,   58,   59,   60,   61,   62,   63,   64,   65,   66,\n",
       "         67,   68,   69,   70,   71,   72,   73,   74,   75,   76,   77,\n",
       "         78,   79,   80,   81,   82,   83,   84,   85,   86,   87,   88,\n",
       "         89,   90,   91,   92,   93,   94,   95,   96,   97,   98,   99,\n",
       "        100])"
      ]
     },
     "execution_count": 222,
     "metadata": {},
     "output_type": "execute_result"
    }
   ],
   "source": [
    "v"
   ]
  },
  {
   "cell_type": "code",
   "execution_count": 223,
   "id": "8c99ce28",
   "metadata": {
    "scrolled": true
   },
   "outputs": [
    {
     "name": "stdout",
     "output_type": "stream",
     "text": [
      "(100,)\n",
      "[[1000]\n",
      " [   2]\n",
      " [   3]\n",
      " [   4]\n",
      " [   5]\n",
      " [   6]\n",
      " [   7]\n",
      " [   8]\n",
      " [   9]\n",
      " [  10]\n",
      " [  11]\n",
      " [  12]\n",
      " [  13]\n",
      " [  14]\n",
      " [  15]\n",
      " [  16]\n",
      " [  17]\n",
      " [  18]\n",
      " [  19]\n",
      " [  20]\n",
      " [  21]\n",
      " [  22]\n",
      " [  23]\n",
      " [  24]\n",
      " [  25]\n",
      " [  26]\n",
      " [  27]\n",
      " [  28]\n",
      " [  29]\n",
      " [  30]\n",
      " [  31]\n",
      " [  32]\n",
      " [  33]\n",
      " [  34]\n",
      " [  35]\n",
      " [  36]\n",
      " [  37]\n",
      " [  38]\n",
      " [  39]\n",
      " [  40]\n",
      " [  41]\n",
      " [  42]\n",
      " [  43]\n",
      " [  44]\n",
      " [  45]\n",
      " [  46]\n",
      " [  47]\n",
      " [  48]\n",
      " [  49]\n",
      " [  50]\n",
      " [  51]\n",
      " [  52]\n",
      " [  53]\n",
      " [  54]\n",
      " [  55]\n",
      " [  56]\n",
      " [  57]\n",
      " [  58]\n",
      " [  59]\n",
      " [  60]\n",
      " [  61]\n",
      " [  62]\n",
      " [  63]\n",
      " [  64]\n",
      " [  65]\n",
      " [  66]\n",
      " [  67]\n",
      " [  68]\n",
      " [  69]\n",
      " [  70]\n",
      " [  71]\n",
      " [  72]\n",
      " [  73]\n",
      " [  74]\n",
      " [  75]\n",
      " [  76]\n",
      " [  77]\n",
      " [  78]\n",
      " [  79]\n",
      " [  80]\n",
      " [  81]\n",
      " [  82]\n",
      " [  83]\n",
      " [  84]\n",
      " [  85]\n",
      " [  86]\n",
      " [  87]\n",
      " [  88]\n",
      " [  89]\n",
      " [  90]\n",
      " [  91]\n",
      " [  92]\n",
      " [  93]\n",
      " [  94]\n",
      " [  95]\n",
      " [  96]\n",
      " [  97]\n",
      " [  98]\n",
      " [  99]\n",
      " [ 100]]\n",
      "(100, 1)\n"
     ]
    }
   ],
   "source": [
    "print(v.shape)\n",
    "cc = v[:,np.newaxis]\n",
    "print(cc)\n",
    "print(cc.shape)"
   ]
  },
  {
   "cell_type": "code",
   "execution_count": 224,
   "id": "d7f7d2d0",
   "metadata": {},
   "outputs": [
    {
     "name": "stdout",
     "output_type": "stream",
     "text": [
      "[[1000]\n",
      " [   2]\n",
      " [   3]\n",
      " [   4]\n",
      " [   5]\n",
      " [   6]\n",
      " [   7]\n",
      " [  99]\n",
      " [   9]\n",
      " [  10]\n",
      " [  11]\n",
      " [  12]\n",
      " [  13]\n",
      " [  14]\n",
      " [  15]\n",
      " [  16]\n",
      " [  17]\n",
      " [  18]\n",
      " [  19]\n",
      " [  20]\n",
      " [  21]\n",
      " [  22]\n",
      " [  23]\n",
      " [  24]\n",
      " [  25]\n",
      " [  26]\n",
      " [  27]\n",
      " [  28]\n",
      " [  29]\n",
      " [  30]\n",
      " [  31]\n",
      " [  32]\n",
      " [  33]\n",
      " [  34]\n",
      " [  35]\n",
      " [  36]\n",
      " [  37]\n",
      " [  38]\n",
      " [  39]\n",
      " [  40]\n",
      " [  41]\n",
      " [  42]\n",
      " [  43]\n",
      " [  44]\n",
      " [  45]\n",
      " [  46]\n",
      " [  47]\n",
      " [  48]\n",
      " [  49]\n",
      " [  50]\n",
      " [  51]\n",
      " [  52]\n",
      " [  53]\n",
      " [  54]\n",
      " [  55]\n",
      " [  56]\n",
      " [  57]\n",
      " [  58]\n",
      " [  59]\n",
      " [  60]\n",
      " [  61]\n",
      " [  62]\n",
      " [  63]\n",
      " [  64]\n",
      " [  65]\n",
      " [  66]\n",
      " [  67]\n",
      " [  68]\n",
      " [  69]\n",
      " [  70]\n",
      " [  71]\n",
      " [  72]\n",
      " [  73]\n",
      " [  74]\n",
      " [  75]\n",
      " [  76]\n",
      " [  77]\n",
      " [  78]\n",
      " [  79]\n",
      " [  80]\n",
      " [  81]\n",
      " [  82]\n",
      " [  83]\n",
      " [  84]\n",
      " [  85]\n",
      " [  86]\n",
      " [  87]\n",
      " [  88]\n",
      " [  89]\n",
      " [  90]\n",
      " [  91]\n",
      " [  92]\n",
      " [  93]\n",
      " [  94]\n",
      " [  95]\n",
      " [  96]\n",
      " [  97]\n",
      " [  98]\n",
      " [  99]\n",
      " [ 100]]\n",
      "\n",
      "[1000    2    3    4    5    6    7   99    9   10   11   12   13   14\n",
      "   15   16   17   18   19   20   21   22   23   24   25   26   27   28\n",
      "   29   30   31   32   33   34   35   36   37   38   39   40   41   42\n",
      "   43   44   45   46   47   48   49   50   51   52   53   54   55   56\n",
      "   57   58   59   60   61   62   63   64   65   66   67   68   69   70\n",
      "   71   72   73   74   75   76   77   78   79   80   81   82   83   84\n",
      "   85   86   87   88   89   90   91   92   93   94   95   96   97   98\n",
      "   99  100] [[1000    2    3    4    5    6    7   99    9   10]\n",
      " [  11   12   13   14   15   16   17   18   19   20]\n",
      " [  21   22   23   24   25   26   27   28   29   30]\n",
      " [  31   32   33   34   35   36   37   38   39   40]\n",
      " [  41   42   43   44   45   46   47   48   49   50]\n",
      " [  51   52   53   54   55   56   57   58   59   60]\n",
      " [  61   62   63   64   65   66   67   68   69   70]\n",
      " [  71   72   73   74   75   76   77   78   79   80]\n",
      " [  81   82   83   84   85   86   87   88   89   90]\n",
      " [  91   92   93   94   95   96   97   98   99  100]]\n",
      "\n",
      "[[1000    2    3    4    5    6    7   99    9   10]\n",
      " [  11   12   13   14   15   16   17   18   19   20]\n",
      " [  21   22   23   24   25   26   27   28   29   30]\n",
      " [  31   32   33   34   35   36   37   38   39   40]\n",
      " [  41   42   43   44   45   46   47   48   49   50]\n",
      " [  51   52   53   54   55   56   57   58   59   60]\n",
      " [  61   62   63   64   65   66   67   68   69   70]\n",
      " [  71   72   73   74   75   76   77   78   79   80]\n",
      " [  81   82   83   84   85   86   87   88   89   90]\n",
      " [  91   92   93   94   95   96   97   98   99  100]]\n"
     ]
    }
   ],
   "source": [
    "cc[7,0] = 99\n",
    "print(cc)\n",
    "print()\n",
    "print(v,cv)\n",
    "print()\n",
    "print(cv)"
   ]
  },
  {
   "cell_type": "code",
   "execution_count": 225,
   "id": "cd3901a8",
   "metadata": {},
   "outputs": [
    {
     "data": {
      "text/plain": [
       "(array([1000,    2,    3,    4,    5,    6,    7,   99,    9,   10,   11,\n",
       "          12,   13,   14,   15,   16,   17,   18,   19,   20,   21,   22,\n",
       "          23,   24,   25,   26,   27,   28,   29,   30,   31,   32,   33,\n",
       "          34,   35,   36,   37,   38,   39,   40,   41,   42,   43,   44,\n",
       "          45,   46,   47,   48,   49,   50,   51,   52,   53,   54,   55,\n",
       "          56,   57,   58,   59,   60,   61,   62,   63,   64,   65,   66,\n",
       "          67,   68,   69,   70,   71,   72,   73,   74,   75,   76,   77,\n",
       "          78,   79,   80,   81,   82,   83,   84,   85,   86,   87,   88,\n",
       "          89,   90,   91,   92,   93,   94,   95,   96,   97,   98,   99,\n",
       "         100]),\n",
       " array([[1000,    2,    3,    4,    5,    6,    7,   99,    9,   10],\n",
       "        [  11,   12,   13,   14,   15,   16,   17,   18,   19,   20],\n",
       "        [  21,   22,   23,   24,   25,   26,   27,   28,   29,   30],\n",
       "        [  31,   32,   33,   34,   35,   36,   37,   38,   39,   40],\n",
       "        [  41,   42,   43,   44,   45,   46,   47,   48,   49,   50],\n",
       "        [  51,   52,   53,   54,   55,   56,   57,   58,   59,   60],\n",
       "        [  61,   62,   63,   64,   65,   66,   67,   68,   69,   70],\n",
       "        [  71,   72,   73,   74,   75,   76,   77,   78,   79,   80],\n",
       "        [  81,   82,   83,   84,   85,   86,   87,   88,   89,   90],\n",
       "        [  91,   92,   93,   94,   95,   96,   97,   98,   99,  100]]))"
      ]
     },
     "execution_count": 225,
     "metadata": {},
     "output_type": "execute_result"
    }
   ],
   "source": [
    "d = cv.flatten()\n",
    "d, cv"
   ]
  },
  {
   "cell_type": "code",
   "execution_count": 226,
   "id": "f92bdfda",
   "metadata": {},
   "outputs": [
    {
     "data": {
      "text/plain": [
       "array([1000,    2,    3,    4,    5,    6,    7,   99,    9,   10,   11,\n",
       "         12,   13,   14,   15,   16,   17,   18,   19,   20,   21,   22,\n",
       "         23,   24,   25,   26,   27,   28,   29,   30,   31,   32,   33,\n",
       "         34,   35,   36,   37,   38,   39,   40,   41,   42,   43,   44,\n",
       "         45,   46,   47,   48,   49,   50,   51,   52,   53,   54,   55,\n",
       "         56,   57,   58,   59,   60,   61,   62,   63,   64,   65,   66,\n",
       "         67,   68,   69,   70,   71,   72,   73,   74,   75,   76,   77,\n",
       "         78,   79,   80,   81,   82,   83,   84,   85,   86,   87,   88,\n",
       "         89,   90,   91,   92,   93,   94,   95,   96,   97,   98,   99,\n",
       "        100])"
      ]
     },
     "execution_count": 226,
     "metadata": {},
     "output_type": "execute_result"
    }
   ],
   "source": [
    "cv.reshape(-1)"
   ]
  },
  {
   "cell_type": "code",
   "execution_count": 227,
   "id": "01a921ad",
   "metadata": {},
   "outputs": [
    {
     "data": {
      "text/plain": [
       "array([[1000,    2,    3,    4,    5,    6,    7,   99,    9,   10],\n",
       "       [  11,   12,   13,   14,   15,   16,   17,   18,   19,   20],\n",
       "       [  21,   22,   23,   24,   25,   26,   27,   28,   29,   30],\n",
       "       [  31,   32,   33,   34,   35,   36,   37,   38,   39,   40],\n",
       "       [  41,   42,   43,   44,   45,   46,   47,   48,   49,   50],\n",
       "       [  51,   52,   53,   54,   55,   56,   57,   58,   59,   60],\n",
       "       [  61,   62,   63,   64,   65,   66,   67,   68,   69,   70],\n",
       "       [  71,   72,   73,   74,   75,   76,   77,   78,   79,   80],\n",
       "       [  81,   82,   83,   84,   85,   86,   87,   88,   89,   90],\n",
       "       [  91,   92,   93,   94,   95,   96,   97,   98,   99,  100]])"
      ]
     },
     "execution_count": 227,
     "metadata": {},
     "output_type": "execute_result"
    }
   ],
   "source": [
    "cv"
   ]
  },
  {
   "cell_type": "code",
   "execution_count": 228,
   "id": "5aee982e",
   "metadata": {},
   "outputs": [
    {
     "data": {
      "text/plain": [
       "(array([1000,    2,    3,    4,    5,    6,    7,   99,    9,   10,   11,\n",
       "          12,   13,   14,   15,   16,   17,   18,   19,   20,   21,   22,\n",
       "          23,   24,   25,   26,   27,   28,   29,   30,   31,   32,   33,\n",
       "          34,   35,   36,   37,   38,   39,   40,   41,   42,   43,   44,\n",
       "          45,   46,   47,   48,   49,   50,   51,   52,   53,   54,   55,\n",
       "          56,   57,   58,   59,   60,   61,   62,   63,   64,   65,   66,\n",
       "          67,   68,   69,   70,   71,   72,   73,   74,   75,   76,   77,\n",
       "          78,   79,   80,   81,   82,   83,   84,   85,   86,   87,   88,\n",
       "          89,   90,   91,   92,   93,   94,   95,   96,   97,   98,   99,\n",
       "         100]),\n",
       " array([[1000,    2,    3,    4,    5,    6,    7,   99,    9,   10],\n",
       "        [  11,   12,   13,   14,   15,   16,   17,   18,   19,   20],\n",
       "        [  21,   22,   23,   24,   25,   26,   27,   28,   29,   30],\n",
       "        [  31,   32,   33,   34,   35,   36,   37,   38,   39,   40],\n",
       "        [  41,   42,   43,   44,   45,   46,   47,   48,   49,   50],\n",
       "        [  51,   52,   53,   54,   55,   56,   57,   58,   59,   60],\n",
       "        [  61,   62,   63,   64,   65,   66,   67,   68,   69,   70],\n",
       "        [  71,   72,   73,   74,   75,   76,   77,   78,   79,   80],\n",
       "        [  81,   82,   83,   84,   85,   86,   87,   88,   89,   90],\n",
       "        [  91,   92,   93,   94,   95,   96,   97,   98,   99,  100]]))"
      ]
     },
     "execution_count": 228,
     "metadata": {},
     "output_type": "execute_result"
    }
   ],
   "source": [
    "a = cv.reshape(-1)\n",
    "a,cv"
   ]
  },
  {
   "cell_type": "code",
   "execution_count": 229,
   "id": "e4366019",
   "metadata": {},
   "outputs": [
    {
     "data": {
      "text/plain": [
       "(array([ 88,   2,   3,   4,   5,   6,   7,  99,   9,  10,  11,  12,  13,\n",
       "         14,  15,  16,  17,  18,  19,  20,  21,  22,  23,  24,  25,  26,\n",
       "         27,  28,  29,  30,  31,  32,  33,  34,  35,  36,  37,  38,  39,\n",
       "         40,  41,  42,  43,  44,  45,  46,  47,  48,  49,  50,  51,  52,\n",
       "         53,  54,  55,  56,  57,  58,  59,  60,  61,  62,  63,  64,  65,\n",
       "         66,  67,  68,  69,  70,  71,  72,  73,  74,  75,  76,  77,  78,\n",
       "         79,  80,  81,  82,  83,  84,  85,  86,  87,  88,  89,  90,  91,\n",
       "         92,  93,  94,  95,  96,  97,  98,  99, 100]),\n",
       " array([[ 88,   2,   3,   4,   5,   6,   7,  99,   9,  10],\n",
       "        [ 11,  12,  13,  14,  15,  16,  17,  18,  19,  20],\n",
       "        [ 21,  22,  23,  24,  25,  26,  27,  28,  29,  30],\n",
       "        [ 31,  32,  33,  34,  35,  36,  37,  38,  39,  40],\n",
       "        [ 41,  42,  43,  44,  45,  46,  47,  48,  49,  50],\n",
       "        [ 51,  52,  53,  54,  55,  56,  57,  58,  59,  60],\n",
       "        [ 61,  62,  63,  64,  65,  66,  67,  68,  69,  70],\n",
       "        [ 71,  72,  73,  74,  75,  76,  77,  78,  79,  80],\n",
       "        [ 81,  82,  83,  84,  85,  86,  87,  88,  89,  90],\n",
       "        [ 91,  92,  93,  94,  95,  96,  97,  98,  99, 100]]))"
      ]
     },
     "execution_count": 229,
     "metadata": {},
     "output_type": "execute_result"
    }
   ],
   "source": [
    "a[0] = 88\n",
    "a,cv"
   ]
  },
  {
   "cell_type": "code",
   "execution_count": 230,
   "id": "e76fdc17",
   "metadata": {},
   "outputs": [
    {
     "data": {
      "text/plain": [
       "(array([ 88,   2,   3,   4,   5,   6,   7,  99,   9,  10,  11,  12,  13,\n",
       "         14,  15,  16,  17,  18,  19,  20,  21,  22,  23,  24,  25,  26,\n",
       "         27,  28,  29,  30,  31,  32,  33,  34,  35,  36,  37,  38,  39,\n",
       "         40,  41,  42,  43,  44,  45,  46,  47,  48,  49,  50,  51,  52,\n",
       "         53,  54,  55,  56,  57,  58,  59,  60,  61,  62,  63,  64,  65,\n",
       "         66,  67,  68,  69,  70,  71,  72,  73,  74,  75,  76,  77,  78,\n",
       "         79,  80,  81,  82,  83,  84,  85,  86,  87,  88,  89,  90,  91,\n",
       "         92,  93,  94,  95,  96,  97,  98,  99, 100]),\n",
       " array([[ 88,   2,   3,   4,   5,   6,   7,  99,   9,  10],\n",
       "        [ 11,  12,  13,  14,  15,  16,  17,  18,  19,  20],\n",
       "        [ 21,  22,  23,  24,  25,  26,  27,  28,  29,  30],\n",
       "        [ 31,  32,  33,  34,  35,  36,  37,  38,  39,  40],\n",
       "        [ 41,  42,  43,  44,  45,  46,  47,  48,  49,  50],\n",
       "        [ 51,  52,  53,  54,  55,  56,  57,  58,  59,  60],\n",
       "        [ 61,  62,  63,  64,  65,  66,  67,  68,  69,  70],\n",
       "        [ 71,  72,  73,  74,  75,  76,  77,  78,  79,  80],\n",
       "        [ 81,  82,  83,  84,  85,  86,  87,  88,  89,  90],\n",
       "        [ 91,  92,  93,  94,  95,  96,  97,  98,  99, 100]]))"
      ]
     },
     "execution_count": 230,
     "metadata": {},
     "output_type": "execute_result"
    }
   ],
   "source": [
    "b = cv.flatten()\n",
    "b,cv"
   ]
  },
  {
   "cell_type": "code",
   "execution_count": 231,
   "id": "ddd16952",
   "metadata": {},
   "outputs": [
    {
     "data": {
      "text/plain": [
       "(array([900,   2,   3,   4,   5,   6,   7,  99,   9,  10,  11,  12,  13,\n",
       "         14,  15,  16,  17,  18,  19,  20,  21,  22,  23,  24,  25,  26,\n",
       "         27,  28,  29,  30,  31,  32,  33,  34,  35,  36,  37,  38,  39,\n",
       "         40,  41,  42,  43,  44,  45,  46,  47,  48,  49,  50,  51,  52,\n",
       "         53,  54,  55,  56,  57,  58,  59,  60,  61,  62,  63,  64,  65,\n",
       "         66,  67,  68,  69,  70,  71,  72,  73,  74,  75,  76,  77,  78,\n",
       "         79,  80,  81,  82,  83,  84,  85,  86,  87,  88,  89,  90,  91,\n",
       "         92,  93,  94,  95,  96,  97,  98,  99, 100]),\n",
       " array([[ 88,   2,   3,   4,   5,   6,   7,  99,   9,  10],\n",
       "        [ 11,  12,  13,  14,  15,  16,  17,  18,  19,  20],\n",
       "        [ 21,  22,  23,  24,  25,  26,  27,  28,  29,  30],\n",
       "        [ 31,  32,  33,  34,  35,  36,  37,  38,  39,  40],\n",
       "        [ 41,  42,  43,  44,  45,  46,  47,  48,  49,  50],\n",
       "        [ 51,  52,  53,  54,  55,  56,  57,  58,  59,  60],\n",
       "        [ 61,  62,  63,  64,  65,  66,  67,  68,  69,  70],\n",
       "        [ 71,  72,  73,  74,  75,  76,  77,  78,  79,  80],\n",
       "        [ 81,  82,  83,  84,  85,  86,  87,  88,  89,  90],\n",
       "        [ 91,  92,  93,  94,  95,  96,  97,  98,  99, 100]]))"
      ]
     },
     "execution_count": 231,
     "metadata": {},
     "output_type": "execute_result"
    }
   ],
   "source": [
    "b[0] = 900\n",
    "b,cv"
   ]
  },
  {
   "cell_type": "code",
   "execution_count": 232,
   "id": "4818e2a6",
   "metadata": {},
   "outputs": [
    {
     "name": "stdout",
     "output_type": "stream",
     "text": [
      "[ 8 16  6]\n",
      "\n",
      "[10 12  8]\n",
      "\n",
      "[10 12  8]\n",
      "\n",
      "30\n"
     ]
    }
   ],
   "source": [
    "po = np.array([[3,5,2],[2,9,1],[3,2,3]])\n",
    "print(np.sum(po,axis = 0)) # (Axis Big No. -(minus) 1) means Sum of Rows\n",
    "print()\n",
    "print(np.sum(po,axis = 1)) # Asix Big No. means Sum of Columns\n",
    "print()\n",
    "print(np.sum(po,axis = -1)) # Sum of Columns\n",
    "print()\n",
    "print(np.sum(po,axis = None)) # Sum of all numbers"
   ]
  },
  {
   "cell_type": "markdown",
   "id": "cad6461d",
   "metadata": {},
   "source": [
    "### New Matrix and specifying axis in function\n",
    "\n",
    "> **1. zeros** <br>\n",
    "> **2. ones** <br>\n",
    "> **3. eye**"
   ]
  },
  {
   "cell_type": "code",
   "execution_count": 233,
   "id": "dd044531",
   "metadata": {},
   "outputs": [
    {
     "ename": "TypeError",
     "evalue": "Cannot interpret '7' as a data type",
     "output_type": "error",
     "traceback": [
      "\u001b[1;31m---------------------------------------------------------------------------\u001b[0m",
      "\u001b[1;31mTypeError\u001b[0m                                 Traceback (most recent call last)",
      "Cell \u001b[1;32mIn[233], line 1\u001b[0m\n\u001b[1;32m----> 1\u001b[0m \u001b[43mnp\u001b[49m\u001b[38;5;241;43m.\u001b[39;49m\u001b[43mzeros\u001b[49m\u001b[43m(\u001b[49m\u001b[38;5;241;43m3\u001b[39;49m\u001b[43m,\u001b[49m\u001b[38;5;241;43m7\u001b[39;49m\u001b[43m)\u001b[49m\n",
      "\u001b[1;31mTypeError\u001b[0m: Cannot interpret '7' as a data type"
     ]
    }
   ],
   "source": [
    "np.zeros(3,7)"
   ]
  },
  {
   "cell_type": "code",
   "execution_count": 234,
   "id": "4ccbeaa8",
   "metadata": {},
   "outputs": [
    {
     "data": {
      "text/plain": [
       "array([0., 0., 0., 0., 0., 0., 0.])"
      ]
     },
     "execution_count": 234,
     "metadata": {},
     "output_type": "execute_result"
    }
   ],
   "source": [
    "np.zeros(7)"
   ]
  },
  {
   "cell_type": "code",
   "execution_count": 235,
   "id": "71cd852b",
   "metadata": {},
   "outputs": [
    {
     "data": {
      "text/plain": [
       "array([[0., 0., 0., 0., 0., 0., 0.],\n",
       "       [0., 0., 0., 0., 0., 0., 0.],\n",
       "       [0., 0., 0., 0., 0., 0., 0.]])"
      ]
     },
     "execution_count": 235,
     "metadata": {},
     "output_type": "execute_result"
    }
   ],
   "source": [
    "np.zeros((3,7))"
   ]
  },
  {
   "cell_type": "code",
   "execution_count": 236,
   "id": "d37778a1",
   "metadata": {},
   "outputs": [
    {
     "data": {
      "text/plain": [
       "array([[0., 0., 0., 0., 0., 0., 0.],\n",
       "       [0., 0., 0., 0., 0., 0., 0.],\n",
       "       [0., 0., 0., 0., 0., 0., 0.]])"
      ]
     },
     "execution_count": 236,
     "metadata": {},
     "output_type": "execute_result"
    }
   ],
   "source": [
    "np.zeros([3,7])"
   ]
  },
  {
   "cell_type": "code",
   "execution_count": 237,
   "id": "a61d20f2",
   "metadata": {},
   "outputs": [
    {
     "data": {
      "text/plain": [
       "array([[[[[0., 0., 0., 0., 0., 0., 0.],\n",
       "          [0., 0., 0., 0., 0., 0., 0.],\n",
       "          [0., 0., 0., 0., 0., 0., 0.]]]],\n",
       "\n",
       "\n",
       "\n",
       "       [[[[0., 0., 0., 0., 0., 0., 0.],\n",
       "          [0., 0., 0., 0., 0., 0., 0.],\n",
       "          [0., 0., 0., 0., 0., 0., 0.]]]]])"
      ]
     },
     "execution_count": 237,
     "metadata": {},
     "output_type": "execute_result"
    }
   ],
   "source": [
    "np.zeros([2,1,1,3,7])"
   ]
  },
  {
   "cell_type": "code",
   "execution_count": 238,
   "id": "c475d912",
   "metadata": {},
   "outputs": [
    {
     "data": {
      "text/plain": [
       "array([0., 0., 0., 0., 0., 0., 0., 0., 0., 0.])"
      ]
     },
     "execution_count": 238,
     "metadata": {},
     "output_type": "execute_result"
    }
   ],
   "source": [
    "np.zeros(10)"
   ]
  },
  {
   "cell_type": "code",
   "execution_count": 239,
   "id": "c7199803",
   "metadata": {},
   "outputs": [
    {
     "data": {
      "text/plain": [
       "array([[1., 1., 1., 1., 1.],\n",
       "       [1., 1., 1., 1., 1.],\n",
       "       [1., 1., 1., 1., 1.],\n",
       "       [1., 1., 1., 1., 1.],\n",
       "       [1., 1., 1., 1., 1.],\n",
       "       [1., 1., 1., 1., 1.],\n",
       "       [1., 1., 1., 1., 1.],\n",
       "       [1., 1., 1., 1., 1.],\n",
       "       [1., 1., 1., 1., 1.],\n",
       "       [1., 1., 1., 1., 1.]])"
      ]
     },
     "execution_count": 239,
     "metadata": {},
     "output_type": "execute_result"
    }
   ],
   "source": [
    "np.ones((10,5))"
   ]
  },
  {
   "cell_type": "code",
   "execution_count": 240,
   "id": "1935a9b0",
   "metadata": {},
   "outputs": [
    {
     "data": {
      "text/plain": [
       "array([1, 1, 1, 1, 1, 1, 1, 1, 1, 1, 1, 1])"
      ]
     },
     "execution_count": 240,
     "metadata": {},
     "output_type": "execute_result"
    }
   ],
   "source": [
    "np.ones(12, dtype = int)"
   ]
  },
  {
   "cell_type": "code",
   "execution_count": 241,
   "id": "e2a21b75",
   "metadata": {},
   "outputs": [
    {
     "data": {
      "text/plain": [
       "array([2, 2, 2, 2, 2, 2, 2, 2, 2, 2, 2, 2])"
      ]
     },
     "execution_count": 241,
     "metadata": {},
     "output_type": "execute_result"
    }
   ],
   "source": [
    "2*np.ones(12, dtype = int)"
   ]
  },
  {
   "cell_type": "code",
   "execution_count": 242,
   "id": "8596694d",
   "metadata": {},
   "outputs": [
    {
     "data": {
      "text/plain": [
       "array([[1., 0., 0., 0.],\n",
       "       [0., 1., 0., 0.],\n",
       "       [0., 0., 1., 0.],\n",
       "       [0., 0., 0., 1.]])"
      ]
     },
     "execution_count": 242,
     "metadata": {},
     "output_type": "execute_result"
    }
   ],
   "source": [
    "# Identity matrics (eye(Diagonal Matrix))\n",
    "\n",
    "np.eye(round(3.5))"
   ]
  },
  {
   "cell_type": "code",
   "execution_count": 243,
   "id": "ba91da43",
   "metadata": {},
   "outputs": [
    {
     "data": {
      "text/plain": [
       "array([[5., 0., 0.],\n",
       "       [0., 5., 0.],\n",
       "       [0., 0., 5.]])"
      ]
     },
     "execution_count": 243,
     "metadata": {},
     "output_type": "execute_result"
    }
   ],
   "source": [
    "5*np.eye(3)"
   ]
  },
  {
   "cell_type": "code",
   "execution_count": 244,
   "id": "1f4c9fef",
   "metadata": {},
   "outputs": [
    {
     "data": {
      "text/plain": [
       "array([[4, 5, 6, 2],\n",
       "       [1, 2, 3, 4],\n",
       "       [3, 4, 5, 6]])"
      ]
     },
     "execution_count": 244,
     "metadata": {},
     "output_type": "execute_result"
    }
   ],
   "source": [
    "mat = np.array([[4, 5, 6, 2],\n",
    "       [1, 2, 3, 4],\n",
    "       [3, 4, 5, 6]])\n",
    "mat"
   ]
  },
  {
   "cell_type": "code",
   "execution_count": 245,
   "id": "91888a6c",
   "metadata": {},
   "outputs": [
    {
     "name": "stdout",
     "output_type": "stream",
     "text": [
      "45\n",
      "[ 8 11 14 12]\n",
      "[17 10 18]\n"
     ]
    }
   ],
   "source": [
    "print(mat.sum())\n",
    "print(mat.sum(axis = 0))\n",
    "print(mat.sum(axis = 1))"
   ]
  },
  {
   "cell_type": "code",
   "execution_count": 247,
   "id": "c3d4b6d4",
   "metadata": {},
   "outputs": [
    {
     "name": "stdout",
     "output_type": "stream",
     "text": [
      "[4, 2, 5]\n"
     ]
    },
    {
     "data": {
      "text/plain": [
       "3.6666666666666665"
      ]
     },
     "execution_count": 247,
     "metadata": {},
     "output_type": "execute_result"
    }
   ],
   "source": [
    "a = [mat[0,0],mat[1,1],mat[2,2]]\n",
    "print(a)\n",
    "np.mean(a)"
   ]
  },
  {
   "cell_type": "markdown",
   "id": "499ca17f",
   "metadata": {},
   "source": [
    "### Boolean Matrix\n",
    "\n",
    "> **1. nan** <br>\n",
    "> **2. isnan** <br>"
   ]
  },
  {
   "cell_type": "code",
   "execution_count": 248,
   "id": "91de69b8",
   "metadata": {},
   "outputs": [
    {
     "name": "stdout",
     "output_type": "stream",
     "text": [
      "[ True False  True False]\n",
      "bool\n"
     ]
    }
   ],
   "source": [
    "ve = np.array([True, False, True, False])\n",
    "print(ve)\n",
    "print(ve.dtype)"
   ]
  },
  {
   "cell_type": "code",
   "execution_count": 249,
   "id": "3888aa6a",
   "metadata": {},
   "outputs": [
    {
     "data": {
      "text/plain": [
       "array([[ True, False],\n",
       "       [ True, False]])"
      ]
     },
     "execution_count": 249,
     "metadata": {},
     "output_type": "execute_result"
    }
   ],
   "source": [
    "ve1 = ve.reshape(2,-1)\n",
    "ve1"
   ]
  },
  {
   "cell_type": "code",
   "execution_count": 250,
   "id": "d7e4268c",
   "metadata": {},
   "outputs": [
    {
     "data": {
      "text/plain": [
       "array([[0, 1, 2, 3, 4],\n",
       "       [5, 6, 7, 8, 9]])"
      ]
     },
     "execution_count": 250,
     "metadata": {},
     "output_type": "execute_result"
    }
   ],
   "source": [
    "ma1 = np.arange(10).reshape(2,5)\n",
    "ma1"
   ]
  },
  {
   "cell_type": "code",
   "execution_count": 251,
   "id": "e0d0412e",
   "metadata": {},
   "outputs": [
    {
     "data": {
      "text/plain": [
       "array([[ True,  True,  True,  True,  True],\n",
       "       [False, False, False, False, False]])"
      ]
     },
     "execution_count": 251,
     "metadata": {},
     "output_type": "execute_result"
    }
   ],
   "source": [
    "ma1 < 5"
   ]
  },
  {
   "cell_type": "code",
   "execution_count": 252,
   "id": "62da4b10",
   "metadata": {},
   "outputs": [
    {
     "name": "stdout",
     "output_type": "stream",
     "text": [
      "False\n",
      "True\n",
      "False\n",
      "\n",
      "True\n",
      "True\n",
      "False\n"
     ]
    }
   ],
   "source": [
    "ma2 = ma1 < 5\n",
    "print(ma2.all())\n",
    "print(ma2[0].all())\n",
    "print(ma2[1].all())\n",
    "print()\n",
    "print(ma2.any())\n",
    "print(ma2[0].any())\n",
    "print(ma2[1].any())"
   ]
  },
  {
   "cell_type": "code",
   "execution_count": 253,
   "id": "5b177740",
   "metadata": {},
   "outputs": [
    {
     "name": "stdout",
     "output_type": "stream",
     "text": [
      "[ True False]\n",
      "[False False False False False]\n",
      "\n",
      "[ True False]\n",
      "[ True  True  True  True  True]\n"
     ]
    }
   ],
   "source": [
    "print(ma2.all(axis = 1))\n",
    "print(ma2.all(axis = 0))\n",
    "print()\n",
    "print(ma2.any(axis = 1))\n",
    "print(ma2.any(axis = 0))"
   ]
  },
  {
   "cell_type": "code",
   "execution_count": 254,
   "id": "22d0f775",
   "metadata": {},
   "outputs": [
    {
     "data": {
      "text/plain": [
       "array([[ 1.,  2.,  4., 56.,  5.],\n",
       "       [ 1.,  2.,  4., 56., nan]])"
      ]
     },
     "execution_count": 254,
     "metadata": {},
     "output_type": "execute_result"
    }
   ],
   "source": [
    "vee = np.array([[1,2,4,56,5],[1,2,4,56,np.nan]])\n",
    "vee"
   ]
  },
  {
   "cell_type": "code",
   "execution_count": 255,
   "id": "475ea2fe",
   "metadata": {},
   "outputs": [
    {
     "name": "stdout",
     "output_type": "stream",
     "text": [
      "[[False False False False False]\n",
      " [False False False False  True]]\n",
      "True\n",
      "False\n"
     ]
    }
   ],
   "source": [
    "print(np.isnan(vee))\n",
    "print(np.isnan(vee).any())\n",
    "print(np.isnan(vee).all())"
   ]
  },
  {
   "cell_type": "markdown",
   "id": "c5c4a8ab",
   "metadata": {},
   "source": [
    "### linspace (equally spaced)"
   ]
  },
  {
   "cell_type": "code",
   "execution_count": 257,
   "id": "a54d5caa",
   "metadata": {},
   "outputs": [
    {
     "data": {
      "text/plain": [
       "array([ 5.        ,  5.20408163,  5.40816327,  5.6122449 ,  5.81632653,\n",
       "        6.02040816,  6.2244898 ,  6.42857143,  6.63265306,  6.83673469,\n",
       "        7.04081633,  7.24489796,  7.44897959,  7.65306122,  7.85714286,\n",
       "        8.06122449,  8.26530612,  8.46938776,  8.67346939,  8.87755102,\n",
       "        9.08163265,  9.28571429,  9.48979592,  9.69387755,  9.89795918,\n",
       "       10.10204082, 10.30612245, 10.51020408, 10.71428571, 10.91836735,\n",
       "       11.12244898, 11.32653061, 11.53061224, 11.73469388, 11.93877551,\n",
       "       12.14285714, 12.34693878, 12.55102041, 12.75510204, 12.95918367,\n",
       "       13.16326531, 13.36734694, 13.57142857, 13.7755102 , 13.97959184,\n",
       "       14.18367347, 14.3877551 , 14.59183673, 14.79591837, 15.        ])"
      ]
     },
     "execution_count": 257,
     "metadata": {},
     "output_type": "execute_result"
    }
   ],
   "source": [
    "np.linspace(5,15)"
   ]
  },
  {
   "cell_type": "code",
   "execution_count": 258,
   "id": "37ede786",
   "metadata": {},
   "outputs": [
    {
     "data": {
      "text/plain": [
       "array(['5.0', '5.101010101010101', '5.202020202020202',\n",
       "       '5.303030303030303', '5.404040404040404', '5.505050505050505',\n",
       "       '5.606060606060606', '5.707070707070707', '5.808080808080808',\n",
       "       '5.909090909090909', '6.01010101010101', '6.111111111111111',\n",
       "       '6.212121212121212', '6.313131313131313', '6.414141414141414',\n",
       "       '6.515151515151516', '6.616161616161616', '6.717171717171717',\n",
       "       '6.818181818181818', '6.919191919191919', '7.020202020202021',\n",
       "       '7.121212121212121', '7.222222222222222', '7.3232323232323235',\n",
       "       '7.424242424242424', '7.525252525252525', '7.626262626262626',\n",
       "       '7.727272727272727', '7.828282828282829', '7.929292929292929',\n",
       "       '8.030303030303031', '8.131313131313131', '8.232323232323232',\n",
       "       '8.333333333333334', '8.434343434343434', '8.535353535353536',\n",
       "       '8.636363636363637', '8.737373737373737', '8.838383838383837',\n",
       "       '8.93939393939394', '9.040404040404042', '9.141414141414142',\n",
       "       '9.242424242424242', '9.343434343434343', '9.444444444444445',\n",
       "       '9.545454545454545', '9.646464646464647', '9.747474747474747',\n",
       "       '9.848484848484848', '9.94949494949495', '10.05050505050505',\n",
       "       '10.151515151515152', '10.252525252525253', '10.353535353535353',\n",
       "       '10.454545454545453', '10.555555555555555', '10.656565656565657',\n",
       "       '10.757575757575758', '10.858585858585858', '10.959595959595958',\n",
       "       '11.06060606060606', '11.161616161616163', '11.262626262626263',\n",
       "       '11.363636363636363', '11.464646464646464', '11.565656565656566',\n",
       "       '11.666666666666668', '11.767676767676768', '11.868686868686869',\n",
       "       '11.969696969696969', '12.070707070707071', '12.171717171717171',\n",
       "       '12.272727272727273', '12.373737373737374', '12.474747474747474',\n",
       "       '12.575757575757574', '12.676767676767676', '12.777777777777779',\n",
       "       '12.878787878787879', '12.97979797979798', '13.080808080808081',\n",
       "       '13.181818181818182', '13.282828282828282', '13.383838383838384',\n",
       "       '13.484848484848484', '13.585858585858587', '13.686868686868687',\n",
       "       '13.787878787878787', '13.88888888888889', '13.98989898989899',\n",
       "       '14.09090909090909', '14.191919191919192', '14.292929292929292',\n",
       "       '14.393939393939394', '14.494949494949495', '14.595959595959595',\n",
       "       '14.696969696969697', '14.797979797979798', '14.8989898989899',\n",
       "       '15.0'], dtype='<U32')"
      ]
     },
     "execution_count": 258,
     "metadata": {},
     "output_type": "execute_result"
    }
   ],
   "source": [
    "np.linspace(5,15,100, dtype = str,axis = -1)"
   ]
  },
  {
   "cell_type": "code",
   "execution_count": 259,
   "id": "8ac6fd19",
   "metadata": {},
   "outputs": [
    {
     "data": {
      "text/plain": [
       "array(['5.0', '5.101010101010101', '5.202020202020202',\n",
       "       '5.303030303030303', '5.404040404040404', '5.505050505050505',\n",
       "       '5.606060606060606', '5.707070707070707', '5.808080808080808',\n",
       "       '5.909090909090909', '6.01010101010101', '6.111111111111111',\n",
       "       '6.212121212121212', '6.313131313131313', '6.414141414141414',\n",
       "       '6.515151515151516', '6.616161616161616', '6.717171717171717',\n",
       "       '6.818181818181818', '6.919191919191919', '7.020202020202021',\n",
       "       '7.121212121212121', '7.222222222222222', '7.3232323232323235',\n",
       "       '7.424242424242424', '7.525252525252525', '7.626262626262626',\n",
       "       '7.727272727272727', '7.828282828282829', '7.929292929292929',\n",
       "       '8.030303030303031', '8.131313131313131', '8.232323232323232',\n",
       "       '8.333333333333334', '8.434343434343434', '8.535353535353536',\n",
       "       '8.636363636363637', '8.737373737373737', '8.838383838383837',\n",
       "       '8.93939393939394', '9.040404040404042', '9.141414141414142',\n",
       "       '9.242424242424242', '9.343434343434343', '9.444444444444445',\n",
       "       '9.545454545454545', '9.646464646464647', '9.747474747474747',\n",
       "       '9.848484848484848', '9.94949494949495', '10.05050505050505',\n",
       "       '10.151515151515152', '10.252525252525253', '10.353535353535353',\n",
       "       '10.454545454545453', '10.555555555555555', '10.656565656565657',\n",
       "       '10.757575757575758', '10.858585858585858', '10.959595959595958',\n",
       "       '11.06060606060606', '11.161616161616163', '11.262626262626263',\n",
       "       '11.363636363636363', '11.464646464646464', '11.565656565656566',\n",
       "       '11.666666666666668', '11.767676767676768', '11.868686868686869',\n",
       "       '11.969696969696969', '12.070707070707071', '12.171717171717171',\n",
       "       '12.272727272727273', '12.373737373737374', '12.474747474747474',\n",
       "       '12.575757575757574', '12.676767676767676', '12.777777777777779',\n",
       "       '12.878787878787879', '12.97979797979798', '13.080808080808081',\n",
       "       '13.181818181818182', '13.282828282828282', '13.383838383838384',\n",
       "       '13.484848484848484', '13.585858585858587', '13.686868686868687',\n",
       "       '13.787878787878787', '13.88888888888889', '13.98989898989899',\n",
       "       '14.09090909090909', '14.191919191919192', '14.292929292929292',\n",
       "       '14.393939393939394', '14.494949494949495', '14.595959595959595',\n",
       "       '14.696969696969697', '14.797979797979798', '14.8989898989899',\n",
       "       '15.0'], dtype='<U32')"
      ]
     },
     "execution_count": 259,
     "metadata": {},
     "output_type": "execute_result"
    }
   ],
   "source": [
    "np.linspace(5,15,100, dtype = str,axis = 0)"
   ]
  },
  {
   "cell_type": "code",
   "execution_count": 260,
   "id": "81b41657",
   "metadata": {},
   "outputs": [
    {
     "data": {
      "text/plain": [
       "array([[[ 5,  5,  5,  5,  5,  5,  5,  5,  5,  5,  6,  6,  6,  6,  6,  6,\n",
       "          6,  6,  6,  6,  7,  7,  7,  7,  7,  7,  7,  7,  7,  7,  8,  8,\n",
       "          8,  8,  8,  8,  8,  8,  8,  8,  9,  9,  9,  9,  9,  9,  9,  9,\n",
       "          9,  9, 10, 10, 10, 10, 10, 10, 10, 10, 10, 10, 11, 11, 11, 11,\n",
       "         11, 11, 11, 11, 11, 11, 12, 12, 12, 12, 12, 12, 12, 12, 12, 12,\n",
       "         13, 13, 13, 13, 13, 13, 13, 13, 13, 13, 14, 14, 14, 14, 14, 14,\n",
       "         14, 14, 14, 15]]])"
      ]
     },
     "execution_count": 260,
     "metadata": {},
     "output_type": "execute_result"
    }
   ],
   "source": [
    "np.array(np.linspace(5,15,100, dtype = int,axis = 0), ndmin = 3)"
   ]
  },
  {
   "cell_type": "markdown",
   "id": "d4fb4d61",
   "metadata": {},
   "source": [
    "### Broadcasting"
   ]
  },
  {
   "cell_type": "code",
   "execution_count": 261,
   "id": "08dc9daf",
   "metadata": {},
   "outputs": [
    {
     "data": {
      "text/plain": [
       "(array([1, 2, 3, 4, 5, 6, 7]),\n",
       " (7,),\n",
       " array([[0., 0., 0., 0., 0., 0., 0.],\n",
       "        [0., 0., 0., 0., 0., 0., 0.],\n",
       "        [0., 0., 0., 0., 0., 0., 0.]]),\n",
       " (3, 7))"
      ]
     },
     "execution_count": 261,
     "metadata": {},
     "output_type": "execute_result"
    }
   ],
   "source": [
    "vector = np.arange(1,8)\n",
    "matrix = np.zeros((3,7))\n",
    "vector, vector.shape, matrix, matrix.shape"
   ]
  },
  {
   "cell_type": "code",
   "execution_count": 262,
   "id": "8f0d4d7b",
   "metadata": {},
   "outputs": [
    {
     "data": {
      "text/plain": [
       "array([[1, 2, 3, 4, 5, 6, 7]])"
      ]
     },
     "execution_count": 262,
     "metadata": {},
     "output_type": "execute_result"
    }
   ],
   "source": [
    "vector1 = vector[np.newaxis,:]\n",
    "vector1"
   ]
  },
  {
   "cell_type": "code",
   "execution_count": 263,
   "id": "95ec9a25",
   "metadata": {},
   "outputs": [
    {
     "data": {
      "text/plain": [
       "(1, 7)"
      ]
     },
     "execution_count": 263,
     "metadata": {},
     "output_type": "execute_result"
    }
   ],
   "source": [
    "vector1.shape"
   ]
  },
  {
   "cell_type": "code",
   "execution_count": 265,
   "id": "2d23590d",
   "metadata": {},
   "outputs": [
    {
     "data": {
      "text/html": [
       "<div>\n",
       "<style scoped>\n",
       "    .dataframe tbody tr th:only-of-type {\n",
       "        vertical-align: middle;\n",
       "    }\n",
       "\n",
       "    .dataframe tbody tr th {\n",
       "        vertical-align: top;\n",
       "    }\n",
       "\n",
       "    .dataframe thead th {\n",
       "        text-align: right;\n",
       "    }\n",
       "</style>\n",
       "<table border=\"1\" class=\"dataframe\">\n",
       "  <thead>\n",
       "    <tr style=\"text-align: right;\">\n",
       "      <th></th>\n",
       "      <th>0</th>\n",
       "      <th>1</th>\n",
       "      <th>2</th>\n",
       "      <th>3</th>\n",
       "      <th>4</th>\n",
       "      <th>5</th>\n",
       "      <th>6</th>\n",
       "    </tr>\n",
       "  </thead>\n",
       "  <tbody>\n",
       "    <tr>\n",
       "      <th>0</th>\n",
       "      <td>1</td>\n",
       "      <td>2</td>\n",
       "      <td>3</td>\n",
       "      <td>4</td>\n",
       "      <td>5</td>\n",
       "      <td>6</td>\n",
       "      <td>7</td>\n",
       "    </tr>\n",
       "  </tbody>\n",
       "</table>\n",
       "</div>"
      ],
      "text/plain": [
       "   0  1  2  3  4  5  6\n",
       "0  1  2  3  4  5  6  7"
      ]
     },
     "execution_count": 265,
     "metadata": {},
     "output_type": "execute_result"
    }
   ],
   "source": [
    "pd.DataFrame(vector1)"
   ]
  },
  {
   "cell_type": "code",
   "execution_count": 266,
   "id": "ca59201d",
   "metadata": {},
   "outputs": [
    {
     "data": {
      "text/html": [
       "<div>\n",
       "<style scoped>\n",
       "    .dataframe tbody tr th:only-of-type {\n",
       "        vertical-align: middle;\n",
       "    }\n",
       "\n",
       "    .dataframe tbody tr th {\n",
       "        vertical-align: top;\n",
       "    }\n",
       "\n",
       "    .dataframe thead th {\n",
       "        text-align: right;\n",
       "    }\n",
       "</style>\n",
       "<table border=\"1\" class=\"dataframe\">\n",
       "  <thead>\n",
       "    <tr style=\"text-align: right;\">\n",
       "      <th></th>\n",
       "      <th>0</th>\n",
       "    </tr>\n",
       "  </thead>\n",
       "  <tbody>\n",
       "    <tr>\n",
       "      <th>0</th>\n",
       "      <td>1</td>\n",
       "    </tr>\n",
       "    <tr>\n",
       "      <th>1</th>\n",
       "      <td>2</td>\n",
       "    </tr>\n",
       "    <tr>\n",
       "      <th>2</th>\n",
       "      <td>3</td>\n",
       "    </tr>\n",
       "    <tr>\n",
       "      <th>3</th>\n",
       "      <td>4</td>\n",
       "    </tr>\n",
       "    <tr>\n",
       "      <th>4</th>\n",
       "      <td>5</td>\n",
       "    </tr>\n",
       "    <tr>\n",
       "      <th>5</th>\n",
       "      <td>6</td>\n",
       "    </tr>\n",
       "    <tr>\n",
       "      <th>6</th>\n",
       "      <td>7</td>\n",
       "    </tr>\n",
       "  </tbody>\n",
       "</table>\n",
       "</div>"
      ],
      "text/plain": [
       "   0\n",
       "0  1\n",
       "1  2\n",
       "2  3\n",
       "3  4\n",
       "4  5\n",
       "5  6\n",
       "6  7"
      ]
     },
     "execution_count": 266,
     "metadata": {},
     "output_type": "execute_result"
    }
   ],
   "source": [
    "pd.DataFrame(vector)"
   ]
  },
  {
   "cell_type": "code",
   "execution_count": 267,
   "id": "996cd0f0",
   "metadata": {},
   "outputs": [
    {
     "data": {
      "text/plain": [
       "array([[1., 2., 3., 4., 5., 6., 7.],\n",
       "       [1., 2., 3., 4., 5., 6., 7.],\n",
       "       [1., 2., 3., 4., 5., 6., 7.]])"
      ]
     },
     "execution_count": 267,
     "metadata": {},
     "output_type": "execute_result"
    }
   ],
   "source": [
    "vector+matrix"
   ]
  },
  {
   "cell_type": "code",
   "execution_count": 268,
   "id": "642e1fbc",
   "metadata": {},
   "outputs": [
    {
     "data": {
      "text/plain": [
       "array([[1., 2., 3., 4., 5., 6., 7.],\n",
       "       [1., 2., 3., 4., 5., 6., 7.],\n",
       "       [1., 2., 3., 4., 5., 6., 7.]])"
      ]
     },
     "execution_count": 268,
     "metadata": {},
     "output_type": "execute_result"
    }
   ],
   "source": [
    "vector1+matrix"
   ]
  },
  {
   "cell_type": "code",
   "execution_count": 269,
   "id": "34455e4e",
   "metadata": {},
   "outputs": [
    {
     "data": {
      "text/plain": [
       "(array([[1, 2, 3, 4, 5, 6, 7]]),\n",
       " (1, 7),\n",
       " array([[0., 0., 0.],\n",
       "        [0., 0., 0.],\n",
       "        [0., 0., 0.],\n",
       "        [0., 0., 0.],\n",
       "        [0., 0., 0.],\n",
       "        [0., 0., 0.],\n",
       "        [0., 0., 0.]]),\n",
       " (7, 3))"
      ]
     },
     "execution_count": 269,
     "metadata": {},
     "output_type": "execute_result"
    }
   ],
   "source": [
    "vector1 = vector[np.newaxis,:]\n",
    "matrix1 = np.zeros((7,3))\n",
    "vector1, vector1.shape, matrix1, matrix1.shape"
   ]
  },
  {
   "cell_type": "code",
   "execution_count": 270,
   "id": "33bd4dac",
   "metadata": {},
   "outputs": [],
   "source": [
    "vector1 = vector[:, np.newaxis]"
   ]
  },
  {
   "cell_type": "code",
   "execution_count": 271,
   "id": "d652bffd",
   "metadata": {},
   "outputs": [
    {
     "data": {
      "text/plain": [
       "(array([1, 2, 3, 4, 5, 6, 7]),\n",
       " array([[1],\n",
       "        [2],\n",
       "        [3],\n",
       "        [4],\n",
       "        [5],\n",
       "        [6],\n",
       "        [7]]),\n",
       " array([[0., 0., 0.],\n",
       "        [0., 0., 0.],\n",
       "        [0., 0., 0.],\n",
       "        [0., 0., 0.],\n",
       "        [0., 0., 0.],\n",
       "        [0., 0., 0.],\n",
       "        [0., 0., 0.]]),\n",
       " (7,),\n",
       " (7, 1),\n",
       " (7, 3))"
      ]
     },
     "execution_count": 271,
     "metadata": {},
     "output_type": "execute_result"
    }
   ],
   "source": [
    "vector, vector1, matrix1, vector.shape, vector1.shape, matrix1.shape"
   ]
  },
  {
   "cell_type": "code",
   "execution_count": 272,
   "id": "5203d48a",
   "metadata": {},
   "outputs": [
    {
     "data": {
      "text/plain": [
       "array([[1],\n",
       "       [2],\n",
       "       [3],\n",
       "       [4],\n",
       "       [5],\n",
       "       [6],\n",
       "       [7]])"
      ]
     },
     "execution_count": 272,
     "metadata": {},
     "output_type": "execute_result"
    }
   ],
   "source": [
    "vector1"
   ]
  },
  {
   "cell_type": "code",
   "execution_count": 273,
   "id": "ed9c0727",
   "metadata": {},
   "outputs": [
    {
     "data": {
      "text/plain": [
       "array([[0., 0., 0.],\n",
       "       [0., 0., 0.],\n",
       "       [0., 0., 0.],\n",
       "       [0., 0., 0.],\n",
       "       [0., 0., 0.],\n",
       "       [0., 0., 0.],\n",
       "       [0., 0., 0.]])"
      ]
     },
     "execution_count": 273,
     "metadata": {},
     "output_type": "execute_result"
    }
   ],
   "source": [
    "matrix1"
   ]
  },
  {
   "cell_type": "code",
   "execution_count": 274,
   "id": "3bdc44b9",
   "metadata": {},
   "outputs": [
    {
     "data": {
      "text/plain": [
       "array([[1., 1., 1.],\n",
       "       [2., 2., 2.],\n",
       "       [3., 3., 3.],\n",
       "       [4., 4., 4.],\n",
       "       [5., 5., 5.],\n",
       "       [6., 6., 6.],\n",
       "       [7., 7., 7.]])"
      ]
     },
     "execution_count": 274,
     "metadata": {},
     "output_type": "execute_result"
    }
   ],
   "source": [
    "vector1+matrix1"
   ]
  },
  {
   "cell_type": "code",
   "execution_count": 275,
   "id": "9f1de754",
   "metadata": {},
   "outputs": [
    {
     "ename": "ValueError",
     "evalue": "operands could not be broadcast together with shapes (7,) (7,3) ",
     "output_type": "error",
     "traceback": [
      "\u001b[1;31m---------------------------------------------------------------------------\u001b[0m",
      "\u001b[1;31mValueError\u001b[0m                                Traceback (most recent call last)",
      "Cell \u001b[1;32mIn[275], line 1\u001b[0m\n\u001b[1;32m----> 1\u001b[0m \u001b[43mvector\u001b[49m\u001b[38;5;241;43m+\u001b[39;49m\u001b[43mmatrix1\u001b[49m\n",
      "\u001b[1;31mValueError\u001b[0m: operands could not be broadcast together with shapes (7,) (7,3) "
     ]
    }
   ],
   "source": [
    "vector+matrix1"
   ]
  },
  {
   "cell_type": "code",
   "execution_count": 276,
   "id": "7425ecd7",
   "metadata": {},
   "outputs": [
    {
     "data": {
      "text/plain": [
       "array([[1., 1., 1.],\n",
       "       [2., 2., 2.],\n",
       "       [3., 3., 3.],\n",
       "       [4., 4., 4.],\n",
       "       [5., 5., 5.],\n",
       "       [6., 6., 6.],\n",
       "       [7., 7., 7.]])"
      ]
     },
     "execution_count": 276,
     "metadata": {},
     "output_type": "execute_result"
    }
   ],
   "source": [
    "vector = vector[:, np.newaxis]\n",
    "vector+matrix1"
   ]
  },
  {
   "cell_type": "code",
   "execution_count": 277,
   "id": "8906f6b3",
   "metadata": {},
   "outputs": [
    {
     "data": {
      "text/plain": [
       "array([[1],\n",
       "       [2],\n",
       "       [3],\n",
       "       [4],\n",
       "       [5],\n",
       "       [6],\n",
       "       [7]])"
      ]
     },
     "execution_count": 277,
     "metadata": {},
     "output_type": "execute_result"
    }
   ],
   "source": [
    "vector"
   ]
  },
  {
   "cell_type": "code",
   "execution_count": 278,
   "id": "fe519f0d",
   "metadata": {},
   "outputs": [
    {
     "data": {
      "text/plain": [
       "(array([[0., 0., 0., 0., 0., 0., 0.],\n",
       "        [0., 0., 0., 0., 0., 0., 0.],\n",
       "        [0., 0., 0., 0., 0., 0., 0.],\n",
       "        [0., 0., 0., 0., 0., 0., 0.],\n",
       "        [0., 0., 0., 0., 0., 0., 0.],\n",
       "        [0., 0., 0., 0., 0., 0., 0.],\n",
       "        [0., 0., 0., 0., 0., 0., 0.]]),\n",
       " (7, 7))"
      ]
     },
     "execution_count": 278,
     "metadata": {},
     "output_type": "execute_result"
    }
   ],
   "source": [
    "a =    np.array([ [1., 1., 1., 1., 1., 1., 1.],\n",
    "       [2., 2., 2., 2., 2., 2., 2.],\n",
    "       [3., 3., 3., 3., 3., 3., 3.],\n",
    "       [4., 4., 4., 4., 4., 4., 4.],\n",
    "       [5., 5., 5., 5., 5., 5., 5.],\n",
    "       [6., 6., 6., 6., 6., 6., 6.],\n",
    "       [7., 7., 7., 7., 7., 7., 7.]])*0\n",
    "\n",
    "a, a.shape"
   ]
  },
  {
   "cell_type": "markdown",
   "id": "956680e0",
   "metadata": {},
   "source": [
    "### Slicing"
   ]
  },
  {
   "cell_type": "code",
   "execution_count": 279,
   "id": "e9f64f2a",
   "metadata": {},
   "outputs": [
    {
     "data": {
      "text/plain": [
       "array([0, 1, 2, 3, 4, 5, 6, 7, 8, 9])"
      ]
     },
     "execution_count": 279,
     "metadata": {},
     "output_type": "execute_result"
    }
   ],
   "source": [
    "vector = np.arange(10)\n",
    "vector"
   ]
  },
  {
   "cell_type": "code",
   "execution_count": 280,
   "id": "3c342f45",
   "metadata": {},
   "outputs": [
    {
     "data": {
      "text/plain": [
       "(30, 1)"
      ]
     },
     "execution_count": 280,
     "metadata": {},
     "output_type": "execute_result"
    }
   ],
   "source": [
    "matrix = np.arange(30).reshape(10,3).reshape(-1,1)\n",
    "matrix.shape"
   ]
  },
  {
   "cell_type": "code",
   "execution_count": 281,
   "id": "b9f8cdf7",
   "metadata": {},
   "outputs": [
    {
     "data": {
      "text/plain": [
       "array([[ 0,  1,  2,  3,  4],\n",
       "       [ 5,  6,  7,  8,  9],\n",
       "       [10, 11, 12, 13, 14],\n",
       "       [15, 16, 17, 18, 19],\n",
       "       [20, 21, 22, 23, 24]])"
      ]
     },
     "execution_count": 281,
     "metadata": {},
     "output_type": "execute_result"
    }
   ],
   "source": [
    "matt = np.arange(25).reshape(5,5)\n",
    "matt"
   ]
  },
  {
   "cell_type": "code",
   "execution_count": 282,
   "id": "6847506a",
   "metadata": {},
   "outputs": [
    {
     "data": {
      "text/plain": [
       "array([[ 0,  1,  4],\n",
       "       [ 5,  6,  9],\n",
       "       [10, 11, 14],\n",
       "       [15, 16, 19],\n",
       "       [20, 21, 24]])"
      ]
     },
     "execution_count": 282,
     "metadata": {},
     "output_type": "execute_result"
    }
   ],
   "source": [
    "matt[:,[0,1,4]]"
   ]
  },
  {
   "cell_type": "code",
   "execution_count": 283,
   "id": "4436697a",
   "metadata": {},
   "outputs": [
    {
     "data": {
      "text/plain": [
       "array([[0, 1],\n",
       "       [5, 6]])"
      ]
     },
     "execution_count": 283,
     "metadata": {},
     "output_type": "execute_result"
    }
   ],
   "source": [
    "matt[:2,:2]"
   ]
  },
  {
   "cell_type": "code",
   "execution_count": 284,
   "id": "52a4cd5e",
   "metadata": {},
   "outputs": [
    {
     "data": {
      "text/plain": [
       "array([[18, 19],\n",
       "       [23, 24]])"
      ]
     },
     "execution_count": 284,
     "metadata": {},
     "output_type": "execute_result"
    }
   ],
   "source": [
    "matt[3:,3:]"
   ]
  },
  {
   "cell_type": "code",
   "execution_count": 285,
   "id": "8a50f454",
   "metadata": {},
   "outputs": [
    {
     "data": {
      "text/plain": [
       "array([[ 0,  2,  4],\n",
       "       [ 5,  7,  9],\n",
       "       [10, 12, 14],\n",
       "       [15, 17, 19],\n",
       "       [20, 22, 24]])"
      ]
     },
     "execution_count": 285,
     "metadata": {},
     "output_type": "execute_result"
    }
   ],
   "source": [
    "matt[:,::2]"
   ]
  },
  {
   "cell_type": "code",
   "execution_count": 286,
   "id": "b22cd997",
   "metadata": {},
   "outputs": [
    {
     "data": {
      "text/plain": [
       "array([[ 0,  4,  2],\n",
       "       [ 5,  9,  7],\n",
       "       [10, 14, 12],\n",
       "       [15, 19, 17],\n",
       "       [20, 24, 22]])"
      ]
     },
     "execution_count": 286,
     "metadata": {},
     "output_type": "execute_result"
    }
   ],
   "source": [
    "matt[:,[0,4,2]]"
   ]
  },
  {
   "cell_type": "code",
   "execution_count": 287,
   "id": "1473baaf",
   "metadata": {},
   "outputs": [
    {
     "data": {
      "text/plain": [
       "array([0, 4, 2])"
      ]
     },
     "execution_count": 287,
     "metadata": {},
     "output_type": "execute_result"
    }
   ],
   "source": [
    "vector[[0,4,2]]"
   ]
  },
  {
   "cell_type": "code",
   "execution_count": 288,
   "id": "453a5cda",
   "metadata": {},
   "outputs": [
    {
     "data": {
      "text/plain": [
       "array([[False, False, False, False, False],\n",
       "       [False, False, False, False, False],\n",
       "       [False, False, False, False, False],\n",
       "       [False,  True,  True,  True,  True],\n",
       "       [ True,  True,  True,  True,  True]])"
      ]
     },
     "execution_count": 288,
     "metadata": {},
     "output_type": "execute_result"
    }
   ],
   "source": [
    "matt > 15"
   ]
  },
  {
   "cell_type": "code",
   "execution_count": 289,
   "id": "e3f8af9b",
   "metadata": {},
   "outputs": [
    {
     "data": {
      "text/plain": [
       "array([[False, False, False, False, False],\n",
       "       [ True, False, False, False, False],\n",
       "       [False, False, False, False, False],\n",
       "       [False, False, False, False, False],\n",
       "       [False, False, False, False, False]])"
      ]
     },
     "execution_count": 289,
     "metadata": {},
     "output_type": "execute_result"
    }
   ],
   "source": [
    "matt == 5"
   ]
  },
  {
   "cell_type": "code",
   "execution_count": 290,
   "id": "00731cd1",
   "metadata": {},
   "outputs": [
    {
     "data": {
      "text/plain": [
       "array([[ True,  True,  True,  True, False],\n",
       "       [False, False, False, False, False],\n",
       "       [False, False, False, False, False],\n",
       "       [False, False, False, False, False],\n",
       "       [False, False, False, False, False]])"
      ]
     },
     "execution_count": 290,
     "metadata": {},
     "output_type": "execute_result"
    }
   ],
   "source": [
    "matt <=3"
   ]
  },
  {
   "cell_type": "code",
   "execution_count": 291,
   "id": "64b0202e",
   "metadata": {},
   "outputs": [
    {
     "name": "stdout",
     "output_type": "stream",
     "text": [
      "[[False False False False False]\n",
      " [False False False False False]\n",
      " [False False False False False]\n",
      " [False  True  True  True  True]\n",
      " [ True  True  True  True  True]]\n",
      "\n",
      "[16 17 18 19 20 21 22 23 24]\n",
      "1\n",
      "int32\n",
      "(9,)\n",
      "9\n"
     ]
    }
   ],
   "source": [
    "print(matt > 15)\n",
    "print()\n",
    "print(matt[matt > 15])\n",
    "print(matt[matt > 15].ndim)\n",
    "print(matt[matt > 15].dtype)\n",
    "print(matt[matt > 15].shape)\n",
    "print(matt[matt > 15].size)"
   ]
  },
  {
   "cell_type": "code",
   "execution_count": 292,
   "id": "ae0d415e",
   "metadata": {},
   "outputs": [
    {
     "name": "stdout",
     "output_type": "stream",
     "text": [
      "[ 0  1  2  3 16 17 18 19 20 21 22 23 24]\n",
      "5\n",
      "int32\n",
      "(13,)\n",
      "13\n"
     ]
    }
   ],
   "source": [
    "print(matt[(matt > 15)|(matt < 4)]) # (| = logical or) , (& = logical and)\n",
    "print(np.array([[[[matt[(matt > 15)|(matt < 4)]]]]]).ndim)\n",
    "print(matt[(matt > 15)|(matt < 4)].dtype)\n",
    "print(matt[(matt > 15)|(matt < 4)].shape)\n",
    "print(matt[(matt > 15)|(matt < 4)].size)"
   ]
  },
  {
   "cell_type": "code",
   "execution_count": 293,
   "id": "d3dfbf7b",
   "metadata": {},
   "outputs": [
    {
     "data": {
      "text/plain": [
       "array([12, 13, 14, 15])"
      ]
     },
     "execution_count": 293,
     "metadata": {},
     "output_type": "execute_result"
    }
   ],
   "source": [
    "matt[(matt > 11)&(matt <= 15)]"
   ]
  },
  {
   "cell_type": "code",
   "execution_count": 294,
   "id": "98b2d46a",
   "metadata": {},
   "outputs": [
    {
     "data": {
      "text/plain": [
       "array([[ 0,  1,  2,  3,  4],\n",
       "       [ 5,  6,  7,  8,  9],\n",
       "       [10, 11, 12, 13, 14],\n",
       "       [15, 16, 17, 18, 19],\n",
       "       [20, 21, 22, 23, 24]])"
      ]
     },
     "execution_count": 294,
     "metadata": {},
     "output_type": "execute_result"
    }
   ],
   "source": [
    "matt"
   ]
  },
  {
   "cell_type": "code",
   "execution_count": 295,
   "id": "59b5464c",
   "metadata": {},
   "outputs": [
    {
     "data": {
      "text/plain": [
       "array([12, 13, 14, 15, 16, 17, 18, 19, 20, 21, 22, 23, 24])"
      ]
     },
     "execution_count": 295,
     "metadata": {},
     "output_type": "execute_result"
    }
   ],
   "source": [
    "matt[(matt > 11)|(matt <= -15)]"
   ]
  },
  {
   "cell_type": "code",
   "execution_count": 296,
   "id": "2109c17d",
   "metadata": {},
   "outputs": [
    {
     "name": "stdout",
     "output_type": "stream",
     "text": [
      "[ 4 10 10  8]\n",
      "[ 1  5 13  9  5]\n"
     ]
    }
   ],
   "source": [
    "my_matrix = np.array([[1,4,5],[10,13,9],[10,8,5]])\n",
    "print(my_matrix[my_matrix%2 == 0])\n",
    "print(my_matrix[my_matrix%2 != 0])"
   ]
  },
  {
   "cell_type": "markdown",
   "id": "47c7d8ab",
   "metadata": {},
   "source": [
    "### Slicing"
   ]
  },
  {
   "cell_type": "code",
   "execution_count": 297,
   "id": "620005d7",
   "metadata": {},
   "outputs": [
    {
     "name": "stdout",
     "output_type": "stream",
     "text": [
      "[[[[66]\n",
      "   [ 2]]\n",
      "\n",
      "  [[ 1]\n",
      "   [ 2]]\n",
      "\n",
      "  [[ 1]\n",
      "   [ 2]]]]\n",
      "\n",
      "[[[66]\n",
      "  [ 2]]\n",
      "\n",
      " [[ 1]\n",
      "  [ 2]]\n",
      "\n",
      " [[ 1]\n",
      "  [ 2]]]\n",
      "\n",
      "[[1]\n",
      " [2]]\n"
     ]
    }
   ],
   "source": [
    "shape1 = np.array([[[[[1],[2]],[[1],[2]],[[1],[2]]]],\n",
    "                    [[[[1],[2]],[[1],[2]],[[1],[2]]]],\n",
    "                    [[[[1],[2]],[[1],[2]],[[1],[2]]]],\n",
    "                    [[[[66],[2]],[[1],[2]],[[1],[2]]]],\n",
    "                    [[[[1],[2]],[[1],[2]],[[1],[2]]]]])\n",
    "print(shape1[3,:])\n",
    "print()\n",
    "print(shape1[3,:][0])\n",
    "print()\n",
    "print(shape1[3,:][0][1])"
   ]
  },
  {
   "cell_type": "code",
   "execution_count": 298,
   "id": "f2fbb198",
   "metadata": {
    "scrolled": true
   },
   "outputs": [
    {
     "name": "stdout",
     "output_type": "stream",
     "text": [
      "(2, 5, 3, 2)\n",
      "[[[[ 1  2]\n",
      "   [ 6  2]]\n",
      "\n",
      "  [[24  3]\n",
      "   [ 1  2]]\n",
      "\n",
      "  [[16  2]\n",
      "   [ 2  3]]]\n",
      "\n",
      "\n",
      " [[[13  2]\n",
      "   [ 6  2]]\n",
      "\n",
      "  [[ 2  3]\n",
      "   [19  2]]\n",
      "\n",
      "  [[ 6 23]\n",
      "   [ 2  3]]]\n",
      "\n",
      "\n",
      " [[[12  2]\n",
      "   [65  2]]\n",
      "\n",
      "  [[ 2  3]\n",
      "   [ 1 22]]\n",
      "\n",
      "  [[61  2]\n",
      "   [ 2  3]]]\n",
      "\n",
      "\n",
      " [[[11  2]\n",
      "   [ 6  2]]\n",
      "\n",
      "  [[ 2  3]\n",
      "   [21  2]]\n",
      "\n",
      "  [[ 6  2]\n",
      "   [ 2  3]]]\n",
      "\n",
      "\n",
      " [[[81  2]\n",
      "   [ 6  2]]\n",
      "\n",
      "  [[ 2  3]\n",
      "   [ 1 22]]\n",
      "\n",
      "  [[ 6  2]\n",
      "   [28  3]]]]\n",
      "\n",
      "[[ 2  3]\n",
      " [19  2]]\n",
      "\n",
      "81\n",
      "\n",
      "[21  2] [28  3]\n",
      "\n",
      "[[ 6  2]\n",
      " [81  2]]\n",
      "\n",
      "[[ 2  6]\n",
      " [ 2 81]]\n"
     ]
    }
   ],
   "source": [
    "ss = np.array([[[[1,2],[6,2],[24,3]],[[1,2],[16,2],[2,3]],[[13,2],[6,2],[2,3]],[[19,2],[6,23],[2,3]],[[12,2],[65,2],[2,3]]],\n",
    "                   [[[1,22],[61,2],[2,3]],[[11,2],[6,2],[2,3]],[[21,2],[6,2],[2,3]],[[81,2],[6,2],[2,3]],[[1,22],[6,2],[28,3]]]])\n",
    "print(ss.shape)\n",
    "r = ss.reshape(5,3,2,2)\n",
    "print(r)\n",
    "print()\n",
    "print(r[1][1])\n",
    "print()\n",
    "print(r[4][0][0][0])\n",
    "print()\n",
    "print(r[3][1][1] ,r[4][2][1])\n",
    "print()\n",
    "print(r[4][0][::-1])\n",
    "print()\n",
    "r[4][0][0] = [2,6]\n",
    "r[4][0][1] = [2,81]\n",
    "print(r[4][0])"
   ]
  },
  {
   "cell_type": "code",
   "execution_count": 299,
   "id": "2079f152",
   "metadata": {},
   "outputs": [
    {
     "name": "stdout",
     "output_type": "stream",
     "text": [
      "[2 1]\n",
      "[ 3 24]\n"
     ]
    }
   ],
   "source": [
    "for i in reversed(range(2)):\n",
    "    print(r[0][1][i][::-1])"
   ]
  },
  {
   "cell_type": "markdown",
   "id": "0dafe8a3",
   "metadata": {},
   "source": [
    "### Image"
   ]
  },
  {
   "cell_type": "code",
   "execution_count": null,
   "id": "c0f9d5b5",
   "metadata": {},
   "outputs": [],
   "source": [
    "from skimage import data\n",
    "import matplotlib.pyplot as plt\n",
    "import pandas as pd"
   ]
  },
  {
   "cell_type": "code",
   "execution_count": null,
   "id": "bc268d86",
   "metadata": {},
   "outputs": [],
   "source": [
    "# Show image cat\n",
    "\n",
    "cat = data.cat()\n",
    "\n",
    "plt.imshow(cat);"
   ]
  },
  {
   "cell_type": "code",
   "execution_count": null,
   "id": "ca9e3c6c",
   "metadata": {},
   "outputs": [],
   "source": [
    "# Shape of the cat\n",
    "# The first 2 dimensions and positions(Row & Column), and the third is RGB(Red,Green,Blue) colour.\n",
    "\n",
    "cat.shape"
   ]
  },
  {
   "cell_type": "code",
   "execution_count": null,
   "id": "cb0d5b36",
   "metadata": {},
   "outputs": [],
   "source": [
    "cat[260][280]"
   ]
  },
  {
   "cell_type": "code",
   "execution_count": null,
   "id": "32cfe543",
   "metadata": {},
   "outputs": [],
   "source": [
    "cat.size"
   ]
  },
  {
   "cell_type": "code",
   "execution_count": null,
   "id": "cd16fde0",
   "metadata": {
    "scrolled": true
   },
   "outputs": [],
   "source": [
    "cat[299]"
   ]
  },
  {
   "cell_type": "code",
   "execution_count": null,
   "id": "78cf8b81",
   "metadata": {},
   "outputs": [],
   "source": [
    "pd.DataFrame(cat[299])"
   ]
  },
  {
   "cell_type": "code",
   "execution_count": null,
   "id": "5cb1479d",
   "metadata": {},
   "outputs": [],
   "source": [
    "pd.DataFrame(cat[299][450])"
   ]
  },
  {
   "cell_type": "code",
   "execution_count": null,
   "id": "d6d1b43b",
   "metadata": {},
   "outputs": [],
   "source": [
    "pd.DataFrame(cat[299][450]).T"
   ]
  },
  {
   "cell_type": "code",
   "execution_count": null,
   "id": "d1aab339",
   "metadata": {},
   "outputs": [],
   "source": [
    "cat[0][200]"
   ]
  },
  {
   "cell_type": "code",
   "execution_count": null,
   "id": "8448e198",
   "metadata": {},
   "outputs": [],
   "source": [
    "cat[200].shape"
   ]
  },
  {
   "cell_type": "code",
   "execution_count": null,
   "id": "7e8891e0",
   "metadata": {},
   "outputs": [],
   "source": [
    "cat[210][300]"
   ]
  },
  {
   "cell_type": "code",
   "execution_count": null,
   "id": "73473fb9",
   "metadata": {
    "scrolled": true
   },
   "outputs": [],
   "source": [
    "cat[:,:,0].shape"
   ]
  },
  {
   "cell_type": "code",
   "execution_count": null,
   "id": "bd8ef7b1",
   "metadata": {
    "scrolled": true
   },
   "outputs": [],
   "source": [
    "cat[:,:,1].shape"
   ]
  },
  {
   "cell_type": "code",
   "execution_count": null,
   "id": "f0fdf2be",
   "metadata": {
    "scrolled": true
   },
   "outputs": [],
   "source": [
    "cat[:,:,2].shape"
   ]
  },
  {
   "cell_type": "code",
   "execution_count": null,
   "id": "c4d92e51",
   "metadata": {
    "scrolled": true
   },
   "outputs": [],
   "source": [
    "cat[:,:,3]"
   ]
  },
  {
   "cell_type": "code",
   "execution_count": null,
   "id": "bae0636c",
   "metadata": {},
   "outputs": [],
   "source": [
    "# Colour Modification\n",
    "\n",
    "ast = cat.copy()"
   ]
  },
  {
   "cell_type": "code",
   "execution_count": null,
   "id": "8a1be1bd",
   "metadata": {
    "scrolled": true
   },
   "outputs": [],
   "source": [
    "ast[:,:].shape"
   ]
  },
  {
   "cell_type": "code",
   "execution_count": null,
   "id": "bd2f19ed",
   "metadata": {},
   "outputs": [],
   "source": [
    "ast[ast[:,:,0] > 140]"
   ]
  },
  {
   "cell_type": "code",
   "execution_count": null,
   "id": "d8b79381",
   "metadata": {},
   "outputs": [],
   "source": [
    "plt.imshow(cat)"
   ]
  },
  {
   "cell_type": "code",
   "execution_count": null,
   "id": "a2772dbb",
   "metadata": {},
   "outputs": [],
   "source": [
    "ast[ast[:,:,0] > 230] = [0,255,0]\n",
    "plt.imshow(ast)"
   ]
  },
  {
   "cell_type": "code",
   "execution_count": null,
   "id": "4fd6b26e",
   "metadata": {},
   "outputs": [],
   "source": [
    "red_cat = cat.copy()\n",
    "red_cat[:,:,1] = 0\n",
    "red_cat[:,:,2] = 0\n",
    "plt.imshow(red_cat)"
   ]
  },
  {
   "cell_type": "code",
   "execution_count": null,
   "id": "4e2d547e",
   "metadata": {},
   "outputs": [],
   "source": [
    "green_cat = cat.copy()\n",
    "green_cat[:,:,0] = 0\n",
    "green_cat[:,:,2] = 0\n",
    "plt.imshow(green_cat)"
   ]
  },
  {
   "cell_type": "code",
   "execution_count": null,
   "id": "ee89c4ef",
   "metadata": {},
   "outputs": [],
   "source": [
    "blue_cat = cat.copy()\n",
    "blue_cat[:,:,0] = 0\n",
    "blue_cat[:,:,1] = 0\n",
    "plt.imshow(blue_cat);"
   ]
  },
  {
   "cell_type": "code",
   "execution_count": null,
   "id": "af74d653",
   "metadata": {},
   "outputs": [],
   "source": [
    "blue_cat = cat.copy()\n",
    "blue_cat[:,:,0] = 0\n",
    "blue_cat[:,:,1] = 0\n",
    "blue_cat[:,:,2] = 100\n",
    "plt.imshow(blue_cat);"
   ]
  },
  {
   "cell_type": "code",
   "execution_count": null,
   "id": "9586a593",
   "metadata": {},
   "outputs": [],
   "source": [
    "print(red_cat[:,:,0])\n",
    "print(red_cat[:,:,1])\n",
    "print(red_cat[:,:,2])"
   ]
  },
  {
   "cell_type": "code",
   "execution_count": null,
   "id": "c756ca39",
   "metadata": {},
   "outputs": [],
   "source": [
    "red_cat[:,:,0] = cat[:,:,0]"
   ]
  },
  {
   "cell_type": "code",
   "execution_count": null,
   "id": "bafd317e",
   "metadata": {},
   "outputs": [],
   "source": [
    "red_cat[:,:,1] = cat[:,:,1]"
   ]
  },
  {
   "cell_type": "code",
   "execution_count": null,
   "id": "dfa1ff53",
   "metadata": {},
   "outputs": [],
   "source": [
    "red_cat[:,:,2] = cat[:,:,2]"
   ]
  },
  {
   "cell_type": "code",
   "execution_count": null,
   "id": "6ba4fe5c",
   "metadata": {},
   "outputs": [],
   "source": [
    "plt.imshow(red_cat)"
   ]
  },
  {
   "cell_type": "code",
   "execution_count": null,
   "id": "6e66e7c5",
   "metadata": {},
   "outputs": [],
   "source": [
    "print(red_cat[:,:,0])\n",
    "print(red_cat[:,:,1])\n",
    "print(red_cat[:,:,2])"
   ]
  },
  {
   "cell_type": "code",
   "execution_count": null,
   "id": "11808bee",
   "metadata": {
    "scrolled": true
   },
   "outputs": [],
   "source": [
    "cat[:,:,0][0]"
   ]
  },
  {
   "cell_type": "code",
   "execution_count": null,
   "id": "83b00dda",
   "metadata": {},
   "outputs": [],
   "source": [
    "cat1 = cat.copy()\n",
    "cat1[:,:,0][0][0:10] = [43, 14, 11, 14, 11, 101, 91, 3, 4, 14]"
   ]
  },
  {
   "cell_type": "code",
   "execution_count": null,
   "id": "233e33f6",
   "metadata": {},
   "outputs": [],
   "source": [
    "plt.imshow(cat1)"
   ]
  },
  {
   "cell_type": "code",
   "execution_count": null,
   "id": "5cd41b7a",
   "metadata": {},
   "outputs": [],
   "source": [
    "cat1[:,:,0][9][0:240] = [0,0,0,0,0,0,0,0,0,0,0,0,0,0,0,0,0,0,0,0,0,0,0,0,0,0,0,0,0,0,0,0,\n",
    "                        0,0,0,0,0,0,0,0,0,0,0,0,0,0,0,0,0,0,0,0,0,0,0,0,0,0,0,0,0,0,0,0,0,0,\n",
    "                        0,0,0,0,0,0,0,0,0,0,0,0,0,0,0,0,0,0,0,0,0,0,0,0,0,0,0,0,0,0,0,0,0,0,0,0\n",
    "                        ,0,0,0,0,0,0,0,0,0,0,0,0,0,0,0,0,0,0,0,0,0,0,0,0,0,0,0,0,0,0,0,0,0,0,0,0,0,0,0,0,0,0,0,0,0,0,0,0,0,0,\n",
    "                        0,0,0,0,0,0,0,0,0,0,0,0,0,0,0,0,0,0,0,0,0,0,0,0,0,0,0,0,0,0,0,0,0,0,\n",
    "                        0,0,0,0,0,0,0,0,0,0,0,0,0,0,0,0,0,0,0,0,0,0,0,0,0,0,0,0,0,0,0,0,0,0,0,0\n",
    "                        ,0,0,0,0,0,0,0,0,0,0,0,0,0,0,0,0,0,0]"
   ]
  },
  {
   "cell_type": "code",
   "execution_count": null,
   "id": "7025bc07",
   "metadata": {},
   "outputs": [],
   "source": [
    "plt.imshow(cat1)"
   ]
  },
  {
   "cell_type": "code",
   "execution_count": null,
   "id": "0b803ab0",
   "metadata": {},
   "outputs": [],
   "source": [
    "# Change shape of cat\n",
    "\n",
    "shape_cat = cat[:,:-100,:]\n",
    "shape_cat.shape"
   ]
  },
  {
   "cell_type": "code",
   "execution_count": null,
   "id": "a9ce9d09",
   "metadata": {},
   "outputs": [],
   "source": [
    "plt.imshow(shape_cat)"
   ]
  },
  {
   "cell_type": "code",
   "execution_count": null,
   "id": "7eeb0d47",
   "metadata": {},
   "outputs": [],
   "source": [
    "# Crop Image(eye)\n",
    "\n",
    "cat_eye = cat[80:150,120:220,:]\n",
    "plt.imshow(cat_eye)"
   ]
  },
  {
   "cell_type": "code",
   "execution_count": null,
   "id": "0eb35d95",
   "metadata": {},
   "outputs": [],
   "source": [
    "# Transpose the image\n",
    "\n",
    "s = cat.transpose((1,0,2))\n",
    "plt.imshow(s)"
   ]
  },
  {
   "cell_type": "code",
   "execution_count": null,
   "id": "c334b10b",
   "metadata": {},
   "outputs": [],
   "source": [
    "# Transpose the image\n",
    "\n",
    "s = cat.transpose((1,0,2))[::-1]\n",
    "plt.imshow(s)"
   ]
  },
  {
   "cell_type": "code",
   "execution_count": null,
   "id": "cbab9399",
   "metadata": {},
   "outputs": [],
   "source": [
    "plt.imshow(s.transpose(1,0,2));"
   ]
  },
  {
   "cell_type": "code",
   "execution_count": null,
   "id": "7983bb5b",
   "metadata": {
    "scrolled": true
   },
   "outputs": [],
   "source": [
    "plt.imshow(cat)"
   ]
  },
  {
   "cell_type": "code",
   "execution_count": null,
   "id": "29017fb8",
   "metadata": {},
   "outputs": [],
   "source": [
    "plt.imshow(cat[:,:,:][::-1])"
   ]
  },
  {
   "cell_type": "code",
   "execution_count": null,
   "id": "357537fa",
   "metadata": {
    "scrolled": true
   },
   "outputs": [],
   "source": [
    "cat[:,:,:][150:] + cat[:,:,:][:150]"
   ]
  },
  {
   "cell_type": "code",
   "execution_count": null,
   "id": "a580499c",
   "metadata": {},
   "outputs": [],
   "source": [
    "plt.imshow(cat[:,:,:][150:] + cat[:,:,:][:150])"
   ]
  },
  {
   "cell_type": "code",
   "execution_count": null,
   "id": "0915b1c5",
   "metadata": {},
   "outputs": [],
   "source": [
    "plt.imshow(cat[:,:,:][150:])"
   ]
  },
  {
   "cell_type": "code",
   "execution_count": null,
   "id": "0899a77d",
   "metadata": {},
   "outputs": [],
   "source": [
    "plt.imshow(cat[:,:,:][:150])"
   ]
  },
  {
   "cell_type": "code",
   "execution_count": null,
   "id": "8ff78974",
   "metadata": {},
   "outputs": [],
   "source": [
    "plt.imshow(np.array(cat[:,:,:][150:].tolist()+cat[:,:,:][:150].tolist())) ;"
   ]
  },
  {
   "cell_type": "code",
   "execution_count": null,
   "id": "b78e8f1a",
   "metadata": {},
   "outputs": [],
   "source": [
    "plt.imshow(np.array((cat[:,225:,:].tolist() + cat[:,:226,:].tolist())))"
   ]
  },
  {
   "cell_type": "code",
   "execution_count": null,
   "id": "46db1066",
   "metadata": {},
   "outputs": [],
   "source": [
    "plt.imshow(np.array((cat[:,225:,:].transpose((1,0,2)).tolist() + cat[:,:226,:].transpose((1,0,2)).tolist())))"
   ]
  },
  {
   "cell_type": "code",
   "execution_count": null,
   "id": "2ad7ef2d",
   "metadata": {},
   "outputs": [],
   "source": [
    "a = cat[:,225:,:].tolist()\n",
    "\n",
    "plt.imshow(np.array(a))"
   ]
  },
  {
   "cell_type": "code",
   "execution_count": null,
   "id": "b2a4a37f",
   "metadata": {},
   "outputs": [],
   "source": [
    "b = cat[:,:226,:].tolist()\n",
    "\n",
    "plt.imshow(np.array(b));"
   ]
  },
  {
   "cell_type": "code",
   "execution_count": null,
   "id": "5c08cf64",
   "metadata": {},
   "outputs": [],
   "source": [
    "pagal_kahi_ki = cat.copy()\n",
    "pagal_kahi_ki[:,:226,:] = cat[:,225:,:]\n",
    "pagal_kahi_ki[:,225:,:] = cat[:,:226,:]\n",
    "plt.imshow(pagal_kahi_ki)"
   ]
  },
  {
   "cell_type": "code",
   "execution_count": null,
   "id": "bcb51ae1",
   "metadata": {},
   "outputs": [],
   "source": [
    "pagal_kahi_ki2 = cat.copy()\n",
    "a = pagal_kahi_ki2[:,:380]\n",
    "plt.imshow(a);"
   ]
  },
  {
   "cell_type": "code",
   "execution_count": null,
   "id": "95ea3dc6",
   "metadata": {},
   "outputs": [],
   "source": [
    "a = cat[:,225:350,:].tolist()\n",
    "\n",
    "plt.imshow(np.array(a))"
   ]
  },
  {
   "cell_type": "code",
   "execution_count": null,
   "id": "3476888b",
   "metadata": {},
   "outputs": [],
   "source": [
    "pagal_kahi_ki = cat.copy()\n",
    "pagal_kahi_ki[:,:125,:] = cat[:,225:350,:]\n",
    "pagal_kahi_ki[:,125:351,:] = cat[:,:226,:]\n",
    "plt.imshow(pagal_kahi_ki[:,:351])"
   ]
  },
  {
   "cell_type": "code",
   "execution_count": null,
   "id": "ca2ad6ac",
   "metadata": {},
   "outputs": [],
   "source": [
    "cat_nose = cat[220:270,220:300]\n",
    "plt.imshow(cat_nose)"
   ]
  },
  {
   "cell_type": "code",
   "execution_count": null,
   "id": "c6dbd29c",
   "metadata": {},
   "outputs": [],
   "source": [
    "cat_nose.shape"
   ]
  },
  {
   "cell_type": "code",
   "execution_count": null,
   "id": "b7f37572",
   "metadata": {
    "scrolled": true
   },
   "outputs": [],
   "source": [
    "cat_nose[0].shape, cat_nose[0]"
   ]
  },
  {
   "cell_type": "code",
   "execution_count": null,
   "id": "4fcb5019",
   "metadata": {
    "scrolled": true
   },
   "outputs": [],
   "source": [
    "cat_nose[:,0].shape, cat_nose[:,0]"
   ]
  },
  {
   "cell_type": "code",
   "execution_count": null,
   "id": "b4778918",
   "metadata": {
    "scrolled": true
   },
   "outputs": [],
   "source": [
    "cat_nose[:,1].shape, cat_nose[:,1]"
   ]
  },
  {
   "cell_type": "code",
   "execution_count": null,
   "id": "630fa5a7",
   "metadata": {
    "scrolled": true
   },
   "outputs": [],
   "source": [
    "cat_nose[:,0:3].shape, cat_nose[:,0:3]"
   ]
  },
  {
   "cell_type": "markdown",
   "id": "dd0c459d",
   "metadata": {},
   "source": [
    "## Linear algebra\n",
    "### 1. dot product\n",
    "> dot product is **(row * column)**\n",
    "\n",
    "### 2. cross product\n",
    "> cross product is "
   ]
  },
  {
   "cell_type": "code",
   "execution_count": 7,
   "id": "4fce556c",
   "metadata": {},
   "outputs": [
    {
     "data": {
      "text/plain": [
       "(array([[ 0,  1,  2,  3,  4],\n",
       "        [ 5,  6,  7,  8,  9],\n",
       "        [10, 11, 12, 13, 14],\n",
       "        [15, 16, 17, 18, 19],\n",
       "        [20, 21, 22, 23, 24]]),\n",
       " (5, 5))"
      ]
     },
     "execution_count": 7,
     "metadata": {},
     "output_type": "execute_result"
    }
   ],
   "source": [
    "matt = np.arange(25).reshape(5,5)\n",
    "matt, matt.shape"
   ]
  },
  {
   "cell_type": "code",
   "execution_count": 9,
   "id": "7bb6d629",
   "metadata": {},
   "outputs": [
    {
     "data": {
      "text/plain": [
       "(array([0, 1, 2, 3, 4]), (5,))"
      ]
     },
     "execution_count": 9,
     "metadata": {},
     "output_type": "execute_result"
    }
   ],
   "source": [
    "vatt = np.arange(5)\n",
    "vatt, vatt.shape"
   ]
  },
  {
   "cell_type": "code",
   "execution_count": 302,
   "id": "c45e3eac",
   "metadata": {},
   "outputs": [
    {
     "data": {
      "text/plain": [
       "150"
      ]
     },
     "execution_count": 302,
     "metadata": {},
     "output_type": "execute_result"
    }
   ],
   "source": [
    "0+5+20+45+80"
   ]
  },
  {
   "cell_type": "code",
   "execution_count": 303,
   "id": "3e8cc7cb",
   "metadata": {},
   "outputs": [
    {
     "data": {
      "text/plain": [
       "160"
      ]
     },
     "execution_count": 303,
     "metadata": {},
     "output_type": "execute_result"
    }
   ],
   "source": [
    "0+6+22+(16*3)+(21*4)"
   ]
  },
  {
   "cell_type": "code",
   "execution_count": 10,
   "id": "24279ada",
   "metadata": {},
   "outputs": [
    {
     "data": {
      "text/plain": [
       "array([150, 160, 170, 180, 190])"
      ]
     },
     "execution_count": 10,
     "metadata": {},
     "output_type": "execute_result"
    }
   ],
   "source": [
    "np.dot(vatt,matt)"
   ]
  },
  {
   "cell_type": "code",
   "execution_count": 305,
   "id": "a2c3be0e",
   "metadata": {},
   "outputs": [
    {
     "data": {
      "text/plain": [
       "30"
      ]
     },
     "execution_count": 305,
     "metadata": {},
     "output_type": "execute_result"
    }
   ],
   "source": [
    "0+1+4+9+16"
   ]
  },
  {
   "cell_type": "code",
   "execution_count": 306,
   "id": "b4761520",
   "metadata": {},
   "outputs": [
    {
     "data": {
      "text/plain": [
       "array([ 30,  80, 130, 180, 230])"
      ]
     },
     "execution_count": 306,
     "metadata": {},
     "output_type": "execute_result"
    }
   ],
   "source": [
    "np.dot(matt,vatt)"
   ]
  },
  {
   "cell_type": "code",
   "execution_count": 307,
   "id": "2c180a34",
   "metadata": {},
   "outputs": [
    {
     "name": "stdout",
     "output_type": "stream",
     "text": [
      "(5, 1)\n"
     ]
    },
    {
     "data": {
      "text/plain": [
       "array([[0],\n",
       "       [1],\n",
       "       [2],\n",
       "       [3],\n",
       "       [4]])"
      ]
     },
     "execution_count": 307,
     "metadata": {},
     "output_type": "execute_result"
    }
   ],
   "source": [
    "vatt1 = vatt[:,np.newaxis]\n",
    "print(vatt1.shape)\n",
    "vatt1"
   ]
  },
  {
   "cell_type": "code",
   "execution_count": 308,
   "id": "46d95a6c",
   "metadata": {},
   "outputs": [
    {
     "data": {
      "text/plain": [
       "array([[ 30],\n",
       "       [ 80],\n",
       "       [130],\n",
       "       [180],\n",
       "       [230]])"
      ]
     },
     "execution_count": 308,
     "metadata": {},
     "output_type": "execute_result"
    }
   ],
   "source": [
    "np.dot(matt,vatt1)"
   ]
  },
  {
   "cell_type": "code",
   "execution_count": 309,
   "id": "74cacb0f",
   "metadata": {},
   "outputs": [
    {
     "ename": "ValueError",
     "evalue": "shapes (5,1) and (5,5) not aligned: 1 (dim 1) != 5 (dim 0)",
     "output_type": "error",
     "traceback": [
      "\u001b[1;31m---------------------------------------------------------------------------\u001b[0m",
      "\u001b[1;31mValueError\u001b[0m                                Traceback (most recent call last)",
      "Cell \u001b[1;32mIn[309], line 1\u001b[0m\n\u001b[1;32m----> 1\u001b[0m \u001b[43mnp\u001b[49m\u001b[38;5;241;43m.\u001b[39;49m\u001b[43mdot\u001b[49m\u001b[43m(\u001b[49m\u001b[43mvatt1\u001b[49m\u001b[43m,\u001b[49m\u001b[43mmatt\u001b[49m\u001b[43m)\u001b[49m\n",
      "File \u001b[1;32m<__array_function__ internals>:180\u001b[0m, in \u001b[0;36mdot\u001b[1;34m(*args, **kwargs)\u001b[0m\n",
      "\u001b[1;31mValueError\u001b[0m: shapes (5,1) and (5,5) not aligned: 1 (dim 1) != 5 (dim 0)"
     ]
    }
   ],
   "source": [
    "np.dot(vatt1,matt)"
   ]
  },
  {
   "cell_type": "code",
   "execution_count": 310,
   "id": "0f0dc673",
   "metadata": {},
   "outputs": [],
   "source": [
    "first_v = np.array([1,2,4])\n",
    "second_v = np.array([2,-1,9])"
   ]
  },
  {
   "cell_type": "code",
   "execution_count": 311,
   "id": "5b345aa3",
   "metadata": {},
   "outputs": [
    {
     "data": {
      "text/plain": [
       "array([22, -1, -5])"
      ]
     },
     "execution_count": 311,
     "metadata": {},
     "output_type": "execute_result"
    }
   ],
   "source": [
    "np.cross(first_v,second_v)"
   ]
  },
  {
   "cell_type": "code",
   "execution_count": 312,
   "id": "8e6b8a11",
   "metadata": {},
   "outputs": [
    {
     "data": {
      "text/plain": [
       "array(-1)"
      ]
     },
     "execution_count": 312,
     "metadata": {},
     "output_type": "execute_result"
    }
   ],
   "source": [
    "np.cross(np.arange(2),np.arange(1,3))"
   ]
  },
  {
   "cell_type": "markdown",
   "id": "72fab269",
   "metadata": {},
   "source": [
    "### Strides"
   ]
  },
  {
   "cell_type": "code",
   "execution_count": 313,
   "id": "f6cf6e58",
   "metadata": {},
   "outputs": [
    {
     "name": "stdout",
     "output_type": "stream",
     "text": [
      "[[ 0  1  2]\n",
      " [ 3  4  5]\n",
      " [ 6  7  8]\n",
      " [ 9 10 11]]\n",
      "int32\n",
      "(12, 4)\n",
      "[ 0  1  2  3  4  5  6  7  8  9 10 11]\n"
     ]
    }
   ],
   "source": [
    "m_a = np.arange(12).reshape(4,3)\n",
    "print(m_a)\n",
    "print(m_a.dtype)\n",
    "print(m_a.strides)\n",
    "print(m_a.flatten())"
   ]
  },
  {
   "cell_type": "code",
   "execution_count": 314,
   "id": "54b38cba",
   "metadata": {},
   "outputs": [
    {
     "name": "stdout",
     "output_type": "stream",
     "text": [
      "[[ 0  3  6  9]\n",
      " [ 1  4  7 10]\n",
      " [ 2  5  8 11]]\n",
      "(3, 4)\n",
      "(4, 12)\n"
     ]
    }
   ],
   "source": [
    "tran = m_a.transpose()\n",
    "print(tran)\n",
    "print(tran.shape)\n",
    "print(tran.strides)"
   ]
  },
  {
   "cell_type": "code",
   "execution_count": 316,
   "id": "13ce14e9",
   "metadata": {},
   "outputs": [
    {
     "name": "stdout",
     "output_type": "stream",
     "text": [
      "[[0 2]\n",
      " [6 8]]\n",
      "(24, 8)\n"
     ]
    }
   ],
   "source": [
    "sli = m_a[::2, ::2]\n",
    "print(sli)\n",
    "print(sli.strides)"
   ]
  },
  {
   "cell_type": "code",
   "execution_count": 317,
   "id": "e0176aaa",
   "metadata": {},
   "outputs": [
    {
     "name": "stdout",
     "output_type": "stream",
     "text": [
      "[[-0.2104661  -0.30997582 -0.59787979 -0.12052667]\n",
      " [ 1.08057886 -0.90934394 -0.22239453  1.30744508]\n",
      " [ 1.90874949  2.19311902  0.34148734  0.01203109]]\n",
      "[[3.40385367 3.6882232  1.83659152 1.50713527]\n",
      " [2.94037529 3.22474482 1.37311315 1.04365689]\n",
      " [4.430987   4.71535653 2.86372485 2.5342686 ]\n",
      " [3.99588919 4.28025872 2.42862705 2.09917079]\n",
      " [4.47077023 4.75513976 2.90350808 2.57405183]]\n",
      "[1.90874949 2.19311902 0.34148734 0.01203109]\n"
     ]
    }
   ],
   "source": [
    "# \n",
    "\n",
    "last_rows = np.random.randn(3, 4)\n",
    "print(last_rows)\n",
    "for i in range(1, 101):\n",
    "    new_rows = last_rows[-1, :] + np.random.randn(5, 1).cumsum(axis=0)\n",
    "print(new_rows)\n",
    "print(last_rows[-1, :])"
   ]
  },
  {
   "cell_type": "code",
   "execution_count": 318,
   "id": "975f3375",
   "metadata": {},
   "outputs": [
    {
     "name": "stdout",
     "output_type": "stream",
     "text": [
      "[[1.5]]\n",
      "\n",
      "[[2.08899862]\n",
      " [3.67875758]\n",
      " [3.10639523]\n",
      " [3.01399056]\n",
      " [3.94337303]]\n"
     ]
    }
   ],
   "source": [
    "# \n",
    "\n",
    "last_rows = np.array(1.5, ndmin=2)\n",
    "print(last_rows)\n",
    "print()\n",
    "for i in range(1, 101):\n",
    "    new_rows = last_rows + np.random.randn(5, 1).cumsum(axis=0)\n",
    "print(new_rows)"
   ]
  },
  {
   "cell_type": "code",
   "execution_count": null,
   "id": "ed6c0b08",
   "metadata": {},
   "outputs": [],
   "source": []
  },
  {
   "cell_type": "code",
   "execution_count": null,
   "id": "50d57a72",
   "metadata": {},
   "outputs": [],
   "source": []
  },
  {
   "cell_type": "code",
   "execution_count": null,
   "id": "065e9545",
   "metadata": {},
   "outputs": [],
   "source": []
  },
  {
   "cell_type": "code",
   "execution_count": null,
   "id": "eed83522",
   "metadata": {},
   "outputs": [],
   "source": []
  },
  {
   "cell_type": "code",
   "execution_count": null,
   "id": "9c82967e",
   "metadata": {},
   "outputs": [],
   "source": []
  }
 ],
 "metadata": {
  "kernelspec": {
   "display_name": "Python 3 (ipykernel)",
   "language": "python",
   "name": "python3"
  },
  "language_info": {
   "codemirror_mode": {
    "name": "ipython",
    "version": 3
   },
   "file_extension": ".py",
   "mimetype": "text/x-python",
   "name": "python",
   "nbconvert_exporter": "python",
   "pygments_lexer": "ipython3",
   "version": "3.12.9"
  }
 },
 "nbformat": 4,
 "nbformat_minor": 5
}
